{
 "cells": [
  {
   "cell_type": "code",
   "execution_count": 9,
   "id": "fc01090d",
   "metadata": {},
   "outputs": [],
   "source": [
    "from spygrt.stream import Recording, NoMoreFrames, DualRecording\n",
    "from spygrt.tracker import Tracker\n",
    "import spygrt.stream as stream\n",
    "import open3d as o3d\n",
    "import numpy as np\n",
    "import datetime\n",
    "td = datetime.timedelta(seconds=60)\n"
   ]
  },
  {
   "cell_type": "code",
   "execution_count": 31,
   "id": "c93286bf",
   "metadata": {},
   "outputs": [
    {
     "data": {
      "text/plain": [
       "array([[-0.46229416, -0.63298768,  0.60097951, -0.53006196],\n",
       "       [-0.86823386,  0.40326354, -0.24313405,  0.34573084],\n",
       "       [-0.08955309, -0.64208311, -0.74516785,  0.71987921],\n",
       "       [ 0.        ,  0.        ,  0.        ,  1.        ]])"
      ]
     },
     "execution_count": 31,
     "metadata": {},
     "output_type": "execute_result"
    }
   ],
   "source": [
    "f1 = 'S:/SMART4/Visit1/RecordingSession/121622060739_2023Apr04123937.bag'\n",
    "f2 = 'S:/SMART4/Visit1/RecordingSession/123122061763_2023Apr04123937.bag'\n",
    "#f1 = 'S:/SMART1/RecordingSession1/Calibration/121622060739_2023Mar28112520.bag'\n",
    "#f2 = 'S:/SMART1/RecordingSession1/Calibration/123122061763_2023Mar28112520.bag'\n",
    "\n",
    "(rec1,rec2) = (Recording(f1),Recording(f2))\n",
    "rec1.load_calibration('S:/SMART3/Visit1/Calibration/121622060739_cal.txt')\n",
    "rec2.load_calibration('S:/SMART3/Visit1/Calibration/123122061763_cal.txt')"
   ]
  },
  {
   "cell_type": "code",
   "execution_count": 2,
   "id": "16f7506f",
   "metadata": {},
   "outputs": [
    {
     "data": {
      "text/plain": [
       "array([[ 0.76596981,  0.47690493, -0.46312463,  0.40999882],\n",
       "       [ 0.65983385, -0.45945311,  0.61818653, -0.47658443],\n",
       "       [ 0.0808824 , -0.76817775, -0.65726215,  0.49703872],\n",
       "       [ 0.        ,  0.        ,  0.        ,  1.        ]])"
      ]
     },
     "execution_count": 2,
     "metadata": {},
     "output_type": "execute_result"
    }
   ],
   "source": [
    "rec1 = Recording('E:/VISION/129/OptiTrack_Calibration_Square/121622061907_2023Feb13014913.bag')\n",
    "rec2 = Recording('E:/VISION/129/OptiTrack_Calibration_Square/123122061443_2023Feb13014913.bag')\n",
    "rec1.load_calibration('121622061907_opti.txt')\n",
    "rec2.load_calibration('123122061443_opti.txt')"
   ]
  },
  {
   "cell_type": "code",
   "execution_count": 3,
   "id": "9867b025",
   "metadata": {},
   "outputs": [
    {
     "data": {
      "text/plain": [
       "array([[-0.76596981, -0.47690493,  0.46312463, -0.40999882],\n",
       "       [-0.65983385,  0.45945311, -0.61818653,  0.47658443],\n",
       "       [ 0.0808824 , -0.76817775, -0.65726215,  0.49703872],\n",
       "       [ 0.        ,  0.        ,  0.        ,  1.        ]])"
      ]
     },
     "execution_count": 3,
     "metadata": {},
     "output_type": "execute_result"
    }
   ],
   "source": [
    "rec1.load_calibration('121622061907opti.txt')\n",
    "rec2.load_calibration('123122061443opti.txt')"
   ]
  },
  {
   "cell_type": "code",
   "execution_count": 3,
   "id": "69133142",
   "metadata": {},
   "outputs": [],
   "source": [
    "d = DualRecording(rec1,rec2)"
   ]
  },
  {
   "cell_type": "code",
   "execution_count": 4,
   "id": "44344953",
   "metadata": {},
   "outputs": [],
   "source": [
    "d.start_stream()"
   ]
  },
  {
   "cell_type": "code",
   "execution_count": 5,
   "id": "8cde0364",
   "metadata": {},
   "outputs": [
    {
     "data": {
      "text/plain": [
       "((<pyrealsense2.frame Z16 #11345 @1676256553041.796387>,\n",
       "  <pyrealsense2.frame RGB8 #11379 @1676256553042.133301>),\n",
       " (<pyrealsense2.frame Z16 #11275 @1676256553040.908203>,\n",
       "  <pyrealsense2.frame RGB8 #11309 @1676256553041.245117>))"
      ]
     },
     "execution_count": 5,
     "metadata": {},
     "output_type": "execute_result"
    }
   ],
   "source": [
    "d.get_frames()"
   ]
  },
  {
   "cell_type": "code",
   "execution_count": 37,
   "id": "c263a492",
   "metadata": {},
   "outputs": [
    {
     "data": {
      "text/plain": [
       "0.214599609375"
      ]
     },
     "execution_count": 37,
     "metadata": {},
     "output_type": "execute_result"
    }
   ],
   "source": [
    "rec1.frame[0].timestamp-rec2.frame[0].timestamp"
   ]
  },
  {
   "cell_type": "code",
   "execution_count": 6,
   "id": "0317ca41",
   "metadata": {},
   "outputs": [],
   "source": [
    "frames = rec1.frame"
   ]
  },
  {
   "cell_type": "code",
   "execution_count": 41,
   "id": "377cc162",
   "metadata": {},
   "outputs": [
    {
     "data": {
      "text/plain": [
       "(<pyrealsense2.frame Z16 #653 @1680575977858.764160>,\n",
       " <pyrealsense2.frame RGB8 #638 @1680575977873.828857>)"
      ]
     },
     "execution_count": 41,
     "metadata": {},
     "output_type": "execute_result"
    }
   ],
   "source": [
    "frames"
   ]
  },
  {
   "cell_type": "code",
   "execution_count": 7,
   "id": "3870f341",
   "metadata": {},
   "outputs": [],
   "source": [
    "np_depth = np.asanyarray(frames[0].get_data())\n",
    "np_color = np.asanyarray(frames[1].get_data())"
   ]
  },
  {
   "cell_type": "code",
   "execution_count": 10,
   "id": "92952571",
   "metadata": {},
   "outputs": [],
   "source": [
    "depth = o3d.t.geometry.Image(o3d.core.Tensor(np_depth, device=stream.DEVICE))\n",
    "color = o3d.t.geometry.Image(o3d.core.Tensor(np_color, device=stream.DEVICE))"
   ]
  },
  {
   "cell_type": "code",
   "execution_count": 11,
   "id": "56cafd27",
   "metadata": {},
   "outputs": [
    {
     "ename": "NameError",
     "evalue": "name 'im' is not defined",
     "output_type": "error",
     "traceback": [
      "\u001b[1;31m---------------------------------------------------------------------------\u001b[0m",
      "\u001b[1;31mNameError\u001b[0m                                 Traceback (most recent call last)",
      "Cell \u001b[1;32mIn[11], line 1\u001b[0m\n\u001b[1;32m----> 1\u001b[0m o3d\u001b[38;5;241m.\u001b[39mvisualization\u001b[38;5;241m.\u001b[39mdraw_geometries([\u001b[43mim\u001b[49m\u001b[38;5;241m.\u001b[39mto_legacy()])\n",
      "\u001b[1;31mNameError\u001b[0m: name 'im' is not defined"
     ]
    }
   ],
   "source": [
    "o3d.visualization.draw_geometries([im.to_legacy()])"
   ]
  },
  {
   "cell_type": "code",
   "execution_count": 12,
   "id": "d2e811f4",
   "metadata": {},
   "outputs": [],
   "source": [
    "rgbdim = o3d.t.geometry.RGBDImage(color,depth)\n",
    "intrinsics = o3d.core.Tensor(rec1.get_o3d_intrinsics().intrinsic_matrix, device=stream.DEVICE)\n",
    "pcd = o3d.t.geometry.PointCloud.create_from_rgbd_image(rgbdim, intrinsics,depth_scale=1000)"
   ]
  },
  {
   "cell_type": "code",
   "execution_count": 66,
   "id": "0030c0e3",
   "metadata": {},
   "outputs": [],
   "source": [
    "o3d.visualization.draw_geometries([rgbdim.to_legacy()])"
   ]
  },
  {
   "cell_type": "code",
   "execution_count": 57,
   "id": "d3ae1e0c",
   "metadata": {},
   "outputs": [
    {
     "data": {
      "text/plain": [
       "RGBD Image pair [Aligned]\n",
       "Color [size=(1280,720), channels=3, format=UInt8, device=CUDA:0]\n",
       "Depth [size=(1280,720), channels=1, format=Float64, device=CUDA:0]"
      ]
     },
     "execution_count": 57,
     "metadata": {},
     "output_type": "execute_result"
    }
   ],
   "source": [
    "rgbdim"
   ]
  },
  {
   "cell_type": "code",
   "execution_count": 14,
   "id": "5f5a0c2f",
   "metadata": {},
   "outputs": [
    {
     "name": "stdout",
     "output_type": "stream",
     "text": [
      "[Open3D INFO] Picked point #453690 (0.13, 0.023, 0.67) to add in queue.\n",
      "[Open3D INFO] Picked point #169615 (-0.0060, -0.081, 0.76) to add in queue.\n",
      "[Open3D INFO] Picked point #237991 (0.05, -0.025, 0.72) to add in queue.\n",
      "[Open3D INFO] Picked point #287653 (0.09, 0.0036, 0.69) to add in queue.\n",
      "[Open3D INFO] Picked point #334207 (0.019, -0.051, 0.74) to add in queue.\n"
     ]
    }
   ],
   "source": [
    "vis = o3d.visualization.VisualizerWithEditing()\n",
    "vis.create_window()\n",
    "vis.add_geometry(pcd.to_legacy())\n",
    "vis.run()\n",
    "vis.destroy_window()\n",
    "idx = vis.get_picked_points()"
   ]
  },
  {
   "cell_type": "raw",
   "id": "98983778",
   "metadata": {},
   "source": []
  },
  {
   "cell_type": "code",
   "execution_count": 16,
   "id": "4d441b80",
   "metadata": {},
   "outputs": [
    {
     "ename": "AttributeError",
     "evalue": "'numpy.ndarray' object has no attribute 'inv'",
     "output_type": "error",
     "traceback": [
      "\u001b[1;31m---------------------------------------------------------------------------\u001b[0m",
      "\u001b[1;31mAttributeError\u001b[0m                            Traceback (most recent call last)",
      "Cell \u001b[1;32mIn[16], line 1\u001b[0m\n\u001b[1;32m----> 1\u001b[0m \u001b[43mrec1\u001b[49m\u001b[38;5;241;43m.\u001b[39;49m\u001b[43mpose\u001b[49m\u001b[38;5;241;43m.\u001b[39;49m\u001b[43minv\u001b[49m\n",
      "\u001b[1;31mAttributeError\u001b[0m: 'numpy.ndarray' object has no attribute 'inv'"
     ]
    }
   ],
   "source": []
  },
  {
   "cell_type": "code",
   "execution_count": null,
   "id": "a9784bd9",
   "metadata": {},
   "outputs": [],
   "source": []
  }
 ],
 "metadata": {
  "kernelspec": {
   "display_name": "SpyGRT",
   "language": "python",
   "name": "spygrt"
  },
  "language_info": {
   "codemirror_mode": {
    "name": "ipython",
    "version": 3
   },
   "file_extension": ".py",
   "mimetype": "text/x-python",
   "name": "python",
   "nbconvert_exporter": "python",
   "pygments_lexer": "ipython3",
   "version": "3.10.10"
  }
 },
 "nbformat": 4,
 "nbformat_minor": 5
}
