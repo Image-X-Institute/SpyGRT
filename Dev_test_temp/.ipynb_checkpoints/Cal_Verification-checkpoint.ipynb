{
 "cells": [
  {
   "cell_type": "code",
   "execution_count": 1,
   "id": "fc01090d",
   "metadata": {},
   "outputs": [
    {
     "name": "stdout",
     "output_type": "stream",
     "text": [
      "Jupyter environment detected. Enabling Open3D WebVisualizer.\n",
      "[Open3D INFO] WebRTC GUI backend enabled.\n",
      "[Open3D INFO] WebRTCWindowSystem: HTTP handshake server disabled.\n"
     ]
    }
   ],
   "source": [
    "from spygrt.stream import Camera, DualCamera\n",
    "from spygrt.tracker import Tracker\n",
    "import open3d as o3d\n",
    "import numpy as np\n",
    "import pyrealsense2 as rs2\n",
    "\n",
    "cam = []\n",
    "ctx = rs2.context()\n",
    "for dev in ctx.query_devices():\n",
    "    cam.append(Camera(dev))\n",
    "    \n",
    "d = DualCamera(cam[0],cam[1])\n",
    "d.start_stream()\n",
    "o3d.visualization.draw_geometries([d.pcd.to_legacy()])\n",
    "\n"
   ]
  },
  {
   "cell_type": "code",
   "execution_count": 2,
   "id": "8643cd7e",
   "metadata": {},
   "outputs": [],
   "source": [
    "track.refresh_frames()\n",
    "track.compute_pcd()\n",
    "o3d.visualization.draw_geometries([track.pcd.to_legacy()])"
   ]
  },
  {
   "cell_type": "code",
   "execution_count": null,
   "id": "aac5865c",
   "metadata": {},
   "outputs": [],
   "source": [
    "for i in range (100):\n",
    "    try:\n",
    "        calibs[0].find_corners3d()\n",
    "        calibs[1].find_corners3d()\n",
    "    except NoMoreFrames:\n",
    "        print(\"Reached the end of stream, used only the first \" +str(i) + \" frames for calibration.\")\n",
    "        break\n",
    "\n",
    "#calibs[0].corners_scale()\n",
    "#calibs[1].corners_scale()\n",
    "calibs[0].align_cameras(calibs[1])\n",
    "calibs[1].align_to_board(cal2 = calibs[0])\n",
    "for cal in calibs:\n",
    "    cal.write_cal()\n",
    "    cal._pose = o3d.core.Tensor(np.identity(4), dtype=o3d.core.Dtype.Float32,device=cal._stream.pcd.device)\n",
    "c.load_calibration()\n",
    "for i in range (100):\n",
    "    try:\n",
    "        calibs[0].find_corners3d()\n",
    "        calibs[1].find_corners3d()\n",
    "    except NoMoreFrames:\n",
    "        print(\"Reached the end of stream, used only the first \" +str(i) + \" frames for calibration.\")\n",
    "        break\n",
    "\n",
    "#calibs[0].corners_scale()\n",
    "#calibs[1].corners_scale()\n",
    "calibs[0].align_cameras(calibs[1])\n",
    "calibs[1].align_to_board(cal2 = calibs[0])\n",
    "adj = o3d.core.Tensor(np.identity(4), dtype=o3d.core.Dtype.Float32, device=cal._pose.device)"
   ]
  },
  {
   "cell_type": "code",
   "execution_count": null,
   "id": "85111b5e",
   "metadata": {},
   "outputs": [],
   "source": []
  }
 ],
 "metadata": {
  "kernelspec": {
   "display_name": "Python 3 (ipykernel)",
   "language": "python",
   "name": "python3"
  },
  "language_info": {
   "codemirror_mode": {
    "name": "ipython",
    "version": 3
   },
   "file_extension": ".py",
   "mimetype": "text/x-python",
   "name": "python",
   "nbconvert_exporter": "python",
   "pygments_lexer": "ipython3",
   "version": "3.10.9"
  }
 },
 "nbformat": 4,
 "nbformat_minor": 5
}
