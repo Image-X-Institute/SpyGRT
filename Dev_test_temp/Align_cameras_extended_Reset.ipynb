{
 "cells": [
  {
   "cell_type": "code",
   "execution_count": 1,
   "id": "af31ef87",
   "metadata": {},
   "outputs": [],
   "source": [
    "from spygrt.stream import Recording, NoMoreFrames, DualRecording\n",
    "from spygrt.calibration import Calibrator\n",
    "import open3d as o3d\n",
    "import numpy as np\n",
    "\n",
    "#E:/VISION/103/RS_Calibration/121622061907_2022Jul20022730.bag\n",
    "f1 = 'E:/VISION/138/RS_Calibration/121622062394_2023May22050704.bag'\n",
    "f2 = 'E:/VISION/138/RS_Calibration/123122061443_2023May22050704.bag'\n",
    "#f1 = 'S:/SMART1/RecordingSession1/Calibration/121622060739_2023Mar28112520.bag'\n",
    "#f2 = 'S:/SMART1/RecordingSession1/Calibration/123122061763_2023Mar28112520.bag'\n",
    "\n",
    "recs = (Recording(f1),Recording(f2))\n",
    "for rec in recs:\n",
    "    rec.start_stream()\n",
    "calibs = (Calibrator(recs[0]), Calibrator(recs[1]))\n",
    "c = DualRecording(f1,f2)\n",
    "c.start_stream()\n",
    "\n"
   ]
  },
  {
   "cell_type": "code",
   "execution_count": 2,
   "id": "c5ef74b4",
   "metadata": {},
   "outputs": [],
   "source": [
    "for i in range (100):\n",
    "    try:\n",
    "        calibs[0].find_corners3d(recs[0].get_frames('rs'))\n",
    "        calibs[1].find_corners3d(recs[1].get_frames('rs'))\n",
    "    except NoMoreFrames:\n",
    "        print(\"Reached the end of stream, used only the first \" +str(i) + \" frames for calibration.\")\n",
    "        break\n",
    "\n",
    "#calibs[0].corners_scale()\n",
    "#calibs[1].corners_scale()\n",
    "calibs[0].align_cameras(calibs[1])\n",
    "calibs[1].align_to_board(cal2 = calibs[0])\n",
    "for cal in calibs:\n",
    "    cal.write_cal()\n",
    "    cal._pose = o3d.core.Tensor(np.identity(4), dtype=o3d.core.Dtype.Float32,device=cal._stream.pcd.device)\n",
    "c.load_calibration()\n",
    "for i in range (100):\n",
    "    try:\n",
    "        calibs[0].find_corners3d()\n",
    "        calibs[1].find_corners3d()\n",
    "    except NoMoreFrames:\n",
    "        print(\"Reached the end of stream, used only the first \" +str(i) + \" frames for calibration.\")\n",
    "        break\n",
    "\n",
    "#calibs[0].corners_scale()\n",
    "#calibs[1].corners_scale()\n",
    "calibs[0].align_cameras(calibs[1])\n",
    "calibs[1].align_to_board(cal2 = calibs[0])\n",
    "adj = o3d.core.Tensor(np.identity(4), dtype=o3d.core.Dtype.Float32, device=cal._pose.device)\n"
   ]
  },
  {
   "cell_type": "code",
<<<<<<< Updated upstream
   "execution_count": null,
=======
   "execution_count": 3,
>>>>>>> Stashed changes
   "id": "d869812d",
   "metadata": {},
   "outputs": [],
   "source": [
    "for cal in calibs:\n",
    "    cal.write_cal()"
   ]
  },
  {
   "cell_type": "code",
   "execution_count": 3,
   "id": "d0aff029",
   "metadata": {},
   "outputs": [],
   "source": [
    "import spygrt.stream as stream\n",
    "s_corners = calibs[0].avg_corners()\n",
    "t_corners = calibs[1].avg_corners()\n",
    "s_corners = o3d.core.Tensor(s_corners, dtype=o3d.core.Dtype.Float32, device=stream.DEVICE)\n",
    "t_corners = o3d.core.Tensor(t_corners, dtype=o3d.core.Dtype.Float32, device=stream.DEVICE)\n",
    "s_pcd = o3d.t.geometry.PointCloud(s_corners)\n",
    "t_pcd = o3d.t.geometry.PointCloud(t_corners)\n",
    "corr = np.zeros((len(s_corners), 1), dtype=np.int64)\n",
    "corr[:, 0] = np.arange(0, len(s_corners))\n",
    "o3d.core.Tensor(corr, device=stream.DEVICE)\n",
    "icp = o3d.t.pipelines.registration.TransformationEstimationPointToPoint()\n",
    "pose = icp.compute_transformation(s_pcd, t_pcd, o3d.core.Tensor(corr, device=stream.DEVICE))"
   ]
  },
  {
   "cell_type": "code",
   "execution_count": 13,
   "id": "8b2b7d15",
   "metadata": {},
   "outputs": [
    {
     "data": {
      "text/plain": [
       "[[0.0],\n",
       " [1.0],\n",
       " [2.0],\n",
       " [3.0],\n",
       " [4.0],\n",
       " [5.0],\n",
       " [6.0],\n",
       " [7.0],\n",
       " [8.0],\n",
       " [9.0],\n",
       " [10.0],\n",
       " [11.0],\n",
       " [12.0],\n",
       " [13.0],\n",
       " [14.0],\n",
       " [15.0],\n",
       " [16.0],\n",
       " [17.0],\n",
       " [18.0],\n",
       " [19.0],\n",
       " [20.0],\n",
       " [21.0],\n",
       " [22.0],\n",
       " [23.0],\n",
       " [24.0],\n",
       " [25.0],\n",
       " [26.0],\n",
       " [27.0],\n",
       " [28.0],\n",
       " [29.0],\n",
       " [30.0],\n",
       " [31.0],\n",
       " [32.0],\n",
       " [33.0],\n",
       " [34.0],\n",
       " [35.0],\n",
       " [36.0],\n",
       " [37.0],\n",
       " [38.0],\n",
       " [39.0]]\n",
       "Tensor[shape={40, 1}, stride={1, 1}, Float32, CUDA:0, 0x1300001aa0]"
      ]
     },
     "execution_count": 13,
     "metadata": {},
     "output_type": "execute_result"
    }
   ],
   "source": [
    "o3d.core.Tensor(corr, device=stream.DEVICE).to(dtype=o3d.core.Dtype.Float32)"
   ]
  },
  {
   "cell_type": "code",
   "execution_count": null,
   "id": "00aaa6e9",
   "metadata": {},
   "outputs": [],
   "source": [
    "s_corner_lst = []\n",
    "t_corner_lst = []\n",
    "\n",
    "for i in range (100):\n",
    "    try:\n",
    "        calibs[0].refresh()\n",
    "        calibs[1].refresh()\n",
    "    except NoMoreFrames:\n",
    "        print(\"Reached the end of stream, used only the first \" +str(i) + \" frames for calibration.\")\n",
    "        break\n",
    "        \n",
    "    s_corner_lst.append(calibs[0].find_corners3D())\n",
    "    t_corner_lst.append(calibs[1].find_corners3D())\n",
    "    \n",
    "s_corners = np.mean(s_corner_lst, axis=0)\n",
    "t_corners = np.mean(t_corner_lst, axis=0)\n",
    "    "
   ]
  },
  {
   "cell_type": "code",
   "execution_count": 2,
   "id": "bbcc8616",
   "metadata": {},
   "outputs": [
    {
     "ename": "NameError",
     "evalue": "name 's_corners' is not defined",
     "output_type": "error",
     "traceback": [
      "\u001b[1;31m---------------------------------------------------------------------------\u001b[0m",
      "\u001b[1;31mNameError\u001b[0m                                 Traceback (most recent call last)",
      "Cell \u001b[1;32mIn[2], line 1\u001b[0m\n\u001b[1;32m----> 1\u001b[0m calibs[\u001b[38;5;241m0\u001b[39m]\u001b[38;5;241m.\u001b[39mcorners \u001b[38;5;241m=\u001b[39m \u001b[43ms_corners\u001b[49m\n\u001b[0;32m      2\u001b[0m calibs[\u001b[38;5;241m1\u001b[39m]\u001b[38;5;241m.\u001b[39mcorners \u001b[38;5;241m=\u001b[39m t_corners\n\u001b[0;32m      3\u001b[0m I \u001b[38;5;241m=\u001b[39m o3d\u001b[38;5;241m.\u001b[39mcore\u001b[38;5;241m.\u001b[39mTensor(np\u001b[38;5;241m.\u001b[39midentity(\u001b[38;5;241m4\u001b[39m),o3d\u001b[38;5;241m.\u001b[39mcore\u001b[38;5;241m.\u001b[39mDtype\u001b[38;5;241m.\u001b[39mFloat32)\n",
      "\u001b[1;31mNameError\u001b[0m: name 's_corners' is not defined"
     ]
    }
   ],
   "source": [
    "calibs[0].corners = s_corners\n",
    "calibs[1].corners = t_corners\n",
    "I = o3d.core.Tensor(np.identity(4),o3d.core.Dtype.Float32)\n",
    "calibs[0].T = I\n",
    "calibs[1].T = I"
   ]
  },
  {
   "cell_type": "code",
   "execution_count": 3,
   "id": "7407475a",
   "metadata": {},
   "outputs": [
    {
     "ename": "NameError",
     "evalue": "name 'calibs' is not defined",
     "output_type": "error",
     "traceback": [
      "\u001b[1;31m---------------------------------------------------------------------------\u001b[0m",
      "\u001b[1;31mNameError\u001b[0m                                 Traceback (most recent call last)",
      "Cell \u001b[1;32mIn[3], line 1\u001b[0m\n\u001b[1;32m----> 1\u001b[0m \u001b[43mcalibs\u001b[49m[\u001b[38;5;241m0\u001b[39m]\u001b[38;5;241m.\u001b[39mcorners_scale()\n\u001b[0;32m      2\u001b[0m calibs[\u001b[38;5;241m1\u001b[39m]\u001b[38;5;241m.\u001b[39mcorners_scale()\n",
      "\u001b[1;31mNameError\u001b[0m: name 'calibs' is not defined"
     ]
    }
   ],
   "source": [
    "calibs[0].corners_scale()\n",
    "calibs[1].corners_scale()"
   ]
  },
  {
   "cell_type": "code",
   "execution_count": 5,
   "id": "c461af3d",
   "metadata": {},
   "outputs": [],
   "source": [
    "calibs[0].align_cameras(calibs[1])"
   ]
  },
  {
   "cell_type": "code",
   "execution_count": 6,
   "id": "42ea8d30",
   "metadata": {},
   "outputs": [],
   "source": [
    "calibs[1].align_to_board(cal2 = calibs[0])"
   ]
  },
  {
   "cell_type": "code",
   "execution_count": 7,
   "id": "f605e531",
   "metadata": {},
   "outputs": [],
   "source": [
    "for cal in calibs:\n",
    "    cal.write_cal()"
   ]
  },
  {
   "cell_type": "code",
   "execution_count": 2,
   "id": "e2ba2849",
   "metadata": {},
   "outputs": [],
   "source": [
    "s_corners = o3d.core.Tensor(s_corners, dtype = o3d.core.Dtype.Float32)\n",
    "t_corners = o3d.core.Tensor(t_corners, dtype = o3d.core.Dtype.Float32)\n",
    "s_pcd = o3d.t.geometry.PointCloud(s_corners).to_legacy()\n",
    "t_pcd = o3d.t.geometry.PointCloud(t_corners).to_legacy()\n",
    "corr = np.zeros((len(s_corners),2))\n",
    "corr[:, 0] = np.arange(0,len(s_corners))\n",
    "corr[:, 1] = np.arange(0,len(t_corners))\n",
    "icp = o3d.pipelines.registration.TransformationEstimationPointToPoint()\n",
    "T = o3d.core.Tensor(icp.compute_transformation(s_pcd,t_pcd,o3d.utility.Vector2iVector(corr)), dtype = o3d.core.Dtype.Float32)"
   ]
  },
  {
   "cell_type": "code",
   "execution_count": 11,
   "id": "857d6ac1",
   "metadata": {},
   "outputs": [
    {
     "data": {
      "text/plain": [
       "array([[ 0.18481889, -0.07358927,  0.98601356],\n",
       "       [ 0.15020629, -0.05677868,  0.96503751],\n",
       "       [ 0.1151151 , -0.03942576,  0.94568689],\n",
       "       [ 0.08011095, -0.02237193,  0.92479591],\n",
       "       [ 0.04423485, -0.00588885,  0.90550469],\n",
       "       [ 0.01093504,  0.01076324,  0.88845526],\n",
       "       [-0.02530503,  0.02761602,  0.87152583],\n",
       "       [-0.05897899,  0.04495291,  0.85406288],\n",
       "       [ 0.16082952, -0.09941704,  1.00766767],\n",
       "       [ 0.12437866, -0.08217293,  0.98756358],\n",
       "       [ 0.09059139, -0.06538009,  0.96628826],\n",
       "       [ 0.05501902, -0.04863471,  0.9460921 ],\n",
       "       [ 0.02091968, -0.03175475,  0.92663351],\n",
       "       [-0.0144284 , -0.01514216,  0.91153186],\n",
       "       [-0.04848748,  0.00210943,  0.89306317],\n",
       "       [-0.08457951,  0.01878199,  0.88099931],\n",
       "       [ 0.13552557, -0.1253405 ,  1.02957044],\n",
       "       [ 0.10108695, -0.10847945,  1.0101916 ],\n",
       "       [ 0.06502422, -0.09150068,  0.9893534 ],\n",
       "       [ 0.03137448, -0.07461904,  0.96861563],\n",
       "       [-0.00360889, -0.05781815,  0.95340777],\n",
       "       [-0.03807707, -0.04140164,  0.93572225],\n",
       "       [-0.07377167, -0.02457832,  0.92061874],\n",
       "       [-0.10855938, -0.00761646,  0.90445411],\n",
       "       [ 0.11108348, -0.15143569,  1.04988703],\n",
       "       [ 0.07549758, -0.13444739,  1.0328832 ],\n",
       "       [ 0.04153447, -0.11735141,  1.01072987],\n",
       "       [ 0.00693896, -0.10079893,  0.99480003],\n",
       "       [-0.02796505, -0.08407114,  0.97723845],\n",
       "       [-0.06314683, -0.0672075 ,  0.96092064],\n",
       "       [-0.09855604, -0.05101816,  0.94852036],\n",
       "       [-0.13445785, -0.03396499,  0.93189594],\n",
       "       [ 0.08650179, -0.17778679,  1.07477106],\n",
       "       [ 0.05175981, -0.16067186,  1.05348824],\n",
       "       [ 0.01685679, -0.14397507,  1.03746442],\n",
       "       [-0.01778055, -0.12735085,  1.01995901],\n",
       "       [-0.05386652, -0.11074475,  1.00342258],\n",
       "       [-0.08799495, -0.09429217,  0.98946435],\n",
       "       [-0.12324431, -0.07716788,  0.97026252],\n",
       "       [-0.15852654, -0.06082587,  0.95346957]])"
      ]
     },
     "execution_count": 11,
     "metadata": {},
     "output_type": "execute_result"
    }
   ],
   "source": [
    "s_corners"
   ]
  },
  {
   "cell_type": "code",
   "execution_count": 12,
   "id": "862e21c9",
   "metadata": {},
   "outputs": [
    {
     "data": {
      "text/plain": [
       "array([[ 7.11437551e-02,  8.14034278e-02,  8.55578950e-01],\n",
       "       [ 3.50546793e-02,  6.64594422e-02,  8.68802019e-01],\n",
       "       [-1.15933748e-03,  5.16636440e-02,  8.85720016e-01],\n",
       "       [-3.73535692e-02,  3.71361874e-02,  9.02482922e-01],\n",
       "       [-7.35785890e-02,  2.23628462e-02,  9.23681756e-01],\n",
       "       [-1.09980940e-01,  7.70058689e-03,  9.41884664e-01],\n",
       "       [-1.46395897e-01, -6.99899000e-03,  9.59949179e-01],\n",
       "       [-1.83055363e-01, -2.14160449e-02,  9.76677848e-01],\n",
       "       [ 9.25629443e-02,  5.51404542e-02,  8.79842829e-01],\n",
       "       [ 5.62737254e-02,  4.01949034e-02,  8.93473600e-01],\n",
       "       [ 2.05009844e-02,  2.53355632e-02,  9.10645205e-01],\n",
       "       [-1.57870311e-02,  1.06376229e-02,  9.28136740e-01],\n",
       "       [-4.18066792e-02, -3.15591686e-03,  7.58375891e-01],\n",
       "       [-8.80491097e-02, -1.89155211e-02,  9.65672259e-01],\n",
       "       [-1.24587934e-01, -3.32789940e-02,  9.82293259e-01],\n",
       "       [-1.61085276e-01, -4.81132963e-02,  1.00121929e+00],\n",
       "       [ 1.14671740e-01,  2.84813259e-02,  9.07477821e-01],\n",
       "       [ 7.80167285e-02,  1.37844766e-02,  9.18528375e-01],\n",
       "       [ 4.18611434e-02, -1.05960215e-03,  9.33879257e-01],\n",
       "       [ 5.77564487e-03, -1.56370918e-02,  9.49741897e-01],\n",
       "       [-3.03574815e-02, -3.05958298e-02,  9.69853833e-01],\n",
       "       [-6.64738519e-02, -4.52760687e-02,  9.85677796e-01],\n",
       "       [-1.02575903e-01, -6.03365177e-02,  1.00598807e+00],\n",
       "       [-1.38842295e-01, -7.47708569e-02,  1.02528859e+00],\n",
       "       [ 1.35894798e-01,  1.82918348e-03,  9.28897947e-01],\n",
       "       [ 9.97436525e-02, -1.29656360e-02,  9.44159042e-01],\n",
       "       [ 6.33596348e-02, -2.73381172e-02,  9.57521487e-01],\n",
       "       [ 2.75806567e-02, -4.23538796e-02,  9.76517865e-01],\n",
       "       [-8.69529040e-03, -5.65397615e-02,  9.90948423e-01],\n",
       "       [-4.44869574e-02, -7.16511154e-02,  1.01156907e+00],\n",
       "       [-8.10066512e-02, -8.66665412e-02,  1.03246972e+00],\n",
       "       [-1.16904888e-01, -1.01531671e-01,  1.04911526e+00],\n",
       "       [ 1.58257024e-01, -2.52377662e-02,  9.56695926e-01],\n",
       "       [ 1.21408480e-01, -3.96040798e-02,  9.68286572e-01],\n",
       "       [ 8.51815367e-02, -5.42114432e-02,  9.82778413e-01],\n",
       "       [ 4.96259667e-02, -6.88812261e-02,  1.00329343e+00],\n",
       "       [ 1.34607515e-02, -8.32956862e-02,  1.01522949e+00],\n",
       "       [-2.26114412e-02, -9.82059880e-02,  1.03686898e+00],\n",
       "       [-5.89301405e-02, -1.13375194e-01,  1.05594619e+00],\n",
       "       [-9.50671871e-02, -1.28252304e-01,  1.07380581e+00]])"
      ]
     },
     "execution_count": 12,
     "metadata": {},
     "output_type": "execute_result"
    }
   ],
   "source": [
    "t_corners"
   ]
  },
  {
   "cell_type": "code",
   "execution_count": 9,
   "id": "f3ea4725",
   "metadata": {},
   "outputs": [],
   "source": [
    "calibs[1].refresh()\n",
    "calibs[1].update_pcd()\n",
    "calibs[0].refresh()\n",
    "calibs[0].update_pcd()\n",
    "o3d.visualization.draw_geometries([calibs[0].pcd.to_legacy(),calibs[1].pcd.to_legacy()])"
   ]
  },
  {
   "cell_type": "code",
   "execution_count": 2,
   "id": "ccffc669",
   "metadata": {},
   "outputs": [
    {
     "ename": "NameError",
     "evalue": "name 't_corner_lst' is not defined",
     "output_type": "error",
     "traceback": [
      "\u001b[1;31m---------------------------------------------------------------------------\u001b[0m",
      "\u001b[1;31mNameError\u001b[0m                                 Traceback (most recent call last)",
      "\u001b[1;32mC:\\Users\\REMOVE~1\\AppData\\Local\\Temp/ipykernel_10728/1868072848.py\u001b[0m in \u001b[0;36m<module>\u001b[1;34m\u001b[0m\n\u001b[1;32m----> 1\u001b[1;33m \u001b[0mlen\u001b[0m\u001b[1;33m(\u001b[0m\u001b[0mt_corner_lst\u001b[0m\u001b[1;33m)\u001b[0m\u001b[1;33m\u001b[0m\u001b[1;33m\u001b[0m\u001b[0m\n\u001b[0m",
      "\u001b[1;31mNameError\u001b[0m: name 't_corner_lst' is not defined"
     ]
    }
   ],
   "source": [
    "len(t_corner_lst)"
   ]
  },
  {
   "cell_type": "code",
   "execution_count": 4,
   "id": "18b2b506",
   "metadata": {},
   "outputs": [
    {
     "data": {
      "text/plain": [
       "True"
      ]
     },
     "execution_count": 4,
     "metadata": {},
     "output_type": "execute_result"
    }
   ],
   "source": [
    "o3d.core.Device('cuda:0').get_type() == o3d.core.Device.CUDA"
   ]
  },
  {
   "cell_type": "code",
   "execution_count": 3,
   "id": "dc74b6e6",
   "metadata": {},
   "outputs": [
    {
     "name": "stderr",
     "output_type": "stream",
     "text": [
      "WARNING:root:Tried to start a stream that is already started\n"
     ]
    },
    {
     "ename": "AttributeError",
     "evalue": "'Calibrator' object has no attribute 'corners'",
     "output_type": "error",
     "traceback": [
      "\u001b[1;31m---------------------------------------------------------------------------\u001b[0m",
      "\u001b[1;31mAttributeError\u001b[0m                            Traceback (most recent call last)",
      "Cell \u001b[1;32mIn[3], line 1\u001b[0m\n\u001b[1;32m----> 1\u001b[0m \u001b[43mCalibrator\u001b[49m\u001b[43m(\u001b[49m\u001b[43mrecs\u001b[49m\u001b[43m[\u001b[49m\u001b[38;5;241;43m0\u001b[39;49m\u001b[43m]\u001b[49m\u001b[43m)\u001b[49m\n",
      "File \u001b[1;32mc:\\users\\removethemask\\mydocs\\code\\spygrt\\spygrt\\calibration.py:62\u001b[0m, in \u001b[0;36mCalibrator.__init__\u001b[1;34m(self, cam)\u001b[0m\n\u001b[0;32m     60\u001b[0m \u001b[38;5;28;01mexcept\u001b[39;00m \u001b[38;5;167;01mTypeError\u001b[39;00m:\n\u001b[0;32m     61\u001b[0m \t\u001b[38;5;124m\"\u001b[39m\u001b[38;5;124mCouldn\u001b[39m\u001b[38;5;124m'\u001b[39m\u001b[38;5;124mt find corners with default values, please try again with different values\u001b[39m\u001b[38;5;124m\"\u001b[39m\n\u001b[1;32m---> 62\u001b[0m \u001b[38;5;28;43mself\u001b[39;49m\u001b[38;5;241;43m.\u001b[39;49m\u001b[43mcorners_scale\u001b[49m\u001b[43m(\u001b[49m\u001b[43m)\u001b[49m\n",
      "File \u001b[1;32mc:\\users\\removethemask\\mydocs\\code\\spygrt\\spygrt\\calibration.py:140\u001b[0m, in \u001b[0;36mCalibrator.corners_scale\u001b[1;34m(self, size)\u001b[0m\n\u001b[0;32m    138\u001b[0m \u001b[38;5;124;03m\"\"\"Class to scale the corners to the real corner size - used to refine calibration.\"\"\"\u001b[39;00m\n\u001b[0;32m    139\u001b[0m dist \u001b[38;5;241m=\u001b[39m []\n\u001b[1;32m--> 140\u001b[0m corners \u001b[38;5;241m=\u001b[39m \u001b[38;5;28;43mself\u001b[39;49m\u001b[38;5;241;43m.\u001b[39;49m\u001b[43mget_corners\u001b[49m\u001b[43m(\u001b[49m\u001b[43m)\u001b[49m\n\u001b[0;32m    141\u001b[0m board \u001b[38;5;241m=\u001b[39m np\u001b[38;5;241m.\u001b[39mreshape(corners,[DEFAULT_ROW,DEFAULT_COLUMN,\u001b[38;5;241m3\u001b[39m])\n\u001b[0;32m    142\u001b[0m \u001b[38;5;28;01mfor\u001b[39;00m x \u001b[38;5;129;01min\u001b[39;00m board:\n",
      "File \u001b[1;32mc:\\users\\removethemask\\mydocs\\code\\spygrt\\spygrt\\calibration.py:75\u001b[0m, in \u001b[0;36mCalibrator.get_corners\u001b[1;34m(self)\u001b[0m\n\u001b[0;32m     71\u001b[0m \t\u001b[38;5;28;01mdef\u001b[39;00m \u001b[38;5;21mget_corners\u001b[39m(\u001b[38;5;28mself\u001b[39m):\n\u001b[0;32m     72\u001b[0m \t\t\u001b[38;5;124;03m\"\"\"Get the 3D coordinate of cordinate in the frame of reference of the \u001b[39;00m\n\u001b[0;32m     73\u001b[0m \u001b[38;5;124;03m        current Calibrator object.\u001b[39;00m\n\u001b[0;32m     74\u001b[0m \u001b[38;5;124;03m        \"\"\"\u001b[39;00m\n\u001b[1;32m---> 75\u001b[0m \t\tcorners \u001b[38;5;241m=\u001b[39m np\u001b[38;5;241m.\u001b[39mvstack((\u001b[38;5;28;43mself\u001b[39;49m\u001b[38;5;241;43m.\u001b[39;49m\u001b[43mcorners\u001b[49m\u001b[38;5;241m.\u001b[39mT,np\u001b[38;5;241m.\u001b[39mones(\u001b[38;5;28mlen\u001b[39m(\u001b[38;5;28mself\u001b[39m\u001b[38;5;241m.\u001b[39mcorners))))\u001b[38;5;241m.\u001b[39mT\n\u001b[0;32m     76\u001b[0m \t\tcorners \u001b[38;5;241m=\u001b[39m \u001b[38;5;28mself\u001b[39m\u001b[38;5;241m.\u001b[39mT\u001b[38;5;241m.\u001b[39mnumpy()\u001b[38;5;129m@corners\u001b[39m\u001b[38;5;241m.\u001b[39mT\n\u001b[0;32m     77\u001b[0m \t\t\u001b[38;5;28;01mreturn\u001b[39;00m corners[\u001b[38;5;241m0\u001b[39m:\u001b[38;5;241m3\u001b[39m]\u001b[38;5;241m.\u001b[39mT\n",
      "\u001b[1;31mAttributeError\u001b[0m: 'Calibrator' object has no attribute 'corners'"
     ]
    }
   ],
   "source": [
    "Calibrator(recs[0])"
   ]
  },
  {
   "cell_type": "code",
   "execution_count": 2,
   "id": "caff6f74",
   "metadata": {},
   "outputs": [
    {
     "ename": "RuntimeError",
     "evalue": "get_active_profile() can only be called between a start() and a following stop()",
     "output_type": "error",
     "traceback": [
      "\u001b[1;31m---------------------------------------------------------------------------\u001b[0m",
      "\u001b[1;31mRuntimeError\u001b[0m                              Traceback (most recent call last)",
      "Cell \u001b[1;32mIn[2], line 1\u001b[0m\n\u001b[1;32m----> 1\u001b[0m o3d\u001b[38;5;241m.\u001b[39mvisualization\u001b[38;5;241m.\u001b[39mdraw_geometries([\u001b[43mrecs\u001b[49m\u001b[43m[\u001b[49m\u001b[38;5;241;43m1\u001b[39;49m\u001b[43m]\u001b[49m\u001b[38;5;241;43m.\u001b[39;49m\u001b[43mpcd\u001b[49m\u001b[38;5;241m.\u001b[39mto_legacy()])\n",
      "File \u001b[1;32mc:\\users\\removethemask\\mydocs\\code\\spygrt\\spygrt\\stream.py:480\u001b[0m, in \u001b[0;36mRecording.pcd\u001b[1;34m(self)\u001b[0m\n\u001b[0;32m    473\u001b[0m \u001b[38;5;124;03m\"\"\"\u001b[39;00m\n\u001b[0;32m    474\u001b[0m \u001b[38;5;124;03mAccess the point cloud form of the current frame.\u001b[39;00m\n\u001b[0;32m    475\u001b[0m \n\u001b[0;32m    476\u001b[0m \u001b[38;5;124;03mReturns:\u001b[39;00m\n\u001b[0;32m    477\u001b[0m \u001b[38;5;124;03m    pcd: A tensor-based Open3D point cloud object.\u001b[39;00m\n\u001b[0;32m    478\u001b[0m \u001b[38;5;124;03m\"\"\"\u001b[39;00m\n\u001b[0;32m    479\u001b[0m \u001b[38;5;28;01mif\u001b[39;00m \u001b[38;5;28mself\u001b[39m\u001b[38;5;241m.\u001b[39m_pcd\u001b[38;5;241m.\u001b[39mis_empty():\n\u001b[1;32m--> 480\u001b[0m     \u001b[38;5;28;43mself\u001b[39;49m\u001b[38;5;241;43m.\u001b[39;49m\u001b[43mcompute_pcd\u001b[49m\u001b[43m(\u001b[49m\u001b[38;5;28;43;01mFalse\u001b[39;49;00m\u001b[43m)\u001b[49m\n\u001b[0;32m    482\u001b[0m \u001b[38;5;28;01mreturn\u001b[39;00m \u001b[38;5;28mself\u001b[39m\u001b[38;5;241m.\u001b[39m_pcd\n",
      "File \u001b[1;32mc:\\users\\removethemask\\mydocs\\code\\spygrt\\spygrt\\stream.py:509\u001b[0m, in \u001b[0;36mRecording.compute_pcd\u001b[1;34m(self, new_frame)\u001b[0m\n\u001b[0;32m    506\u001b[0m \u001b[38;5;28;01mif\u001b[39;00m new_frame:\n\u001b[0;32m    507\u001b[0m     \u001b[38;5;28mself\u001b[39m\u001b[38;5;241m.\u001b[39mget_frames(\u001b[38;5;124m'\u001b[39m\u001b[38;5;124mrs\u001b[39m\u001b[38;5;124m'\u001b[39m)\n\u001b[1;32m--> 509\u001b[0m \u001b[38;5;28mself\u001b[39m\u001b[38;5;241m.\u001b[39m_rs_pc\u001b[38;5;241m.\u001b[39mmap_to(\u001b[38;5;28;43mself\u001b[39;49m\u001b[38;5;241;43m.\u001b[39;49m\u001b[43mframe\u001b[49m[\u001b[38;5;241m1\u001b[39m])\n\u001b[0;32m    510\u001b[0m \u001b[38;5;66;03m# Get the raw point cloud data\u001b[39;00m\n\u001b[0;32m    511\u001b[0m dat \u001b[38;5;241m=\u001b[39m \u001b[38;5;28mself\u001b[39m\u001b[38;5;241m.\u001b[39m_rs_pc\u001b[38;5;241m.\u001b[39mcalculate(\u001b[38;5;28mself\u001b[39m\u001b[38;5;241m.\u001b[39mframe[\u001b[38;5;241m0\u001b[39m])\n",
      "File \u001b[1;32mc:\\users\\removethemask\\mydocs\\code\\spygrt\\spygrt\\stream.py:449\u001b[0m, in \u001b[0;36mRecording.frame\u001b[1;34m(self)\u001b[0m\n\u001b[0;32m    441\u001b[0m \u001b[38;5;124;03m\"\"\"\u001b[39;00m\n\u001b[0;32m    442\u001b[0m \u001b[38;5;124;03mAccess the last frame.\u001b[39;00m\n\u001b[0;32m    443\u001b[0m \n\u001b[1;32m   (...)\u001b[0m\n\u001b[0;32m    446\u001b[0m \n\u001b[0;32m    447\u001b[0m \u001b[38;5;124;03m\"\"\"\u001b[39;00m\n\u001b[0;32m    448\u001b[0m \u001b[38;5;28;01mif\u001b[39;00m \u001b[38;5;28mself\u001b[39m\u001b[38;5;241m.\u001b[39m_frame \u001b[38;5;129;01mis\u001b[39;00m \u001b[38;5;28;01mNone\u001b[39;00m:\n\u001b[1;32m--> 449\u001b[0m     \u001b[38;5;28mself\u001b[39m\u001b[38;5;241m.\u001b[39m_frame \u001b[38;5;241m=\u001b[39m \u001b[38;5;28;43mself\u001b[39;49m\u001b[38;5;241;43m.\u001b[39;49m\u001b[43mget_frames\u001b[49m\u001b[43m(\u001b[49m\u001b[43m)\u001b[49m\n\u001b[0;32m    450\u001b[0m \u001b[38;5;28;01mreturn\u001b[39;00m \u001b[38;5;28mself\u001b[39m\u001b[38;5;241m.\u001b[39m_frame\n",
      "File \u001b[1;32mc:\\users\\removethemask\\mydocs\\code\\spygrt\\spygrt\\stream.py:559\u001b[0m, in \u001b[0;36mRecording.get_frames\u001b[1;34m(self, encoding)\u001b[0m\n\u001b[0;32m    556\u001b[0m     \u001b[38;5;28;01mpass\u001b[39;00m\n\u001b[0;32m    557\u001b[0m \u001b[38;5;28;01melif\u001b[39;00m \u001b[38;5;28mself\u001b[39m\u001b[38;5;241m.\u001b[39m_playback\u001b[38;5;241m.\u001b[39mcurrent_status() \u001b[38;5;241m==\u001b[39m rs2\u001b[38;5;241m.\u001b[39mplayback_status\u001b[38;5;241m.\u001b[39mstopped:\n\u001b[0;32m    558\u001b[0m     \u001b[38;5;66;03m# Raise a specific realsense error if get_frames was called before start_stream or after end_stream\u001b[39;00m\n\u001b[1;32m--> 559\u001b[0m     \u001b[38;5;28;43mself\u001b[39;49m\u001b[38;5;241;43m.\u001b[39;49m\u001b[43m_pipe\u001b[49m\u001b[38;5;241;43m.\u001b[39;49m\u001b[43mget_active_profile\u001b[49m\u001b[43m(\u001b[49m\u001b[43m)\u001b[49m\n\u001b[0;32m    561\u001b[0m     \u001b[38;5;66;03m# If the above statement doesn't raise an exception, assume we reached the end of the file.\u001b[39;00m\n\u001b[0;32m    562\u001b[0m     \u001b[38;5;28;01mraise\u001b[39;00m NoMoreFrames(\u001b[38;5;124m\"\u001b[39m\u001b[38;5;124mReached the end of the stream\u001b[39m\u001b[38;5;124m\"\u001b[39m)\n",
      "\u001b[1;31mRuntimeError\u001b[0m: get_active_profile() can only be called between a start() and a following stop()"
     ]
    }
   ],
   "source": [
    "o3d.visualization.draw_geometries([recs[1].pcd.to_legacy()])"
   ]
  },
  {
   "cell_type": "code",
   "execution_count": 4,
   "id": "782a4793",
   "metadata": {},
   "outputs": [
    {
     "data": {
      "text/plain": [
       "<playback_status.stopped: 3>"
      ]
     },
     "execution_count": 4,
     "metadata": {},
     "output_type": "execute_result"
    }
   ],
   "source": [
    "recs[1]._playback.current_status()"
   ]
  },
  {
   "cell_type": "code",
   "execution_count": 2,
   "id": "e0c6e877",
   "metadata": {},
   "outputs": [
    {
     "name": "stderr",
     "output_type": "stream",
     "text": [
      "WARNING:root:Tried to start a stream that is already started\n"
     ]
    },
    {
     "data": {
      "text/plain": [
       "<pyrealsense2.device: Intel RealSense D415 (S/N: 123122061443  FW: 05.13.00.50  on USB3.2)>"
      ]
     },
     "execution_count": 2,
     "metadata": {},
     "output_type": "execute_result"
    }
   ],
   "source": [
    "recs[1].start_stream()"
   ]
  },
  {
   "cell_type": "code",
   "execution_count": 3,
   "id": "8a24e543",
   "metadata": {},
   "outputs": [
    {
     "data": {
      "text/plain": [
       "(<pyrealsense2.frame Z16 #4589 @1679540127844.679443>,\n",
       " <pyrealsense2.frame RGB8 #4592 @1679540127845.016357>)"
      ]
     },
     "execution_count": 3,
     "metadata": {},
     "output_type": "execute_result"
    }
   ],
   "source": [
    "recs[1].get_frames()"
   ]
  },
  {
   "cell_type": "code",
   "execution_count": 8,
   "id": "1b80bf55",
   "metadata": {},
   "outputs": [
    {
     "ename": "TypeError",
     "evalue": "map_to(): incompatible function arguments. The following argument types are supported:\n    1. (self: pyrealsense2.pyrealsense2.pointcloud, mapped: pyrealsense2.pyrealsense2.frame) -> None\n\nInvoked with: <pyrealsense2.pyrealsense2.pointcloud object at 0x000002190E9049F0>, Image[size={720,1280}, channels=3, UInt8, CUDA:0]",
     "output_type": "error",
     "traceback": [
      "\u001b[1;31m---------------------------------------------------------------------------\u001b[0m",
      "\u001b[1;31mTypeError\u001b[0m                                 Traceback (most recent call last)",
      "Cell \u001b[1;32mIn[8], line 1\u001b[0m\n\u001b[1;32m----> 1\u001b[0m \u001b[43mrecs\u001b[49m\u001b[43m[\u001b[49m\u001b[38;5;241;43m1\u001b[39;49m\u001b[43m]\u001b[49m\u001b[38;5;241;43m.\u001b[39;49m\u001b[43mcompute_pcd\u001b[49m\u001b[43m(\u001b[49m\u001b[38;5;28;43;01mFalse\u001b[39;49;00m\u001b[43m)\u001b[49m\n",
      "File \u001b[1;32mc:\\users\\removethemask\\mydocs\\code\\spygrt\\spygrt\\stream.py:509\u001b[0m, in \u001b[0;36mRecording.compute_pcd\u001b[1;34m(self, new_frame)\u001b[0m\n\u001b[0;32m    506\u001b[0m \u001b[38;5;28;01mif\u001b[39;00m new_frame:\n\u001b[0;32m    507\u001b[0m     \u001b[38;5;28mself\u001b[39m\u001b[38;5;241m.\u001b[39mget_frames(\u001b[38;5;124m'\u001b[39m\u001b[38;5;124mrs\u001b[39m\u001b[38;5;124m'\u001b[39m)\n\u001b[1;32m--> 509\u001b[0m \u001b[38;5;28;43mself\u001b[39;49m\u001b[38;5;241;43m.\u001b[39;49m\u001b[43m_rs_pc\u001b[49m\u001b[38;5;241;43m.\u001b[39;49m\u001b[43mmap_to\u001b[49m\u001b[43m(\u001b[49m\u001b[38;5;28;43mself\u001b[39;49m\u001b[38;5;241;43m.\u001b[39;49m\u001b[43mframe\u001b[49m\u001b[43m[\u001b[49m\u001b[38;5;241;43m1\u001b[39;49m\u001b[43m]\u001b[49m\u001b[43m)\u001b[49m\n\u001b[0;32m    510\u001b[0m \u001b[38;5;66;03m# Get the raw point cloud data\u001b[39;00m\n\u001b[0;32m    511\u001b[0m dat \u001b[38;5;241m=\u001b[39m \u001b[38;5;28mself\u001b[39m\u001b[38;5;241m.\u001b[39m_rs_pc\u001b[38;5;241m.\u001b[39mcalculate(\u001b[38;5;28mself\u001b[39m\u001b[38;5;241m.\u001b[39mframe[\u001b[38;5;241m0\u001b[39m])\n",
      "\u001b[1;31mTypeError\u001b[0m: map_to(): incompatible function arguments. The following argument types are supported:\n    1. (self: pyrealsense2.pyrealsense2.pointcloud, mapped: pyrealsense2.pyrealsense2.frame) -> None\n\nInvoked with: <pyrealsense2.pyrealsense2.pointcloud object at 0x000002190E9049F0>, Image[size={720,1280}, channels=3, UInt8, CUDA:0]"
     ]
    }
   ],
   "source": [
    "recs[1].compute_pcd(False)"
   ]
  },
  {
   "cell_type": "code",
   "execution_count": 8,
   "id": "53a5d9e7",
   "metadata": {},
   "outputs": [],
   "source": [
    "frame = recs[1].frame"
   ]
  },
  {
   "cell_type": "code",
   "execution_count": 9,
   "id": "f4bbc974",
   "metadata": {},
   "outputs": [
    {
     "data": {
      "text/plain": [
       "tuple"
      ]
     },
     "execution_count": 9,
     "metadata": {},
     "output_type": "execute_result"
    }
   ],
   "source": [
    "type(frame)"
   ]
  },
  {
   "cell_type": "code",
   "execution_count": 10,
   "id": "3140dce9",
   "metadata": {},
   "outputs": [],
   "source": [
    "depth = np.asanyarray(frame[0].get_data())*0.001\n",
    "color = np.asanyarray(frame[1].get_data())"
   ]
  },
  {
   "cell_type": "code",
   "execution_count": 11,
   "id": "237b42e2",
   "metadata": {},
   "outputs": [],
   "source": [
    "import cv2 as cv"
   ]
  },
  {
   "cell_type": "code",
   "execution_count": 13,
   "id": "33ee1148",
   "metadata": {},
   "outputs": [],
   "source": [
    "corners = np.asarray([])\n",
    "ret, corners = cv.findChessboardCorners(color, [8, 5], corners,\n",
    "                                                cv.CALIB_CB_FAST_CHECK)"
   ]
  },
  {
   "cell_type": "code",
   "execution_count": 3,
   "id": "5a053843",
   "metadata": {},
   "outputs": [],
   "source": [
    "a = np.asarray([1],dtype=np.int64)"
   ]
  },
  {
   "cell_type": "code",
   "execution_count": 3,
   "id": "2070bb2e",
   "metadata": {},
   "outputs": [
    {
     "data": {
      "text/plain": [
       "[[-0.730187 0.460164 -0.501757 0.390375],\n",
       " [0.680523 0.514918 -0.518104 0.420062],\n",
       " [0.0199838 -0.720966 -0.690284 0.48829],\n",
       " [0.0 0.0 0.0 1.0]]\n",
       "Tensor[shape={4, 4}, stride={4, 1}, Float32, CUDA:0, 0x1300000800]"
      ]
     },
     "execution_count": 3,
     "metadata": {},
     "output_type": "execute_result"
    }
   ],
   "source": [
    "calibs[0].pose"
   ]
  },
  {
   "cell_type": "code",
   "execution_count": 4,
   "id": "6db92fff",
   "metadata": {},
   "outputs": [
    {
     "data": {
      "text/plain": [
       "[[-0.762795 -0.482383 0.458789 -0.416684],\n",
       " [-0.660190 0.458401 -0.615675 0.442077],\n",
       " [0.0856161 -0.763029 -0.65992 0.495195],\n",
       " [0.0 0.0 0.0 1.0]]\n",
       "Tensor[shape={4, 4}, stride={4, 1}, Float32, CUDA:0, 0x1300000a00]"
      ]
     },
     "execution_count": 4,
     "metadata": {},
     "output_type": "execute_result"
    }
   ],
   "source": [
    "calibs[1].pose"
   ]
  },
  {
   "cell_type": "code",
   "execution_count": 6,
   "id": "07b8b00a",
   "metadata": {},
   "outputs": [
    {
     "data": {
      "text/plain": [
       "'121622061907'"
      ]
     },
     "execution_count": 6,
     "metadata": {},
     "output_type": "execute_result"
    }
   ],
   "source": [
    "calibs[0]._stream.serial"
   ]
  },
  {
   "cell_type": "code",
   "execution_count": 7,
   "id": "c9964dc5",
   "metadata": {},
   "outputs": [],
   "source": [
    "rec1 = Recording('E:/VISION/129/OptiTrack_Calibration_Square/121622061907_2023Feb13014913.bag')\n",
    "rec2 = Recording('E:/VISION/129/OptiTrack_Calibration_Square/123122061443_2023Feb13014913.bag')"
   ]
  },
  {
   "cell_type": "code",
   "execution_count": 16,
   "id": "676525f6",
   "metadata": {},
   "outputs": [],
   "source": [
    "rec1._pose = calibs[0].pose.cpu().numpy()\n",
    "rec2._pose = calibs[1].pose.cpu().numpy()"
   ]
  },
  {
   "cell_type": "code",
   "execution_count": 17,
   "id": "3adc5bde",
   "metadata": {},
   "outputs": [],
   "source": [
    "from spygrt.stream import DualRecording\n",
    "d = DualRecording(rec1,rec2)"
   ]
  },
  {
   "cell_type": "code",
   "execution_count": 18,
   "id": "9381a2e4",
   "metadata": {},
   "outputs": [
    {
     "name": "stderr",
     "output_type": "stream",
     "text": [
      "WARNING:root:Tried to start a stream that is already started\n",
      "WARNING:root:Tried to start a stream that is already started\n"
     ]
    }
   ],
   "source": [
    "d.start_stream()"
   ]
  },
  {
   "cell_type": "code",
   "execution_count": 19,
   "id": "743ee7a8",
   "metadata": {},
   "outputs": [
    {
     "data": {
      "text/plain": [
       "((<pyrealsense2.frame Z16 #11346 @1676256553075.400635>,\n",
       "  <pyrealsense2.frame RGB8 #11380 @1676256553075.737793>),\n",
       " (<pyrealsense2.frame Z16 #11276 @1676256553074.507324>,\n",
       "  <pyrealsense2.frame RGB8 #11310 @1676256553074.844238>))"
      ]
     },
     "execution_count": 19,
     "metadata": {},
     "output_type": "execute_result"
    }
   ],
   "source": [
    "d.get_frames()"
   ]
  },
  {
   "cell_type": "code",
   "execution_count": 20,
   "id": "8be4fe55",
   "metadata": {},
   "outputs": [],
   "source": [
    "o3d.visualization.draw_geometries([d.pcd.to_legacy()])"
   ]
  },
  {
   "cell_type": "code",
   "execution_count": null,
   "id": "43c74488",
   "metadata": {},
   "outputs": [],
   "source": []
  }
 ],
 "metadata": {
  "kernelspec": {
   "display_name": "SpyGRT",
   "language": "python",
   "name": "spygrt"
  },
  "language_info": {
   "codemirror_mode": {
    "name": "ipython",
    "version": 3
   },
   "file_extension": ".py",
   "mimetype": "text/x-python",
   "name": "python",
   "nbconvert_exporter": "python",
   "pygments_lexer": "ipython3",
   "version": "3.10.10"
  }
 },
 "nbformat": 4,
 "nbformat_minor": 5
}
