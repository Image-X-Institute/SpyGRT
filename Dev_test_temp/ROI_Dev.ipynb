{
 "cells": [
  {
   "cell_type": "code",
   "execution_count": 1,
   "id": "dc31bd40",
   "metadata": {},
   "outputs": [
    {
     "name": "stdout",
     "output_type": "stream",
     "text": [
      "Jupyter environment detected. Enabling Open3D WebVisualizer.\n",
      "[Open3D INFO] WebRTC GUI backend enabled.\n",
      "[Open3D INFO] WebRTCWindowSystem: HTTP handshake server disabled.\n"
     ]
    }
   ],
   "source": [
    "import pyrealsense2 as rs2\n",
    "import open3d as o3d\n",
    "import numpy as np\n",
    "import time\n",
    "from spygrt.stream import Recording, NoMoreFrames, DualRecording\n",
    "from spygrt.tracker import Tracker\n"
   ]
  },
  {
   "cell_type": "code",
   "execution_count": 2,
   "id": "809559f6",
   "metadata": {},
   "outputs": [
    {
     "data": {
      "text/plain": [
       "array([[-0.84303463, -0.35969847,  0.40744796, -0.41306779],\n",
       "       [-0.54072845,  0.63098216, -0.56176376,  0.55750799],\n",
       "       [-0.0548597 , -0.69179678, -0.72423196,  0.68112701],\n",
       "       [ 0.        ,  0.        ,  0.        ,  1.        ]])"
      ]
     },
     "execution_count": 2,
     "metadata": {},
     "output_type": "execute_result"
    }
   ],
   "source": [
    "rec1 = Recording('E:/VISION/Youssef_Test/Recording_Session/121622061907_2022May24015518.bag')\n",
    "rec2 = Recording('E:/VISION/Youssef_Test/Recording_Session/123122061443_2022May24015518.bag')\n",
    "rec1.load_calibration('121622061907_cal.txt')\n",
    "rec2.load_calibration('123122061443_cal.txt')\n",
    "\n"
   ]
  },
  {
   "cell_type": "code",
   "execution_count": 3,
   "id": "5efb26d2",
   "metadata": {},
   "outputs": [],
   "source": [
    "d = DualRecording(rec1,rec2)"
   ]
  },
  {
   "cell_type": "code",
   "execution_count": 4,
   "id": "f45c3896",
   "metadata": {},
   "outputs": [],
   "source": [
    "d.start_stream()"
   ]
  },
  {
   "cell_type": "code",
   "execution_count": 5,
   "id": "06c2cd17",
   "metadata": {},
   "outputs": [
    {
     "data": {
      "text/plain": [
       "((<pyrealsense2.frame Z16 #8050 @1653364518544.000000>,\n",
       "  <pyrealsense2.frame RGB8 #8047 @1653364518560.602295>),\n",
       " (<pyrealsense2.frame Z16 #8008 @1653364518580.588135>,\n",
       "  <pyrealsense2.frame RGB8 #8003 @1653364518564.528564>))"
      ]
     },
     "execution_count": 5,
     "metadata": {},
     "output_type": "execute_result"
    }
   ],
   "source": [
    "d.get_frames()"
   ]
  },
  {
   "cell_type": "code",
   "execution_count": 3,
   "id": "3a4288b7",
   "metadata": {},
   "outputs": [
    {
     "name": "stderr",
     "output_type": "stream",
     "text": [
      "WARNING:root:Tried to start a stream that is already started\n"
     ]
    },
    {
     "ename": "RuntimeError",
     "evalue": "wait_for_frames cannot be called before start()",
     "output_type": "error",
     "traceback": [
      "\u001b[1;31m---------------------------------------------------------------------------\u001b[0m",
      "\u001b[1;31mRuntimeError\u001b[0m                              Traceback (most recent call last)",
      "Cell \u001b[1;32mIn[3], line 3\u001b[0m\n\u001b[0;32m      1\u001b[0m d \u001b[38;5;241m=\u001b[39m DualRecording(rec1,rec2)\n\u001b[0;32m      2\u001b[0m d\u001b[38;5;241m.\u001b[39mstart_stream()\n\u001b[1;32m----> 3\u001b[0m \u001b[43md\u001b[49m\u001b[38;5;241;43m.\u001b[39;49m\u001b[43mget_frames\u001b[49m\u001b[43m(\u001b[49m\u001b[43m)\u001b[49m\n",
      "File \u001b[1;32mc:\\users\\removethemask\\mydocs\\code\\spygrt\\spygrt\\stream.py:892\u001b[0m, in \u001b[0;36mDualRecording.get_frames\u001b[1;34m(self)\u001b[0m\n\u001b[0;32m    890\u001b[0m \u001b[38;5;66;03m# Getting new frames with a call  to the cameras.\u001b[39;00m\n\u001b[0;32m    891\u001b[0m f1 \u001b[38;5;241m=\u001b[39m \u001b[38;5;28mself\u001b[39m\u001b[38;5;241m.\u001b[39m_stream1\u001b[38;5;241m.\u001b[39mget_frames(encoding\u001b[38;5;241m=\u001b[39m\u001b[38;5;124m'\u001b[39m\u001b[38;5;124mrs\u001b[39m\u001b[38;5;124m'\u001b[39m)\n\u001b[1;32m--> 892\u001b[0m f2 \u001b[38;5;241m=\u001b[39m \u001b[38;5;28;43mself\u001b[39;49m\u001b[38;5;241;43m.\u001b[39;49m\u001b[43m_stream2\u001b[49m\u001b[38;5;241;43m.\u001b[39;49m\u001b[43mget_frames\u001b[49m\u001b[43m(\u001b[49m\u001b[43mencoding\u001b[49m\u001b[38;5;241;43m=\u001b[39;49m\u001b[38;5;124;43m'\u001b[39;49m\u001b[38;5;124;43mrs\u001b[39;49m\u001b[38;5;124;43m'\u001b[39;49m\u001b[43m)\u001b[49m\n\u001b[0;32m    894\u001b[0m \u001b[38;5;66;03m# Get the delay between the depth frames of each camera\u001b[39;00m\n\u001b[0;32m    895\u001b[0m diff \u001b[38;5;241m=\u001b[39m f2[\u001b[38;5;241m0\u001b[39m]\u001b[38;5;241m.\u001b[39mtimestamp \u001b[38;5;241m-\u001b[39m f1[\u001b[38;5;241m0\u001b[39m]\u001b[38;5;241m.\u001b[39mtimestamp\n",
      "File \u001b[1;32mc:\\users\\removethemask\\mydocs\\code\\spygrt\\spygrt\\stream.py:557\u001b[0m, in \u001b[0;36mRecording.get_frames\u001b[1;34m(self, encoding)\u001b[0m\n\u001b[0;32m    554\u001b[0m \u001b[38;5;28;01mexcept\u001b[39;00m \u001b[38;5;167;01mAttributeError\u001b[39;00m:\n\u001b[0;32m    555\u001b[0m     \u001b[38;5;28;01mpass\u001b[39;00m\n\u001b[1;32m--> 557\u001b[0m frames \u001b[38;5;241m=\u001b[39m \u001b[38;5;28;43mself\u001b[39;49m\u001b[38;5;241;43m.\u001b[39;49m\u001b[43m_pipe\u001b[49m\u001b[38;5;241;43m.\u001b[39;49m\u001b[43mwait_for_frames\u001b[49m\u001b[43m(\u001b[49m\u001b[43m)\u001b[49m\n\u001b[0;32m    559\u001b[0m aligned_frames \u001b[38;5;241m=\u001b[39m \u001b[38;5;28mself\u001b[39m\u001b[38;5;241m.\u001b[39m_align_to_color\u001b[38;5;241m.\u001b[39mprocess(frames)\n\u001b[0;32m    561\u001b[0m rs_depth \u001b[38;5;241m=\u001b[39m aligned_frames\u001b[38;5;241m.\u001b[39mget_depth_frame()\n",
      "\u001b[1;31mRuntimeError\u001b[0m: wait_for_frames cannot be called before start()"
     ]
    }
   ],
   "source": [
    "d = DualRecording(rec1,rec2)\n",
    "d.start_stream()\n",
    "d.get_frames()"
   ]
  },
  {
   "cell_type": "code",
   "execution_count": 6,
   "id": "259d57ef",
   "metadata": {},
   "outputs": [
    {
     "name": "stdout",
     "output_type": "stream",
     "text": [
      "[Open3D INFO] Picked point #291137 (0.082, -0.014, 0.14) to add in queue.\n",
      "[Open3D INFO] Picked point #1279289 (-0.041, 0.13, 0.19) to add in queue.\n"
     ]
    }
   ],
   "source": [
    "t = Tracker(ref_surface=d.pcd)"
   ]
  },
  {
   "cell_type": "code",
   "execution_count": 10,
   "id": "0d5f01f4",
   "metadata": {},
   "outputs": [
    {
     "data": {
      "text/plain": [
       "PointCloud on CPU:0 [1843200 points (Float32)].\n",
       "Attributes: colors (dtype = UInt8, shape = {1843200, 3})."
      ]
     },
     "execution_count": 10,
     "metadata": {},
     "output_type": "execute_result"
    }
   ],
   "source": [
    "d.compute_pcd(True)"
   ]
  },
  {
   "cell_type": "code",
   "execution_count": 18,
   "id": "6290ecbd",
   "metadata": {},
   "outputs": [],
   "source": [
    "a = time.time()\n",
    "t.get_motion(d.compute_pcd(True))\n",
    "b= time.time()"
   ]
  },
  {
   "cell_type": "code",
   "execution_count": 7,
   "id": "64b964b2",
   "metadata": {},
   "outputs": [
    {
     "data": {
      "text/plain": [
       "True"
      ]
     },
     "execution_count": 7,
     "metadata": {},
     "output_type": "execute_result"
    }
   ],
   "source": [
    "o3d.io.write_point_cloud('ref_pc.pcd', d.pcd.to_legacy())"
   ]
  },
  {
   "cell_type": "code",
   "execution_count": 7,
   "id": "7d30e6d3",
   "metadata": {},
   "outputs": [],
   "source": [
    "T1 = np.loadtxt('r1_cal.txt')"
   ]
  },
  {
   "cell_type": "code",
   "execution_count": 8,
   "id": "d7968797",
   "metadata": {},
   "outputs": [],
   "source": [
    "d.stream1._pose = T1@d.stream1.pose"
   ]
  },
  {
   "cell_type": "code",
   "execution_count": 16,
   "id": "0a206b67",
   "metadata": {},
   "outputs": [
    {
     "data": {
      "text/plain": [
       "PointCloud on CPU:0 [1843200 points (Float32)].\n",
       "Attributes: colors (dtype = UInt8, shape = {1843200, 3})."
      ]
     },
     "execution_count": 16,
     "metadata": {},
     "output_type": "execute_result"
    }
   ],
   "source": [
    "d.compute_pcd()"
   ]
  },
  {
   "cell_type": "code",
   "execution_count": 18,
   "id": "3e80dda0",
   "metadata": {},
   "outputs": [],
   "source": [
    "from datetime import timedelta\n",
    "delta = timedelta(seconds=70)\n",
    "d.stream1.seek(delta)\n",
    "d.stream2.seek(delta)"
   ]
  },
  {
   "cell_type": "code",
   "execution_count": 19,
   "id": "b3693899",
   "metadata": {},
   "outputs": [
    {
     "data": {
      "text/plain": [
       "[[0.999999 0.000828050 0.00148744 -0.000326829],\n",
       " [-0.000827450 1.0 -0.000403588 8.04856e-05],\n",
       " [-0.00148777 0.000402357 0.999999 -7.19777e-05],\n",
       " [0.0 0.0 0.0 1.0]]\n",
       "Tensor[shape={4, 4}, stride={4, 1}, Float64, CPU:0, 0x265f6ad0630]"
      ]
     },
     "execution_count": 19,
     "metadata": {},
     "output_type": "execute_result"
    }
   ],
   "source": [
    "t.get_motion(d.compute_pcd(True))"
   ]
  },
  {
   "cell_type": "code",
   "execution_count": 21,
   "id": "d5638b03",
   "metadata": {},
   "outputs": [],
   "source": [
    "o3d.visualization.draw_geometries([d.pcd.to_legacy()])"
   ]
  },
  {
   "cell_type": "code",
   "execution_count": 22,
   "id": "001d4b8a",
   "metadata": {},
   "outputs": [
    {
     "data": {
      "text/plain": [
       "1653364518578.96"
      ]
     },
     "execution_count": 22,
     "metadata": {},
     "output_type": "execute_result"
    }
   ],
   "source": [
    "d.timestamp"
   ]
  },
  {
   "cell_type": "code",
   "execution_count": 23,
   "id": "ccef444d",
   "metadata": {},
   "outputs": [],
   "source": [
    "a = d.compute_pcd(True)"
   ]
  },
  {
   "cell_type": "code",
   "execution_count": 24,
   "id": "75445d8a",
   "metadata": {},
   "outputs": [
    {
     "data": {
      "text/plain": [
       "False"
      ]
     },
     "execution_count": 24,
     "metadata": {},
     "output_type": "execute_result"
    }
   ],
   "source": [
    "a is None"
   ]
  },
  {
   "cell_type": "code",
   "execution_count": 10,
   "id": "7195f5a3",
   "metadata": {},
   "outputs": [],
   "source": [
    "np.savetxt('1.txt',d.stream1.pose)"
   ]
  },
  {
   "cell_type": "code",
   "execution_count": 11,
   "id": "afa39078",
   "metadata": {},
   "outputs": [
    {
     "data": {
      "text/plain": [
       "'121622061907'"
      ]
     },
     "execution_count": 11,
     "metadata": {},
     "output_type": "execute_result"
    }
   ],
   "source": [
    "d.stream1.serial"
   ]
  },
  {
   "cell_type": "code",
   "execution_count": null,
   "id": "a45cc90d",
   "metadata": {},
   "outputs": [
    {
     "name": "stdout",
     "output_type": "stream",
     "text": [
      "Timestamps:1653364520223.93 8100 1653364520093.0332 8053\n",
      "Timestamps:1653364520425.8904 8106 1653364520294.2217 8059\n",
      "[Open3D WARNING] 0 correspondence present between the pointclouds. Try increasing the max_correspondence_distance parameter.\n",
      "Timestamps:1653364520559.7507 8110 1653364520429.2112 8063\n",
      "[Open3D WARNING] 0 correspondence present between the pointclouds. Try increasing the max_correspondence_distance parameter.\n",
      "78\n",
      "79\n",
      "80\n",
      "[Open3D WARNING] 0 correspondence present between the pointclouds. Try increasing the max_correspondence_distance parameter.\n",
      "[Open3D WARNING] 0 correspondence present between the pointclouds. Try increasing the max_correspondence_distance parameter.\n",
      "[Open3D WARNING] 0 correspondence present between the pointclouds. Try increasing the max_correspondence_distance parameter.\n",
      "[Open3D WARNING] Creating from an empty legacy PointCloud.\n",
      "87\n",
      "[Open3D WARNING] Creating from an empty legacy PointCloud.\n",
      "88\n",
      "[Open3D WARNING] Creating from an empty legacy PointCloud.\n",
      "89\n",
      "[Open3D WARNING] Creating from an empty legacy PointCloud.\n",
      "90\n",
      "[Open3D WARNING] Creating from an empty legacy PointCloud.\n",
      "91\n",
      "[Open3D WARNING] Creating from an empty legacy PointCloud.\n",
      "92\n",
      "[Open3D WARNING] Creating from an empty legacy PointCloud.\n",
      "93\n",
      "[Open3D WARNING] Creating from an empty legacy PointCloud.\n",
      "94\n",
      "[Open3D WARNING] Creating from an empty legacy PointCloud.\n",
      "95\n",
      "[Open3D WARNING] Creating from an empty legacy PointCloud.\n",
      "96\n",
      "[Open3D WARNING] Creating from an empty legacy PointCloud.\n",
      "97\n",
      "[Open3D WARNING] Creating from an empty legacy PointCloud.\n",
      "98\n",
      "[Open3D WARNING] Creating from an empty legacy PointCloud.\n",
      "99\n",
      "[Open3D WARNING] Creating from an empty legacy PointCloud.\n",
      "100\n",
      "[Open3D WARNING] Creating from an empty legacy PointCloud.\n",
      "101\n",
      "[Open3D WARNING] Creating from an empty legacy PointCloud.\n",
      "102\n",
      "[Open3D WARNING] Creating from an empty legacy PointCloud.\n",
      "103\n",
      "[Open3D WARNING] Creating from an empty legacy PointCloud.\n",
      "104\n",
      "[Open3D WARNING] Creating from an empty legacy PointCloud.\n",
      "105\n",
      "[Open3D WARNING] Creating from an empty legacy PointCloud.\n",
      "106\n",
      "[Open3D WARNING] Creating from an empty legacy PointCloud.\n",
      "107\n",
      "[Open3D WARNING] Creating from an empty legacy PointCloud.\n",
      "108\n",
      "[Open3D WARNING] Creating from an empty legacy PointCloud.\n",
      "109\n",
      "[Open3D WARNING] Creating from an empty legacy PointCloud.\n",
      "110\n",
      "[Open3D WARNING] Creating from an empty legacy PointCloud.\n",
      "111\n",
      "[Open3D WARNING] Creating from an empty legacy PointCloud.\n",
      "112\n",
      "[Open3D WARNING] Creating from an empty legacy PointCloud.\n",
      "113\n",
      "[Open3D WARNING] Creating from an empty legacy PointCloud.\n",
      "114\n",
      "[Open3D WARNING] Creating from an empty legacy PointCloud.\n",
      "115\n",
      "[Open3D WARNING] Creating from an empty legacy PointCloud.\n",
      "116\n",
      "[Open3D WARNING] Creating from an empty legacy PointCloud.\n",
      "117\n",
      "[Open3D WARNING] Creating from an empty legacy PointCloud.\n",
      "118\n",
      "[Open3D WARNING] Creating from an empty legacy PointCloud.\n",
      "119\n",
      "[Open3D WARNING] Creating from an empty legacy PointCloud.\n",
      "120\n",
      "[Open3D WARNING] Creating from an empty legacy PointCloud.\n",
      "121\n",
      "[Open3D WARNING] Creating from an empty legacy PointCloud.\n",
      "122\n",
      "[Open3D WARNING] Creating from an empty legacy PointCloud.\n",
      "123\n",
      "Timestamps:1653364522508.5183 8168 1653364522612.9006 8128\n",
      "[Open3D WARNING] Creating from an empty legacy PointCloud.\n",
      "124\n",
      "[Open3D WARNING] Creating from an empty legacy PointCloud.\n",
      "125\n",
      "[Open3D WARNING] Creating from an empty legacy PointCloud.\n",
      "126\n",
      "[Open3D WARNING] Creating from an empty legacy PointCloud.\n",
      "127\n",
      "[Open3D WARNING] Creating from an empty legacy PointCloud.\n",
      "128\n",
      "[Open3D WARNING] Creating from an empty legacy PointCloud.\n",
      "129\n",
      "[Open3D WARNING] Creating from an empty legacy PointCloud.\n",
      "130\n",
      "Timestamps:1653364522877.9685 8179 1653364522982.6785 8139\n",
      "Timestamps:1653364522877.9685 8179 1653364522982.6785 8139\n",
      "[Open3D WARNING] Creating from an empty legacy PointCloud.\n",
      "131\n",
      "[Open3D WARNING] Creating from an empty legacy PointCloud.\n",
      "132\n",
      "[Open3D WARNING] Creating from an empty legacy PointCloud.\n",
      "133\n",
      "Timestamps:1653364523046.3013 8184 1653364523149.9412 8144\n",
      "[Open3D WARNING] Creating from an empty legacy PointCloud.\n",
      "134\n",
      "[Open3D WARNING] Creating from an empty legacy PointCloud.\n",
      "135\n",
      "[Open3D WARNING] Creating from an empty legacy PointCloud.\n",
      "136\n",
      "[Open3D WARNING] Creating from an empty legacy PointCloud.\n",
      "137\n",
      "[Open3D WARNING] Creating from an empty legacy PointCloud.\n",
      "138\n",
      "[Open3D WARNING] Creating from an empty legacy PointCloud.\n",
      "139\n",
      "[Open3D WARNING] Creating from an empty legacy PointCloud.\n",
      "140\n",
      "[Open3D WARNING] Creating from an empty legacy PointCloud.\n",
      "141\n",
      "[Open3D WARNING] Creating from an empty legacy PointCloud.\n",
      "142\n",
      "[Open3D WARNING] Creating from an empty legacy PointCloud.\n",
      "143\n",
      "[Open3D WARNING] Creating from an empty legacy PointCloud.\n",
      "144\n",
      "[Open3D WARNING] Creating from an empty legacy PointCloud.\n",
      "145\n",
      "[Open3D WARNING] Creating from an empty legacy PointCloud.\n",
      "146\n",
      "[Open3D WARNING] Creating from an empty legacy PointCloud.\n",
      "147\n",
      "[Open3D WARNING] Creating from an empty legacy PointCloud.\n",
      "148\n",
      "[Open3D WARNING] Creating from an empty legacy PointCloud.\n",
      "149\n",
      "[Open3D WARNING] Creating from an empty legacy PointCloud.\n",
      "150\n",
      "[Open3D WARNING] Creating from an empty legacy PointCloud.\n",
      "151\n",
      "[Open3D WARNING] Creating from an empty legacy PointCloud.\n",
      "152\n",
      "[Open3D WARNING] Creating from an empty legacy PointCloud.\n",
      "153\n",
      "[Open3D WARNING] Creating from an empty legacy PointCloud.\n",
      "154\n",
      "[Open3D WARNING] Creating from an empty legacy PointCloud.\n",
      "155\n",
      "[Open3D WARNING] Creating from an empty legacy PointCloud.\n",
      "156\n",
      "[Open3D WARNING] Creating from an empty legacy PointCloud.\n",
      "157\n",
      "[Open3D WARNING] Creating from an empty legacy PointCloud.\n",
      "158\n",
      "[Open3D WARNING] Creating from an empty legacy PointCloud.\n",
      "159\n",
      "[Open3D WARNING] Creating from an empty legacy PointCloud.\n",
      "160\n",
      "[Open3D WARNING] Creating from an empty legacy PointCloud.\n",
      "161\n",
      "[Open3D WARNING] Creating from an empty legacy PointCloud.\n",
      "162\n",
      "[Open3D WARNING] Creating from an empty legacy PointCloud.\n",
      "163\n",
      "[Open3D WARNING] Creating from an empty legacy PointCloud.\n",
      "164\n",
      "[Open3D WARNING] Creating from an empty legacy PointCloud.\n",
      "165\n",
      "[Open3D WARNING] Creating from an empty legacy PointCloud.\n",
      "166\n",
      "[Open3D WARNING] Creating from an empty legacy PointCloud.\n",
      "167\n",
      "[Open3D WARNING] Creating from an empty legacy PointCloud.\n",
      "168\n",
      "[Open3D WARNING] Creating from an empty legacy PointCloud.\n",
      "169\n",
      "[Open3D WARNING] Creating from an empty legacy PointCloud.\n",
      "170\n",
      "Timestamps:1653364524761.3853 8235 1653364524865.1543 8195\n",
      "[Open3D WARNING] Creating from an empty legacy PointCloud.\n",
      "171\n",
      "[Open3D WARNING] Creating from an empty legacy PointCloud.\n",
      "172\n",
      "[Open3D WARNING] Creating from an empty legacy PointCloud.\n",
      "173\n",
      "[Open3D WARNING] Creating from an empty legacy PointCloud.\n",
      "174\n",
      "[Open3D WARNING] Creating from an empty legacy PointCloud.\n",
      "175\n",
      "[Open3D WARNING] Creating from an empty legacy PointCloud.\n",
      "176\n",
      "[Open3D WARNING] Creating from an empty legacy PointCloud.\n",
      "177\n",
      "[Open3D WARNING] Creating from an empty legacy PointCloud.\n",
      "178\n",
      "[Open3D WARNING] Creating from an empty legacy PointCloud.\n",
      "179\n",
      "[Open3D WARNING] Creating from an empty legacy PointCloud.\n",
      "180\n",
      "[Open3D WARNING] Creating from an empty legacy PointCloud.\n",
      "181\n",
      "[Open3D WARNING] Creating from an empty legacy PointCloud.\n",
      "182\n",
      "[Open3D WARNING] Creating from an empty legacy PointCloud.\n",
      "183\n",
      "[Open3D WARNING] Creating from an empty legacy PointCloud.\n",
      "184\n",
      "[Open3D WARNING] Creating from an empty legacy PointCloud.\n",
      "185\n",
      "[Open3D WARNING] Creating from an empty legacy PointCloud.\n",
      "186\n",
      "[Open3D WARNING] Creating from an empty legacy PointCloud.\n",
      "187\n",
      "[Open3D WARNING] Creating from an empty legacy PointCloud.\n",
      "188\n",
      "[Open3D WARNING] Creating from an empty legacy PointCloud.\n",
      "189\n",
      "Timestamps:1653364525668.5127 8262 1653364525568.4893 8216\n",
      "[Open3D WARNING] Creating from an empty legacy PointCloud.\n",
      "190\n",
      "[Open3D WARNING] Creating from an empty legacy PointCloud.\n",
      "191\n",
      "[Open3D WARNING] Creating from an empty legacy PointCloud.\n",
      "192\n",
      "[Open3D WARNING] Creating from an empty legacy PointCloud.\n",
      "193\n",
      "[Open3D WARNING] Creating from an empty legacy PointCloud.\n",
      "194\n",
      "[Open3D WARNING] Creating from an empty legacy PointCloud.\n",
      "195\n",
      "[Open3D WARNING] Creating from an empty legacy PointCloud.\n",
      "196\n",
      "[Open3D WARNING] Creating from an empty legacy PointCloud.\n",
      "197\n",
      "[Open3D WARNING] Creating from an empty legacy PointCloud.\n",
      "198\n"
     ]
    },
    {
     "name": "stdout",
     "output_type": "stream",
     "text": [
      "[Open3D WARNING] Creating from an empty legacy PointCloud.\n",
      "199\n",
      "[Open3D WARNING] Creating from an empty legacy PointCloud.\n",
      "200\n",
      "[Open3D WARNING] Creating from an empty legacy PointCloud.\n",
      "201\n",
      "[Open3D WARNING] Creating from an empty legacy PointCloud.\n",
      "202\n",
      "[Open3D WARNING] Creating from an empty legacy PointCloud.\n",
      "203\n",
      "Timestamps:1653364526238.3037 8279 1653364526106.6328 8232\n",
      "[Open3D WARNING] Creating from an empty legacy PointCloud.\n",
      "204\n",
      "[Open3D WARNING] Creating from an empty legacy PointCloud.\n",
      "205\n",
      "[Open3D WARNING] Creating from an empty legacy PointCloud.\n",
      "206\n",
      "[Open3D WARNING] Creating from an empty legacy PointCloud.\n",
      "207\n",
      "[Open3D WARNING] Creating from an empty legacy PointCloud.\n",
      "208\n",
      "Timestamps:1653364526506.794 8287 1653364526375.2278 8240\n",
      "Timestamps:1653364526506.794 8287 1653364526375.2278 8240\n",
      "[Open3D WARNING] Creating from an empty legacy PointCloud.\n",
      "209\n",
      "[Open3D WARNING] Creating from an empty legacy PointCloud.\n",
      "210\n",
      "[Open3D WARNING] Creating from an empty legacy PointCloud.\n",
      "211\n",
      "[Open3D WARNING] Creating from an empty legacy PointCloud.\n",
      "212\n",
      "[Open3D WARNING] Creating from an empty legacy PointCloud.\n",
      "213\n",
      "[Open3D WARNING] Creating from an empty legacy PointCloud.\n",
      "214\n",
      "[Open3D WARNING] Creating from an empty legacy PointCloud.\n",
      "215\n",
      "Timestamps:1653364526808.8218 8296 1653364526678.6897 8249\n",
      "[Open3D WARNING] Creating from an empty legacy PointCloud.\n",
      "216\n",
      "[Open3D WARNING] Creating from an empty legacy PointCloud.\n",
      "217\n",
      "[Open3D WARNING] Creating from an empty legacy PointCloud.\n",
      "218\n",
      "[Open3D WARNING] Creating from an empty legacy PointCloud.\n",
      "219\n",
      "[Open3D WARNING] Creating from an empty legacy PointCloud.\n",
      "220\n",
      "[Open3D WARNING] Creating from an empty legacy PointCloud.\n",
      "221\n",
      "[Open3D WARNING] Creating from an empty legacy PointCloud.\n",
      "222\n",
      "[Open3D WARNING] Creating from an empty legacy PointCloud.\n",
      "223\n",
      "[Open3D WARNING] Creating from an empty legacy PointCloud.\n",
      "224\n",
      "[Open3D WARNING] Creating from an empty legacy PointCloud.\n",
      "225\n",
      "[Open3D WARNING] Creating from an empty legacy PointCloud.\n",
      "226\n",
      "[Open3D WARNING] Creating from an empty legacy PointCloud.\n",
      "227\n",
      "[Open3D WARNING] Creating from an empty legacy PointCloud.\n",
      "228\n",
      "[Open3D WARNING] Creating from an empty legacy PointCloud.\n",
      "229\n",
      "[Open3D WARNING] Creating from an empty legacy PointCloud.\n",
      "230\n",
      "[Open3D WARNING] Creating from an empty legacy PointCloud.\n",
      "231\n",
      "[Open3D WARNING] Creating from an empty legacy PointCloud.\n",
      "232\n",
      "[Open3D WARNING] Creating from an empty legacy PointCloud.\n",
      "233\n",
      "[Open3D WARNING] Creating from an empty legacy PointCloud.\n",
      "234\n",
      "[Open3D WARNING] Creating from an empty legacy PointCloud.\n",
      "235\n",
      "[Open3D WARNING] Creating from an empty legacy PointCloud.\n",
      "236\n",
      "[Open3D WARNING] Creating from an empty legacy PointCloud.\n",
      "237\n",
      "[Open3D WARNING] Creating from an empty legacy PointCloud.\n",
      "238\n",
      "[Open3D WARNING] Creating from an empty legacy PointCloud.\n",
      "239\n",
      "[Open3D WARNING] Creating from an empty legacy PointCloud.\n",
      "240\n",
      "[Open3D WARNING] Creating from an empty legacy PointCloud.\n",
      "241\n",
      "Timestamps:1653364527951.4202 8330 1653364527785.9673 8282\n",
      "[Open3D WARNING] Creating from an empty legacy PointCloud.\n",
      "242\n",
      "[Open3D WARNING] Creating from an empty legacy PointCloud.\n",
      "243\n",
      "[Open3D WARNING] Creating from an empty legacy PointCloud.\n",
      "244\n",
      "[Open3D WARNING] Creating from an empty legacy PointCloud.\n",
      "245\n",
      "[Open3D WARNING] Creating from an empty legacy PointCloud.\n",
      "246\n",
      "[Open3D WARNING] Creating from an empty legacy PointCloud.\n",
      "247\n",
      "[Open3D WARNING] Creating from an empty legacy PointCloud.\n",
      "248\n",
      "[Open3D WARNING] Creating from an empty legacy PointCloud.\n",
      "249\n",
      "[Open3D WARNING] Creating from an empty legacy PointCloud.\n",
      "250\n",
      "[Open3D WARNING] Creating from an empty legacy PointCloud.\n",
      "251\n",
      "[Open3D WARNING] Creating from an empty legacy PointCloud.\n",
      "252\n",
      "253\n",
      "[Open3D WARNING] Creating from an empty legacy PointCloud.\n",
      "254\n",
      "[Open3D WARNING] Creating from an empty legacy PointCloud.\n",
      "255\n",
      "[Open3D WARNING] Creating from an empty legacy PointCloud.\n",
      "256\n",
      "[Open3D WARNING] Creating from an empty legacy PointCloud.\n",
      "257\n",
      "[Open3D WARNING] Creating from an empty legacy PointCloud.\n",
      "258\n",
      "[Open3D WARNING] Creating from an empty legacy PointCloud.\n",
      "259\n",
      "[Open3D WARNING] Creating from an empty legacy PointCloud.\n",
      "260\n",
      "[Open3D WARNING] Creating from an empty legacy PointCloud.\n",
      "261\n",
      "[Open3D WARNING] Creating from an empty legacy PointCloud.\n",
      "262\n",
      "[Open3D WARNING] Creating from an empty legacy PointCloud.\n",
      "263\n",
      "[Open3D WARNING] Creating from an empty legacy PointCloud.\n",
      "264\n",
      "[Open3D WARNING] Creating from an empty legacy PointCloud.\n",
      "265\n",
      "[Open3D WARNING] Creating from an empty legacy PointCloud.\n",
      "266\n",
      "[Open3D WARNING] Creating from an empty legacy PointCloud.\n",
      "267\n",
      "[Open3D WARNING] Creating from an empty legacy PointCloud.\n",
      "268\n",
      "[Open3D WARNING] Creating from an empty legacy PointCloud.\n",
      "269\n",
      "[Open3D WARNING] Creating from an empty legacy PointCloud.\n",
      "270\n",
      "[Open3D WARNING] Creating from an empty legacy PointCloud.\n",
      "271\n",
      "[Open3D WARNING] Creating from an empty legacy PointCloud.\n",
      "272\n",
      "[Open3D WARNING] Creating from an empty legacy PointCloud.\n",
      "273\n",
      "[Open3D WARNING] Creating from an empty legacy PointCloud.\n",
      "274\n",
      "[Open3D WARNING] Creating from an empty legacy PointCloud.\n",
      "275\n",
      "[Open3D WARNING] Creating from an empty legacy PointCloud.\n",
      "276\n",
      "[Open3D WARNING] Creating from an empty legacy PointCloud.\n",
      "277\n",
      "[Open3D WARNING] Creating from an empty legacy PointCloud.\n",
      "278\n",
      "[Open3D WARNING] Creating from an empty legacy PointCloud.\n",
      "279\n",
      "[Open3D WARNING] Creating from an empty legacy PointCloud.\n",
      "280\n",
      "[Open3D WARNING] Creating from an empty legacy PointCloud.\n",
      "281\n",
      "[Open3D WARNING] Creating from an empty legacy PointCloud.\n",
      "282\n",
      "[Open3D WARNING] Creating from an empty legacy PointCloud.\n",
      "283\n",
      "[Open3D WARNING] Creating from an empty legacy PointCloud.\n",
      "284\n",
      "[Open3D WARNING] Creating from an empty legacy PointCloud.\n",
      "285\n",
      "[Open3D WARNING] Creating from an empty legacy PointCloud.\n",
      "286\n",
      "[Open3D WARNING] Creating from an empty legacy PointCloud.\n",
      "287\n",
      "[Open3D WARNING] Creating from an empty legacy PointCloud.\n",
      "288\n",
      "[Open3D WARNING] Creating from an empty legacy PointCloud.\n",
      "289\n",
      "[Open3D WARNING] Creating from an empty legacy PointCloud.\n",
      "290\n",
      "[Open3D WARNING] Creating from an empty legacy PointCloud.\n",
      "291\n",
      "[Open3D WARNING] Creating from an empty legacy PointCloud.\n",
      "292\n",
      "[Open3D WARNING] Creating from an empty legacy PointCloud.\n",
      "293\n",
      "[Open3D WARNING] Creating from an empty legacy PointCloud.\n",
      "294\n",
      "[Open3D WARNING] Creating from an empty legacy PointCloud.\n",
      "295\n",
      "[Open3D WARNING] Creating from an empty legacy PointCloud.\n",
      "296\n",
      "[Open3D WARNING] Creating from an empty legacy PointCloud.\n",
      "297\n",
      "[Open3D WARNING] Creating from an empty legacy PointCloud.\n",
      "298\n",
      "[Open3D WARNING] Creating from an empty legacy PointCloud.\n",
      "299\n",
      "[Open3D WARNING] Creating from an empty legacy PointCloud.\n",
      "300\n",
      "[Open3D WARNING] Creating from an empty legacy PointCloud.\n",
      "301\n"
     ]
    }
   ],
   "source": [
    "data = []\n",
    "for i in range(1000):\n",
    "    try:\n",
    "        t.get_motion(d.compute_pcd(True))\n",
    "        data.append(np.concatenate(([d.timestamp], Tracker.compute_translation(t.t_guess), \n",
    "                                    Tracker.compute_rotation(t.t_guess))))\n",
    "    except:\n",
    "        print(i)\n",
    "        \n",
    "        "
   ]
  },
  {
   "cell_type": "code",
   "execution_count": 8,
   "id": "9e135ac2",
   "metadata": {},
   "outputs": [
    {
     "name": "stdout",
     "output_type": "stream",
     "text": [
      "Timestamps:1653364520223.93 8100 1653364520093.0332 8053\n"
     ]
    }
   ],
   "source": [
    "for i in range(70):\n",
    "    d.compute_pcd(True)"
   ]
  },
  {
   "cell_type": "code",
   "execution_count": 13,
   "id": "75755834",
   "metadata": {},
   "outputs": [],
   "source": [
    "o3d.visualization.draw_geometries([d.pcd.to_legacy()])"
   ]
  },
  {
   "cell_type": "code",
   "execution_count": 24,
   "id": "a5a98e5a",
   "metadata": {},
   "outputs": [
    {
     "name": "stdout",
     "output_type": "stream",
     "text": [
      "Timestamps:1653364520559.7507 8110 1653364520429.2112 8063\n"
     ]
    },
    {
     "data": {
      "text/plain": [
       "PointCloud on CPU:0 [1843200 points (Float32)].\n",
       "Attributes: colors (dtype = UInt8, shape = {1843200, 3})."
      ]
     },
     "execution_count": 24,
     "metadata": {},
     "output_type": "execute_result"
    }
   ],
   "source": [
    "d.compute_pcd(True)"
   ]
  },
  {
   "cell_type": "code",
   "execution_count": 25,
   "id": "b565cb90",
   "metadata": {},
   "outputs": [
    {
     "data": {
      "text/plain": [
       "[[0.627468 -0.00375678 0.778633 -0.139913],\n",
       " [0.119804 0.988547 -0.0917754 -0.0100821],\n",
       " [-0.76937 0.150869 0.620732 0.0116034],\n",
       " [0.0 0.0 0.0 1.0]]\n",
       "Tensor[shape={4, 4}, stride={4, 1}, Float64, CPU:0, 0x1b12c90a010]"
      ]
     },
     "execution_count": 25,
     "metadata": {},
     "output_type": "execute_result"
    }
   ],
   "source": [
    "t.get_motion(d.pcd)"
   ]
  },
  {
   "cell_type": "code",
   "execution_count": 26,
   "id": "7440054f",
   "metadata": {},
   "outputs": [],
   "source": [
    "box = o3d.geometry.OrientedBoundingBox.create_from_axis_aligned_bounding_box(t._box.to_legacy())\n",
    "# Commented out as transform is not yet implemented.\n",
    "# box.transform(self._t_guess.numpy())\n",
    "box.rotate(t._t_guess.numpy()[0:3].T[0:3].T)\n",
    "box.translate(t._t_guess.numpy().T[-1][0:3])\n",
    "source = o3d.t.geometry.PointCloud.from_legacy(d.pcd.to_legacy().crop(box))"
   ]
  },
  {
   "cell_type": "code",
   "execution_count": 27,
   "id": "85f844d4",
   "metadata": {},
   "outputs": [],
   "source": [
    "o3d.visualization.draw_geometries([source.to_legacy()])"
   ]
  },
  {
   "cell_type": "code",
   "execution_count": null,
   "id": "e5cff4a5",
   "metadata": {},
   "outputs": [],
   "source": []
  }
 ],
 "metadata": {
  "kernelspec": {
   "display_name": "SpyGRT",
   "language": "python",
   "name": "spygrt"
  },
  "language_info": {
   "codemirror_mode": {
    "name": "ipython",
    "version": 3
   },
   "file_extension": ".py",
   "mimetype": "text/x-python",
   "name": "python",
   "nbconvert_exporter": "python",
   "pygments_lexer": "ipython3",
   "version": "3.9.16"
  }
 },
 "nbformat": 4,
 "nbformat_minor": 5
}
