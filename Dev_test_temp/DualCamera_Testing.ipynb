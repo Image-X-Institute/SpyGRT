{
 "cells": [
  {
   "cell_type": "code",
   "execution_count": 1,
   "id": "ab50d8e3",
   "metadata": {},
   "outputs": [],
   "source": [
    "from spygrt.stream import Camera, DualCamera\n",
    "from spygrt.tracker import Tracker\n",
    "from spygrt.calibration import Calibrator\n",
    "import open3d as o3d\n",
    "import numpy as np\n",
    "import pyrealsense2 as rs2"
   ]
  },
  {
   "cell_type": "code",
   "execution_count": 8,
   "id": "af79957b",
   "metadata": {},
<<<<<<< Updated upstream
   "outputs": [],
=======
   "outputs": [
    {
     "name": "stdout",
     "output_type": "stream",
     "text": [
      "-0.5252683162689209\n",
      "-0.4446125030517578\n"
     ]
    }
   ],
>>>>>>> Stashed changes
   "source": [
    "cam = []\n",
    "ctx = rs2.context()\n",
    "for dev in ctx.query_devices():\n",
    "    cam.append(Camera(dev))"
   ]
  },
  {
   "cell_type": "code",
   "execution_count": 9,
   "id": "dbed025d",
   "metadata": {},
   "outputs": [],
   "source": [
    "d = DualCamera(cam[0],cam[1])"
   ]
  },
  {
   "cell_type": "code",
<<<<<<< Updated upstream
   "execution_count": 10,
   "id": "6ffb0ddd",
=======
   "execution_count": 4,
   "id": "0840cb1b",
>>>>>>> Stashed changes
   "metadata": {},
   "outputs": [],
   "source": [
    "d.start_stream()"
   ]
  },
  {
   "cell_type": "code",
   "execution_count": 11,
   "id": "1329a7f5",
   "metadata": {},
   "outputs": [
    {
     "data": {
      "text/plain": [
       "((<pyrealsense2.frame Z16 #1864 @1682924536468.011719>,\n",
       "  <pyrealsense2.frame RGB8 #1897 @1682924536468.348877>),\n",
       " (<pyrealsense2.frame Z16 #1875 @1682924536451.921143>,\n",
       "  <pyrealsense2.frame RGB8 #1877 @1682924536452.258301>))"
      ]
     },
     "execution_count": 11,
     "metadata": {},
     "output_type": "execute_result"
    }
   ],
   "source": [
    "d.get_frames()"
   ]
  },
  {
   "cell_type": "code",
   "execution_count": 12,
   "id": "5bda2b3f",
   "metadata": {},
   "outputs": [
    {
     "data": {
      "text/plain": [
       "1682924536459.9663"
      ]
     },
     "execution_count": 12,
     "metadata": {},
     "output_type": "execute_result"
    }
   ],
   "source": [
    "d.timestamp"
   ]
  },
  {
   "cell_type": "code",
   "execution_count": 13,
   "id": "e411e5a2",
   "metadata": {},
   "outputs": [
    {
     "data": {
      "text/plain": [
       "PointCloud on CUDA:0 [1843200 points (Float32)].\n",
       "Attributes: colors (dtype = UInt8, shape = {1843200, 3})."
      ]
     },
     "execution_count": 13,
     "metadata": {},
     "output_type": "execute_result"
    }
   ],
   "source": [
    "d.compute_pcd()"
   ]
  },
  {
   "cell_type": "code",
   "execution_count": 14,
   "id": "56fca0eb",
   "metadata": {},
   "outputs": [
    {
     "data": {
      "text/plain": [
       "(array([[-0.75023073,  0.47146061, -0.51771986,  0.39977682],\n",
       "        [ 0.69985676,  0.52932656, -0.5321362 ,  0.42830384],\n",
       "        [ 0.02256957, -0.74208724, -0.70848596,  0.49742207],\n",
       "        [ 0.        ,  0.        ,  0.        ,  1.        ]]),\n",
       " array([[-0.78175622, -0.49430156,  0.47189036, -0.43175048],\n",
       "        [-0.67748666,  0.4665783 , -0.63361961,  0.4585802 ],\n",
       "        [ 0.08959016, -0.78493822, -0.67379743,  0.50959456],\n",
       "        [ 0.        ,  0.        ,  0.        ,  1.        ]]))"
      ]
     },
     "execution_count": 14,
     "metadata": {},
     "output_type": "execute_result"
    }
   ],
   "source": [
    "d.pose"
   ]
  },
  {
   "cell_type": "code",
<<<<<<< Updated upstream
   "execution_count": 15,
   "id": "bcd6903e",
=======
   "execution_count": 5,
   "id": "82833c03",
>>>>>>> Stashed changes
   "metadata": {},
   "outputs": [],
   "source": [
    "calibs = (Calibrator(d.stream1), Calibrator(d.stream2))"
   ]
  },
  {
   "cell_type": "code",
<<<<<<< Updated upstream
   "execution_count": 16,
   "id": "0814fad7",
=======
   "execution_count": 6,
   "id": "9d1c6f31",
>>>>>>> Stashed changes
   "metadata": {},
   "outputs": [
    {
     "ename": "AttributeError",
     "evalue": "'Camera' object has no attribute '_threshold_filter'",
     "output_type": "error",
     "traceback": [
      "\u001b[1;31m---------------------------------------------------------------------------\u001b[0m",
      "\u001b[1;31mAttributeError\u001b[0m                            Traceback (most recent call last)",
      "Cell \u001b[1;32mIn[6], line 2\u001b[0m\n\u001b[0;32m      1\u001b[0m \u001b[38;5;28;01mfor\u001b[39;00m cal \u001b[38;5;129;01min\u001b[39;00m calibs:\n\u001b[1;32m----> 2\u001b[0m     cal\u001b[38;5;241m.\u001b[39m_pose \u001b[38;5;241m=\u001b[39m o3d\u001b[38;5;241m.\u001b[39mcore\u001b[38;5;241m.\u001b[39mTensor(np\u001b[38;5;241m.\u001b[39midentity(\u001b[38;5;241m4\u001b[39m), dtype\u001b[38;5;241m=\u001b[39mo3d\u001b[38;5;241m.\u001b[39mcore\u001b[38;5;241m.\u001b[39mDtype\u001b[38;5;241m.\u001b[39mFloat32,device\u001b[38;5;241m=\u001b[39m\u001b[43mcal\u001b[49m\u001b[38;5;241;43m.\u001b[39;49m\u001b[43m_stream\u001b[49m\u001b[38;5;241;43m.\u001b[39;49m\u001b[43mpcd\u001b[49m\u001b[38;5;241m.\u001b[39mdevice)\n",
      "File \u001b[1;32mc:\\users\\removethemask\\mydocs\\code\\spygrt\\spygrt\\stream.py:232\u001b[0m, in \u001b[0;36mCamera.pcd\u001b[1;34m(self)\u001b[0m\n\u001b[0;32m    226\u001b[0m \u001b[38;5;124;03m\"\"\"\u001b[39;00m\n\u001b[0;32m    227\u001b[0m \u001b[38;5;124;03mAccess the point cloud form of the current frame.\u001b[39;00m\n\u001b[0;32m    228\u001b[0m \u001b[38;5;124;03mReturns:\u001b[39;00m\n\u001b[0;32m    229\u001b[0m \u001b[38;5;124;03m    pcd: A tensor-based Open3D point cloud object.\u001b[39;00m\n\u001b[0;32m    230\u001b[0m \u001b[38;5;124;03m\"\"\"\u001b[39;00m\n\u001b[0;32m    231\u001b[0m \u001b[38;5;28;01mif\u001b[39;00m \u001b[38;5;28mself\u001b[39m\u001b[38;5;241m.\u001b[39m_pcd\u001b[38;5;241m.\u001b[39mis_empty():\n\u001b[1;32m--> 232\u001b[0m     \u001b[38;5;28;43mself\u001b[39;49m\u001b[38;5;241;43m.\u001b[39;49m\u001b[43mcompute_pcd\u001b[49m\u001b[43m(\u001b[49m\u001b[43m)\u001b[49m\n\u001b[0;32m    233\u001b[0m \u001b[38;5;28;01mreturn\u001b[39;00m \u001b[38;5;28mself\u001b[39m\u001b[38;5;241m.\u001b[39m_pcd\n",
      "File \u001b[1;32mc:\\users\\removethemask\\mydocs\\code\\spygrt\\spygrt\\stream.py:298\u001b[0m, in \u001b[0;36mCamera.compute_pcd\u001b[1;34m(self, new_frame)\u001b[0m\n\u001b[0;32m    295\u001b[0m \u001b[38;5;28;01mif\u001b[39;00m new_frame:\n\u001b[0;32m    296\u001b[0m     \u001b[38;5;28mself\u001b[39m\u001b[38;5;241m.\u001b[39mget_frames(\u001b[38;5;124m'\u001b[39m\u001b[38;5;124mrs\u001b[39m\u001b[38;5;124m'\u001b[39m)\n\u001b[1;32m--> 298\u001b[0m \u001b[38;5;28;01mif\u001b[39;00m \u001b[38;5;28mtype\u001b[39m(\u001b[38;5;28;43mself\u001b[39;49m\u001b[38;5;241;43m.\u001b[39;49m\u001b[43mframe\u001b[49m[\u001b[38;5;241m0\u001b[39m]) \u001b[38;5;241m==\u001b[39m rs2\u001b[38;5;241m.\u001b[39mdepth_frame \u001b[38;5;129;01mor\u001b[39;00m \u001b[38;5;28mtype\u001b[39m(\u001b[38;5;28mself\u001b[39m\u001b[38;5;241m.\u001b[39mframe[\u001b[38;5;241m0\u001b[39m]) \u001b[38;5;241m==\u001b[39m rs2\u001b[38;5;241m.\u001b[39mframe:\n\u001b[0;32m    299\u001b[0m     \u001b[38;5;28mself\u001b[39m\u001b[38;5;241m.\u001b[39m_rs_pc\u001b[38;5;241m.\u001b[39mmap_to(\u001b[38;5;28mself\u001b[39m\u001b[38;5;241m.\u001b[39mframe[\u001b[38;5;241m1\u001b[39m])\n\u001b[0;32m    300\u001b[0m     \u001b[38;5;66;03m# Get the raw point cloud data\u001b[39;00m\n",
      "File \u001b[1;32mc:\\users\\removethemask\\mydocs\\code\\spygrt\\spygrt\\stream.py:203\u001b[0m, in \u001b[0;36mCamera.frame\u001b[1;34m(self)\u001b[0m\n\u001b[0;32m    197\u001b[0m \u001b[38;5;124;03m\"\"\"\u001b[39;00m\n\u001b[0;32m    198\u001b[0m \u001b[38;5;124;03mAccess the last frame.\u001b[39;00m\n\u001b[0;32m    199\u001b[0m \u001b[38;5;124;03mReturns:\u001b[39;00m\n\u001b[0;32m    200\u001b[0m \u001b[38;5;124;03m    frame: A tuple containing the last frame ordered (depth, colour)\u001b[39;00m\n\u001b[0;32m    201\u001b[0m \u001b[38;5;124;03m\"\"\"\u001b[39;00m\n\u001b[0;32m    202\u001b[0m \u001b[38;5;28;01mif\u001b[39;00m \u001b[38;5;28mself\u001b[39m\u001b[38;5;241m.\u001b[39m_frame \u001b[38;5;129;01mis\u001b[39;00m \u001b[38;5;28;01mNone\u001b[39;00m:\n\u001b[1;32m--> 203\u001b[0m     \u001b[38;5;28mself\u001b[39m\u001b[38;5;241m.\u001b[39m_frame \u001b[38;5;241m=\u001b[39m \u001b[38;5;28;43mself\u001b[39;49m\u001b[38;5;241;43m.\u001b[39;49m\u001b[43mget_frames\u001b[49m\u001b[43m(\u001b[49m\u001b[43m)\u001b[49m\n\u001b[0;32m    204\u001b[0m \u001b[38;5;28;01mreturn\u001b[39;00m \u001b[38;5;28mself\u001b[39m\u001b[38;5;241m.\u001b[39m_frame\n",
      "File \u001b[1;32mc:\\users\\removethemask\\mydocs\\code\\spygrt\\spygrt\\stream.py:355\u001b[0m, in \u001b[0;36mCamera.get_frames\u001b[1;34m(self, encoding)\u001b[0m\n\u001b[0;32m    352\u001b[0m rs_color \u001b[38;5;241m=\u001b[39m aligned_frames\u001b[38;5;241m.\u001b[39mget_color_frame()\n\u001b[0;32m    353\u001b[0m \u001b[38;5;66;03m# Computationally intensive depth image filtering\u001b[39;00m\n\u001b[0;32m    354\u001b[0m \u001b[38;5;66;03m# rs_depth = self._spatial_filter.process(rs_depth)\u001b[39;00m\n\u001b[1;32m--> 355\u001b[0m rs_depth \u001b[38;5;241m=\u001b[39m \u001b[38;5;28;43mself\u001b[39;49m\u001b[38;5;241;43m.\u001b[39;49m\u001b[43m_threshold_filter\u001b[49m\u001b[38;5;241m.\u001b[39mprocess(rs_depth)\n\u001b[0;32m    356\u001b[0m \u001b[38;5;28mself\u001b[39m\u001b[38;5;241m.\u001b[39m_timestamp \u001b[38;5;241m=\u001b[39m rs_depth\u001b[38;5;241m.\u001b[39mtimestamp\n\u001b[0;32m    357\u001b[0m \u001b[38;5;28;01mif\u001b[39;00m encoding \u001b[38;5;241m==\u001b[39m \u001b[38;5;124m'\u001b[39m\u001b[38;5;124mo3d\u001b[39m\u001b[38;5;124m'\u001b[39m:\n",
      "\u001b[1;31mAttributeError\u001b[0m: 'Camera' object has no attribute '_threshold_filter'"
     ]
    }
   ],
   "source": [
<<<<<<< Updated upstream
=======
    "for cal in calibs:\n",
    "    cal._pose = o3d.core.Tensor(np.identity(4), dtype=o3d.core.Dtype.Float32,device=cal._stream.pcd.device)"
   ]
  },
  {
   "cell_type": "code",
   "execution_count": 7,
   "id": "12b27881",
   "metadata": {},
   "outputs": [
    {
     "ename": "AttributeError",
     "evalue": "'Camera' object has no attribute '_threshold_filter'",
     "output_type": "error",
     "traceback": [
      "\u001b[1;31m---------------------------------------------------------------------------\u001b[0m",
      "\u001b[1;31mAttributeError\u001b[0m                            Traceback (most recent call last)",
      "Cell \u001b[1;32mIn[7], line 4\u001b[0m\n\u001b[0;32m      2\u001b[0m     cal\u001b[38;5;241m.\u001b[39mcorners\u001b[38;5;241m=\u001b[39m[]\n\u001b[0;32m      3\u001b[0m \u001b[38;5;28;01mfor\u001b[39;00m i \u001b[38;5;129;01min\u001b[39;00m \u001b[38;5;28mrange\u001b[39m (\u001b[38;5;241m100\u001b[39m):\n\u001b[1;32m----> 4\u001b[0m     \u001b[43md\u001b[49m\u001b[38;5;241;43m.\u001b[39;49m\u001b[43mget_frames\u001b[49m\u001b[43m(\u001b[49m\u001b[38;5;124;43m'\u001b[39;49m\u001b[38;5;124;43mo3d\u001b[39;49m\u001b[38;5;124;43m'\u001b[39;49m\u001b[43m)\u001b[49m\n\u001b[0;32m      5\u001b[0m     calibs[\u001b[38;5;241m0\u001b[39m]\u001b[38;5;241m.\u001b[39mfind_corners3d()\n\u001b[0;32m      6\u001b[0m     calibs[\u001b[38;5;241m1\u001b[39m]\u001b[38;5;241m.\u001b[39mfind_corners3d()\n",
      "File \u001b[1;32mc:\\users\\removethemask\\mydocs\\code\\spygrt\\spygrt\\stream.py:1230\u001b[0m, in \u001b[0;36mDualCamera.get_frames\u001b[1;34m(self, encoding)\u001b[0m\n\u001b[0;32m   1224\u001b[0m \u001b[38;5;124;03m\"\"\"\u001b[39;00m\n\u001b[0;32m   1225\u001b[0m \u001b[38;5;124;03m    Fetch new frame and ensure temporal alignment.\u001b[39;00m\n\u001b[0;32m   1226\u001b[0m \u001b[38;5;124;03mReturns:\u001b[39;00m\n\u001b[0;32m   1227\u001b[0m \u001b[38;5;124;03m    frame:Tuple containing two sets of (depth,colour) frames, 1 for each stream.\u001b[39;00m\n\u001b[0;32m   1228\u001b[0m \u001b[38;5;124;03m\"\"\"\u001b[39;00m\n\u001b[0;32m   1229\u001b[0m \u001b[38;5;66;03m# Getting new frames with a call  to the cameras.\u001b[39;00m\n\u001b[1;32m-> 1230\u001b[0m f1 \u001b[38;5;241m=\u001b[39m \u001b[38;5;28;43mself\u001b[39;49m\u001b[38;5;241;43m.\u001b[39;49m\u001b[43m_stream1\u001b[49m\u001b[38;5;241;43m.\u001b[39;49m\u001b[43mget_frames\u001b[49m\u001b[43m(\u001b[49m\u001b[43mencoding\u001b[49m\u001b[38;5;241;43m=\u001b[39;49m\u001b[43mencoding\u001b[49m\u001b[43m)\u001b[49m\n\u001b[0;32m   1231\u001b[0m f2 \u001b[38;5;241m=\u001b[39m \u001b[38;5;28mself\u001b[39m\u001b[38;5;241m.\u001b[39m_stream2\u001b[38;5;241m.\u001b[39mget_frames(encoding\u001b[38;5;241m=\u001b[39mencoding)\n\u001b[0;32m   1233\u001b[0m \u001b[38;5;66;03m# There should be no delays for Cameras, so this section may be obsolete:\u001b[39;00m\n\u001b[0;32m   1234\u001b[0m \n\u001b[0;32m   1235\u001b[0m \u001b[38;5;66;03m# # Get the delay between the depth frames of each camera\u001b[39;00m\n\u001b[1;32m   (...)\u001b[0m\n\u001b[0;32m   1250\u001b[0m \u001b[38;5;66;03m#         diff = f2[0].timestamp - f1[0].timestamp\u001b[39;00m\n\u001b[0;32m   1251\u001b[0m \u001b[38;5;66;03m#         continue\u001b[39;00m\n",
      "File \u001b[1;32mc:\\users\\removethemask\\mydocs\\code\\spygrt\\spygrt\\stream.py:355\u001b[0m, in \u001b[0;36mCamera.get_frames\u001b[1;34m(self, encoding)\u001b[0m\n\u001b[0;32m    352\u001b[0m rs_color \u001b[38;5;241m=\u001b[39m aligned_frames\u001b[38;5;241m.\u001b[39mget_color_frame()\n\u001b[0;32m    353\u001b[0m \u001b[38;5;66;03m# Computationally intensive depth image filtering\u001b[39;00m\n\u001b[0;32m    354\u001b[0m \u001b[38;5;66;03m# rs_depth = self._spatial_filter.process(rs_depth)\u001b[39;00m\n\u001b[1;32m--> 355\u001b[0m rs_depth \u001b[38;5;241m=\u001b[39m \u001b[38;5;28;43mself\u001b[39;49m\u001b[38;5;241;43m.\u001b[39;49m\u001b[43m_threshold_filter\u001b[49m\u001b[38;5;241m.\u001b[39mprocess(rs_depth)\n\u001b[0;32m    356\u001b[0m \u001b[38;5;28mself\u001b[39m\u001b[38;5;241m.\u001b[39m_timestamp \u001b[38;5;241m=\u001b[39m rs_depth\u001b[38;5;241m.\u001b[39mtimestamp\n\u001b[0;32m    357\u001b[0m \u001b[38;5;28;01mif\u001b[39;00m encoding \u001b[38;5;241m==\u001b[39m \u001b[38;5;124m'\u001b[39m\u001b[38;5;124mo3d\u001b[39m\u001b[38;5;124m'\u001b[39m:\n",
      "\u001b[1;31mAttributeError\u001b[0m: 'Camera' object has no attribute '_threshold_filter'"
     ]
    }
   ],
   "source": [
    "for cal in calibs:\n",
    "    cal.corners=[]\n",
>>>>>>> Stashed changes
    "for i in range (100):\n",
    "    calibs[0].find_corners3d(d.stream1.get_frames('rs'))\n",
    "    calibs[1].find_corners3d(d.stream2.get_frames('rs'))"
   ]
  },
  {
   "cell_type": "code",
   "execution_count": 17,
   "id": "c4d27761",
   "metadata": {},
   "outputs": [],
   "source": [
    "calibs[0].corners_scale()\n",
    "calibs[1].corners_scale()\n",
    "calibs[0].align_cameras(calibs[1])\n",
    "calibs[1].align_to_board(cal2 = calibs[0])"
   ]
  },
  {
   "cell_type": "code",
   "execution_count": 20,
   "id": "213f9a52",
   "metadata": {},
   "outputs": [],
   "source": [
    "for cal in calibs:\n",
    "    cal.write_cal()"
   ]
  },
  {
   "cell_type": "code",
   "execution_count": 23,
   "id": "a594a6f4",
   "metadata": {},
   "outputs": [
    {
     "data": {
      "text/plain": [
       "(array([[ 0.81737643,  0.29225767, -0.49464679,  0.38554969],\n",
       "        [ 0.57185096, -0.49688792,  0.65137011, -0.57059616],\n",
       "        [-0.05546623, -0.8160159 , -0.57379061,  0.49654818],\n",
       "        [ 0.        ,  0.        ,  0.        ,  1.        ]]),\n",
       " array([[ 0.87549871, -0.32919836,  0.37581861, -0.41491762],\n",
       "        [-0.49947402, -0.59447068,  0.64283699, -0.58003139],\n",
       "        [ 0.01169839, -0.74454159, -0.6794337 ,  0.48179466],\n",
       "        [ 0.        ,  0.        ,  0.        ,  1.        ]]))"
      ]
     },
     "execution_count": 23,
     "metadata": {},
     "output_type": "execute_result"
    }
   ],
   "source": [
    "d.load_calibration()"
   ]
  },
  {
   "cell_type": "code",
   "execution_count": 22,
   "id": "9d18d831",
   "metadata": {},
   "outputs": [
    {
     "data": {
      "text/plain": [
       "array([[ 0.87549871, -0.32919836,  0.37581861, -0.41491762],\n",
       "       [-0.49947402, -0.59447068,  0.64283699, -0.58003139],\n",
       "       [ 0.01169839, -0.74454159, -0.6794337 ,  0.48179466],\n",
       "       [ 0.        ,  0.        ,  0.        ,  1.        ]])"
      ]
     },
     "execution_count": 22,
     "metadata": {},
     "output_type": "execute_result"
    }
   ],
   "source": [
    "d.stream1.load_calibration()\n",
    "d.stream2.load_calibration()"
   ]
  },
  {
   "cell_type": "code",
   "execution_count": 24,
   "id": "ad4aac88",
   "metadata": {},
   "outputs": [],
   "source": [
    "pcd = d.compute_pcd()"
   ]
  },
  {
   "cell_type": "code",
   "execution_count": 25,
   "id": "435cf16c",
   "metadata": {},
   "outputs": [],
   "source": [
    "o3d.visualization.draw_geometries([pcd.to_legacy()])"
   ]
  },
  {
   "cell_type": "code",
   "execution_count": 28,
   "id": "12235849",
   "metadata": {},
   "outputs": [
    {
     "data": {
      "text/plain": [
       "999"
      ]
     },
     "execution_count": 28,
     "metadata": {},
     "output_type": "execute_result"
    }
   ],
   "source": []
  },
  {
   "cell_type": "code",
   "execution_count": null,
   "id": "58e7e652",
   "metadata": {},
   "outputs": [],
   "source": []
  }
 ],
 "metadata": {
  "kernelspec": {
   "display_name": "SpyGRT",
   "language": "python",
   "name": "spygrt"
  },
  "language_info": {
   "codemirror_mode": {
    "name": "ipython",
    "version": 3
   },
   "file_extension": ".py",
   "mimetype": "text/x-python",
   "name": "python",
   "nbconvert_exporter": "python",
   "pygments_lexer": "ipython3",
   "version": "3.10.10"
  }
 },
 "nbformat": 4,
 "nbformat_minor": 5
}
