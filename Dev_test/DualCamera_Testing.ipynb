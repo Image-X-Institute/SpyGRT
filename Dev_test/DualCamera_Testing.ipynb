{
 "cells": [
  {
   "cell_type": "code",
   "execution_count": 1,
   "id": "ab50d8e3",
   "metadata": {},
   "outputs": [],
   "source": [
    "from spygrt.stream import Camera, DualCamera\n",
    "from spygrt.tracker import Tracker\n",
    "from spygrt.calibration import Calibrator\n",
    "import open3d as o3d\n",
    "import numpy as np\n",
    "import pyrealsense2 as rs2"
   ]
  },
  {
   "cell_type": "code",
   "execution_count": 8,
   "id": "af79957b",
   "metadata": {},
   "outputs": [],
   "source": [
    "cam = []\n",
    "ctx = rs2.context()\n",
    "for dev in ctx.query_devices():\n",
    "    cam.append(Camera(dev))"
   ]
  },
  {
   "cell_type": "code",
   "execution_count": 9,
   "id": "dbed025d",
   "metadata": {},
   "outputs": [],
   "source": [
    "d = DualCamera(cam[0],cam[1])"
   ]
  },
  {
   "cell_type": "code",
   "execution_count": 10,
   "id": "6ffb0ddd",
   "metadata": {},
   "outputs": [],
   "source": [
    "d.start_stream()"
   ]
  },
  {
   "cell_type": "code",
   "execution_count": 11,
   "id": "1329a7f5",
   "metadata": {},
   "outputs": [
    {
     "data": {
      "text/plain": [
       "((<pyrealsense2.frame Z16 #1864 @1682924536468.011719>,\n",
       "  <pyrealsense2.frame RGB8 #1897 @1682924536468.348877>),\n",
       " (<pyrealsense2.frame Z16 #1875 @1682924536451.921143>,\n",
       "  <pyrealsense2.frame RGB8 #1877 @1682924536452.258301>))"
      ]
     },
     "execution_count": 11,
     "metadata": {},
     "output_type": "execute_result"
    }
   ],
   "source": [
    "d.get_frames()"
   ]
  },
  {
   "cell_type": "code",
   "execution_count": 12,
   "id": "5bda2b3f",
   "metadata": {},
   "outputs": [
    {
     "data": {
      "text/plain": [
       "1682924536459.9663"
      ]
     },
     "execution_count": 12,
     "metadata": {},
     "output_type": "execute_result"
    }
   ],
   "source": [
    "d.timestamp"
   ]
  },
  {
   "cell_type": "code",
   "execution_count": 13,
   "id": "e411e5a2",
   "metadata": {},
   "outputs": [
    {
     "data": {
      "text/plain": [
       "PointCloud on CUDA:0 [1843200 points (Float32)].\n",
       "Attributes: colors (dtype = UInt8, shape = {1843200, 3})."
      ]
     },
     "execution_count": 13,
     "metadata": {},
     "output_type": "execute_result"
    }
   ],
   "source": [
    "d.compute_pcd()"
   ]
  },
  {
   "cell_type": "code",
   "execution_count": 14,
   "id": "56fca0eb",
   "metadata": {},
   "outputs": [
    {
     "data": {
      "text/plain": [
       "(array([[-0.75023073,  0.47146061, -0.51771986,  0.39977682],\n",
       "        [ 0.69985676,  0.52932656, -0.5321362 ,  0.42830384],\n",
       "        [ 0.02256957, -0.74208724, -0.70848596,  0.49742207],\n",
       "        [ 0.        ,  0.        ,  0.        ,  1.        ]]),\n",
       " array([[-0.78175622, -0.49430156,  0.47189036, -0.43175048],\n",
       "        [-0.67748666,  0.4665783 , -0.63361961,  0.4585802 ],\n",
       "        [ 0.08959016, -0.78493822, -0.67379743,  0.50959456],\n",
       "        [ 0.        ,  0.        ,  0.        ,  1.        ]]))"
      ]
     },
     "execution_count": 14,
     "metadata": {},
     "output_type": "execute_result"
    }
   ],
   "source": [
    "d.pose"
   ]
  },
  {
   "cell_type": "code",
   "execution_count": 15,
   "id": "bcd6903e",
   "metadata": {},
   "outputs": [],
   "source": [
    "calibs = (Calibrator(d.stream1), Calibrator(d.stream2))"
   ]
  },
  {
   "cell_type": "code",
   "execution_count": 16,
   "id": "0814fad7",
   "metadata": {},
   "outputs": [],
   "source": [
    "for i in range (100):\n",
    "    calibs[0].find_corners3d(d.stream1.get_frames('rs'))\n",
    "    calibs[1].find_corners3d(d.stream2.get_frames('rs'))"
   ]
  },
  {
   "cell_type": "code",
   "execution_count": 17,
   "id": "c4d27761",
   "metadata": {},
   "outputs": [],
   "source": [
    "calibs[0].corners_scale()\n",
    "calibs[1].corners_scale()\n",
    "calibs[0].align_cameras(calibs[1])\n",
    "calibs[1].align_to_board(cal2 = calibs[0])"
   ]
  },
  {
   "cell_type": "code",
   "execution_count": 20,
   "id": "213f9a52",
   "metadata": {},
   "outputs": [],
   "source": [
    "for cal in calibs:\n",
    "    cal.write_cal()"
   ]
  },
  {
   "cell_type": "code",
   "execution_count": 23,
   "id": "a594a6f4",
   "metadata": {},
   "outputs": [
    {
     "data": {
      "text/plain": [
       "(array([[ 0.81737643,  0.29225767, -0.49464679,  0.38554969],\n",
       "        [ 0.57185096, -0.49688792,  0.65137011, -0.57059616],\n",
       "        [-0.05546623, -0.8160159 , -0.57379061,  0.49654818],\n",
       "        [ 0.        ,  0.        ,  0.        ,  1.        ]]),\n",
       " array([[ 0.87549871, -0.32919836,  0.37581861, -0.41491762],\n",
       "        [-0.49947402, -0.59447068,  0.64283699, -0.58003139],\n",
       "        [ 0.01169839, -0.74454159, -0.6794337 ,  0.48179466],\n",
       "        [ 0.        ,  0.        ,  0.        ,  1.        ]]))"
      ]
     },
     "execution_count": 23,
     "metadata": {},
     "output_type": "execute_result"
    }
   ],
   "source": [
    "d.load_calibration()"
   ]
  },
  {
   "cell_type": "code",
   "execution_count": 22,
   "id": "9d18d831",
   "metadata": {},
   "outputs": [
    {
     "data": {
      "text/plain": [
       "array([[ 0.87549871, -0.32919836,  0.37581861, -0.41491762],\n",
       "       [-0.49947402, -0.59447068,  0.64283699, -0.58003139],\n",
       "       [ 0.01169839, -0.74454159, -0.6794337 ,  0.48179466],\n",
       "       [ 0.        ,  0.        ,  0.        ,  1.        ]])"
      ]
     },
     "execution_count": 22,
     "metadata": {},
     "output_type": "execute_result"
    }
   ],
   "source": [
    "d.stream1.load_calibration()\n",
    "d.stream2.load_calibration()"
   ]
  },
  {
   "cell_type": "code",
   "execution_count": 24,
   "id": "ad4aac88",
   "metadata": {},
   "outputs": [],
   "source": [
    "pcd = d.compute_pcd()"
   ]
  },
  {
   "cell_type": "code",
   "execution_count": 25,
   "id": "435cf16c",
   "metadata": {},
   "outputs": [],
   "source": [
    "o3d.visualization.draw_geometries([pcd.to_legacy()])"
   ]
  },
  {
   "cell_type": "code",
   "execution_count": 28,
   "id": "12235849",
   "metadata": {},
   "outputs": [
    {
     "data": {
      "text/plain": [
       "999"
      ]
     },
     "execution_count": 28,
     "metadata": {},
     "output_type": "execute_result"
    }
   ],
   "source": []
  },
  {
   "cell_type": "code",
   "execution_count": null,
   "id": "58e7e652",
   "metadata": {},
   "outputs": [],
   "source": []
  }
 ],
 "metadata": {
  "kernelspec": {
   "display_name": "SpyGRT",
   "language": "python",
   "name": "spygrt"
  },
  "language_info": {
   "codemirror_mode": {
    "name": "ipython",
    "version": 3
   },
   "file_extension": ".py",
   "mimetype": "text/x-python",
   "name": "python",
   "nbconvert_exporter": "python",
   "pygments_lexer": "ipython3",
   "version": "3.10.10"
  }
 },
 "nbformat": 4,
 "nbformat_minor": 5
}
