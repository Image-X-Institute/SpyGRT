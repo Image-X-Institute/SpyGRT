{
 "cells": [
  {
   "cell_type": "code",
   "execution_count": 2,
   "id": "9c9ce07f",
   "metadata": {},
   "outputs": [
    {
     "ename": "NoMoreFrames",
     "evalue": "Reached the end of the stream",
     "output_type": "error",
     "traceback": [
      "\u001b[1;31m---------------------------------------------------------------------------\u001b[0m",
      "\u001b[1;31mNoMoreFrames\u001b[0m                              Traceback (most recent call last)",
      "\u001b[1;32m<ipython-input-2-c6b11a057e87>\u001b[0m in \u001b[0;36m<module>\u001b[1;34m\u001b[0m\n\u001b[0;32m     20\u001b[0m \u001b[0md\u001b[0m \u001b[1;33m=\u001b[0m \u001b[0mDualRecording\u001b[0m\u001b[1;33m(\u001b[0m\u001b[0mrec1\u001b[0m\u001b[1;33m,\u001b[0m\u001b[0mrec2\u001b[0m\u001b[1;33m)\u001b[0m\u001b[1;33m\u001b[0m\u001b[1;33m\u001b[0m\u001b[0m\n\u001b[0;32m     21\u001b[0m \u001b[0md\u001b[0m\u001b[1;33m.\u001b[0m\u001b[0mstart_stream\u001b[0m\u001b[1;33m(\u001b[0m\u001b[1;33m)\u001b[0m\u001b[1;33m\u001b[0m\u001b[1;33m\u001b[0m\u001b[0m\n\u001b[1;32m---> 22\u001b[1;33m \u001b[0md\u001b[0m\u001b[1;33m.\u001b[0m\u001b[0mget_frames\u001b[0m\u001b[1;33m(\u001b[0m\u001b[1;33m)\u001b[0m\u001b[1;33m\u001b[0m\u001b[1;33m\u001b[0m\u001b[0m\n\u001b[0m\u001b[0;32m     23\u001b[0m \u001b[1;33m\u001b[0m\u001b[0m\n\u001b[0;32m     24\u001b[0m \u001b[0mt\u001b[0m \u001b[1;33m=\u001b[0m \u001b[0mTracker\u001b[0m\u001b[1;33m(\u001b[0m\u001b[0mref_surface\u001b[0m\u001b[1;33m=\u001b[0m\u001b[0md\u001b[0m\u001b[1;33m.\u001b[0m\u001b[0mpcd\u001b[0m\u001b[1;33m)\u001b[0m\u001b[1;33m\u001b[0m\u001b[1;33m\u001b[0m\u001b[0m\n",
      "\u001b[1;32mc:\\users\\yben4607\\clean\\code\\spygrt\\spygrt\\stream.py\u001b[0m in \u001b[0;36mget_frames\u001b[1;34m(self)\u001b[0m\n\u001b[0;32m    890\u001b[0m         \u001b[1;31m# Getting new frames with a call  to the cameras.\u001b[0m\u001b[1;33m\u001b[0m\u001b[1;33m\u001b[0m\u001b[1;33m\u001b[0m\u001b[0m\n\u001b[0;32m    891\u001b[0m         \u001b[0mf1\u001b[0m \u001b[1;33m=\u001b[0m \u001b[0mself\u001b[0m\u001b[1;33m.\u001b[0m\u001b[0m_stream1\u001b[0m\u001b[1;33m.\u001b[0m\u001b[0mget_frames\u001b[0m\u001b[1;33m(\u001b[0m\u001b[0mencoding\u001b[0m\u001b[1;33m=\u001b[0m\u001b[1;34m'rs'\u001b[0m\u001b[1;33m)\u001b[0m\u001b[1;33m\u001b[0m\u001b[1;33m\u001b[0m\u001b[0m\n\u001b[1;32m--> 892\u001b[1;33m         \u001b[0mf2\u001b[0m \u001b[1;33m=\u001b[0m \u001b[0mself\u001b[0m\u001b[1;33m.\u001b[0m\u001b[0m_stream2\u001b[0m\u001b[1;33m.\u001b[0m\u001b[0mget_frames\u001b[0m\u001b[1;33m(\u001b[0m\u001b[0mencoding\u001b[0m\u001b[1;33m=\u001b[0m\u001b[1;34m'rs'\u001b[0m\u001b[1;33m)\u001b[0m\u001b[1;33m\u001b[0m\u001b[1;33m\u001b[0m\u001b[0m\n\u001b[0m\u001b[0;32m    893\u001b[0m \u001b[1;33m\u001b[0m\u001b[0m\n\u001b[0;32m    894\u001b[0m         \u001b[1;31m# Get the delay between the depth frames of each camera\u001b[0m\u001b[1;33m\u001b[0m\u001b[1;33m\u001b[0m\u001b[1;33m\u001b[0m\u001b[0m\n",
      "\u001b[1;32mc:\\users\\yben4607\\clean\\code\\spygrt\\spygrt\\stream.py\u001b[0m in \u001b[0;36mget_frames\u001b[1;34m(self, encoding)\u001b[0m\n\u001b[0;32m    551\u001b[0m \u001b[1;33m\u001b[0m\u001b[0m\n\u001b[0;32m    552\u001b[0m                 \u001b[1;31m# If the above statement doesn't raise an exception, assume we reached the end of the file.\u001b[0m\u001b[1;33m\u001b[0m\u001b[1;33m\u001b[0m\u001b[1;33m\u001b[0m\u001b[0m\n\u001b[1;32m--> 553\u001b[1;33m                 \u001b[1;32mraise\u001b[0m \u001b[0mNoMoreFrames\u001b[0m\u001b[1;33m(\u001b[0m\u001b[1;34m\"Reached the end of the stream\"\u001b[0m\u001b[1;33m)\u001b[0m\u001b[1;33m\u001b[0m\u001b[1;33m\u001b[0m\u001b[0m\n\u001b[0m\u001b[0;32m    554\u001b[0m         \u001b[1;32mexcept\u001b[0m \u001b[0mAttributeError\u001b[0m\u001b[1;33m:\u001b[0m\u001b[1;33m\u001b[0m\u001b[1;33m\u001b[0m\u001b[0m\n\u001b[0;32m    555\u001b[0m             \u001b[1;32mpass\u001b[0m\u001b[1;33m\u001b[0m\u001b[1;33m\u001b[0m\u001b[0m\n",
      "\u001b[1;31mNoMoreFrames\u001b[0m: Reached the end of the stream"
     ]
    }
   ],
   "source": [
    "import cv2 as cv\n",
    "import pyrealsense2 as rs2\n",
    "import open3d as o3d\n",
    "import numpy as np\n",
    "import time\n",
    "\n",
    "import matplotlib.pyplot as plt\n",
    "from spygrt.stream import Recording, NoMoreFrames, DualRecording\n",
    "from spygrt.tracker import Tracker\n",
    "#rec1 = Recording('C:/Users/yben4607/clean/ResearchData/VISION/Youssef_Test/Recording_Session/121622061907_2022May24015518.bag')\n",
    "#rec2 = Recording('C:/Users/yben4607/clean/ResearchData/VISION/Youssef_Test/Recording_Session/123122061443_2022May24015518.bag')\n",
    "#rec1.load_calibration('C:/Users/yben4607/clean/ResearchData/VISION/Youssef_Test/RS_Calibration/121622061907_cal.txt')\n",
    "#rec2.load_calibration('C:/Users/yben4607/clean/ResearchData/VISION/Youssef_Test/RS_Calibration/123122061443_cal.txt')\n",
    "rec1 = Recording('V:/VISION_Data/129/temp/121622061907_2023Feb13022044.bag')\n",
    "rec2 = Recording('V:/VISION_Data/129/temp/123122061443_2023Feb13022044.bag')\n",
    "rec1.load_calibration('121622061907_cal.txt')\n",
    "rec2.load_calibration('123122061443_cal.txt')\n",
    "\n",
    "\n",
    "d = DualRecording(rec1,rec2)\n",
    "d.start_stream()\n",
    "d.get_frames()\n",
    "\n",
    "t = Tracker(ref_surface=d.pcd)\n"
   ]
  },
  {
   "cell_type": "code",
   "execution_count": 5,
   "id": "4ccdeb4f",
   "metadata": {},
   "outputs": [],
   "source": [
    "o3d.visualization.draw_geometries([t.ref_surface.to_legacy()])"
   ]
  },
  {
   "cell_type": "code",
   "execution_count": 2,
   "id": "1ba36142",
   "metadata": {},
   "outputs": [],
   "source": [
    "from datetime import timedelta\n",
    "delta = timedelta(seconds=70)\n",
    "d.stream1.seek(delta)\n",
    "d.stream2.seek(delta)"
   ]
  },
  {
   "cell_type": "code",
   "execution_count": 7,
   "id": "1a59eb0d",
   "metadata": {},
   "outputs": [],
   "source": [
    "p1 = [0.3,0.3,0.3]\n",
    "p2 = [-0.3,-0.3,0.2]\n",
    "midz = np.mean([p1[2], p2[2]])\n",
    "lower = [np.min([p1[0], p2[0]]), np.min([p1[1], p2[1]]), midz - 0.02]"
   ]
  },
  {
   "cell_type": "code",
   "execution_count": 8,
   "id": "9671e7a2",
   "metadata": {},
   "outputs": [
    {
     "data": {
      "text/plain": [
       "[-0.3, -0.3, 0.23]"
      ]
     },
     "execution_count": 8,
     "metadata": {},
     "output_type": "execute_result"
    }
   ],
   "source": [
    " lower"
   ]
  },
  {
   "cell_type": "code",
   "execution_count": 10,
   "id": "21aa44a2",
   "metadata": {},
   "outputs": [
    {
     "data": {
      "text/plain": [
       "numpy.float32"
      ]
     },
     "execution_count": 10,
     "metadata": {},
     "output_type": "execute_result"
    }
   ],
   "source": [
    "type(d.pcd.point['positions'].numpy()[0][0])"
   ]
  },
  {
   "cell_type": "code",
   "execution_count": 5,
   "id": "8ec86518",
   "metadata": {},
   "outputs": [
    {
     "data": {
      "text/plain": [
       "[[0.999995 -0.000287926 -0.00316072 0.000480056],\n",
       " [0.000288454 1.0 0.000166551 6.4272e-05],\n",
       " [0.00316067 -0.000167462 0.999995 -3.49351e-05],\n",
       " [0.0 0.0 0.0 1.0]]\n",
       "Tensor[shape={4, 4}, stride={4, 1}, Float64, CPU:0, 0x1de12c37ef0]"
      ]
     },
     "execution_count": 5,
     "metadata": {},
     "output_type": "execute_result"
    }
   ],
   "source": [
    "t.get_motion(d.compute_pcd(True))"
   ]
  },
  {
   "cell_type": "code",
   "execution_count": 7,
   "id": "bfb2bcb7",
   "metadata": {},
   "outputs": [],
   "source": [
    "a=d.compute_pcd(True)"
   ]
  },
  {
   "cell_type": "code",
   "execution_count": 10,
   "id": "90444aea",
   "metadata": {},
   "outputs": [
    {
     "data": {
      "text/plain": [
       "True"
      ]
     },
     "execution_count": 10,
     "metadata": {},
     "output_type": "execute_result"
    }
   ],
   "source": [
    "a is None"
   ]
  },
  {
   "cell_type": "code",
   "execution_count": 14,
   "id": "e5c150de",
   "metadata": {},
   "outputs": [
    {
     "data": {
      "text/plain": [
       "((<pyrealsense2.frame Z16 #8056 @1653364518745.431152>,\n",
       "  <pyrealsense2.frame RGB8 #8052 @1653364518728.857178>),\n",
       " (<pyrealsense2.frame Z16 #8013 @1653364518748.400391>,\n",
       "  <pyrealsense2.frame RGB8 #8008 @1653364518732.104736>))"
      ]
     },
     "execution_count": 14,
     "metadata": {},
     "output_type": "execute_result"
    }
   ],
   "source": [
    "d.get_frames()"
   ]
  },
  {
   "cell_type": "code",
   "execution_count": 15,
   "id": "910fb34f",
   "metadata": {},
   "outputs": [
    {
     "data": {
      "text/plain": [
       "False"
      ]
     },
     "execution_count": 15,
     "metadata": {},
     "output_type": "execute_result"
    }
   ],
   "source": [
    "d.pose is None"
   ]
  },
  {
   "cell_type": "code",
   "execution_count": 18,
   "id": "c4294745",
   "metadata": {},
   "outputs": [
    {
     "data": {
      "text/plain": [
       "PointCloud on CPU:0 [1843200 points (Float32)].\n",
       "Attributes: colors (dtype = UInt8, shape = {1843200, 3})."
      ]
     },
     "execution_count": 18,
     "metadata": {},
     "output_type": "execute_result"
    }
   ],
   "source": [
    "d.stream1.compute_pcd() + d.stream2.compute_pcd()"
   ]
  },
  {
   "cell_type": "code",
   "execution_count": 4,
   "id": "55bba3c8",
   "metadata": {},
   "outputs": [],
   "source": [
    "t.ref_surface.estimate_normals(30,0.001)"
   ]
  },
  {
   "cell_type": "code",
   "execution_count": 8,
   "id": "8dad89e2",
   "metadata": {},
   "outputs": [
    {
     "ename": "AttributeError",
     "evalue": "type object 'Tracker' has no attribute 'isR_matrix'",
     "output_type": "error",
     "traceback": [
      "\u001b[1;31m---------------------------------------------------------------------------\u001b[0m",
      "\u001b[1;31mAttributeError\u001b[0m                            Traceback (most recent call last)",
      "\u001b[1;32m<ipython-input-8-837085bf8fa2>\u001b[0m in \u001b[0;36m<module>\u001b[1;34m\u001b[0m\n\u001b[1;32m----> 1\u001b[1;33m \u001b[0mTracker\u001b[0m\u001b[1;33m.\u001b[0m\u001b[0mcompute_rotation\u001b[0m\u001b[1;33m(\u001b[0m\u001b[0mt\u001b[0m\u001b[1;33m.\u001b[0m\u001b[0m_t_guess\u001b[0m\u001b[1;33m)\u001b[0m\u001b[1;33m\u001b[0m\u001b[1;33m\u001b[0m\u001b[0m\n\u001b[0m",
      "\u001b[1;32mc:\\users\\yben4607\\clean\\code\\spygrt\\spygrt\\tracker.py\u001b[0m in \u001b[0;36mcompute_rotation\u001b[1;34m(T)\u001b[0m\n\u001b[0;32m    191\u001b[0m         \u001b[1;34m\"\"\"Extract rotations from an affine transformation matrix.\"\"\"\u001b[0m\u001b[1;33m\u001b[0m\u001b[1;33m\u001b[0m\u001b[0m\n\u001b[0;32m    192\u001b[0m         \u001b[0mR\u001b[0m \u001b[1;33m=\u001b[0m \u001b[0mT\u001b[0m\u001b[1;33m.\u001b[0m\u001b[0mnumpy\u001b[0m\u001b[1;33m(\u001b[0m\u001b[1;33m)\u001b[0m\u001b[1;33m[\u001b[0m\u001b[1;36m0\u001b[0m\u001b[1;33m:\u001b[0m\u001b[1;36m3\u001b[0m\u001b[1;33m]\u001b[0m\u001b[1;33m.\u001b[0m\u001b[0mT\u001b[0m\u001b[1;33m[\u001b[0m\u001b[1;36m0\u001b[0m\u001b[1;33m:\u001b[0m\u001b[1;36m3\u001b[0m\u001b[1;33m]\u001b[0m\u001b[1;33m.\u001b[0m\u001b[0mT\u001b[0m\u001b[1;33m.\u001b[0m\u001b[0mcopy\u001b[0m\u001b[1;33m(\u001b[0m\u001b[1;33m)\u001b[0m\u001b[1;33m\u001b[0m\u001b[1;33m\u001b[0m\u001b[0m\n\u001b[1;32m--> 193\u001b[1;33m         \u001b[1;32mif\u001b[0m \u001b[1;32mnot\u001b[0m \u001b[0mTracker\u001b[0m\u001b[1;33m.\u001b[0m\u001b[0misR_matrix\u001b[0m\u001b[1;33m(\u001b[0m\u001b[0mR\u001b[0m\u001b[1;33m)\u001b[0m\u001b[1;33m:\u001b[0m\u001b[1;33m\u001b[0m\u001b[1;33m\u001b[0m\u001b[0m\n\u001b[0m\u001b[0;32m    194\u001b[0m             \u001b[0mprint\u001b[0m\u001b[1;33m(\u001b[0m\u001b[1;34m\"Matrix is not a rotation matrix\"\u001b[0m\u001b[1;33m,\u001b[0m \u001b[0msys\u001b[0m\u001b[1;33m.\u001b[0m\u001b[0mstderr\u001b[0m\u001b[1;33m)\u001b[0m\u001b[1;33m\u001b[0m\u001b[1;33m\u001b[0m\u001b[0m\n\u001b[0;32m    195\u001b[0m             \u001b[0msys\u001b[0m\u001b[1;33m.\u001b[0m\u001b[0mexit\u001b[0m\u001b[1;33m(\u001b[0m\u001b[1;33m)\u001b[0m\u001b[1;33m\u001b[0m\u001b[1;33m\u001b[0m\u001b[0m\n",
      "\u001b[1;31mAttributeError\u001b[0m: type object 'Tracker' has no attribute 'isR_matrix'"
     ]
    }
   ],
   "source": [
    "Tracker.compute_rotation(t._t_guess)"
   ]
  },
  {
   "cell_type": "code",
   "execution_count": 2,
   "id": "ce279da5",
   "metadata": {},
   "outputs": [
    {
     "name": "stdout",
     "output_type": "stream",
     "text": [
      "0\n",
      "1\n",
      "2\n",
      "3\n",
      "4\n",
      "5\n",
      "6\n",
      "7\n",
      "8\n",
      "9\n",
      "10\n",
      "11\n",
      "12\n",
      "13\n",
      "14\n",
      "15\n",
      "16\n",
      "17\n",
      "18\n",
      "19\n",
      "Timestamps:1666763253336.6787 1598 1666763253459.1924 1577\n",
      "20\n",
      "21\n",
      "22\n",
      "23\n",
      "Timestamps:1666763253471.0947 1602 1666763253593.837 1581\n",
      "24\n",
      "Timestamps:1666763253538.1672 1604 1666763253660.8933 1583\n",
      "25\n",
      "26\n",
      "27\n",
      "Timestamps:1666763253639.2087 1607 1666763253795.2146 1587\n",
      "Timestamps:1666763253672.4924 1608 1666763253795.2146 1587\n",
      "28\n",
      "Timestamps:1666763253741.905 1610 1666763253862.3223 1589\n",
      "29\n",
      "30\n",
      "Timestamps:1666763253840.7783 1613 1666763253962.8953 1592\n",
      "Timestamps:1666763253840.7783 1613 1666763253962.8953 1592\n",
      "31\n",
      "Timestamps:1666763253908.0576 1615 1666763254030.0425 1594\n",
      "32\n",
      "33\n",
      "Timestamps:1666763254008.607 1618 1666763254131.3535 1597\n",
      "34\n",
      "Timestamps:1666763254076.3047 1620 1666763254198.1777 1599\n",
      "35\n",
      "36\n",
      "37\n",
      "38\n",
      "39\n",
      "Timestamps:1666763254512.5884 1633 1666763254366.5728 1604\n",
      "40\n",
      "41\n",
      "42\n",
      "43\n",
      "44\n",
      "45\n",
      "46\n",
      "47\n",
      "48\n",
      "49\n",
      "50\n",
      "51\n",
      "Timestamps:1666763255150.8496 1652 1666763254970.91 1622\n",
      "52\n",
      "53\n",
      "54\n",
      "55\n",
      "Timestamps:1666763255386.089 1659 1666763255239.6592 1630\n",
      "Timestamps:1666763255386.089 1659 1666763255273.154 1631\n",
      "56\n",
      "Timestamps:1666763255486.905 1662 1666763255340.7676 1633\n",
      "Timestamps:1666763255486.905 1662 1666763255374.059 1634\n",
      "Timestamps:1666763255486.905 1662 1666763255374.059 1634\n",
      "57\n",
      "58\n",
      "59\n",
      "60\n",
      "61\n",
      "62\n",
      "63\n",
      "64\n",
      "65\n",
      "66\n",
      "67\n",
      "68\n",
      "69\n",
      "Timestamps:1666763256091.9507 1680 1666763256247.7446 1660\n",
      "[Open3D WARNING] 0 correspondence present between the pointclouds. Try increasing the max_correspondence_distance parameter.\n",
      "70\n",
      "71\n",
      "72\n",
      "[Open3D WARNING] 0 correspondence present between the pointclouds. Try increasing the max_correspondence_distance parameter.\n",
      "77\n",
      "78\n",
      "Timestamps:1666763256931.9795 1705 1666763256685.4666 1673\n",
      "Timestamps:1666763256931.9795 1705 1666763256685.4666 1673\n",
      "80\n",
      "Timestamps:1666763256931.9795 1705 1666763257087.4902 1685\n",
      "81\n",
      "82\n",
      "83\n",
      "84\n",
      "85\n",
      "Timestamps:1666763257166.9573 1712 1666763257322.646 1692\n",
      "86\n",
      "87\n",
      "88\n",
      "89\n",
      "90\n",
      "Timestamps:1666763257603.7595 1725 1666763257490.9238 1697\n",
      "91\n",
      "Timestamps:1666763257704.7878 1728 1666763257592.0132 1700\n",
      "92\n",
      "93\n",
      "94\n",
      "95\n",
      "Timestamps:1666763257973.6936 1736 1666763257826.646 1707\n",
      "96\n",
      "Timestamps:1666763258040.3967 1738 1666763257894.0652 1709\n",
      "97\n",
      "98\n",
      "99\n",
      "100\n",
      "101\n",
      "102\n",
      "Timestamps:1666763258376.7869 1748 1666763258230.0957 1719\n",
      "103\n",
      "Timestamps:1666763258477.5674 1751 1666763258297.215 1721\n",
      "104\n",
      "105\n",
      "106\n",
      "107\n",
      "108\n",
      "Timestamps:1666763258746.092 1759 1666763258633.2964 1731\n",
      "Timestamps:1666763258746.092 1759 1666763258633.2964 1731\n",
      "109\n",
      "110\n",
      "111\n",
      "112\n",
      "113\n",
      "Timestamps:1666763259014.6316 1767 1666763258902.0293 1739\n",
      "114\n",
      "115\n",
      "116\n",
      "142\n",
      "143\n",
      "144\n",
      "145\n",
      "Timestamps:1666763260660.8325 1816 1666763260783.2617 1795\n",
      "Timestamps:1666763260660.8325 1816 1666763260783.2617 1795\n",
      "146\n",
      "147\n",
      "148\n",
      "149\n",
      "150\n",
      "Timestamps:1666763261098.032 1829 1666763260985.213 1801\n",
      "151\n",
      "152\n",
      "153\n",
      "Timestamps:1666763261299.4092 1835 1666763261187.1218 1807\n",
      "154\n",
      "155\n",
      "156\n",
      "157\n",
      "158\n",
      "159\n",
      "160\n",
      "162\n",
      "163\n",
      "164\n",
      "165\n",
      "166\n",
      "167\n",
      "168\n",
      "169\n",
      "[Open3D WARNING] 0 correspondence present between the pointclouds. Try increasing the max_correspondence_distance parameter.\n",
      "170\n",
      "171\n",
      "172\n",
      "173\n",
      "174\n",
      "175\n",
      "176\n",
      "177\n",
      "178\n",
      "Timestamps:1666763262508.6987 1871 1666763262664.8792 1851\n",
      "Timestamps:1666763262508.6987 1871 1666763262664.8792 1851\n",
      "179\n",
      "180\n",
      "181\n",
      "Timestamps:1666763262811.0557 1880 1666763262702.1577 1852\n",
      "182\n",
      "183\n",
      "184\n",
      "185\n",
      "186\n",
      "187\n",
      "188\n",
      "189\n",
      "190\n",
      "191\n",
      "193\n",
      "194\n",
      "195\n",
      "196\n",
      "197\n",
      "198\n",
      "199\n",
      "200\n",
      "201\n",
      "202\n",
      "203\n",
      "204\n",
      "[Open3D WARNING] 0 correspondence present between the pointclouds. Try increasing the max_correspondence_distance parameter.\n",
      "205\n",
      "206\n",
      "207\n",
      "208\n",
      "209\n",
      "210\n",
      "211\n",
      "212\n",
      "213\n",
      "214\n",
      "215\n",
      "Timestamps:1666763264759.9104 1938 1666763264646.7861 1910\n",
      "Timestamps:1666763264759.9104 1938 1666763264646.7861 1910\n",
      "216\n",
      "217\n",
      "218\n",
      "219\n",
      "220\n",
      "221\n",
      "222\n",
      "223\n",
      "224\n",
      "225\n",
      "[Open3D WARNING] 0 correspondence present between the pointclouds. Try increasing the max_correspondence_distance parameter.\n",
      "227\n",
      "228\n",
      "229\n",
      "230\n",
      "231\n",
      "Timestamps:1666763265432.4607 1958 1666763265554.142 1937\n",
      "232\n",
      "Timestamps:1666763265465.819 1959 1666763265587.6394 1938\n",
      "233\n",
      "234\n",
      "236\n",
      "237\n",
      "238\n",
      "239\n",
      "240\n",
      "241\n",
      "242\n",
      "243\n",
      "244\n",
      "245\n",
      "Timestamps:1666763266339.2104 1985 1666763266226.5847 1957\n",
      "246\n",
      "247\n",
      "248\n",
      "Timestamps:1666763266474.222 1989 1666763266360.5933 1961\n",
      "249\n",
      "Timestamps:1666763266574.362 1992 1666763266427.8064 1963\n",
      "250\n",
      "251\n",
      "252\n",
      "253\n",
      "254\n",
      "255\n",
      "Timestamps:1666763266910.2678 2002 1666763266763.5884 1973\n",
      "256\n",
      "257\n",
      "Timestamps:1666763267010.8245 2005 1666763266898.394 1977\n",
      "258\n",
      "259\n",
      "260\n",
      "261\n",
      "262\n",
      "263\n",
      "Timestamps:1666763267346.9211 2015 1666763267234.2764 1987\n",
      "264\n",
      "265\n",
      "266\n",
      "267\n",
      "268\n",
      "269\n",
      "270\n",
      "271\n",
      "272\n",
      "273\n",
      "274\n",
      "275\n",
      "276\n",
      "278\n",
      "279\n",
      "280\n",
      "281\n",
      "282\n",
      "Timestamps:1666763268455.746 2048 1666763268308.9697 2019\n",
      "284\n",
      "285\n",
      "286\n",
      "287\n",
      "288\n",
      "289\n",
      "290\n",
      "291\n",
      "292\n",
      "294\n",
      "Timestamps:1666763268993.7483 2064 1666763269149.1843 2044\n",
      "295\n",
      "296\n",
      "Timestamps:1666763269127.6262 2068 1666763269250.2407 2047\n",
      "298\n",
      "299\n",
      "300\n",
      "[Open3D WARNING] 0 correspondence present between the pointclouds. Try increasing the max_correspondence_distance parameter.\n",
      "301\n",
      "302\n",
      "303\n",
      "304\n",
      "305\n",
      "306\n",
      "307\n",
      "Timestamps:1666763269833.151 2089 1666763269722.4348 2061\n",
      "308\n",
      "309\n",
      "310\n",
      "312\n",
      "313\n",
      "314\n",
      "315\n",
      "316\n",
      "317\n",
      "318\n",
      "319\n",
      "320\n",
      "321\n",
      "Timestamps:1666763270370.9087 2105 1666763270527.0803 2085\n",
      "322\n",
      "323\n",
      "324\n",
      "325\n",
      "326\n",
      "Timestamps:1666763270673.1853 2114 1666763270795.1516 2093\n",
      "327\n",
      "328\n",
      "329\n",
      "330\n",
      "331\n",
      "Timestamps:1666763271076.671 2126 1666763270963.2837 2098\n",
      "332\n",
      "333\n",
      "334\n",
      "335\n",
      "336\n",
      "337\n",
      "338\n",
      "339\n",
      "340\n",
      "341\n",
      "342\n",
      "343\n",
      "Timestamps:1666763271815.4067 2148 1666763271704.259 2120\n",
      "344\n",
      "348\n",
      "350\n",
      "351\n",
      "352\n",
      "353\n",
      "354\n",
      "Timestamps:1666763272420.1091 2166 1666763272306.9587 2138\n",
      "Timestamps:1666763272420.1091 2166 1666763272306.9587 2138\n",
      "355\n",
      "Timestamps:1666763272420.1091 2166 1666763272609.4001 2147\n",
      "356\n",
      "Timestamps:1666763272521.5745 2169 1666763272676.6003 2149\n",
      "357\n",
      "358\n",
      "359\n",
      "360\n",
      "361\n",
      "362\n",
      "363\n",
      "364\n",
      "365\n",
      "[Open3D WARNING] 0 correspondence present between the pointclouds. Try increasing the max_correspondence_distance parameter.\n",
      "366\n",
      "367\n",
      "368\n",
      "369\n",
      "370\n",
      "Timestamps:1666763273462.326 2197 1666763273315.1833 2168\n",
      "371\n",
      "Timestamps:1666763273563.1135 2200 1666763273415.9736 2171\n",
      "372\n",
      "373\n",
      "374\n",
      "Timestamps:1666763273731.767 2205 1666763273583.866 2176\n",
      "375\n",
      "376\n",
      "377\n",
      "Timestamps:1666763273932.5315 2211 1666763273818.9458 2183\n",
      "378\n",
      "379\n",
      "380\n",
      "381\n",
      "382\n",
      "383\n",
      "384\n",
      "385\n",
      "Timestamps:1666763274402.4873 2225 1666763274255.698 2196\n",
      "386\n",
      "Timestamps:1666763274503.5464 2228 1666763274390.295 2200\n",
      "Timestamps:1666763274503.5464 2228 1666763274390.295 2200\n",
      "387\n",
      "388\n",
      "389\n",
      "390\n",
      "391\n",
      "392\n",
      "393\n",
      "394\n",
      "395\n",
      "396\n",
      "397\n",
      "398\n",
      "399\n",
      "400\n",
      "401\n",
      "402\n",
      "403\n",
      "404\n",
      "405\n",
      "406\n",
      "407\n",
      "408\n",
      "410\n",
      "411\n",
      "412\n",
      "413\n",
      "Timestamps:1666763275947.991 2271 1666763275834.978 2243\n",
      "414\n",
      "415\n",
      "416\n",
      "417\n",
      "418\n",
      "419\n",
      "420\n",
      "421\n",
      "Timestamps:1666763276419.5237 2285 1666763276305.1729 2257\n",
      "Timestamps:1666763276419.5237 2285 1666763276305.1729 2257\n",
      "422\n",
      "423\n",
      "424\n",
      "Timestamps:1666763276519.7822 2288 1666763276641.1619 2267\n",
      "425\n",
      "426\n",
      "427\n",
      "428\n",
      "429\n",
      "430\n",
      "431\n",
      "432\n",
      "433\n",
      "434\n",
      "435\n",
      "436\n",
      "437\n",
      "438\n",
      "439\n",
      "440\n",
      "441\n",
      "443\n",
      "444\n",
      "446\n",
      "447\n",
      "448\n",
      "449\n",
      "450\n",
      "451\n",
      "452\n",
      "453\n",
      "455\n",
      "456\n",
      "457\n",
      "458\n",
      "Timestamps:1666763278468.2092 2346 1666763278321.5457 2317\n",
      "459\n",
      "460\n",
      "461\n",
      "Timestamps:1666763278636.213 2351 1666763278489.3533 2322\n",
      "462\n"
     ]
    },
    {
     "ename": "NoMoreFrames",
     "evalue": "Reached the end of the stream",
     "output_type": "error",
     "traceback": [
      "\u001b[1;31m---------------------------------------------------------------------------\u001b[0m",
      "\u001b[1;31mNoMoreFrames\u001b[0m                              Traceback (most recent call last)",
      "\u001b[1;32m<ipython-input-2-add3c6b470f5>\u001b[0m in \u001b[0;36m<module>\u001b[1;34m\u001b[0m\n\u001b[0;32m      2\u001b[0m \u001b[1;32mfor\u001b[0m \u001b[0mi\u001b[0m \u001b[1;32min\u001b[0m \u001b[0mrange\u001b[0m\u001b[1;33m(\u001b[0m\u001b[1;36m10000\u001b[0m\u001b[1;33m)\u001b[0m\u001b[1;33m:\u001b[0m\u001b[1;33m\u001b[0m\u001b[1;33m\u001b[0m\u001b[0m\n\u001b[0;32m      3\u001b[0m     \u001b[1;32mtry\u001b[0m\u001b[1;33m:\u001b[0m\u001b[1;33m\u001b[0m\u001b[1;33m\u001b[0m\u001b[0m\n\u001b[1;32m----> 4\u001b[1;33m         \u001b[0mt\u001b[0m\u001b[1;33m.\u001b[0m\u001b[0mget_motion\u001b[0m\u001b[1;33m(\u001b[0m\u001b[0md\u001b[0m\u001b[1;33m.\u001b[0m\u001b[0mcompute_pcd\u001b[0m\u001b[1;33m(\u001b[0m\u001b[1;32mTrue\u001b[0m\u001b[1;33m)\u001b[0m\u001b[1;33m)\u001b[0m\u001b[1;33m\u001b[0m\u001b[1;33m\u001b[0m\u001b[0m\n\u001b[0m\u001b[0;32m      5\u001b[0m     \u001b[1;32mexcept\u001b[0m \u001b[0mRuntimeError\u001b[0m\u001b[1;33m:\u001b[0m\u001b[1;33m\u001b[0m\u001b[1;33m\u001b[0m\u001b[0m\n\u001b[0;32m      6\u001b[0m         \u001b[1;32mcontinue\u001b[0m\u001b[1;33m\u001b[0m\u001b[1;33m\u001b[0m\u001b[0m\n",
      "\u001b[1;32mc:\\users\\yben4607\\clean\\code\\spygrt\\spygrt\\stream.py\u001b[0m in \u001b[0;36mcompute_pcd\u001b[1;34m(self, new_frame)\u001b[0m\n\u001b[0;32m    824\u001b[0m \u001b[1;33m\u001b[0m\u001b[0m\n\u001b[0;32m    825\u001b[0m         \u001b[1;32mif\u001b[0m \u001b[0mnew_frame\u001b[0m\u001b[1;33m:\u001b[0m\u001b[1;33m\u001b[0m\u001b[1;33m\u001b[0m\u001b[0m\n\u001b[1;32m--> 826\u001b[1;33m             \u001b[0mself\u001b[0m\u001b[1;33m.\u001b[0m\u001b[0mget_frames\u001b[0m\u001b[1;33m(\u001b[0m\u001b[1;33m)\u001b[0m\u001b[1;33m\u001b[0m\u001b[1;33m\u001b[0m\u001b[0m\n\u001b[0m\u001b[0;32m    827\u001b[0m \u001b[1;33m\u001b[0m\u001b[0m\n\u001b[0;32m    828\u001b[0m         \u001b[1;32mif\u001b[0m \u001b[0mself\u001b[0m\u001b[1;33m.\u001b[0m\u001b[0m_pose\u001b[0m \u001b[1;32mis\u001b[0m \u001b[1;32mNone\u001b[0m\u001b[1;33m:\u001b[0m\u001b[1;33m\u001b[0m\u001b[1;33m\u001b[0m\u001b[0m\n",
      "\u001b[1;32mc:\\users\\yben4607\\clean\\code\\spygrt\\spygrt\\stream.py\u001b[0m in \u001b[0;36mget_frames\u001b[1;34m(self)\u001b[0m\n\u001b[0;32m    889\u001b[0m         \"\"\"\n\u001b[0;32m    890\u001b[0m         \u001b[1;31m# Getting new frames with a call  to the cameras.\u001b[0m\u001b[1;33m\u001b[0m\u001b[1;33m\u001b[0m\u001b[1;33m\u001b[0m\u001b[0m\n\u001b[1;32m--> 891\u001b[1;33m         \u001b[0mf1\u001b[0m \u001b[1;33m=\u001b[0m \u001b[0mself\u001b[0m\u001b[1;33m.\u001b[0m\u001b[0m_stream1\u001b[0m\u001b[1;33m.\u001b[0m\u001b[0mget_frames\u001b[0m\u001b[1;33m(\u001b[0m\u001b[0mencoding\u001b[0m\u001b[1;33m=\u001b[0m\u001b[1;34m'rs'\u001b[0m\u001b[1;33m)\u001b[0m\u001b[1;33m\u001b[0m\u001b[1;33m\u001b[0m\u001b[0m\n\u001b[0m\u001b[0;32m    892\u001b[0m         \u001b[0mf2\u001b[0m \u001b[1;33m=\u001b[0m \u001b[0mself\u001b[0m\u001b[1;33m.\u001b[0m\u001b[0m_stream2\u001b[0m\u001b[1;33m.\u001b[0m\u001b[0mget_frames\u001b[0m\u001b[1;33m(\u001b[0m\u001b[0mencoding\u001b[0m\u001b[1;33m=\u001b[0m\u001b[1;34m'rs'\u001b[0m\u001b[1;33m)\u001b[0m\u001b[1;33m\u001b[0m\u001b[1;33m\u001b[0m\u001b[0m\n\u001b[0;32m    893\u001b[0m \u001b[1;33m\u001b[0m\u001b[0m\n",
      "\u001b[1;32mc:\\users\\yben4607\\clean\\code\\spygrt\\spygrt\\stream.py\u001b[0m in \u001b[0;36mget_frames\u001b[1;34m(self, encoding)\u001b[0m\n\u001b[0;32m    551\u001b[0m \u001b[1;33m\u001b[0m\u001b[0m\n\u001b[0;32m    552\u001b[0m                 \u001b[1;31m# If the above statement doesn't raise an exception, assume we reached the end of the file.\u001b[0m\u001b[1;33m\u001b[0m\u001b[1;33m\u001b[0m\u001b[1;33m\u001b[0m\u001b[0m\n\u001b[1;32m--> 553\u001b[1;33m                 \u001b[1;32mraise\u001b[0m \u001b[0mNoMoreFrames\u001b[0m\u001b[1;33m(\u001b[0m\u001b[1;34m\"Reached the end of the stream\"\u001b[0m\u001b[1;33m)\u001b[0m\u001b[1;33m\u001b[0m\u001b[1;33m\u001b[0m\u001b[0m\n\u001b[0m\u001b[0;32m    554\u001b[0m         \u001b[1;32mexcept\u001b[0m \u001b[0mAttributeError\u001b[0m\u001b[1;33m:\u001b[0m\u001b[1;33m\u001b[0m\u001b[1;33m\u001b[0m\u001b[0m\n\u001b[0;32m    555\u001b[0m             \u001b[1;32mpass\u001b[0m\u001b[1;33m\u001b[0m\u001b[1;33m\u001b[0m\u001b[0m\n",
      "\u001b[1;31mNoMoreFrames\u001b[0m: Reached the end of the stream"
     ]
    }
   ],
   "source": [
    "data = []\n",
    "for i in range(10000):\n",
    "    try:\n",
    "        t.get_motion(d.compute_pcd(True))\n",
    "    except RuntimeError:\n",
    "        continue\n",
    "    data.append(np.concatenate(([d.timestamp], Tracker.compute_translation(t.t_guess), Tracker.compute_rotation(t.t_guess))))\n",
    "    print(i)\n",
    "    "
   ]
  },
  {
   "cell_type": "code",
   "execution_count": 4,
   "id": "9140855a",
   "metadata": {},
   "outputs": [
    {
     "name": "stdout",
     "output_type": "stream",
     "text": [
      "[Open3D WARNING] GLFW Error: WGL: Failed to make context current: The handle is invalid. \n",
      "[Open3D WARNING] GLFW Error: WGL: Failed to make context current: The handle is invalid. \n",
      "[Open3D WARNING] GLFW Error: WGL: Failed to make context current: The requested transformation operation is not supported. \n",
      "[Open3D WARNING] GLFW Error: WGL: Failed to make context current: The handle is invalid. \n"
     ]
    }
   ],
   "source": [
    "o3d.visualization.draw_geometries([t._source.to_legacy()])"
   ]
  },
  {
   "cell_type": "code",
   "execution_count": 8,
   "id": "efb26d45",
   "metadata": {},
   "outputs": [
    {
     "data": {
      "text/plain": [
       "[[0.960616 -0.26193 -0.0927886 0.0517465],\n",
       " [0.276662 0.932738 0.23121 -0.0737735],\n",
       " [0.0259866 -0.247775 0.968469 0.0439792],\n",
       " [0.0 0.0 0.0 1.0]]\n",
       "Tensor[shape={4, 4}, stride={4, 1}, Float64, CPU:0, 0x24d64541970]"
      ]
     },
     "execution_count": 8,
     "metadata": {},
     "output_type": "execute_result"
    }
   ],
   "source": [
    "t.t_guess"
   ]
  },
  {
   "cell_type": "code",
   "execution_count": 7,
   "id": "3797f89c",
   "metadata": {},
   "outputs": [],
   "source": [
    "saved_data = data"
   ]
  },
  {
   "cell_type": "code",
   "execution_count": 17,
   "id": "404dcad5",
   "metadata": {},
   "outputs": [],
   "source": [
    "for i in range(48):\n",
    "    d.compute_pcd(True)"
   ]
  },
  {
   "cell_type": "code",
   "execution_count": 18,
   "id": "698ba46c",
   "metadata": {},
   "outputs": [
    {
     "data": {
      "text/plain": [
       "[[0.976428 -0.135231 0.168226 -0.0104739],\n",
       " [0.146373 0.987664 -0.0556359 -0.0120752],\n",
       " [-0.158627 0.0789482 0.984177 -0.068689],\n",
       " [0.0 0.0 0.0 1.0]]\n",
       "Tensor[shape={4, 4}, stride={4, 1}, Float64, CPU:0, 0x18e6fd1f110]"
      ]
     },
     "execution_count": 18,
     "metadata": {},
     "output_type": "execute_result"
    }
   ],
   "source": [
    "t.get_motion(d.pcd)"
   ]
  },
  {
   "cell_type": "code",
   "execution_count": 19,
   "id": "4c451fda",
   "metadata": {},
   "outputs": [],
   "source": [
    "o3d.visualization.draw_geometries([t._source.to_legacy()])"
   ]
  },
  {
   "cell_type": "code",
   "execution_count": 3,
   "id": "a3439419",
   "metadata": {},
   "outputs": [],
   "source": [
    "np.savetxt('data.txt',np.asarray(data))"
   ]
  },
  {
   "cell_type": "code",
   "execution_count": 3,
   "id": "bdd05792",
   "metadata": {},
   "outputs": [
    {
     "data": {
      "text/plain": [
       "1666756508185.4595"
      ]
     },
     "execution_count": 3,
     "metadata": {},
     "output_type": "execute_result"
    }
   ],
   "source": [
    "d.timestamp"
   ]
  },
  {
   "cell_type": "code",
   "execution_count": 4,
   "id": "9ed7d985",
   "metadata": {},
   "outputs": [
    {
     "data": {
      "text/plain": [
       "496"
      ]
     },
     "execution_count": 4,
     "metadata": {},
     "output_type": "execute_result"
    }
   ],
   "source": [
    "len(data)"
   ]
  },
  {
   "cell_type": "code",
   "execution_count": null,
   "id": "6d977585",
   "metadata": {},
   "outputs": [],
   "source": []
  }
 ],
 "metadata": {
  "kernelspec": {
   "display_name": "Python 3 (ipykernel)",
   "language": "python",
   "name": "python3"
  },
  "language_info": {
   "codemirror_mode": {
    "name": "ipython",
    "version": 3
   },
   "file_extension": ".py",
   "mimetype": "text/x-python",
   "name": "python",
   "nbconvert_exporter": "python",
   "pygments_lexer": "ipython3",
   "version": "3.9.7"
  }
 },
 "nbformat": 4,
 "nbformat_minor": 5
}
