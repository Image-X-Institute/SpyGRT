{
 "cells": [
  {
   "cell_type": "code",
   "execution_count": 1,
   "id": "dc31bd40",
   "metadata": {},
   "outputs": [],
   "source": [
    "import pyrealsense2 as rs2\n",
    "import open3d as o3d\n",
    "import numpy as np\n",
    "import time\n",
    "from spygrt.stream import Recording, NoMoreFrames, DualRecording\n",
    "from spygrt.tracker import Tracker\n",
    "from spygrt.calibration import Calibrator\n",
    "import importlib"
   ]
  },
  {
   "cell_type": "code",
   "execution_count": 2,
   "id": "809559f6",
   "metadata": {},
   "outputs": [],
   "source": [
    "rec1 = Recording('D:/Robot/D435/Recording129/135122073072_2023Apr20044409.bag')\n",
    "rec2 = Recording('D:/Robot/D435/Recording129/135122074917_2023Apr20044409.bag')\n",
    "cal1 = Recording('D:/Robot/Calibration435/135122073072_2023Apr20045239.bag')\n",
    "cal2 = Recording('D:/Robot/Calibration435/135122074917_2023Apr20045239.bag')\n",
    "f1 = 'E:/VISION/133/RS_Calibration/121622061907_2023Mar23015527.bag'\n",
    "f2 = 'E:/VISION/133/RS_Calibration/123122061443_2023Mar23015527.bag'\n"
   ]
  },
  {
   "cell_type": "code",
   "execution_count": 3,
   "id": "3a4288b7",
   "metadata": {},
   "outputs": [],
   "source": [
    "d = DualRecording(rec1,rec2)\n",
    "c = DualRecording(cal1,cal2)\n",
    "d.start_stream()\n",
    "c.start_stream()"
   ]
  },
  {
   "cell_type": "code",
   "execution_count": 4,
   "id": "e36ee9ab",
   "metadata": {},
   "outputs": [
    {
     "data": {
      "text/plain": [
       "((Image[size={720,1280}, channels=1, UInt16, CUDA:0],\n",
       "  Image[size={720,1280}, channels=3, UInt8, CUDA:0]),\n",
       " (Image[size={720,1280}, channels=1, UInt16, CUDA:0],\n",
       "  Image[size={720,1280}, channels=3, UInt8, CUDA:0]))"
      ]
     },
     "execution_count": 4,
     "metadata": {},
     "output_type": "execute_result"
    }
   ],
   "source": [
    "d.get_frames()"
   ]
  },
  {
   "cell_type": "code",
   "execution_count": 9,
   "id": "0210e051",
   "metadata": {},
   "outputs": [],
   "source": [
    "calibs = (Calibrator(c.stream1), Calibrator(c.stream2))\n",
    "for cal in calibs:\n",
    "    cal.corners=[]\n",
    "for i in range (5):\n",
    "    c.get_frames('o3d')\n",
    "    calibs[0].find_corners3d()\n",
    "    calibs[1].find_corners3d()\n",
    "calibs[0].align_cameras(calibs[1])\n",
    "calibs[1].align_to_board(cal2 = calibs[0])"
   ]
  },
  {
   "cell_type": "code",
   "execution_count": 5,
   "id": "577972c7",
   "metadata": {},
   "outputs": [
    {
     "ename": "NameError",
     "evalue": "name 'calibs' is not defined",
     "output_type": "error",
     "traceback": [
      "\u001b[1;31m---------------------------------------------------------------------------\u001b[0m",
      "\u001b[1;31mNameError\u001b[0m                                 Traceback (most recent call last)",
      "Cell \u001b[1;32mIn[5], line 1\u001b[0m\n\u001b[1;32m----> 1\u001b[0m \u001b[38;5;28;01mfor\u001b[39;00m cal \u001b[38;5;129;01min\u001b[39;00m \u001b[43mcalibs\u001b[49m:\n\u001b[0;32m      2\u001b[0m     cal\u001b[38;5;241m.\u001b[39m_pose \u001b[38;5;241m=\u001b[39m o3d\u001b[38;5;241m.\u001b[39mcore\u001b[38;5;241m.\u001b[39mTensor(np\u001b[38;5;241m.\u001b[39midentity(\u001b[38;5;241m4\u001b[39m), dtype\u001b[38;5;241m=\u001b[39mo3d\u001b[38;5;241m.\u001b[39mcore\u001b[38;5;241m.\u001b[39mDtype\u001b[38;5;241m.\u001b[39mFloat32,device\u001b[38;5;241m=\u001b[39mcal\u001b[38;5;241m.\u001b[39m_stream\u001b[38;5;241m.\u001b[39mpcd\u001b[38;5;241m.\u001b[39mdevice)\n\u001b[0;32m      3\u001b[0m cal2\u001b[38;5;241m.\u001b[39mload_calibration()\n",
      "\u001b[1;31mNameError\u001b[0m: name 'calibs' is not defined"
     ]
    }
   ],
   "source": [
    "for cal in calibs:\n",
    "    cal._pose = o3d.core.Tensor(np.identity(4), dtype=o3d.core.Dtype.Float32,device=cal._stream.pcd.device)\n",
    "cal2.load_calibration()\n",
    "calibs[1]._pose = o3d.core.Tensor(cal2.pose, dtype=o3d.core.Dtype.Float32, device=cal2.pcd.device)"
   ]
  },
  {
   "cell_type": "code",
   "execution_count": 14,
   "id": "09659926",
   "metadata": {},
   "outputs": [],
   "source": [
    "calibs[1].align_to_board(cal2 = calibs[0])"
   ]
  },
  {
   "cell_type": "code",
   "execution_count": 17,
   "id": "8cee442d",
   "metadata": {},
   "outputs": [],
   "source": [
    "cal1._pose = calibs[0].pose.cpu().numpy()\n",
    "cal2._pose = calibs[1].pose.cpu().numpy()"
   ]
  },
  {
   "cell_type": "code",
   "execution_count": 10,
   "id": "e4a881d3",
   "metadata": {},
   "outputs": [],
   "source": [
    "for cal in calibs:\n",
    "    cal.write_cal()\n",
    "#for cal in calibs:\n",
    "#    cal._pose = o3d.core.Tensor(np.identity(4), dtype=o3d.core.Dtype.Float32,device=cal._stream.pcd.device)"
   ]
  },
  {
   "cell_type": "code",
   "execution_count": 5,
   "id": "562cdc5e",
   "metadata": {},
   "outputs": [
    {
     "data": {
      "text/plain": [
       "True"
      ]
     },
     "execution_count": 5,
     "metadata": {},
     "output_type": "execute_result"
    }
   ],
   "source": [
    "rgbdim1 = o3d.t.geometry.RGBDImage(c.stream1.frame[1], c.stream1.frame[0])\n",
    "rgbdim2 = o3d.t.geometry.RGBDImage(c.stream2.frame[1], c.stream2.frame[0])\n",
    "pcd1 = o3d.t.geometry.PointCloud.create_from_rgbd_image(rgbdim1, c.stream1.intrinsics, depth_scale=1000,\n",
    "                                                                         depth_max=10)\n",
    "pcd2 = o3d.t.geometry.PointCloud.create_from_rgbd_image(rgbdim2, c.stream2.intrinsics, depth_scale=1000,\n",
    "                                                                         depth_max=10)\n",
    "o3d.t.io.write_point_cloud('1.pcd',pcd1)\n",
    "o3d.t.io.write_point_cloud('2.pcd',pcd2)"
   ]
  },
  {
   "cell_type": "code",
   "execution_count": 11,
   "id": "d13ee317",
   "metadata": {},
   "outputs": [
    {
     "data": {
      "text/plain": [
       "True"
      ]
     },
     "execution_count": 11,
     "metadata": {},
     "output_type": "execute_result"
    }
   ],
   "source": [
    "c.load_calibration(force=True)\n",
    "c.get_frames()\n",
    "c.compute_pcd()\n",
    "o3d.t.io.write_point_cloud('1.pcd',c.stream1.pcd)\n",
    "o3d.t.io.write_point_cloud('2.pcd',c.stream2.pcd)"
   ]
  },
  {
   "cell_type": "code",
   "execution_count": 11,
   "id": "e0835bb1",
   "metadata": {},
   "outputs": [
    {
     "data": {
      "text/plain": [
       "True"
      ]
     },
     "execution_count": 11,
     "metadata": {},
     "output_type": "execute_result"
    }
   ],
   "source": [
    "d.get_frames('rs')\n",
    "o3d.t.io.write_point_cloud('1.pcd',d.stream1.pcd)\n",
    "o3d.t.io.write_point_cloud('2.pcd',d.stream2.pcd)"
   ]
  },
  {
   "cell_type": "code",
   "execution_count": null,
   "id": "e59cf26a",
   "metadata": {},
   "outputs": [],
   "source": [
    "o3d.visualization."
   ]
  },
  {
   "cell_type": "code",
   "execution_count": 22,
   "id": "259d57ef",
   "metadata": {},
   "outputs": [
    {
     "ename": "IndexError",
     "evalue": "list index out of range",
     "output_type": "error",
     "traceback": [
      "\u001b[1;31m---------------------------------------------------------------------------\u001b[0m",
      "\u001b[1;31mIndexError\u001b[0m                                Traceback (most recent call last)",
      "Cell \u001b[1;32mIn[22], line 1\u001b[0m\n\u001b[1;32m----> 1\u001b[0m t \u001b[38;5;241m=\u001b[39m \u001b[43mTracker\u001b[49m\u001b[43m(\u001b[49m\u001b[43mref_surface\u001b[49m\u001b[38;5;241;43m=\u001b[39;49m\u001b[43md\u001b[49m\u001b[38;5;241;43m.\u001b[39;49m\u001b[43mpcd\u001b[49m\u001b[43m)\u001b[49m\n",
      "File \u001b[1;32mc:\\users\\removethemask\\mydocs\\code\\spygrt\\spygrt\\tracker.py:61\u001b[0m, in \u001b[0;36mTracker.__init__\u001b[1;34m(self, ref_surface, roi)\u001b[0m\n\u001b[0;32m     59\u001b[0m \u001b[38;5;28;01mif\u001b[39;00m ref_surface \u001b[38;5;129;01mis\u001b[39;00m \u001b[38;5;129;01mnot\u001b[39;00m \u001b[38;5;28;01mNone\u001b[39;00m:\n\u001b[0;32m     60\u001b[0m     \u001b[38;5;28mself\u001b[39m\u001b[38;5;241m.\u001b[39m_box \u001b[38;5;241m=\u001b[39m \u001b[38;5;28;01mNone\u001b[39;00m\n\u001b[1;32m---> 61\u001b[0m     \u001b[38;5;28;43mself\u001b[39;49m\u001b[38;5;241;43m.\u001b[39;49m\u001b[43mselect_roi\u001b[49m\u001b[43m(\u001b[49m\u001b[43m)\u001b[49m\n\u001b[0;32m     62\u001b[0m \u001b[38;5;28;01melse\u001b[39;00m:\n\u001b[0;32m     63\u001b[0m     \u001b[38;5;28mself\u001b[39m\u001b[38;5;241m.\u001b[39m_roi \u001b[38;5;241m=\u001b[39m np\u001b[38;5;241m.\u001b[39masarray([[\u001b[38;5;241m-\u001b[39m\u001b[38;5;241m2.\u001b[39m, \u001b[38;5;241m-\u001b[39m\u001b[38;5;241m2.\u001b[39m, \u001b[38;5;241m-\u001b[39m\u001b[38;5;241m2.\u001b[39m], [\u001b[38;5;241m2.\u001b[39m, \u001b[38;5;241m2.\u001b[39m, \u001b[38;5;241m2.\u001b[39m]], dtype\u001b[38;5;241m=\u001b[39m\u001b[38;5;124m'\u001b[39m\u001b[38;5;124mfloat32\u001b[39m\u001b[38;5;124m'\u001b[39m)\n",
      "File \u001b[1;32mc:\\users\\removethemask\\mydocs\\code\\spygrt\\spygrt\\tracker.py:141\u001b[0m, in \u001b[0;36mTracker.select_roi\u001b[1;34m(self)\u001b[0m\n\u001b[0;32m    139\u001b[0m vis\u001b[38;5;241m.\u001b[39mdestroy_window()\n\u001b[0;32m    140\u001b[0m idx \u001b[38;5;241m=\u001b[39m vis\u001b[38;5;241m.\u001b[39mget_picked_points()\n\u001b[1;32m--> 141\u001b[0m p1 \u001b[38;5;241m=\u001b[39m \u001b[38;5;28mself\u001b[39m\u001b[38;5;241m.\u001b[39m_ref_surface\u001b[38;5;241m.\u001b[39mpoint[\u001b[38;5;124m\"\u001b[39m\u001b[38;5;124mpositions\u001b[39m\u001b[38;5;124m\"\u001b[39m][\u001b[43midx\u001b[49m\u001b[43m[\u001b[49m\u001b[38;5;241;43m0\u001b[39;49m\u001b[43m]\u001b[49m]\u001b[38;5;241m.\u001b[39mcpu()\u001b[38;5;241m.\u001b[39mnumpy()\n\u001b[0;32m    142\u001b[0m p2 \u001b[38;5;241m=\u001b[39m \u001b[38;5;28mself\u001b[39m\u001b[38;5;241m.\u001b[39m_ref_surface\u001b[38;5;241m.\u001b[39mpoint[\u001b[38;5;124m\"\u001b[39m\u001b[38;5;124mpositions\u001b[39m\u001b[38;5;124m\"\u001b[39m][idx[\u001b[38;5;241m1\u001b[39m]]\u001b[38;5;241m.\u001b[39mcpu()\u001b[38;5;241m.\u001b[39mnumpy()\n\u001b[0;32m    144\u001b[0m mid_z \u001b[38;5;241m=\u001b[39m np\u001b[38;5;241m.\u001b[39mmean([p1[\u001b[38;5;241m2\u001b[39m], p2[\u001b[38;5;241m2\u001b[39m]])\n",
      "\u001b[1;31mIndexError\u001b[0m: list index out of range"
     ]
    }
   ],
   "source": [
    "t = Tracker(ref_surface=d.pcd)"
   ]
  },
  {
   "cell_type": "code",
   "execution_count": 17,
   "id": "aa9a1e46",
   "metadata": {},
   "outputs": [],
   "source": [
    "cal2._pose = np.identity(4)\n",
    "#c.compute_pcd()\n",
    "#o3d.visualization.draw_geometries([c.pcd.to_legacy()])"
   ]
  },
  {
   "cell_type": "code",
   "execution_count": 4,
   "id": "f794f6a5",
   "metadata": {},
   "outputs": [],
   "source": [
    "calibs = (Calibrator(c.stream1), Calibrator(c.stream2))"
   ]
  },
  {
   "cell_type": "code",
   "execution_count": 4,
   "id": "3448126d",
   "metadata": {},
   "outputs": [
    {
     "data": {
      "text/plain": [
       "True"
      ]
     },
     "execution_count": 4,
     "metadata": {},
     "output_type": "execute_result"
    }
   ],
   "source": [
    "c.get_frames()\n",
    "pcd1 = cal1.compute_pcd()#.transform(np.identity(4)*-1)\n",
    "pcd2= cal2.compute_pcd()#.transform(rec2.pose*-1)\n",
    "o3d.t.io.write_point_cloud('1.pcd',pcd1)\n",
    "o3d.t.io.write_point_cloud('2.pcd',pcd2)"
   ]
  },
  {
   "cell_type": "code",
   "execution_count": 13,
   "id": "eb258922",
   "metadata": {},
   "outputs": [],
   "source": [
    "o3d.visualization.draw_geometries([pcd2.to_legacy(),pcd1.to_legacy()])"
   ]
  },
  {
   "cell_type": "code",
   "execution_count": 19,
   "id": "94a4b052",
   "metadata": {},
   "outputs": [
    {
     "data": {
      "text/plain": [
       "array([[ 0.634782,  0.431176, -0.6412  , -0.740983],\n",
       "       [-0.448892,  0.881215,  0.148175,  0.089638],\n",
       "       [ 0.628925,  0.193771,  0.752932, -0.233104],\n",
       "       [ 0.      ,  0.      ,  0.      ,  1.      ]])"
      ]
     },
     "execution_count": 19,
     "metadata": {},
     "output_type": "execute_result"
    }
   ],
   "source": [
    "rec2.pose"
   ]
  },
  {
   "cell_type": "code",
   "execution_count": 9,
   "id": "ba782241",
   "metadata": {},
   "outputs": [],
   "source": [
    "pipe = c.stream1._pipe"
   ]
  },
  {
   "cell_type": "code",
   "execution_count": 10,
   "id": "e3b19c18",
   "metadata": {},
   "outputs": [
    {
     "data": {
      "text/plain": [
       "<pyrealsense2.frameset Z16 RGB8 #20939 @1681973559721.229492>"
      ]
     },
     "execution_count": 10,
     "metadata": {},
     "output_type": "execute_result"
    }
   ],
   "source": [
    "pipe.wait_for_frames()"
   ]
  },
  {
   "cell_type": "code",
   "execution_count": 13,
   "id": "5137a24a",
   "metadata": {},
   "outputs": [],
   "source": [
    "calibs[0].write_cal()"
   ]
  },
  {
   "cell_type": "code",
   "execution_count": 15,
   "id": "e92d54f7",
   "metadata": {},
   "outputs": [
    {
     "data": {
      "text/plain": [
       "(array([[-0.84808737,  0.4262841 , -0.31468979,  0.40351272],\n",
       "        [ 0.52545941,  0.60029322, -0.60294318,  0.5380581 ],\n",
       "        [-0.06811896, -0.67670518, -0.73309612,  0.58273423],\n",
       "        [ 0.        ,  0.        ,  0.        ,  1.        ]]),\n",
       " array([[-0.84808737,  0.4262841 , -0.31468979,  0.40351272],\n",
       "        [ 0.52545941,  0.60029322, -0.60294318,  0.5380581 ],\n",
       "        [-0.06811896, -0.67670518, -0.73309612,  0.58273423],\n",
       "        [ 0.        ,  0.        ,  0.        ,  1.        ]]))"
      ]
     },
     "execution_count": 15,
     "metadata": {},
     "output_type": "execute_result"
    }
   ],
   "source": [
    "c.load_calibration()"
   ]
  },
  {
   "cell_type": "code",
   "execution_count": 14,
   "id": "77cc7bd2",
   "metadata": {},
   "outputs": [
    {
     "data": {
      "text/plain": [
       "'135122074917'"
      ]
     },
     "execution_count": 14,
     "metadata": {},
     "output_type": "execute_result"
    }
   ],
   "source": [
    "c.stream2.serial"
   ]
  },
  {
   "cell_type": "code",
   "execution_count": 6,
   "id": "a68d1210",
   "metadata": {},
   "outputs": [
    {
     "data": {
      "text/plain": [
       "array([[-0.96256417, -0.13714731,  0.23379639, -0.32703084],\n",
       "       [-0.26276806,  0.68378419, -0.68072909,  0.55352437],\n",
       "       [-0.06650609, -0.71667969, -0.69422412,  0.58489674],\n",
       "       [ 0.        ,  0.        ,  0.        ,  1.        ]])"
      ]
     },
     "execution_count": 6,
     "metadata": {},
     "output_type": "execute_result"
    }
   ],
   "source": [
    "cal1._pose"
   ]
  },
  {
   "cell_type": "code",
   "execution_count": 22,
   "id": "49794ac5",
   "metadata": {},
   "outputs": [],
   "source": [
    "pcd4=o3d.t.io.read_point_cloud('4.ply')"
   ]
  },
  {
   "cell_type": "code",
   "execution_count": 16,
   "id": "6735e3c7",
   "metadata": {},
   "outputs": [],
   "source": [
    "f=cal1._pipe.wait_for_frames()"
   ]
  },
  {
   "cell_type": "code",
   "execution_count": 25,
   "id": "af958e09",
   "metadata": {},
   "outputs": [
    {
     "data": {
      "text/plain": [
       "<pyrealsense2.frameset Z16 RGB8 #20972 @1681973559884.871338>"
      ]
     },
     "execution_count": 25,
     "metadata": {},
     "output_type": "execute_result"
    }
   ],
   "source": [
    "f"
   ]
  },
  {
   "cell_type": "code",
   "execution_count": 17,
   "id": "7033a4a8",
   "metadata": {},
   "outputs": [],
   "source": [
    "aligned_frames = cal1._align_to_color.process(f)\n",
    "\n",
    "rs_depth = aligned_frames.get_depth_frame()\n",
    "rs_depth = cal1._threshold_filter.process(rs_depth)\n",
    "rs_color = aligned_frames.get_color_frame()\n",
    "\n",
    "np_depth = np.asanyarray(rs_depth.get_data())\n",
    "np_color = np.asanyarray(rs_color.get_data())\n",
    "depth = o3d.t.geometry.Image(o3d.core.Tensor(np_depth, device=rec2.pcd.device))\n",
    "color = o3d.t.geometry.Image(o3d.core.Tensor(np_color, device=rec2.pcd.device))\n",
    "frame = (depth, color)"
   ]
  },
  {
   "cell_type": "code",
   "execution_count": 18,
   "id": "996a1931",
   "metadata": {},
   "outputs": [],
   "source": [
    "rgbdim = o3d.t.geometry.RGBDImage(frame[1], frame[0])\n",
    "pcd1=o3d.t.geometry.PointCloud.create_from_rgbd_image(rgbdim, cal1.intrinsics, depth_scale=1000,\n",
    "                                                                         depth_max=1.5)"
   ]
  },
  {
   "cell_type": "code",
   "execution_count": 8,
   "id": "a28d2c1d",
   "metadata": {},
   "outputs": [],
   "source": [
    "pcd1 = pcd2"
   ]
  },
  {
   "cell_type": "code",
   "execution_count": 19,
   "id": "d7dd1d2c",
   "metadata": {},
   "outputs": [
    {
     "data": {
      "text/plain": [
       "True"
      ]
     },
     "execution_count": 19,
     "metadata": {},
     "output_type": "execute_result"
    }
   ],
   "source": [
    "o3d.t.io.write_point_cloud('1.pcd',pcd1)\n",
    "o3d.t.io.write_point_cloud('2.pcd',pcd2)"
   ]
  },
  {
   "cell_type": "code",
   "execution_count": null,
   "id": "ae5a6ac6",
   "metadata": {},
   "outputs": [],
   "source": []
  }
 ],
 "metadata": {
  "kernelspec": {
   "display_name": "SpyGRT",
   "language": "python",
   "name": "spygrt"
  },
  "language_info": {
   "codemirror_mode": {
    "name": "ipython",
    "version": 3
   },
   "file_extension": ".py",
   "mimetype": "text/x-python",
   "name": "python",
   "nbconvert_exporter": "python",
   "pygments_lexer": "ipython3",
   "version": "3.10.10"
  }
 },
 "nbformat": 4,
 "nbformat_minor": 5
}
