{
 "cells": [
  {
   "cell_type": "code",
   "execution_count": 1,
   "id": "dcf07ba9",
   "metadata": {},
   "outputs": [],
   "source": [
    "import pyrealsense2 as rs2\n",
    "import open3d as o3d\n",
    "import numpy as np\n",
    "import time\n",
    "from spygrt.stream import Recording, NoMoreFrames, DualRecording\n",
    "from spygrt.tracker import Tracker\n",
    "from spygrt.calibration import Calibrator\n",
    "import importlib\n",
    "import time"
   ]
  },
  {
   "cell_type": "code",
   "execution_count": 2,
   "id": "f82a9cc4",
   "metadata": {},
   "outputs": [],
   "source": [
    "#SET UP\n",
    "\n",
    "rec1 = 'E:/VISION/133/Recording_Session/121622061907_2023Mar23023414.bag'\n",
    "rec2 = 'E:/VISION/133/Recording_Session/123122061443_2023Mar23023414.bag'\n",
    "cal1 = 'E:/VISION/133/RS_Calibration/121622061907_2023Mar23015527.bag'\n",
    "cal2 = 'E:/VISION/133/RS_Calibration/123122061443_2023Mar23015527.bag'\n",
    "opt1 = 'E:/VISION/133/OptiTrack_Calibration_Square/121622061907_2023Mar23015642.bag'\n",
    "opt2 = 'E:/VISION/133/OptiTrack_Calibration_Square/123122061443_2023Mar23015642.bag'\n",
    "d = DualRecording(rec1,rec2)\n",
    "d.start_stream()\n",
    "c = DualRecording(cal1,cal2)\n",
    "c.start_stream()\n",
    "calibs = (Calibrator(c.stream1), Calibrator(c.stream2))\n",
    "o = DualRecording(opt1,opt2)\n",
    "o.start_stream()"
   ]
  },
  {
   "cell_type": "code",
   "execution_count": 3,
   "id": "e46ebdf1",
   "metadata": {},
   "outputs": [],
   "source": [
    "# CALIBRATION FOR ESTRO\n",
    "\n",
    "for i in range (100):\n",
    "    try:\n",
    "        calibs[0].find_corners3d()\n",
    "        calibs[1].find_corners3d()\n",
    "    except NoMoreFrames:\n",
    "        print(\"Reached the end of stream, used only the first \" +str(i) + \" frames for calibration.\")\n",
    "        break\n",
    "\n",
    "#calibs[0].corners_scale()\n",
    "#calibs[1].corners_scale()\n",
    "calibs[0].align_cameras(calibs[1])\n",
    "calibs[1].align_to_board(cal2 = calibs[0])\n",
    "for cal in calibs:\n",
    "    cal.write_cal()\n",
    "    cal._pose = o3d.core.Tensor(np.identity(4), dtype=o3d.core.Dtype.Float32,device=cal._stream.pcd.device)\n",
    "c.load_calibration()\n",
    "adj = o3d.core.Tensor(np.identity(4), dtype=o3d.core.Dtype.Float32, device=cal._pose.device)\n",
    "adj[1][1]=-1\n",
    "adj[0][0]=-1\n",
    "for i in range (100):\n",
    "    try:\n",
    "        calibs[0].find_corners3d()\n",
    "        calibs[1].find_corners3d()\n",
    "    except NoMoreFrames:\n",
    "        print(\"Reached the end of stream, used only the first \" +str(i) + \" frames for calibration.\")\n",
    "        break\n",
    "\n",
    "#calibs[0].corners_scale()\n",
    "#calibs[1].corners_scale()\n",
    "calibs[0].align_cameras(calibs[1])\n",
    "calibs[1].align_to_board(cal2 = calibs[0])\n",
    "for cal in calibs:\n",
    "    cal.write_cal()"
   ]
  },
  {
   "cell_type": "code",
   "execution_count": null,
   "id": "7b40586c",
   "metadata": {},
   "outputs": [],
   "source": [
    "t = Tracker(ref_surface=d.pcd)\n",
    "data = []\n",
    "import time\n",
    "a = time.time()\n",
    "data.append(np.concatenate(([d.timestamp], Tracker.compute_translation(t.t_guess), Tracker.compute_rotation(t.t_guess))))\n",
    "for i in range(120000):\n",
    "    \n",
    "    try:\n",
    "        t.get_motion(d.compute_pcd(True))\n",
    "    except RuntimeError:\n",
    "        continue\n",
    "    except NoMoreFrames:\n",
    "        np.savetxt('track_133.txt',data)\n",
    "        break\n",
    "    data.append(np.concatenate(([d.timestamp], Tracker.compute_translation(t.t_guess), Tracker.compute_rotation(t.t_guess))))\n",
    "    mat_arr.append(t._t_guess)\n",
    "    if i%100 == 0:\n",
    "        print(i/100)\n",
    "        np.savetxt('track_133.txt',data)\n",
    "b = time.time()\n",
    "b-a   "
   ]
  },
  {
   "cell_type": "code",
   "execution_count": 7,
   "id": "94c35c84",
   "metadata": {},
   "outputs": [
    {
     "data": {
      "text/plain": [
       "(array([[1., 0., 0., 0.],\n",
       "        [0., 1., 0., 0.],\n",
       "        [0., 0., 1., 0.],\n",
       "        [0., 0., 0., 1.]]),\n",
       " array([[1., 0., 0., 0.],\n",
       "        [0., 1., 0., 0.],\n",
       "        [0., 0., 1., 0.],\n",
       "        [0., 0., 0., 1.]]))"
      ]
     },
     "execution_count": 7,
     "metadata": {},
     "output_type": "execute_result"
    }
   ],
   "source": [
    "o.load_calibration(force=True)"
   ]
  },
  {
   "cell_type": "code",
   "execution_count": 7,
   "id": "fe8be776",
   "metadata": {},
   "outputs": [
    {
     "name": "stdout",
     "output_type": "stream",
     "text": [
      "[Open3D INFO] Picked point #194085 (0.05, -0.056, 0.13) to add in queue.\n",
      "[Open3D INFO] Picked point #670412 (-0.08, 0.091, 0.13) to add in queue.\n"
     ]
    }
   ],
   "source": [
    "t = Tracker(ref_surface=d.pcd)"
   ]
  },
  {
   "cell_type": "code",
   "execution_count": 4,
   "id": "f471196a",
   "metadata": {},
   "outputs": [
    {
     "name": "stdout",
     "output_type": "stream",
     "text": [
      "[Open3D INFO] Picked point #267919 (-0.028, 0.014, 0.026) to add in queue.\n",
      "[Open3D INFO] Remove picked point #267919 from pick queue.\n",
      "[Open3D INFO] Picked point #971541 (-0.034, 0.21, 0.023) to add in queue.\n",
      "[Open3D INFO] Picked point #123012 (-0.028, 0.011, 0.026) to add in queue.\n",
      "[Open3D INFO] Picked point #1119622 (-0.18, 0.013, 0.032) to add in queue.\n"
     ]
    }
   ],
   "source": [
    "ot = Tracker(ref_surface=o.pcd)"
   ]
  },
  {
   "cell_type": "code",
   "execution_count": 6,
   "id": "229a81d2",
   "metadata": {},
   "outputs": [],
   "source": [
    "for cal in calibs:\n",
    "    cal.write_cal()"
   ]
  },
  {
   "cell_type": "code",
   "execution_count": null,
   "id": "8abcfb2c",
   "metadata": {},
   "outputs": [],
   "source": [
    "[Open3D INFO] Picked point #1061769 (-0.037, 0.21, 0.023) to add in queue.\n",
    "[Open3D INFO] Picked point #220126 (-0.028, 0.015, 0.027) to add in queue.\n",
    "[Open3D INFO] Picked point #1023532 (-0.18, 0.013, 0.029) to add in queue."
   ]
  }
 ],
 "metadata": {
  "kernelspec": {
   "display_name": "SpyGRT",
   "language": "python",
   "name": "spygrt"
  },
  "language_info": {
   "codemirror_mode": {
    "name": "ipython",
    "version": 3
   },
   "file_extension": ".py",
   "mimetype": "text/x-python",
   "name": "python",
   "nbconvert_exporter": "python",
   "pygments_lexer": "ipython3",
   "version": "3.10.10"
  }
 },
 "nbformat": 4,
 "nbformat_minor": 5
}
