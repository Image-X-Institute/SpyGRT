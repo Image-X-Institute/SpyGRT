{
 "cells": [
  {
   "cell_type": "code",
   "execution_count": 1,
   "id": "dcf07ba9",
   "metadata": {},
   "outputs": [],
   "source": [
    "import pyrealsense2 as rs2\n",
    "import open3d as o3d\n",
    "import numpy as np\n",
    "import time\n",
    "from spygrt.stream import Recording, NoMoreFrames, DualRecording\n",
    "from spygrt.tracker import Tracker\n",
    "from spygrt.calibration import Calibrator\n",
    "import importlib\n",
    "import time"
   ]
  },
  {
   "cell_type": "code",
   "execution_count": 2,
   "id": "f82a9cc4",
   "metadata": {},
   "outputs": [],
   "source": [
    "#SET UP\n",
    "\n",
    "rec1 = 'E:/VISION/135/Recording_Session/121622061907_2023Apr12021622.bag'\n",
    "rec2 = 'E:/VISION/135/Recording_Session/123122061443_2023Apr12021622.bag'\n",
    "cal1 = 'E:/VISION/134/RS_Calibration/121622061907_2023Apr12010202.bag'\n",
    "cal2 = 'E:/VISION/134/RS_Calibration/123122061443_2023Apr12010202.bag'\n",
    "opt1 = 'E:/VISION/134/OptiTrack_Calibration_Square/121622061907_2023Apr12011406.bag'\n",
    "opt2 = 'E:/VISION/134/OptiTrack_Calibration_Square/123122061443_2023Apr12011406.bag'\n",
    "d = DualRecording(rec1,rec2)\n",
    "d.start_stream()\n",
    "c = DualRecording(cal1,cal2)\n",
    "c.start_stream()\n",
    "calibs = (Calibrator(c.stream1), Calibrator(c.stream2))\n",
    "o = DualRecording(opt1,opt2)\n",
    "o.start_stream()"
   ]
  },
  {
   "cell_type": "code",
   "execution_count": 3,
   "id": "e46ebdf1",
   "metadata": {},
   "outputs": [],
   "source": [
    "# CALIBRATION FOR ESTRO\n",
    "\n",
    "for i in range (100):\n",
    "    try:\n",
    "        calibs[0].find_corners3d()\n",
    "        calibs[1].find_corners3d()\n",
    "    except NoMoreFrames:\n",
    "        print(\"Reached the end of stream, used only the first \" +str(i) + \" frames for calibration.\")\n",
    "        break\n",
    "\n",
    "#calibs[0].corners_scale()\n",
    "#calibs[1].corners_scale()\n",
    "calibs[0].align_cameras(calibs[1])\n",
    "calibs[1].align_to_board(cal2 = calibs[0])\n",
    "for cal in calibs:\n",
    "    cal.write_cal()\n",
    "    cal._pose = o3d.core.Tensor(np.identity(4), dtype=o3d.core.Dtype.Float32,device=cal._stream.pcd.device)\n",
    "c.load_calibration()\n",
    "for i in range (100):\n",
    "    try:\n",
    "        calibs[0].find_corners3d()\n",
    "        calibs[1].find_corners3d()\n",
    "    except NoMoreFrames:\n",
    "        print(\"Reached the end of stream, used only the first \" +str(i) + \" frames for calibration.\")\n",
    "        break\n",
    "\n",
    "#calibs[0].corners_scale()\n",
    "#calibs[1].corners_scale()\n",
    "calibs[0].align_cameras(calibs[1])\n",
    "calibs[1].align_to_board(cal2 = calibs[0])\n",
    "adj = o3d.core.Tensor(np.identity(4), dtype=o3d.core.Dtype.Float32, device=cal._pose.device)\n",
    "adj[1][1]=-1\n",
    "adj[0][0]=-1\n",
    "adj[0][3] = -0.0215\n",
    "adj[1][3] = -0.060\n",
    "adj[2][3] = -0.120\n",
    "calibs[0]._pose = adj@calibs[0].pose\n",
    "calibs[1]._pose = adj@calibs[1].pose\n",
    "for cal in calibs:\n",
    "    cal.write_cal()"
   ]
  },
  {
   "cell_type": "code",
   "execution_count": null,
   "id": "a16f936d",
   "metadata": {},
   "outputs": [
    {
     "name": "stdout",
     "output_type": "stream",
     "text": [
      "Timestamps:1681272982537.721 1681272982646.8347\n",
      "Timestamps:1681272982537.721 1681272982646.8347\n",
      "Timestamps:1681272982537.721 1681272982646.8347\n",
      "Timestamps:1681272982772.5537 1681272982646.8347\n",
      "0.0\n",
      "Timestamps:1681272983376.3613 1681272983486.7515\n",
      "Timestamps:1681272983376.3613 1681272983486.7515\n",
      "Timestamps:1681272983376.3613 1681272983486.7515\n",
      "Timestamps:1681272983376.3613 1681272983486.7515\n",
      "Timestamps:1681272983376.3613 1681272983486.7515\n",
      "Timestamps:1681272983376.3613 1681272983486.7515\n",
      "Timestamps:1681272983778.9211 1681272983486.7515\n",
      "Timestamps:1681272983778.9211 1681272983520.3472\n",
      "Timestamps:1681272983778.9211 1681272983553.943\n",
      "Timestamps:1681272983778.9211 1681272983587.539\n",
      "Timestamps:1681272983778.9211 1681272983621.1348\n",
      "Timestamps:1681272983778.9211 1681272983654.7307\n"
     ]
    }
   ],
   "source": [
    "t = Tracker(ref_surface=d.pcd)\n",
    "data = []\n",
    "import time\n",
    "a = time.time()\n",
    "for i in range(120000):\n",
    "    \n",
    "    try:\n",
    "        t.get_motion(d.compute_pcd(True))\n",
    "    except RuntimeError:\n",
    "        continue\n",
    "    except NoMoreFrames:\n",
    "        np.savetxt('track_135.txt',data)\n",
    "        break\n",
    "    nt = t.t_guess.inv()    \n",
    "    data.append(np.concatenate(([d.timestamp], Tracker.compute_translation(nt), Tracker.compute_rotation(nt))))\n",
    "    if i%100 == 0:\n",
    "        print(i/100)\n",
    "        np.savetxt('track_135.txt',data)\n",
    "b = time.time()\n",
    "b-a   "
   ]
  },
  {
   "cell_type": "code",
   "execution_count": 4,
   "id": "94c35c84",
   "metadata": {},
   "outputs": [
    {
     "data": {
      "text/plain": [
       "(array([[ 0.73145878, -0.46030766,  0.50307554, -0.38821465],\n",
       "        [-0.68160343, -0.51479334,  0.52000433, -0.41811669],\n",
       "        [ 0.01961797, -0.72325975, -0.69029737,  0.48424962],\n",
       "        [ 0.        ,  0.        ,  0.        ,  1.        ]]),\n",
       " array([[ 0.75355726,  0.47636428, -0.4530215 ,  0.41423345],\n",
       "        [ 0.6517849 , -0.4516702 ,  0.60923761, -0.44040293],\n",
       "        [ 0.08560272, -0.75436801, -0.65084642,  0.49168023],\n",
       "        [ 0.        ,  0.        ,  0.        ,  1.        ]]))"
      ]
     },
     "execution_count": 4,
     "metadata": {},
     "output_type": "execute_result"
    }
   ],
   "source": [
    "o.load_calibration(force=True)"
   ]
  },
  {
   "cell_type": "code",
   "execution_count": 4,
   "id": "fe8be776",
   "metadata": {},
   "outputs": [
    {
     "name": "stdout",
     "output_type": "stream",
     "text": [
      "[Open3D INFO] Picked point #216382 (-0.078, -0.033, 0.0016) to add in queue.\n",
      "[Open3D INFO] Picked point #677477 (0.081, -0.18, 0.068) to add in queue.\n"
     ]
    }
   ],
   "source": [
    "t = Tracker(ref_surface=d.pcd)"
   ]
  },
  {
   "cell_type": "code",
   "execution_count": 10,
   "id": "06009081",
   "metadata": {},
   "outputs": [
    {
     "name": "stdout",
     "output_type": "stream",
     "text": [
      "[Open3D INFO] Picked point #848194 (-0.0089, 0.0095, -0.12) to add in queue.\n",
      "[Open3D INFO] Picked point #461669 (0.0090, -0.075, -0.093) to add in queue.\n"
     ]
    }
   ],
   "source": [
    "ot = Tracker(ref_surface=o.pcd)"
   ]
  },
  {
   "cell_type": "code",
   "execution_count": 6,
   "id": "c88273bd",
   "metadata": {},
   "outputs": [],
   "source": [
    "for cal in calibs:\n",
    "    cal.write_cal()"
   ]
  },
  {
   "cell_type": "code",
   "execution_count": null,
   "id": "2bc1978f",
   "metadata": {},
   "outputs": [],
   "source": [
    "[Open3D INFO] Picked point #1061769 (-0.037, 0.21, 0.023) to add in queue.\n",
    "[Open3D INFO] Picked point #220126 (-0.028, 0.015, 0.027) to add in queue.\n",
    "[Open3D INFO] Picked point #1023532 (-0.18, 0.013, 0.029) to add in queue."
   ]
  },
  {
   "cell_type": "code",
   "execution_count": 7,
   "id": "af300c8f",
   "metadata": {},
   "outputs": [
    {
     "data": {
      "text/plain": [
       "array([ 1.68127298e+12, -1.02986378e-04,  2.80050254e-05, -5.62721025e-05,\n",
       "       -2.75960183e-02, -3.15382275e-02,  4.29738733e-02])"
      ]
     },
     "execution_count": 7,
     "metadata": {},
     "output_type": "execute_result"
    }
   ],
   "source": [
    "data[1]"
   ]
  },
  {
   "cell_type": "code",
   "execution_count": null,
   "id": "e18a63f6",
   "metadata": {},
   "outputs": [],
   "source": []
  }
 ],
 "metadata": {
  "kernelspec": {
   "display_name": "SpyGRT",
   "language": "python",
   "name": "spygrt"
  },
  "language_info": {
   "codemirror_mode": {
    "name": "ipython",
    "version": 3
   },
   "file_extension": ".py",
   "mimetype": "text/x-python",
   "name": "python",
   "nbconvert_exporter": "python",
   "pygments_lexer": "ipython3",
   "version": "3.10.10"
  }
 },
 "nbformat": 4,
 "nbformat_minor": 5
}
