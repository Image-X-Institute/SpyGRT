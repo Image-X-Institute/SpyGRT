{
 "cells": [
  {
   "cell_type": "code",
   "execution_count": 1,
   "id": "af31ef87",
   "metadata": {},
   "outputs": [
    {
     "name": "stdout",
     "output_type": "stream",
     "text": [
      "Jupyter environment detected. Enabling Open3D WebVisualizer.\n",
      "[Open3D INFO] WebRTC GUI backend enabled.\n",
      "[Open3D INFO] WebRTCWindowSystem: HTTP handshake server disabled.\n"
     ]
    },
    {
     "ename": "NoMoreFrames",
     "evalue": "Reached the end of the stream",
     "output_type": "error",
     "traceback": [
      "\u001b[1;31m---------------------------------------------------------------------------\u001b[0m",
      "\u001b[1;31mNoMoreFrames\u001b[0m                              Traceback (most recent call last)",
      "\u001b[1;32mC:\\Users\\REMOVE~1\\AppData\\Local\\Temp/ipykernel_10728/2811873180.py\u001b[0m in \u001b[0;36m<module>\u001b[1;34m\u001b[0m\n\u001b[0;32m      9\u001b[0m \u001b[1;33m\u001b[0m\u001b[0m\n\u001b[0;32m     10\u001b[0m \u001b[0mrecs\u001b[0m \u001b[1;33m=\u001b[0m \u001b[1;33m(\u001b[0m\u001b[0mRecording\u001b[0m\u001b[1;33m(\u001b[0m\u001b[0mf1\u001b[0m\u001b[1;33m)\u001b[0m\u001b[1;33m,\u001b[0m\u001b[0mRecording\u001b[0m\u001b[1;33m(\u001b[0m\u001b[0mf2\u001b[0m\u001b[1;33m)\u001b[0m\u001b[1;33m)\u001b[0m\u001b[1;33m\u001b[0m\u001b[1;33m\u001b[0m\u001b[0m\n\u001b[1;32m---> 11\u001b[1;33m \u001b[0mcalibs\u001b[0m \u001b[1;33m=\u001b[0m \u001b[1;33m(\u001b[0m\u001b[0mCalibrator\u001b[0m\u001b[1;33m(\u001b[0m\u001b[0mrecs\u001b[0m\u001b[1;33m[\u001b[0m\u001b[1;36m0\u001b[0m\u001b[1;33m]\u001b[0m\u001b[1;33m)\u001b[0m\u001b[1;33m,\u001b[0m \u001b[0mCalibrator\u001b[0m\u001b[1;33m(\u001b[0m\u001b[0mrecs\u001b[0m\u001b[1;33m[\u001b[0m\u001b[1;36m1\u001b[0m\u001b[1;33m]\u001b[0m\u001b[1;33m)\u001b[0m\u001b[1;33m)\u001b[0m\u001b[1;33m\u001b[0m\u001b[1;33m\u001b[0m\u001b[0m\n\u001b[0m\u001b[0;32m     12\u001b[0m \u001b[1;33m\u001b[0m\u001b[0m\n\u001b[0;32m     13\u001b[0m \u001b[0ms_corner_lst\u001b[0m \u001b[1;33m=\u001b[0m \u001b[1;33m[\u001b[0m\u001b[1;33m]\u001b[0m\u001b[1;33m\u001b[0m\u001b[1;33m\u001b[0m\u001b[0m\n",
      "\u001b[1;32mc:\\users\\removethemask\\mydocs\\code\\spygrt\\spygrt\\calibration.py\u001b[0m in \u001b[0;36m__init__\u001b[1;34m(self, cam)\u001b[0m\n\u001b[0;32m     43\u001b[0m                 \u001b[0mself\u001b[0m\u001b[1;33m.\u001b[0m\u001b[0msensor\u001b[0m \u001b[1;33m=\u001b[0m \u001b[0mcam\u001b[0m\u001b[1;33m\u001b[0m\u001b[1;33m\u001b[0m\u001b[0m\n\u001b[0;32m     44\u001b[0m                 \u001b[0mself\u001b[0m\u001b[1;33m.\u001b[0m\u001b[0msensor\u001b[0m\u001b[1;33m.\u001b[0m\u001b[0mstart_stream\u001b[0m\u001b[1;33m(\u001b[0m\u001b[1;33m)\u001b[0m\u001b[1;33m\u001b[0m\u001b[1;33m\u001b[0m\u001b[0m\n\u001b[1;32m---> 45\u001b[1;33m                 \u001b[0mself\u001b[0m\u001b[1;33m.\u001b[0m\u001b[0mdepth\u001b[0m\u001b[1;33m,\u001b[0m \u001b[0mself\u001b[0m\u001b[1;33m.\u001b[0m\u001b[0mcolor\u001b[0m \u001b[1;33m=\u001b[0m \u001b[0mcam\u001b[0m\u001b[1;33m.\u001b[0m\u001b[0mget_frames\u001b[0m\u001b[1;33m(\u001b[0m\u001b[1;33m)\u001b[0m\u001b[1;33m\u001b[0m\u001b[1;33m\u001b[0m\u001b[0m\n\u001b[0m\u001b[0;32m     46\u001b[0m                 \u001b[0mself\u001b[0m\u001b[1;33m.\u001b[0m\u001b[0mdepth\u001b[0m \u001b[1;33m=\u001b[0m \u001b[0mself\u001b[0m\u001b[1;33m.\u001b[0m\u001b[0mdepth\u001b[0m\u001b[1;33m.\u001b[0m\u001b[0mfilter_bilateral\u001b[0m\u001b[1;33m(\u001b[0m\u001b[1;36m10\u001b[0m\u001b[1;33m,\u001b[0m\u001b[1;36m20\u001b[0m\u001b[1;33m/\u001b[0m\u001b[1;36m65535\u001b[0m\u001b[1;33m,\u001b[0m\u001b[1;36m10\u001b[0m\u001b[1;33m)\u001b[0m\u001b[1;33m\u001b[0m\u001b[1;33m\u001b[0m\u001b[0m\n\u001b[0;32m     47\u001b[0m                 \u001b[0mself\u001b[0m\u001b[1;33m.\u001b[0m\u001b[0mo3d_intrinsics\u001b[0m \u001b[1;33m=\u001b[0m \u001b[0mcam\u001b[0m\u001b[1;33m.\u001b[0m\u001b[0mget_o3d_intrinsics\u001b[0m\u001b[1;33m(\u001b[0m\u001b[1;33m)\u001b[0m\u001b[1;33m\u001b[0m\u001b[1;33m\u001b[0m\u001b[0m\n",
      "\u001b[1;32mc:\\users\\removethemask\\mydocs\\code\\spygrt\\spygrt\\stream.py\u001b[0m in \u001b[0;36mget_frames\u001b[1;34m(self, encoding)\u001b[0m\n\u001b[0;32m    551\u001b[0m \u001b[1;33m\u001b[0m\u001b[0m\n\u001b[0;32m    552\u001b[0m                 \u001b[1;31m# If the above statement doesn't raise an exception, assume we reached the end of the file.\u001b[0m\u001b[1;33m\u001b[0m\u001b[1;33m\u001b[0m\u001b[0m\n\u001b[1;32m--> 553\u001b[1;33m                 \u001b[1;32mraise\u001b[0m \u001b[0mNoMoreFrames\u001b[0m\u001b[1;33m(\u001b[0m\u001b[1;34m\"Reached the end of the stream\"\u001b[0m\u001b[1;33m)\u001b[0m\u001b[1;33m\u001b[0m\u001b[1;33m\u001b[0m\u001b[0m\n\u001b[0m\u001b[0;32m    554\u001b[0m         \u001b[1;32mexcept\u001b[0m \u001b[0mAttributeError\u001b[0m\u001b[1;33m:\u001b[0m\u001b[1;33m\u001b[0m\u001b[1;33m\u001b[0m\u001b[0m\n\u001b[0;32m    555\u001b[0m             \u001b[1;32mpass\u001b[0m\u001b[1;33m\u001b[0m\u001b[1;33m\u001b[0m\u001b[0m\n",
      "\u001b[1;31mNoMoreFrames\u001b[0m: Reached the end of the stream"
     ]
    }
   ],
   "source": [
    "from spygrt.stream import Recording, NoMoreFrames\n",
    "from spygrt.calibration import Calibrator\n",
    "import open3d as o3d\n",
    "import numpy as np\n",
    "\n",
    "#E:/VISION/103/RS_Calibration/121622061907_2022Jul20022730.bag\n",
    "f1 = 'E:/VISION/Youssef_Test/RS_Calibration/121622061907_2022May24111913.bag'\n",
    "f2 = 'E:/VISION/Youssef_Test/RS_Calibration/123122061443_2022May24111913.bag'\n",
    "\n",
    "recs = (Recording(f1),Recording(f2))\n",
    "calibs = (Calibrator(recs[0]), Calibrator(recs[1]))\n",
    "\n",
    "s_corner_lst = []\n",
    "t_corner_lst = []\n",
    "\n",
    "for i in range (100):\n",
    "    try:\n",
    "        calibs[0].refresh()\n",
    "        calibs[1].refresh()\n",
    "    except NoMoreFrames:\n",
    "        print(\"Reached the end of stream, used only the first \" +str(i) + \" frames for calibration.\")\n",
    "        break\n",
    "        \n",
    "    s_corner_lst.append(calibs[0].find_corners3D())\n",
    "    t_corner_lst.append(calibs[1].find_corners3D())\n",
    "    \n",
    "s_corners = np.mean(s_corner_lst, axis=0)\n",
    "t_corners = np.mean(t_corner_lst, axis=0)\n",
    "    "
   ]
  },
  {
   "cell_type": "code",
   "execution_count": 2,
   "id": "bbcc8616",
   "metadata": {},
   "outputs": [],
   "source": [
    "calibs[0].corners = s_corners\n",
    "calibs[1].corners = t_corners\n",
    "I = o3d.core.Tensor(np.identity(4),o3d.core.Dtype.Float32)\n",
    "calibs[0].T = I\n",
    "calibs[1].T = I"
   ]
  },
  {
   "cell_type": "code",
   "execution_count": 3,
   "id": "7407475a",
   "metadata": {},
   "outputs": [],
   "source": [
    "calibs[0].corners_scale()\n",
    "calibs[1].corners_scale()"
   ]
  },
  {
   "cell_type": "code",
   "execution_count": 4,
   "id": "c461af3d",
   "metadata": {},
   "outputs": [],
   "source": [
    "calibs[0].align_cameras(calibs[1])"
   ]
  },
  {
   "cell_type": "code",
   "execution_count": 5,
   "id": "42ea8d30",
   "metadata": {},
   "outputs": [],
   "source": [
    "calibs[1].align_to_board(cal2 = calibs[0])"
   ]
  },
  {
   "cell_type": "code",
   "execution_count": 6,
   "id": "f605e531",
   "metadata": {},
   "outputs": [],
   "source": [
    "for cal in calibs:\n",
    "    cal.write_cal()"
   ]
  },
  {
   "cell_type": "code",
   "execution_count": 2,
   "id": "e2ba2849",
   "metadata": {},
   "outputs": [],
   "source": [
    "s_corners = o3d.core.Tensor(s_corners, dtype = o3d.core.Dtype.Float32)\n",
    "t_corners = o3d.core.Tensor(t_corners, dtype = o3d.core.Dtype.Float32)\n",
    "s_pcd = o3d.t.geometry.PointCloud(s_corners).to_legacy()\n",
    "t_pcd = o3d.t.geometry.PointCloud(t_corners).to_legacy()\n",
    "corr = np.zeros((len(s_corners),2))\n",
    "corr[:, 0] = np.arange(0,len(s_corners))\n",
    "corr[:, 1] = np.arange(0,len(t_corners))\n",
    "icp = o3d.pipelines.registration.TransformationEstimationPointToPoint()\n",
    "T = o3d.core.Tensor(icp.compute_transformation(s_pcd,t_pcd,o3d.utility.Vector2iVector(corr)), dtype = o3d.core.Dtype.Float32)"
   ]
  },
  {
   "cell_type": "code",
   "execution_count": 11,
   "id": "857d6ac1",
   "metadata": {},
   "outputs": [
    {
     "data": {
      "text/plain": [
       "array([[ 0.18481889, -0.07358927,  0.98601356],\n",
       "       [ 0.15020629, -0.05677868,  0.96503751],\n",
       "       [ 0.1151151 , -0.03942576,  0.94568689],\n",
       "       [ 0.08011095, -0.02237193,  0.92479591],\n",
       "       [ 0.04423485, -0.00588885,  0.90550469],\n",
       "       [ 0.01093504,  0.01076324,  0.88845526],\n",
       "       [-0.02530503,  0.02761602,  0.87152583],\n",
       "       [-0.05897899,  0.04495291,  0.85406288],\n",
       "       [ 0.16082952, -0.09941704,  1.00766767],\n",
       "       [ 0.12437866, -0.08217293,  0.98756358],\n",
       "       [ 0.09059139, -0.06538009,  0.96628826],\n",
       "       [ 0.05501902, -0.04863471,  0.9460921 ],\n",
       "       [ 0.02091968, -0.03175475,  0.92663351],\n",
       "       [-0.0144284 , -0.01514216,  0.91153186],\n",
       "       [-0.04848748,  0.00210943,  0.89306317],\n",
       "       [-0.08457951,  0.01878199,  0.88099931],\n",
       "       [ 0.13552557, -0.1253405 ,  1.02957044],\n",
       "       [ 0.10108695, -0.10847945,  1.0101916 ],\n",
       "       [ 0.06502422, -0.09150068,  0.9893534 ],\n",
       "       [ 0.03137448, -0.07461904,  0.96861563],\n",
       "       [-0.00360889, -0.05781815,  0.95340777],\n",
       "       [-0.03807707, -0.04140164,  0.93572225],\n",
       "       [-0.07377167, -0.02457832,  0.92061874],\n",
       "       [-0.10855938, -0.00761646,  0.90445411],\n",
       "       [ 0.11108348, -0.15143569,  1.04988703],\n",
       "       [ 0.07549758, -0.13444739,  1.0328832 ],\n",
       "       [ 0.04153447, -0.11735141,  1.01072987],\n",
       "       [ 0.00693896, -0.10079893,  0.99480003],\n",
       "       [-0.02796505, -0.08407114,  0.97723845],\n",
       "       [-0.06314683, -0.0672075 ,  0.96092064],\n",
       "       [-0.09855604, -0.05101816,  0.94852036],\n",
       "       [-0.13445785, -0.03396499,  0.93189594],\n",
       "       [ 0.08650179, -0.17778679,  1.07477106],\n",
       "       [ 0.05175981, -0.16067186,  1.05348824],\n",
       "       [ 0.01685679, -0.14397507,  1.03746442],\n",
       "       [-0.01778055, -0.12735085,  1.01995901],\n",
       "       [-0.05386652, -0.11074475,  1.00342258],\n",
       "       [-0.08799495, -0.09429217,  0.98946435],\n",
       "       [-0.12324431, -0.07716788,  0.97026252],\n",
       "       [-0.15852654, -0.06082587,  0.95346957]])"
      ]
     },
     "execution_count": 11,
     "metadata": {},
     "output_type": "execute_result"
    }
   ],
   "source": [
    "s_corners"
   ]
  },
  {
   "cell_type": "code",
   "execution_count": 12,
   "id": "862e21c9",
   "metadata": {},
   "outputs": [
    {
     "data": {
      "text/plain": [
       "array([[ 7.11437551e-02,  8.14034278e-02,  8.55578950e-01],\n",
       "       [ 3.50546793e-02,  6.64594422e-02,  8.68802019e-01],\n",
       "       [-1.15933748e-03,  5.16636440e-02,  8.85720016e-01],\n",
       "       [-3.73535692e-02,  3.71361874e-02,  9.02482922e-01],\n",
       "       [-7.35785890e-02,  2.23628462e-02,  9.23681756e-01],\n",
       "       [-1.09980940e-01,  7.70058689e-03,  9.41884664e-01],\n",
       "       [-1.46395897e-01, -6.99899000e-03,  9.59949179e-01],\n",
       "       [-1.83055363e-01, -2.14160449e-02,  9.76677848e-01],\n",
       "       [ 9.25629443e-02,  5.51404542e-02,  8.79842829e-01],\n",
       "       [ 5.62737254e-02,  4.01949034e-02,  8.93473600e-01],\n",
       "       [ 2.05009844e-02,  2.53355632e-02,  9.10645205e-01],\n",
       "       [-1.57870311e-02,  1.06376229e-02,  9.28136740e-01],\n",
       "       [-4.18066792e-02, -3.15591686e-03,  7.58375891e-01],\n",
       "       [-8.80491097e-02, -1.89155211e-02,  9.65672259e-01],\n",
       "       [-1.24587934e-01, -3.32789940e-02,  9.82293259e-01],\n",
       "       [-1.61085276e-01, -4.81132963e-02,  1.00121929e+00],\n",
       "       [ 1.14671740e-01,  2.84813259e-02,  9.07477821e-01],\n",
       "       [ 7.80167285e-02,  1.37844766e-02,  9.18528375e-01],\n",
       "       [ 4.18611434e-02, -1.05960215e-03,  9.33879257e-01],\n",
       "       [ 5.77564487e-03, -1.56370918e-02,  9.49741897e-01],\n",
       "       [-3.03574815e-02, -3.05958298e-02,  9.69853833e-01],\n",
       "       [-6.64738519e-02, -4.52760687e-02,  9.85677796e-01],\n",
       "       [-1.02575903e-01, -6.03365177e-02,  1.00598807e+00],\n",
       "       [-1.38842295e-01, -7.47708569e-02,  1.02528859e+00],\n",
       "       [ 1.35894798e-01,  1.82918348e-03,  9.28897947e-01],\n",
       "       [ 9.97436525e-02, -1.29656360e-02,  9.44159042e-01],\n",
       "       [ 6.33596348e-02, -2.73381172e-02,  9.57521487e-01],\n",
       "       [ 2.75806567e-02, -4.23538796e-02,  9.76517865e-01],\n",
       "       [-8.69529040e-03, -5.65397615e-02,  9.90948423e-01],\n",
       "       [-4.44869574e-02, -7.16511154e-02,  1.01156907e+00],\n",
       "       [-8.10066512e-02, -8.66665412e-02,  1.03246972e+00],\n",
       "       [-1.16904888e-01, -1.01531671e-01,  1.04911526e+00],\n",
       "       [ 1.58257024e-01, -2.52377662e-02,  9.56695926e-01],\n",
       "       [ 1.21408480e-01, -3.96040798e-02,  9.68286572e-01],\n",
       "       [ 8.51815367e-02, -5.42114432e-02,  9.82778413e-01],\n",
       "       [ 4.96259667e-02, -6.88812261e-02,  1.00329343e+00],\n",
       "       [ 1.34607515e-02, -8.32956862e-02,  1.01522949e+00],\n",
       "       [-2.26114412e-02, -9.82059880e-02,  1.03686898e+00],\n",
       "       [-5.89301405e-02, -1.13375194e-01,  1.05594619e+00],\n",
       "       [-9.50671871e-02, -1.28252304e-01,  1.07380581e+00]])"
      ]
     },
     "execution_count": 12,
     "metadata": {},
     "output_type": "execute_result"
    }
   ],
   "source": [
    "t_corners"
   ]
  },
  {
   "cell_type": "code",
   "execution_count": 9,
   "id": "f3ea4725",
   "metadata": {},
   "outputs": [],
   "source": [
    "calibs[1].refresh()\n",
    "calibs[1].update_pcd()\n",
    "calibs[0].refresh()\n",
    "calibs[0].update_pcd()\n",
    "o3d.visualization.draw_geometries([calibs[0].pcd.to_legacy(),calibs[1].pcd.to_legacy()])"
   ]
  },
  {
   "cell_type": "code",
   "execution_count": 2,
   "id": "ccffc669",
   "metadata": {},
   "outputs": [
    {
     "ename": "NameError",
     "evalue": "name 't_corner_lst' is not defined",
     "output_type": "error",
     "traceback": [
      "\u001b[1;31m---------------------------------------------------------------------------\u001b[0m",
      "\u001b[1;31mNameError\u001b[0m                                 Traceback (most recent call last)",
      "\u001b[1;32mC:\\Users\\REMOVE~1\\AppData\\Local\\Temp/ipykernel_10728/1868072848.py\u001b[0m in \u001b[0;36m<module>\u001b[1;34m\u001b[0m\n\u001b[1;32m----> 1\u001b[1;33m \u001b[0mlen\u001b[0m\u001b[1;33m(\u001b[0m\u001b[0mt_corner_lst\u001b[0m\u001b[1;33m)\u001b[0m\u001b[1;33m\u001b[0m\u001b[1;33m\u001b[0m\u001b[0m\n\u001b[0m",
      "\u001b[1;31mNameError\u001b[0m: name 't_corner_lst' is not defined"
     ]
    }
   ],
   "source": [
    "len(t_corner_lst)"
   ]
  },
  {
   "cell_type": "code",
   "execution_count": null,
   "id": "18b2b506",
   "metadata": {},
   "outputs": [],
   "source": []
  }
 ],
 "metadata": {
  "kernelspec": {
   "display_name": "Python 3 (ipykernel)",
   "language": "python",
   "name": "python3"
  },
  "language_info": {
   "codemirror_mode": {
    "name": "ipython",
    "version": 3
   },
   "file_extension": ".py",
   "mimetype": "text/x-python",
   "name": "python",
   "nbconvert_exporter": "python",
   "pygments_lexer": "ipython3",
   "version": "3.9.7"
  }
 },
 "nbformat": 4,
 "nbformat_minor": 5
}
