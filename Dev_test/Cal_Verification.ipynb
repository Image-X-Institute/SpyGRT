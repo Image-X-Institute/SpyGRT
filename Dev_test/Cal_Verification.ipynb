{
 "cells": [
  {
   "cell_type": "code",
   "execution_count": 1,
   "id": "fc01090d",
   "metadata": {},
   "outputs": [
    {
     "name": "stdout",
     "output_type": "stream",
     "text": [
      "Jupyter environment detected. Enabling Open3D WebVisualizer.\n",
      "[Open3D INFO] WebRTC GUI backend enabled.\n",
      "[Open3D INFO] WebRTCWindowSystem: HTTP handshake server disabled.\n",
      "no maximum distance setting for camera model: Intel RealSense D415\n",
      "no minimum distance setting for camera model: Intel RealSense D415\n",
      "no maximum distance setting for camera model: Intel RealSense D415\n",
      "no minimum distance setting for camera model: Intel RealSense D415\n",
      "WARNING: no input camera directory, camera position will be assigned postion based on input order from right to left\n"
     ]
    }
   ],
   "source": [
    "from spygrt.stream import Camera\n",
    "from spygrt.tracker import Tracker\n",
    "import open3d as o3d\n",
    "import numpy as np\n",
    "import pyrealsense2 as rs2\n",
    "\n",
    "cam = []\n",
    "ctx = rs2.context()\n",
    "for dev in ctx.query_devices():\n",
    "    cam.append(Camera(dev))\n",
    "    \n",
    "track = Tracker(cam)\n",
    "\n",
    "\n"
   ]
  },
  {
   "cell_type": "code",
   "execution_count": 2,
   "id": "8643cd7e",
   "metadata": {},
   "outputs": [],
   "source": [
    "track.refresh_frames()\n",
    "track.compute_pcd()\n",
    "o3d.visualization.draw_geometries([track.pcd.to_legacy()])"
   ]
  },
  {
   "cell_type": "code",
   "execution_count": null,
   "id": "aac5865c",
   "metadata": {},
   "outputs": [],
   "source": [
    "from spygrt.stream import Camera\n",
    "from spygrt.tracker import Tracker"
   ]
  },
  {
   "cell_type": "code",
   "execution_count": null,
   "id": "85111b5e",
   "metadata": {},
   "outputs": [],
   "source": []
  }
 ],
 "metadata": {
  "kernelspec": {
   "display_name": "Python 3 (ipykernel)",
   "language": "python",
   "name": "python3"
  },
  "language_info": {
   "codemirror_mode": {
    "name": "ipython",
    "version": 3
   },
   "file_extension": ".py",
   "mimetype": "text/x-python",
   "name": "python",
   "nbconvert_exporter": "python",
   "pygments_lexer": "ipython3",
   "version": "3.10.9"
  }
 },
 "nbformat": 4,
 "nbformat_minor": 5
}
