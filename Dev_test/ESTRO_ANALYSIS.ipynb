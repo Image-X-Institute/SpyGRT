{
 "cells": [
  {
   "cell_type": "code",
   "execution_count": 1,
   "id": "dcf07ba9",
   "metadata": {},
   "outputs": [],
   "source": [
    "import pyrealsense2 as rs2\n",
    "import open3d as o3d\n",
    "import numpy as np\n",
    "import time\n",
    "from spygrt.stream import Recording, NoMoreFrames, DualRecording\n",
    "from spygrt.tracker import Tracker\n",
    "from spygrt.calibration import Calibrator\n",
    "import importlib"
   ]
  },
  {
   "cell_type": "code",
   "execution_count": null,
   "id": "e46ebdf1",
   "metadata": {},
   "outputs": [],
   "source": [
    "# CALIBRATION FOR ESTRO\n",
    "\n",
    "for i in range (100):\n",
    "    try:\n",
    "        calibs[0].find_corners3d()\n",
    "        calibs[1].find_corners3d()\n",
    "    except NoMoreFrames:\n",
    "        print(\"Reached the end of stream, used only the first \" +str(i) + \" frames for calibration.\")\n",
    "        break\n",
    "\n",
    "calibs[0].corners_scale()\n",
    "calibs[1].corners_scale()\n",
    "calibs[0].align_cameras(calibs[1])\n",
    "calibs[1].align_to_board(cal2 = calibs[0])\n",
    "for cal in calibs:\n",
    "    cal.write_cal()\n",
    "    cal._pose = o3d.core.Tensor(np.identity(4), dtype=o3d.core.Dtype.Float32,device=cal._stream.pcd.device)\n",
    "cal1.load_calibration()\n",
    "cal2.load_calibration()\n",
    "\n",
    "for i in range (100):\n",
    "    try:\n",
    "        calibs[0].find_corners3d()\n",
    "        calibs[1].find_corners3d()\n",
    "    except NoMoreFrames:\n",
    "        print(\"Reached the end of stream, used only the first \" +str(i) + \" frames for calibration.\")\n",
    "        break\n",
    "\n",
    "calibs[0].corners_scale()\n",
    "calibs[1].corners_scale()\n",
    "calibs[0].align_cameras(calibs[1])\n",
    "calibs[1].align_to_board(cal2 = calibs[0])"
   ]
  },
  {
   "cell_type": "code",
   "execution_count": 4,
   "id": "94c35c84",
   "metadata": {},
   "outputs": [],
   "source": [
    "rec1 = 'E:/VISION/133/Recording_Session/121622061907_2023Mar23023414.bag'\n",
    "rec2 = 'E:/VISION/133/Recording_Session/123122061443_2023Mar23023414.bag'\n",
    "d = DualRecording(rec1,rec2)\n",
    "d.start_stream()"
   ]
  },
  {
   "cell_type": "code",
   "execution_count": null,
   "id": "fe8be776",
   "metadata": {},
   "outputs": [],
   "source": []
  }
 ],
 "metadata": {
  "kernelspec": {
   "display_name": "SpyGRT",
   "language": "python",
   "name": "spygrt"
  },
  "language_info": {
   "codemirror_mode": {
    "name": "ipython",
    "version": 3
   },
   "file_extension": ".py",
   "mimetype": "text/x-python",
   "name": "python",
   "nbconvert_exporter": "python",
   "pygments_lexer": "ipython3",
   "version": "3.10.10"
  }
 },
 "nbformat": 4,
 "nbformat_minor": 5
}
