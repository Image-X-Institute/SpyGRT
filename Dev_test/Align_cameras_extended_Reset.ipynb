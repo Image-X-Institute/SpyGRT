{
 "cells": [
  {
   "cell_type": "code",
   "execution_count": 3,
   "id": "af31ef87",
   "metadata": {},
   "outputs": [],
   "source": [
    "from spygrt.stream import Recording, NoMoreFrames\n",
    "from spygrt.calibration import Calibrator\n",
    "import open3d as o3d\n",
    "import numpy as np\n",
    "\n",
    "#E:/VISION/103/RS_Calibration/121622061907_2022Jul20022730.bag\n",
    "f1 = 'E:/VISION/133/RS_Calibration/121622061907_2023Mar23015527.bag'\n",
    "f2 = 'E:/VISION/133/RS_Calibration/123122061443_2023Mar23015527.bag'\n",
    "#f1 = 'S:/SMART1/RecordingSession1/Calibration/121622060739_2023Mar28112520.bag'\n",
    "#f2 = 'S:/SMART1/RecordingSession1/Calibration/123122061763_2023Mar28112520.bag'\n",
    "\n",
    "recs = (Recording(f1),Recording(f2))\n",
    "for rec in recs:\n",
    "    rec.start_stream()\n",
    "calibs = (Calibrator(recs[0]), Calibrator(recs[1]))\n",
    "\n"
   ]
  },
  {
   "cell_type": "code",
   "execution_count": 9,
   "id": "c5ef74b4",
   "metadata": {},
   "outputs": [],
   "source": [
    "for i in range (100):\n",
    "    try:\n",
    "        calibs[0].find_corners3d()\n",
    "        calibs[1].find_corners3d()\n",
    "    except NoMoreFrames:\n",
    "        print(\"Reached the end of stream, used only the first \" +str(i) + \" frames for calibration.\")\n",
    "        break\n",
    "\n",
    "calibs[0].corners_scale()\n",
    "calibs[1].corners_scale()\n",
    "calibs[0].align_cameras(calibs[1])\n",
    "calibs[1].align_to_board(cal2 = calibs[0])\n"
   ]
  },
  {
   "cell_type": "code",
   "execution_count": 10,
   "id": "d869812d",
   "metadata": {},
   "outputs": [],
   "source": [
    "for cal in calibs:\n",
    "    cal.write_cal()"
   ]
  },
  {
   "cell_type": "code",
   "execution_count": 6,
   "id": "4fe8406f",
   "metadata": {},
   "outputs": [],
   "source": [
    "for cal in calibs:\n",
    "    cal._pose = o3d.core.Tensor(np.identity(4), dtype=o3d.core.Dtype.Float32,device=cal._stream.pcd.device)"
   ]
  },
  {
   "cell_type": "code",
   "execution_count": 11,
   "id": "6d8dacb4",
   "metadata": {},
   "outputs": [
    {
     "data": {
      "text/plain": [
       "array([[-0.75355726, -0.47636428,  0.4530215 , -0.42157426],\n",
       "       [-0.6517849 ,  0.4516702 , -0.60923761,  0.4482075 ],\n",
       "       [ 0.08560272, -0.75436801, -0.65084642,  0.50039351],\n",
       "       [ 0.        ,  0.        ,  0.        ,  1.        ]])"
      ]
     },
     "execution_count": 11,
     "metadata": {},
     "output_type": "execute_result"
    }
   ],
   "source": [
    "recs[0].load_calibration()\n",
    "recs[1].load_calibration()"
   ]
  },
  {
   "cell_type": "code",
   "execution_count": 12,
   "id": "43c74488",
   "metadata": {},
   "outputs": [],
   "source": [
    "o3d.visualization.draw_geometries([recs[0].compute_pcd().to_legacy(),recs[1].compute_pcd().to_legacy()])"
   ]
  },
  {
   "cell_type": "code",
   "execution_count": 21,
   "id": "4c7927d7",
   "metadata": {},
   "outputs": [
    {
     "data": {
      "text/plain": [
       "array([[ 0.15659466, -0.06851955,  0.78399998],\n",
       "       [ 0.12556945, -0.04824949,  0.75999999],\n",
       "       [ 0.09386216, -0.02896808,  0.73500001],\n",
       "       [ 0.06367137, -0.00940441,  0.71200001],\n",
       "       [ 0.03271149,  0.01002815,  0.69099998],\n",
       "       [ 0.00227346,  0.02997648,  0.66799998],\n",
       "       [-0.02916727,  0.04954512,  0.648     ],\n",
       "       [-0.05970781,  0.06940543,  0.62699997],\n",
       "       [ 0.12726429, -0.09003329,  0.80299997],\n",
       "       [ 0.09600046, -0.06991161,  0.778     ],\n",
       "       [ 0.0654733 , -0.05132803,  0.75599998],\n",
       "       [ 0.03455188, -0.03115319,  0.73100001],\n",
       "       [ 0.00367227, -0.01182258,  0.71200001],\n",
       "       [-0.02698093,  0.00778637,  0.69099998],\n",
       "       [-0.05806765,  0.02761524,  0.67199999],\n",
       "       [-0.08959853,  0.04771179,  0.64999998],\n",
       "       [ 0.09675352, -0.11148109,  0.82099998],\n",
       "       [ 0.0668402 , -0.09204878,  0.801     ],\n",
       "       [ 0.03601505, -0.07295503,  0.778     ],\n",
       "       [ 0.0054373 , -0.05323983,  0.75400001],\n",
       "       [-0.02555961, -0.03398869,  0.73699999],\n",
       "       [-0.05618768, -0.01480329,  0.71200001],\n",
       "       [-0.08741733,  0.00490596,  0.69199997],\n",
       "       [-0.11929705,  0.02553341,  0.67400002],\n",
       "       [ 0.06865045, -0.13437822,  0.84500003],\n",
       "       [ 0.03748129, -0.11484493,  0.82200003],\n",
       "       [ 0.00713731, -0.09535   ,  0.801     ],\n",
       "       [-0.02383689, -0.0754935 ,  0.778     ],\n",
       "       [-0.05511867, -0.05635203,  0.76099998],\n",
       "       [-0.08588542, -0.03662083,  0.73799998],\n",
       "       [-0.118153  , -0.01706185,  0.72100002],\n",
       "       [-0.14879531,  0.0030249 ,  0.69400001],\n",
       "       [ 0.03941226, -0.15627579,  0.866     ],\n",
       "       [ 0.00847727, -0.13681121,  0.84299999],\n",
       "       [-0.02305708, -0.11779259,  0.824     ],\n",
       "       [-0.05352608, -0.09846229,  0.80400002],\n",
       "       [-0.08466557, -0.07843891,  0.78100002],\n",
       "       [-0.11585691, -0.05905297,  0.76099998],\n",
       "       [-0.14832813, -0.03939   ,  0.74199998],\n",
       "       [-0.17901368, -0.01963728,  0.71700001]])"
      ]
     },
     "execution_count": 21,
     "metadata": {},
     "output_type": "execute_result"
    }
   ],
   "source": [
    "calibs[0].find_corners3d()"
   ]
  },
  {
   "cell_type": "code",
   "execution_count": 19,
   "id": "50210924",
   "metadata": {},
   "outputs": [],
   "source": [
    "frame = recs[0].get_frames()\n",
    "corners = np.asarray([])\n",
    "color = frame[1].as_tensor().cpu().numpy()\n",
    "depth = frame[0].as_tensor().cpu().numpy()\n",
    "ret, corners = cv.findChessboardCorners(color, [8, 5], corners,\n",
    "                                                    cv.CALIB_CB_FAST_CHECK)"
   ]
  },
  {
   "cell_type": "code",
   "execution_count": 7,
   "id": "87e56633",
   "metadata": {},
   "outputs": [],
   "source": [
    "recs[0]._pose"
   ]
  },
  {
   "cell_type": "code",
   "execution_count": null,
   "id": "eda1fd45",
   "metadata": {},
   "outputs": [],
   "source": []
  }
 ],
 "metadata": {
  "kernelspec": {
   "display_name": "SpyGRT",
   "language": "python",
   "name": "spygrt"
  },
  "language_info": {
   "codemirror_mode": {
    "name": "ipython",
    "version": 3
   },
   "file_extension": ".py",
   "mimetype": "text/x-python",
   "name": "python",
   "nbconvert_exporter": "python",
   "pygments_lexer": "ipython3",
   "version": "3.10.10"
  }
 },
 "nbformat": 4,
 "nbformat_minor": 5
}
