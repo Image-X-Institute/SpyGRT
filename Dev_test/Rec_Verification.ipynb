{
 "cells": [
  {
   "cell_type": "code",
   "execution_count": 1,
   "id": "fc01090d",
   "metadata": {},
   "outputs": [],
   "source": [
    "from spygrt.stream import Recording, NoMoreFrames, DualRecording\n",
    "from spygrt.tracker import Tracker\n",
    "import open3d as o3d\n",
    "import numpy as np\n",
    "import datetime\n",
    "td = datetime.timedelta(seconds=60)\n"
   ]
  },
  {
   "cell_type": "code",
   "execution_count": 3,
   "id": "c93286bf",
   "metadata": {},
   "outputs": [
    {
     "data": {
      "text/plain": [
       "array([[ 0.72743475,  0.52885199, -0.4023962 ,  0.39200184],\n",
       "       [ 0.66333687, -0.5420509 ,  0.48675805, -0.56936502],\n",
       "       [ 0.03989112, -0.63028949, -0.75624883,  0.73373735],\n",
       "       [ 0.        ,  0.        ,  0.        ,  1.        ]])"
      ]
     },
     "execution_count": 3,
     "metadata": {},
     "output_type": "execute_result"
    }
   ],
   "source": [
    "f1 = 'S:/SMART2/RecordingSession1/RecordingSession/121622060739_2023Mar28021735.bag'\n",
    "f2 = 'S:/SMART2/RecordingSession1/RecordingSession/123122061763_2023Mar28021735.bag'\n",
    "#f1 = 'S:/SMART1/RecordingSession1/Calibration/121622060739_2023Mar28112520.bag'\n",
    "#f2 = 'S:/SMART1/RecordingSession1/Calibration/123122061763_2023Mar28112520.bag'\n",
    "\n",
    "(rec1,rec2) = (Recording(f1),Recording(f2))\n",
    "rec1.load_calibration('121622060739_cal.txt')\n",
    "rec2.load_calibration('123122061763_cal.txt')"
   ]
  },
  {
   "cell_type": "code",
   "execution_count": 2,
   "id": "16f7506f",
   "metadata": {},
   "outputs": [
    {
     "data": {
      "text/plain": [
       "array([[-0.76596981, -0.47690493,  0.46312463, -0.43199882],\n",
       "       [-0.65983385,  0.45945311, -0.61818653,  0.47658443],\n",
       "       [ 0.0808824 , -0.76817775, -0.65726215,  0.49703872],\n",
       "       [ 0.        ,  0.        ,  0.        ,  1.        ]])"
      ]
     },
     "execution_count": 2,
     "metadata": {},
     "output_type": "execute_result"
    }
   ],
   "source": [
    "rec1 = Recording('E:/VISION/129/OptiTrack_Calibration_Square/121622061907_2023Feb13014913.bag')\n",
    "rec2 = Recording('E:/VISION/129/OptiTrack_Calibration_Square/123122061443_2023Feb13014913.bag')\n",
    "rec1.load_calibration('121622061907_cal.txt')\n",
    "rec2.load_calibration('123122061443_cal.txt')"
   ]
  },
  {
   "cell_type": "code",
   "execution_count": 3,
   "id": "69133142",
   "metadata": {},
   "outputs": [],
   "source": [
    "d = DualRecording(rec1,rec2)"
   ]
  },
  {
   "cell_type": "code",
   "execution_count": 4,
   "id": "44344953",
   "metadata": {},
   "outputs": [],
   "source": [
    "d.start_stream()"
   ]
  },
  {
   "cell_type": "code",
   "execution_count": 5,
   "id": "8cde0364",
   "metadata": {},
   "outputs": [
    {
     "data": {
      "text/plain": [
       "((<pyrealsense2.frame Z16 #11345 @1676256553041.796387>,\n",
       "  <pyrealsense2.frame RGB8 #11379 @1676256553042.133301>),\n",
       " (<pyrealsense2.frame Z16 #11275 @1676256553040.908203>,\n",
       "  <pyrealsense2.frame RGB8 #11309 @1676256553041.245117>))"
      ]
     },
     "execution_count": 5,
     "metadata": {},
     "output_type": "execute_result"
    }
   ],
   "source": [
    "d.get_frames()"
   ]
  },
  {
   "cell_type": "code",
   "execution_count": 19,
   "id": "c263a492",
   "metadata": {},
   "outputs": [
    {
     "data": {
      "text/plain": [
       "-38.609375"
      ]
     },
     "execution_count": 19,
     "metadata": {},
     "output_type": "execute_result"
    }
   ],
   "source": [
    "rec1.frame[0].timestamp-rec2.frame[0].timestamp"
   ]
  },
  {
   "cell_type": "code",
   "execution_count": 39,
   "id": "773a3c7a",
   "metadata": {},
   "outputs": [],
   "source": [
    "o3d.visualization.draw_geometries([d.pcd.to_legacy()])"
   ]
  },
  {
   "cell_type": "code",
   "execution_count": 10,
   "id": "721ecdf3",
   "metadata": {},
   "outputs": [
    {
     "data": {
      "text/plain": [
       "True"
      ]
     },
     "execution_count": 10,
     "metadata": {},
     "output_type": "execute_result"
    }
   ],
   "source": [
    "o3d.io.write_point_cloud('p1.pcd',rec1.pcd.to_legacy())\n",
    "o3d.io.write_point_cloud('p2.pcd',rec2.pcd.to_legacy())"
   ]
  },
  {
   "cell_type": "code",
   "execution_count": 11,
   "id": "8f4defcc",
   "metadata": {},
   "outputs": [],
   "source": [
    "T1 = np.loadtxt('bg3.txt')"
   ]
  },
  {
   "cell_type": "code",
   "execution_count": 12,
   "id": "947b808e",
   "metadata": {},
   "outputs": [],
   "source": [
    "I1 = rec1.pose"
   ]
  },
  {
   "cell_type": "code",
   "execution_count": 13,
   "id": "77101e0e",
   "metadata": {},
   "outputs": [],
   "source": [
    "rec1._pose = T1@I1"
   ]
  },
  {
   "cell_type": "code",
   "execution_count": 14,
   "id": "211b4611",
   "metadata": {},
   "outputs": [
    {
     "data": {
      "text/plain": [
       "PointCloud on CPU:0 [1843200 points (Float32)].\n",
       "Attributes: colors (dtype = UInt8, shape = {1843200, 3})."
      ]
     },
     "execution_count": 14,
     "metadata": {},
     "output_type": "execute_result"
    }
   ],
   "source": [
    "d.compute_pcd(False)"
   ]
  },
  {
   "cell_type": "code",
   "execution_count": 38,
   "id": "79e38d8b",
   "metadata": {},
   "outputs": [
    {
     "data": {
      "text/plain": [
       "PointCloud on CPU:0 [1843200 points (Float32)].\n",
       "Attributes: colors (dtype = UInt8, shape = {1843200, 3})."
      ]
     },
     "execution_count": 38,
     "metadata": {},
     "output_type": "execute_result"
    }
   ],
   "source": [
    "d.compute_pcd()"
   ]
  },
  {
   "cell_type": "code",
   "execution_count": 21,
   "id": "8e8ed765",
   "metadata": {},
   "outputs": [],
   "source": [
    "np.savetxt('newcal1.txt',rec1.pose)"
   ]
  },
  {
   "cell_type": "raw",
   "id": "25804c8b",
   "metadata": {},
   "source": []
  },
  {
   "cell_type": "code",
   "execution_count": 22,
   "id": "7eaf9e0a",
   "metadata": {},
   "outputs": [
    {
     "data": {
      "text/plain": [
       "'121622060739'"
      ]
     },
     "execution_count": 22,
     "metadata": {},
     "output_type": "execute_result"
    }
   ],
   "source": [
    "rec1.serial"
   ]
  },
  {
   "cell_type": "code",
   "execution_count": 37,
   "id": "b7fba264",
   "metadata": {},
   "outputs": [
    {
     "data": {
      "text/plain": [
       "array([[ 0.72743475,  0.52885199, -0.4023962 ,  0.39200184],\n",
       "       [ 0.66333687, -0.5420509 ,  0.48675805, -0.56936502],\n",
       "       [ 0.03989112, -0.63028949, -0.75624883,  0.73373735],\n",
       "       [ 0.        ,  0.        ,  0.        ,  1.        ]])"
      ]
     },
     "execution_count": 37,
     "metadata": {},
     "output_type": "execute_result"
    }
   ],
   "source": [
    "rec1.load_calibration('121622060739_cal.txt')\n",
    "rec2.load_calibration('123122061763_cal.txt')"
   ]
  },
  {
   "cell_type": "code",
   "execution_count": 27,
   "id": "e4d6b38a",
   "metadata": {},
   "outputs": [
    {
     "data": {
      "text/plain": [
       "PointCloud on CPU:0 [921600 points (Float32)].\n",
       "Attributes: colors (dtype = UInt8, shape = {921600, 3})."
      ]
     },
     "execution_count": 27,
     "metadata": {},
     "output_type": "execute_result"
    }
   ],
   "source": [
    "rec1.compute_pcd()\n",
    "rec2.compute_pcd()"
   ]
  },
  {
   "cell_type": "code",
   "execution_count": 28,
   "id": "01bbdead",
   "metadata": {},
   "outputs": [
    {
     "data": {
      "text/plain": [
       "array([[ 0.7349115 , -0.5298841 ,  0.36219311, -0.49975458],\n",
       "       [-0.63727158, -0.53680873,  0.50771767, -0.45184904],\n",
       "       [-0.07645842, -0.61896294, -0.75039655,  0.72218263],\n",
       "       [ 0.        ,  0.        ,  0.        ,  1.        ]])"
      ]
     },
     "execution_count": 28,
     "metadata": {},
     "output_type": "execute_result"
    }
   ],
   "source": [
    "rec1.pose"
   ]
  },
  {
   "cell_type": "code",
   "execution_count": 29,
   "id": "cf2f7f54",
   "metadata": {},
   "outputs": [
    {
     "data": {
      "text/plain": [
       "array([[ 0.73999778, -0.51848006,  0.36828861, -0.48056263],\n",
       "       [-0.63042609, -0.52355113,  0.52963897, -0.50501075],\n",
       "       [-0.08382288, -0.63963147, -0.73205604,  0.69529085],\n",
       "       [ 0.        ,  0.        ,  0.        ,  1.        ]])"
      ]
     },
     "execution_count": 29,
     "metadata": {},
     "output_type": "execute_result"
    }
   ],
   "source": [
    "T1@I1"
   ]
  },
  {
   "cell_type": "code",
   "execution_count": 30,
   "id": "4635b358",
   "metadata": {},
   "outputs": [],
   "source": [
    "rec1._pose = T1@I1"
   ]
  },
  {
   "cell_type": "code",
   "execution_count": 36,
   "id": "3ff6a809",
   "metadata": {},
   "outputs": [
    {
     "data": {
      "text/plain": [
       "'121622060739'"
      ]
     },
     "execution_count": 36,
     "metadata": {},
     "output_type": "execute_result"
    }
   ],
   "source": [
    "rec1.serial"
   ]
  },
  {
   "cell_type": "code",
   "execution_count": 22,
   "id": "2ad679b5",
   "metadata": {},
   "outputs": [
    {
     "name": "stdout",
     "output_type": "stream",
     "text": [
      "[Open3D INFO] Picked point #371834 (-0.0056, 0.0089, 0.02) to add in queue.\n",
      "[Open3D INFO] Picked point #530740 (-0.012, 0.2, 0.018) to add in queue.\n"
     ]
    }
   ],
   "source": [
    "vis = o3d.visualization.VisualizerWithEditing()\n",
    "vis.create_window()\n",
    "vis.add_geometry(d.pcd.to_legacy())\n",
    "vis.run()\n",
    "vis.destroy_window()\n",
    "idx = vis.get_picked_points()"
   ]
  },
  {
   "cell_type": "code",
   "execution_count": 8,
   "id": "026055cb",
   "metadata": {},
   "outputs": [],
   "source": [
    "I = np.asarray([[1,0,0,0.022],[0,1,0,0],[0,0,1,0],[0,0,0,1]])"
   ]
  },
  {
   "cell_type": "code",
   "execution_count": 10,
   "id": "07960f86",
   "metadata": {},
   "outputs": [],
   "source": [
    "rec1._pose = I@rec1._pose\n",
    "rec2._pose = I@rec2._pose"
   ]
  },
  {
   "cell_type": "code",
   "execution_count": 21,
   "id": "a56c9352",
   "metadata": {},
   "outputs": [
    {
     "data": {
      "text/plain": [
       "PointCloud on CUDA:0 [1843200 points (Float32)].\n",
       "Attributes: colors (dtype = UInt8, shape = {1843200, 3})."
      ]
     },
     "execution_count": 21,
     "metadata": {},
     "output_type": "execute_result"
    }
   ],
   "source": [
    "d.compute_pcd(True)"
   ]
  },
  {
   "cell_type": "code",
   "execution_count": 23,
   "id": "bf363a28",
   "metadata": {},
   "outputs": [
    {
     "data": {
      "text/plain": [
       "array([[1.   , 0.   , 0.   , 0.022],\n",
       "       [0.   , 1.   , 0.   , 0.   ],\n",
       "       [0.   , 0.   , 1.   , 0.   ],\n",
       "       [0.   , 0.   , 0.   , 1.   ]])"
      ]
     },
     "execution_count": 23,
     "metadata": {},
     "output_type": "execute_result"
    }
   ],
   "source": [
    "I"
   ]
  },
  {
   "cell_type": "code",
   "execution_count": null,
   "id": "fafb39b3",
   "metadata": {},
   "outputs": [],
   "source": []
  }
 ],
 "metadata": {
  "kernelspec": {
   "display_name": "SpyGRT",
   "language": "python",
   "name": "spygrt"
  },
  "language_info": {
   "codemirror_mode": {
    "name": "ipython",
    "version": 3
   },
   "file_extension": ".py",
   "mimetype": "text/x-python",
   "name": "python",
   "nbconvert_exporter": "python",
   "pygments_lexer": "ipython3",
   "version": "3.10.10"
  }
 },
 "nbformat": 4,
 "nbformat_minor": 5
}
