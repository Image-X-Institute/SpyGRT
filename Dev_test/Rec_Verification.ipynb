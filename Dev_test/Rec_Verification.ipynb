{
 "cells": [
  {
   "cell_type": "code",
   "execution_count": 1,
   "id": "fc01090d",
   "metadata": {},
   "outputs": [
    {
     "name": "stdout",
     "output_type": "stream",
     "text": [
      "Jupyter environment detected. Enabling Open3D WebVisualizer.\n",
      "[Open3D INFO] WebRTC GUI backend enabled.\n",
      "[Open3D INFO] WebRTCWindowSystem: HTTP handshake server disabled.\n"
     ]
    }
   ],
   "source": [
    "from spygrt.stream import Recording, NoMoreFrames, DualRecording\n",
    "from spygrt.tracker import Tracker\n",
    "import open3d as o3d\n",
    "import numpy as np\n",
    "import datetime\n",
    "td = datetime.timedelta(seconds=60)\n"
   ]
  },
  {
   "cell_type": "code",
   "execution_count": 3,
   "id": "c93286bf",
   "metadata": {},
   "outputs": [
    {
     "data": {
      "text/plain": [
       "array([[ 0.72743475,  0.52885199, -0.4023962 ,  0.39200184],\n",
       "       [ 0.66333687, -0.5420509 ,  0.48675805, -0.56936502],\n",
       "       [ 0.03989112, -0.63028949, -0.75624883,  0.73373735],\n",
       "       [ 0.        ,  0.        ,  0.        ,  1.        ]])"
      ]
     },
     "execution_count": 3,
     "metadata": {},
     "output_type": "execute_result"
    }
   ],
   "source": [
    "f1 = 'S:/SMART2/RecordingSession1/RecordingSession/121622060739_2023Mar28021735.bag'\n",
    "f2 = 'S:/SMART2/RecordingSession1/RecordingSession/123122061763_2023Mar28021735.bag'\n",
    "#f1 = 'S:/SMART1/RecordingSession1/Calibration/121622060739_2023Mar28112520.bag'\n",
    "#f2 = 'S:/SMART1/RecordingSession1/Calibration/123122061763_2023Mar28112520.bag'\n",
    "\n",
    "(rec1,rec2) = (Recording(f1),Recording(f2))\n",
    "rec1.load_calibration('121622060739_cal.txt')\n",
    "rec2.load_calibration('123122061763_cal.txt')"
   ]
  },
  {
   "cell_type": "code",
   "execution_count": 4,
   "id": "69133142",
   "metadata": {},
   "outputs": [],
   "source": [
    "d = DualRecording(rec1,rec2)"
   ]
  },
  {
   "cell_type": "code",
   "execution_count": 5,
   "id": "44344953",
   "metadata": {},
   "outputs": [],
   "source": [
    "d.start_stream()"
   ]
  },
  {
   "cell_type": "code",
   "execution_count": 6,
   "id": "8cde0364",
   "metadata": {},
   "outputs": [
    {
     "data": {
      "text/plain": [
       "((<pyrealsense2.frame Z16 #1130 @1679973455372.193359>,\n",
       "  <pyrealsense2.frame RGB8 #1111 @1679973455386.505127>),\n",
       " (<pyrealsense2.frame Z16 #1154 @1679973455410.802734>,\n",
       "  <pyrealsense2.frame RGB8 #1134 @1679973455400.764893>))"
      ]
     },
     "execution_count": 6,
     "metadata": {},
     "output_type": "execute_result"
    }
   ],
   "source": [
    "d.get_frames()"
   ]
  },
  {
   "cell_type": "code",
   "execution_count": 19,
   "id": "c263a492",
   "metadata": {},
   "outputs": [
    {
     "data": {
      "text/plain": [
       "-38.609375"
      ]
     },
     "execution_count": 19,
     "metadata": {},
     "output_type": "execute_result"
    }
   ],
   "source": [
    "rec1.frame[0].timestamp-rec2.frame[0].timestamp"
   ]
  },
  {
   "cell_type": "code",
   "execution_count": 39,
   "id": "773a3c7a",
   "metadata": {},
   "outputs": [],
   "source": [
    "o3d.visualization.draw_geometries([d.pcd.to_legacy()])"
   ]
  },
  {
   "cell_type": "code",
   "execution_count": 10,
   "id": "721ecdf3",
   "metadata": {},
   "outputs": [
    {
     "data": {
      "text/plain": [
       "True"
      ]
     },
     "execution_count": 10,
     "metadata": {},
     "output_type": "execute_result"
    }
   ],
   "source": [
    "o3d.io.write_point_cloud('p1.pcd',rec1.pcd.to_legacy())\n",
    "o3d.io.write_point_cloud('p2.pcd',rec2.pcd.to_legacy())"
   ]
  },
  {
   "cell_type": "code",
   "execution_count": 11,
   "id": "8f4defcc",
   "metadata": {},
   "outputs": [],
   "source": [
    "T1 = np.loadtxt('bg3.txt')"
   ]
  },
  {
   "cell_type": "code",
   "execution_count": 12,
   "id": "947b808e",
   "metadata": {},
   "outputs": [],
   "source": [
    "I1 = rec1.pose"
   ]
  },
  {
   "cell_type": "code",
   "execution_count": 13,
   "id": "77101e0e",
   "metadata": {},
   "outputs": [],
   "source": [
    "rec1._pose = T1@I1"
   ]
  },
  {
   "cell_type": "code",
   "execution_count": 14,
   "id": "211b4611",
   "metadata": {},
   "outputs": [
    {
     "data": {
      "text/plain": [
       "PointCloud on CPU:0 [1843200 points (Float32)].\n",
       "Attributes: colors (dtype = UInt8, shape = {1843200, 3})."
      ]
     },
     "execution_count": 14,
     "metadata": {},
     "output_type": "execute_result"
    }
   ],
   "source": [
    "d.compute_pcd(False)"
   ]
  },
  {
   "cell_type": "code",
   "execution_count": 38,
   "id": "79e38d8b",
   "metadata": {},
   "outputs": [
    {
     "data": {
      "text/plain": [
       "PointCloud on CPU:0 [1843200 points (Float32)].\n",
       "Attributes: colors (dtype = UInt8, shape = {1843200, 3})."
      ]
     },
     "execution_count": 38,
     "metadata": {},
     "output_type": "execute_result"
    }
   ],
   "source": [
    "d.compute_pcd()"
   ]
  },
  {
   "cell_type": "code",
   "execution_count": 21,
   "id": "8e8ed765",
   "metadata": {},
   "outputs": [],
   "source": [
    "np.savetxt('newcal1.txt',rec1.pose)"
   ]
  },
  {
   "cell_type": "raw",
   "id": "25804c8b",
   "metadata": {},
   "source": []
  },
  {
   "cell_type": "code",
   "execution_count": 22,
   "id": "7eaf9e0a",
   "metadata": {},
   "outputs": [
    {
     "data": {
      "text/plain": [
       "'121622060739'"
      ]
     },
     "execution_count": 22,
     "metadata": {},
     "output_type": "execute_result"
    }
   ],
   "source": [
    "rec1.serial"
   ]
  },
  {
   "cell_type": "code",
   "execution_count": 37,
   "id": "b7fba264",
   "metadata": {},
   "outputs": [
    {
     "data": {
      "text/plain": [
       "array([[ 0.72743475,  0.52885199, -0.4023962 ,  0.39200184],\n",
       "       [ 0.66333687, -0.5420509 ,  0.48675805, -0.56936502],\n",
       "       [ 0.03989112, -0.63028949, -0.75624883,  0.73373735],\n",
       "       [ 0.        ,  0.        ,  0.        ,  1.        ]])"
      ]
     },
     "execution_count": 37,
     "metadata": {},
     "output_type": "execute_result"
    }
   ],
   "source": [
    "rec1.load_calibration('121622060739_cal.txt')\n",
    "rec2.load_calibration('123122061763_cal.txt')"
   ]
  },
  {
   "cell_type": "code",
   "execution_count": 27,
   "id": "e4d6b38a",
   "metadata": {},
   "outputs": [
    {
     "data": {
      "text/plain": [
       "PointCloud on CPU:0 [921600 points (Float32)].\n",
       "Attributes: colors (dtype = UInt8, shape = {921600, 3})."
      ]
     },
     "execution_count": 27,
     "metadata": {},
     "output_type": "execute_result"
    }
   ],
   "source": [
    "rec1.compute_pcd()\n",
    "rec2.compute_pcd()"
   ]
  },
  {
   "cell_type": "code",
   "execution_count": 28,
   "id": "01bbdead",
   "metadata": {},
   "outputs": [
    {
     "data": {
      "text/plain": [
       "array([[ 0.7349115 , -0.5298841 ,  0.36219311, -0.49975458],\n",
       "       [-0.63727158, -0.53680873,  0.50771767, -0.45184904],\n",
       "       [-0.07645842, -0.61896294, -0.75039655,  0.72218263],\n",
       "       [ 0.        ,  0.        ,  0.        ,  1.        ]])"
      ]
     },
     "execution_count": 28,
     "metadata": {},
     "output_type": "execute_result"
    }
   ],
   "source": [
    "rec1.pose"
   ]
  },
  {
   "cell_type": "code",
   "execution_count": 29,
   "id": "cf2f7f54",
   "metadata": {},
   "outputs": [
    {
     "data": {
      "text/plain": [
       "array([[ 0.73999778, -0.51848006,  0.36828861, -0.48056263],\n",
       "       [-0.63042609, -0.52355113,  0.52963897, -0.50501075],\n",
       "       [-0.08382288, -0.63963147, -0.73205604,  0.69529085],\n",
       "       [ 0.        ,  0.        ,  0.        ,  1.        ]])"
      ]
     },
     "execution_count": 29,
     "metadata": {},
     "output_type": "execute_result"
    }
   ],
   "source": [
    "T1@I1"
   ]
  },
  {
   "cell_type": "code",
   "execution_count": 30,
   "id": "4635b358",
   "metadata": {},
   "outputs": [],
   "source": [
    "rec1._pose = T1@I1"
   ]
  },
  {
   "cell_type": "code",
   "execution_count": 36,
   "id": "3ff6a809",
   "metadata": {},
   "outputs": [
    {
     "data": {
      "text/plain": [
       "'121622060739'"
      ]
     },
     "execution_count": 36,
     "metadata": {},
     "output_type": "execute_result"
    }
   ],
   "source": [
    "rec1.serial"
   ]
  },
  {
   "cell_type": "code",
   "execution_count": null,
   "id": "2ad679b5",
   "metadata": {},
   "outputs": [],
   "source": []
  }
 ],
 "metadata": {
  "kernelspec": {
   "display_name": "SpyGRT",
   "language": "python",
   "name": "spygrt"
  },
  "language_info": {
   "codemirror_mode": {
    "name": "ipython",
    "version": 3
   },
   "file_extension": ".py",
   "mimetype": "text/x-python",
   "name": "python",
   "nbconvert_exporter": "python",
   "pygments_lexer": "ipython3",
   "version": "3.9.16"
  }
 },
 "nbformat": 4,
 "nbformat_minor": 5
}
