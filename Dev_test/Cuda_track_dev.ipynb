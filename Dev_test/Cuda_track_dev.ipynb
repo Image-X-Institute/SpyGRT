{
 "cells": [
  {
   "cell_type": "code",
   "execution_count": 1,
   "id": "dc31bd40",
   "metadata": {},
   "outputs": [
    {
     "name": "stdout",
     "output_type": "stream",
     "text": [
      "Jupyter environment detected. Enabling Open3D WebVisualizer.\n",
      "[Open3D INFO] WebRTC GUI backend enabled.\n",
      "[Open3D INFO] WebRTCWindowSystem: HTTP handshake server disabled.\n"
     ]
    }
   ],
   "source": [
    "import pyrealsense2 as rs2\n",
    "import open3d as o3d\n",
    "import numpy as np\n",
    "import time\n",
    "from spygrt.stream import Recording, NoMoreFrames, DualRecording\n",
    "from spygrt.tracker import Tracker\n"
   ]
  },
  {
   "cell_type": "code",
   "execution_count": 2,
   "id": "809559f6",
   "metadata": {},
   "outputs": [
    {
     "data": {
      "text/plain": [
       "array([[-0.76596981, -0.47690493,  0.46312463, -0.43199882],\n",
       "       [-0.65983385,  0.45945311, -0.61818653,  0.47658443],\n",
       "       [ 0.0808824 , -0.76817775, -0.65726215,  0.49703872],\n",
       "       [ 0.        ,  0.        ,  0.        ,  1.        ]])"
      ]
     },
     "execution_count": 2,
     "metadata": {},
     "output_type": "execute_result"
    }
   ],
   "source": [
    "rec1 = Recording('E:/VISION/129/Recording_Session/121622061907_2023Feb13022044.bag')\n",
    "rec2 = Recording('E:/VISION/129/Recording_Session/123122061443_2023Feb13022044.bag')\n",
    "rec1.load_calibration('121622061907_cal.txt')\n",
    "rec2.load_calibration('123122061443_cal.txt')\n",
    "\n"
   ]
  },
  {
   "cell_type": "code",
   "execution_count": 3,
   "id": "3a4288b7",
   "metadata": {},
   "outputs": [
    {
     "data": {
      "text/plain": [
       "((<pyrealsense2.frame Z16 #1160 @1676258444174.644043>,\n",
       "  <pyrealsense2.frame RGB8 #1194 @1676258444174.980957>),\n",
       " (<pyrealsense2.frame Z16 #1121 @1676258444195.972412>,\n",
       "  <pyrealsense2.frame RGB8 #1123 @1676258444196.309326>))"
      ]
     },
     "execution_count": 3,
     "metadata": {},
     "output_type": "execute_result"
    }
   ],
   "source": [
    "d = DualRecording(rec1,rec2)\n",
    "d.start_stream()\n",
    "d.get_frames()"
   ]
  },
  {
   "cell_type": "code",
   "execution_count": 4,
   "id": "259d57ef",
   "metadata": {},
   "outputs": [
    {
     "name": "stdout",
     "output_type": "stream",
     "text": [
      "[Open3D INFO] Picked point #232123 (0.095, -0.062, 0.14) to add in queue.\n",
      "[Open3D INFO] Picked point #1160248 (-0.035, 0.052, 0.16) to add in queue.\n"
     ]
    }
   ],
   "source": [
    "t = Tracker(ref_surface=d.pcd)"
   ]
  },
  {
   "cell_type": "code",
   "execution_count": 10,
   "id": "0d5f01f4",
   "metadata": {},
   "outputs": [
    {
     "data": {
      "text/plain": [
       "PointCloud on CPU:0 [1843200 points (Float32)].\n",
       "Attributes: colors (dtype = UInt8, shape = {1843200, 3})."
      ]
     },
     "execution_count": 10,
     "metadata": {},
     "output_type": "execute_result"
    }
   ],
   "source": [
    "d.compute_pcd(True)"
   ]
  },
  {
   "cell_type": "code",
   "execution_count": 18,
   "id": "6290ecbd",
   "metadata": {},
   "outputs": [],
   "source": [
    "a = time.time()\n",
    "t.get_motion(d.compute_pcd(True))\n",
    "b= time.time()"
   ]
  },
  {
   "cell_type": "code",
   "execution_count": 19,
   "id": "64b964b2",
   "metadata": {},
   "outputs": [
    {
     "data": {
      "text/plain": [
       "-0.6968114376068115"
      ]
     },
     "execution_count": 19,
     "metadata": {},
     "output_type": "execute_result"
    }
   ],
   "source": [
    "a-b"
   ]
  },
  {
   "cell_type": "code",
   "execution_count": 5,
   "id": "74fcd3c1",
   "metadata": {},
   "outputs": [],
   "source": [
    "pcd = o3d.t.geometry.PointCloud(o3d.core.Device('CUDA:1'))"
   ]
  },
  {
   "cell_type": "code",
   "execution_count": 47,
   "id": "ff36bf39",
   "metadata": {},
   "outputs": [
    {
     "data": {
      "text/plain": [
       "PointCloud on CUDA:0 [0 points].\n",
       "Attributes: None."
      ]
     },
     "execution_count": 47,
     "metadata": {},
     "output_type": "execute_result"
    }
   ],
   "source": [
    "pcd.cuda()"
   ]
  },
  {
   "cell_type": "code",
   "execution_count": 25,
   "id": "3bdbba11",
   "metadata": {},
   "outputs": [
    {
     "data": {
      "text/plain": [
       "PointCloud on CPU:0 [0 points].\n",
       "Attributes: None."
      ]
     },
     "execution_count": 25,
     "metadata": {},
     "output_type": "execute_result"
    }
   ],
   "source": [
    "pcd.cpu()"
   ]
  },
  {
   "cell_type": "code",
   "execution_count": 26,
   "id": "396aefea",
   "metadata": {},
   "outputs": [
    {
     "data": {
      "text/plain": [
       "PointCloud on CUDA:0 [0 points].\n",
       "Attributes: None."
      ]
     },
     "execution_count": 26,
     "metadata": {},
     "output_type": "execute_result"
    }
   ],
   "source": [
    "pcd"
   ]
  },
  {
   "cell_type": "code",
   "execution_count": 9,
   "id": "f7201fc2",
   "metadata": {},
   "outputs": [],
   "source": [
    "rec1._rs_pc.map_to(rec1.frame[1])"
   ]
  },
  {
   "cell_type": "code",
   "execution_count": 10,
   "id": "2817d711",
   "metadata": {},
   "outputs": [],
   "source": [
    "dat=rec1._rs_pc.calculate(rec1.frame[0])"
   ]
  },
  {
   "cell_type": "code",
   "execution_count": 11,
   "id": "5efcb7cf",
   "metadata": {},
   "outputs": [],
   "source": [
    "depth_dat = np.asanyarray(dat.get_vertices()).view(np.float32).reshape([-1, 3])"
   ]
  },
  {
   "cell_type": "code",
   "execution_count": 12,
   "id": "c421d9a0",
   "metadata": {},
   "outputs": [],
   "source": [
    "col_dat = np.asanyarray(rec1.frame[1].get_data()).reshape([-1, 3])"
   ]
  },
  {
   "cell_type": "code",
   "execution_count": 13,
   "id": "0d980b09",
   "metadata": {},
   "outputs": [],
   "source": [
    "pcd.point[\"positions\"] = depth_dat"
   ]
  },
  {
   "cell_type": "code",
   "execution_count": 14,
   "id": "ff928833",
   "metadata": {},
   "outputs": [],
   "source": [
    "pcd.point[\"colors\"] = col_dat"
   ]
  },
  {
   "cell_type": "code",
   "execution_count": 15,
   "id": "2c184bc6",
   "metadata": {},
   "outputs": [
    {
     "data": {
      "text/plain": [
       "CUDA:1"
      ]
     },
     "execution_count": 15,
     "metadata": {},
     "output_type": "execute_result"
    }
   ],
   "source": [
    "pcd.device"
   ]
  },
  {
   "cell_type": "code",
   "execution_count": 16,
   "id": "203a6e76",
   "metadata": {},
   "outputs": [
    {
     "data": {
      "text/plain": [
       "PointCloud on CUDA:1 [921600 points (Float32)].\n",
       "Attributes: colors (dtype = UInt8, shape = {921600, 3})."
      ]
     },
     "execution_count": 16,
     "metadata": {},
     "output_type": "execute_result"
    }
   ],
   "source": [
    "pcd"
   ]
  },
  {
   "cell_type": "code",
   "execution_count": 17,
   "id": "93f90ee0",
   "metadata": {},
   "outputs": [
    {
     "ename": "RuntimeError",
     "evalue": "[Open3D Error] (class std::shared_ptr<class open3d::core::MemoryManagerDevice> __cdecl open3d::core::MemoryManager::GetMemoryManagerDevice(const class open3d::core::Device &)) D:\\a\\Open3D\\Open3D\\cpp\\open3d\\core\\MemoryManager.cpp:142: Unsupported device \"CUDA:0\". Set BUILD_CUDA_MODULE=ON to compile for CUDA support and BUILD_SYCL_MODULE=ON to compile for SYCL support.\n",
     "output_type": "error",
     "traceback": [
      "\u001b[1;31m---------------------------------------------------------------------------\u001b[0m",
      "\u001b[1;31mRuntimeError\u001b[0m                              Traceback (most recent call last)",
      "Cell \u001b[1;32mIn[17], line 1\u001b[0m\n\u001b[1;32m----> 1\u001b[0m \u001b[43mpcd\u001b[49m\u001b[38;5;241;43m.\u001b[39;49m\u001b[43mcpu\u001b[49m\u001b[43m(\u001b[49m\u001b[43m)\u001b[49m\u001b[38;5;241;43m.\u001b[39;49m\u001b[43mcuda\u001b[49m\u001b[43m(\u001b[49m\u001b[43m)\u001b[49m\n",
      "\u001b[1;31mRuntimeError\u001b[0m: [Open3D Error] (class std::shared_ptr<class open3d::core::MemoryManagerDevice> __cdecl open3d::core::MemoryManager::GetMemoryManagerDevice(const class open3d::core::Device &)) D:\\a\\Open3D\\Open3D\\cpp\\open3d\\core\\MemoryManager.cpp:142: Unsupported device \"CUDA:0\". Set BUILD_CUDA_MODULE=ON to compile for CUDA support and BUILD_SYCL_MODULE=ON to compile for SYCL support.\n"
     ]
    }
   ],
   "source": [
    "pcd.cpu().cuda()"
   ]
  },
  {
   "cell_type": "code",
   "execution_count": 45,
   "id": "89784ec0",
   "metadata": {},
   "outputs": [
    {
     "ename": "AttributeError",
     "evalue": "module 'open3d' has no attribute 'cuda'",
     "output_type": "error",
     "traceback": [
      "\u001b[1;31m---------------------------------------------------------------------------\u001b[0m",
      "\u001b[1;31mAttributeError\u001b[0m                            Traceback (most recent call last)",
      "Cell \u001b[1;32mIn[45], line 1\u001b[0m\n\u001b[1;32m----> 1\u001b[0m \u001b[43mo3d\u001b[49m\u001b[38;5;241;43m.\u001b[39;49m\u001b[43mcuda\u001b[49m\u001b[38;5;241m.\u001b[39mis_available()\n",
      "\u001b[1;31mAttributeError\u001b[0m: module 'open3d' has no attribute 'cuda'"
     ]
    }
   ],
   "source": []
  },
  {
   "cell_type": "code",
   "execution_count": null,
   "id": "40cfc962",
   "metadata": {},
   "outputs": [],
   "source": []
  }
 ],
 "metadata": {
  "kernelspec": {
   "display_name": "SpyGRT",
   "language": "python",
   "name": "spygrt"
  },
  "language_info": {
   "codemirror_mode": {
    "name": "ipython",
    "version": 3
   },
   "file_extension": ".py",
   "mimetype": "text/x-python",
   "name": "python",
   "nbconvert_exporter": "python",
   "pygments_lexer": "ipython3",
   "version": "3.9.16"
  }
 },
 "nbformat": 4,
 "nbformat_minor": 5
}
