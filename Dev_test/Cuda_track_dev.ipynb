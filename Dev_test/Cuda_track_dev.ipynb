{
 "cells": [
  {
   "cell_type": "code",
   "execution_count": 1,
   "id": "dc31bd40",
   "metadata": {},
   "outputs": [],
   "source": [
    "import pyrealsense2 as rs2\n",
    "import open3d as o3d\n",
    "import numpy as np\n",
    "import time\n",
    "from spygrt.stream import Recording, NoMoreFrames, DualRecording\n",
    "from spygrt.tracker import Tracker\n",
    "import importlib"
   ]
  },
  {
   "cell_type": "code",
   "execution_count": 2,
   "id": "809559f6",
   "metadata": {},
   "outputs": [
    {
     "data": {
      "text/plain": [
       "array([[-0.76596981, -0.47690493,  0.46312463, -0.43199882],\n",
       "       [-0.65983385,  0.45945311, -0.61818653,  0.47658443],\n",
       "       [ 0.0808824 , -0.76817775, -0.65726215,  0.49703872],\n",
       "       [ 0.        ,  0.        ,  0.        ,  1.        ]])"
      ]
     },
     "execution_count": 2,
     "metadata": {},
     "output_type": "execute_result"
    }
   ],
   "source": [
    "rec1 = Recording('E:/VISION/129/Recording_Session/121622061907_2023Feb13022044.bag')\n",
    "rec2 = Recording('E:/VISION/129/Recording_Session/123122061443_2023Feb13022044.bag')\n",
    "rec1.load_calibration('121622061907_cal.txt')\n",
    "rec2.load_calibration('123122061443_cal.txt')\n",
    "\n"
   ]
  },
  {
   "cell_type": "code",
   "execution_count": 3,
   "id": "3a4288b7",
   "metadata": {},
   "outputs": [],
   "source": [
    "d = DualRecording(rec1,rec2)\n",
    "\n"
   ]
  },
  {
   "cell_type": "code",
   "execution_count": 4,
   "id": "e705e138",
   "metadata": {},
   "outputs": [],
   "source": [
    "d.start_stream()"
   ]
  },
  {
   "cell_type": "code",
   "execution_count": 5,
   "id": "d13ee317",
   "metadata": {},
   "outputs": [
    {
     "data": {
      "text/plain": [
       "((<pyrealsense2.frame Z16 #1160 @1676258444174.644043>,\n",
       "  <pyrealsense2.frame RGB8 #1194 @1676258444174.980957>),\n",
       " (<pyrealsense2.frame Z16 #1121 @1676258444195.972412>,\n",
       "  <pyrealsense2.frame RGB8 #1123 @1676258444196.309326>))"
      ]
     },
     "execution_count": 5,
     "metadata": {},
     "output_type": "execute_result"
    }
   ],
   "source": [
    "d.get_frames()"
   ]
  },
  {
   "cell_type": "code",
   "execution_count": 13,
   "id": "259d57ef",
   "metadata": {},
   "outputs": [
    {
     "name": "stdout",
     "output_type": "stream",
     "text": [
      "[Open3D INFO] Picked point #1151320 (-0.048, 0.031, 0.16) to add in queue.\n",
      "[Open3D INFO] Picked point #200106 (0.096, -0.079, 0.16) to add in queue.\n"
     ]
    }
   ],
   "source": [
    "t = Tracker(ref_surface=d.pcd)\n"
   ]
  },
  {
   "cell_type": "code",
   "execution_count": 8,
   "id": "4f1f730e",
   "metadata": {},
   "outputs": [
    {
     "ename": "RuntimeError",
     "evalue": "[Open3D Error] (void __cdecl open3d::t::geometry::PointCloud::SetPointAttr(const class std::basic_string<char,struct std::char_traits<char>,class std::allocator<char> > &,const class open3d::core::Tensor &)) C:\\Users\\RemoveTheMask\\MyDocs\\Code\\Open3D\\cpp\\open3d/t/geometry/PointCloud.h:160: Attribute device CPU:0 != Pointcloud's device CUDA:0.\n",
     "output_type": "error",
     "traceback": [
      "\u001b[1;31m---------------------------------------------------------------------------\u001b[0m",
      "\u001b[1;31mRuntimeError\u001b[0m                              Traceback (most recent call last)",
      "Cell \u001b[1;32mIn[8], line 1\u001b[0m\n\u001b[1;32m----> 1\u001b[0m \u001b[43md\u001b[49m\u001b[38;5;241;43m.\u001b[39;49m\u001b[43mpcd\u001b[49m\n",
      "File \u001b[1;32mc:\\users\\removethemask\\mydocs\\code\\spygrt\\spygrt\\stream.py:786\u001b[0m, in \u001b[0;36mDualRecording.pcd\u001b[1;34m(self)\u001b[0m\n\u001b[0;32m    779\u001b[0m \u001b[38;5;124;03m\"\"\"\u001b[39;00m\n\u001b[0;32m    780\u001b[0m \u001b[38;5;124;03mAccess the point cloud form of the current frame.\u001b[39;00m\n\u001b[0;32m    781\u001b[0m \n\u001b[0;32m    782\u001b[0m \u001b[38;5;124;03mReturns:\u001b[39;00m\n\u001b[0;32m    783\u001b[0m \u001b[38;5;124;03m    pcd: A tensor-based Open3D point cloud object.\u001b[39;00m\n\u001b[0;32m    784\u001b[0m \u001b[38;5;124;03m\"\"\"\u001b[39;00m\n\u001b[0;32m    785\u001b[0m \u001b[38;5;28;01mif\u001b[39;00m \u001b[38;5;28mself\u001b[39m\u001b[38;5;241m.\u001b[39m_pcd\u001b[38;5;241m.\u001b[39mis_empty():\n\u001b[1;32m--> 786\u001b[0m     \u001b[38;5;28;43mself\u001b[39;49m\u001b[38;5;241;43m.\u001b[39;49m\u001b[43mcompute_pcd\u001b[49m\u001b[43m(\u001b[49m\u001b[43m)\u001b[49m\n\u001b[0;32m    788\u001b[0m \u001b[38;5;28;01mreturn\u001b[39;00m \u001b[38;5;28mself\u001b[39m\u001b[38;5;241m.\u001b[39m_pcd\n",
      "File \u001b[1;32mc:\\users\\removethemask\\mydocs\\code\\spygrt\\spygrt\\stream.py:862\u001b[0m, in \u001b[0;36mDualRecording.compute_pcd\u001b[1;34m(self, new_frame)\u001b[0m\n\u001b[0;32m    859\u001b[0m pcd1 \u001b[38;5;241m=\u001b[39m \u001b[38;5;28mself\u001b[39m\u001b[38;5;241m.\u001b[39mstream1\u001b[38;5;241m.\u001b[39mcompute_pcd(new_frame)\n\u001b[0;32m    860\u001b[0m pcd2 \u001b[38;5;241m=\u001b[39m \u001b[38;5;28mself\u001b[39m\u001b[38;5;241m.\u001b[39mstream2\u001b[38;5;241m.\u001b[39mcompute_pcd(new_frame)\n\u001b[1;32m--> 862\u001b[0m \u001b[38;5;28mself\u001b[39m\u001b[38;5;241m.\u001b[39m_pcd \u001b[38;5;241m=\u001b[39m \u001b[43mpcd1\u001b[49m\u001b[43m \u001b[49m\u001b[38;5;241;43m+\u001b[39;49m\u001b[43m \u001b[49m\u001b[43mpcd2\u001b[49m\n\u001b[0;32m    863\u001b[0m \u001b[38;5;28;01mreturn\u001b[39;00m \u001b[38;5;28mself\u001b[39m\u001b[38;5;241m.\u001b[39m_pcd\n",
      "\u001b[1;31mRuntimeError\u001b[0m: [Open3D Error] (void __cdecl open3d::t::geometry::PointCloud::SetPointAttr(const class std::basic_string<char,struct std::char_traits<char>,class std::allocator<char> > &,const class open3d::core::Tensor &)) C:\\Users\\RemoveTheMask\\MyDocs\\Code\\Open3D\\cpp\\open3d/t/geometry/PointCloud.h:160: Attribute device CPU:0 != Pointcloud's device CUDA:0.\n"
     ]
    }
   ],
   "source": [
    "d.pcd"
   ]
  },
  {
   "cell_type": "code",
   "execution_count": 14,
   "id": "0d5f01f4",
   "metadata": {},
   "outputs": [
    {
     "data": {
      "text/plain": [
       "PointCloud on CUDA:0 [1843200 points (Float32)].\n",
       "Attributes: colors (dtype = UInt8, shape = {1843200, 3})."
      ]
     },
     "execution_count": 14,
     "metadata": {},
     "output_type": "execute_result"
    }
   ],
   "source": [
    "d.compute_pcd(True)"
   ]
  },
  {
   "cell_type": "code",
   "execution_count": 17,
   "id": "6290ecbd",
   "metadata": {},
   "outputs": [
    {
     "name": "stdout",
     "output_type": "stream",
     "text": [
      "Timestamps:1676258454422.1592 1465 1676258454544.2842 1429\n",
      "Timestamps:1676258454422.1592 1465 1676258454544.2842 1429\n",
      "Timestamps:1676258455194.96 1488 1676258455317.0886 1452\n",
      "Timestamps:1676258457782.2197 1565 1676258457904.2498 1529\n",
      "Timestamps:1676258458823.7617 1596 1676258458945.8157 1560\n",
      "26.4205322265625\n"
     ]
    },
    {
     "data": {
      "text/plain": [
       "15.67352294921875"
      ]
     },
     "execution_count": 17,
     "metadata": {},
     "output_type": "execute_result"
    }
   ],
   "source": [
    "a1=0\n",
    "b1=0\n",
    "a2=0\n",
    "b2=0\n",
    "for i in range(100):\n",
    "    a1 += time.time()\n",
    "    p = d.compute_pcd(True)\n",
    "    b1 += time.time()\n",
    "\n",
    "    a2 += time.time()\n",
    "    t.get_motion(p)\n",
    "    b2 += time.time()\n",
    "print(b1-a1)\n",
    "b2-a2"
   ]
  },
  {
   "cell_type": "code",
   "execution_count": 18,
   "id": "64b964b2",
   "metadata": {},
   "outputs": [
    {
     "data": {
      "text/plain": [
       "-0.21874094009399414"
      ]
     },
     "execution_count": 18,
     "metadata": {},
     "output_type": "execute_result"
    }
   ],
   "source": []
  },
  {
   "cell_type": "code",
   "execution_count": 12,
   "id": "c00eec87",
   "metadata": {},
   "outputs": [
    {
     "data": {
      "text/plain": [
       "[[0.999998 -0.00176567 0.00116396 -0.000151304],\n",
       " [0.00176516 0.999998 0.000434744 -0.000104731],\n",
       " [-0.00116473 -0.000432688 0.999999 -0.000153702],\n",
       " [0.0 0.0 0.0 1.0]]\n",
       "Tensor[shape={4, 4}, stride={4, 1}, Float64, CPU:0, 0x1e3f23fa0b0]"
      ]
     },
     "execution_count": 12,
     "metadata": {},
     "output_type": "execute_result"
    }
   ],
   "source": [
    "t._t_guess"
   ]
  },
  {
   "cell_type": "code",
   "execution_count": 35,
   "id": "74fcd3c1",
   "metadata": {},
   "outputs": [],
   "source": [
    "pcd_cuda = o3d.t.geometry.PointCloud(o3d.core.Device('CUDA:1'))\n",
    "pcd_cpu = o3d.t.geometry.PointCloud(o3d.core.Device('CPU:0'))"
   ]
  },
  {
   "cell_type": "code",
   "execution_count": 11,
   "id": "ff36bf39",
   "metadata": {},
   "outputs": [
    {
     "data": {
      "text/plain": [
       "PointCloud on CUDA:0 [0 points].\n",
       "Attributes: None."
      ]
     },
     "execution_count": 11,
     "metadata": {},
     "output_type": "execute_result"
    }
   ],
   "source": [
    "pcd.cuda()"
   ]
  },
  {
   "cell_type": "code",
   "execution_count": 12,
   "id": "3bdbba11",
   "metadata": {},
   "outputs": [
    {
     "data": {
      "text/plain": [
       "PointCloud on CPU:0 [0 points].\n",
       "Attributes: None."
      ]
     },
     "execution_count": 12,
     "metadata": {},
     "output_type": "execute_result"
    }
   ],
   "source": [
    "pcd.cpu()"
   ]
  },
  {
   "cell_type": "code",
   "execution_count": 13,
   "id": "396aefea",
   "metadata": {},
   "outputs": [
    {
     "data": {
      "text/plain": [
       "PointCloud on CUDA:1 [0 points].\n",
       "Attributes: None."
      ]
     },
     "execution_count": 13,
     "metadata": {},
     "output_type": "execute_result"
    }
   ],
   "source": [
    "pcd"
   ]
  },
  {
   "cell_type": "code",
   "execution_count": 36,
   "id": "f7201fc2",
   "metadata": {},
   "outputs": [],
   "source": [
    "rec1._rs_pc.map_to(rec1.frame[1])"
   ]
  },
  {
   "cell_type": "code",
   "execution_count": 37,
   "id": "2817d711",
   "metadata": {},
   "outputs": [],
   "source": [
    "dat=rec1._rs_pc.calculate(rec1.frame[0])"
   ]
  },
  {
   "cell_type": "code",
   "execution_count": 38,
   "id": "5efcb7cf",
   "metadata": {},
   "outputs": [],
   "source": [
    "depth_dat = np.asanyarray(dat.get_vertices()).view(np.float32).reshape([-1, 3])"
   ]
  },
  {
   "cell_type": "code",
   "execution_count": 39,
   "id": "c421d9a0",
   "metadata": {},
   "outputs": [],
   "source": [
    "col_dat = np.asanyarray(rec1.frame[1].get_data()).reshape([-1, 3])"
   ]
  },
  {
   "cell_type": "code",
   "execution_count": 40,
   "id": "0d980b09",
   "metadata": {},
   "outputs": [],
   "source": [
    "pcd_cuda.point[\"positions\"] = depth_dat\n",
    "pcd_cpu.point[\"positions\"] = depth_dat"
   ]
  },
  {
   "cell_type": "code",
   "execution_count": 41,
   "id": "ff928833",
   "metadata": {},
   "outputs": [],
   "source": [
    "pcd_cuda.point[\"colors\"] = col_dat\n",
    "pcd_cpu.point[\"positions\"] = depth_dat"
   ]
  },
  {
   "cell_type": "code",
   "execution_count": 58,
   "id": "2c184bc6",
   "metadata": {},
   "outputs": [
    {
     "data": {
      "text/plain": [
       "CUDA:0"
      ]
     },
     "execution_count": 58,
     "metadata": {},
     "output_type": "execute_result"
    }
   ],
   "source": [
    "pcd_cpu.cuda().device"
   ]
  },
  {
   "cell_type": "code",
   "execution_count": 53,
   "id": "203a6e76",
   "metadata": {},
   "outputs": [
    {
     "data": {
      "text/plain": [
       "CPU:0"
      ]
     },
     "execution_count": 53,
     "metadata": {},
     "output_type": "execute_result"
    }
   ],
   "source": [
    "pcd_cpu.device"
   ]
  },
  {
   "cell_type": "code",
   "execution_count": 56,
   "id": "93f90ee0",
   "metadata": {},
   "outputs": [
    {
     "data": {
      "text/plain": [
       "CUDA:1"
      ]
     },
     "execution_count": 56,
     "metadata": {},
     "output_type": "execute_result"
    }
   ],
   "source": [
    "pcd_cuda.device"
   ]
  },
  {
   "cell_type": "code",
   "execution_count": 57,
   "id": "89784ec0",
   "metadata": {},
   "outputs": [
    {
     "data": {
      "text/plain": [
       "CPU:0"
      ]
     },
     "execution_count": 57,
     "metadata": {},
     "output_type": "execute_result"
    }
   ],
   "source": [
    "pcd_cuda.cpu().device"
   ]
  },
  {
   "cell_type": "code",
   "execution_count": 1,
   "id": "40cfc962",
   "metadata": {},
   "outputs": [
    {
     "data": {
      "text/plain": [
       "0"
      ]
     },
     "execution_count": 1,
     "metadata": {},
     "output_type": "execute_result"
    }
   ],
   "source": [
    "1000%100\n"
   ]
  },
  {
   "cell_type": "code",
   "execution_count": 3,
   "id": "e3af353b",
   "metadata": {},
   "outputs": [],
   "source": [
    "import numpy as np\n",
    "d = [1,2,3]\n",
    "np.savetxt('test.txt',d)"
   ]
  },
  {
   "cell_type": "code",
   "execution_count": 6,
   "id": "619307cb",
   "metadata": {},
   "outputs": [
    {
     "ename": "RuntimeError",
     "evalue": "[Open3D Error] (class std::shared_ptr<class open3d::core::MemoryManagerDevice> __cdecl open3d::core::MemoryManager::GetMemoryManagerDevice(const class open3d::core::Device &)) D:\\a\\Open3D\\Open3D\\cpp\\open3d\\core\\MemoryManager.cpp:123: Unsupported device \"CUDA:0\". Set BUILD_CUDA_MODULE=ON to compile for CUDA support and BUILD_SYCL_MODULE=ON to compile for SYCL support.\n",
     "output_type": "error",
     "traceback": [
      "\u001b[1;31m---------------------------------------------------------------------------\u001b[0m",
      "\u001b[1;31mRuntimeError\u001b[0m                              Traceback (most recent call last)",
      "Cell \u001b[1;32mIn[6], line 1\u001b[0m\n\u001b[1;32m----> 1\u001b[0m s \u001b[38;5;241m=\u001b[39m \u001b[43md\u001b[49m\u001b[38;5;241;43m.\u001b[39;49m\u001b[43mpcd\u001b[49m\u001b[38;5;241;43m.\u001b[39;49m\u001b[43mcuda\u001b[49m\u001b[43m(\u001b[49m\u001b[43m)\u001b[49m\n",
      "\u001b[1;31mRuntimeError\u001b[0m: [Open3D Error] (class std::shared_ptr<class open3d::core::MemoryManagerDevice> __cdecl open3d::core::MemoryManager::GetMemoryManagerDevice(const class open3d::core::Device &)) D:\\a\\Open3D\\Open3D\\cpp\\open3d\\core\\MemoryManager.cpp:123: Unsupported device \"CUDA:0\". Set BUILD_CUDA_MODULE=ON to compile for CUDA support and BUILD_SYCL_MODULE=ON to compile for SYCL support.\n"
     ]
    }
   ],
   "source": [
    "s = d.pcd.cuda()"
   ]
  },
  {
   "cell_type": "code",
   "execution_count": 23,
   "id": "0b95860e",
   "metadata": {},
   "outputs": [
    {
     "data": {
      "text/plain": [
       "PointCloud on CPU:0 [1843200 points (Float32)].\n",
       "Attributes: colors (dtype = UInt8, shape = {1843200, 3})."
      ]
     },
     "execution_count": 23,
     "metadata": {},
     "output_type": "execute_result"
    }
   ],
   "source": [
    "d.pcd.cpu()"
   ]
  },
  {
   "cell_type": "code",
   "execution_count": 50,
   "id": "f772fff1",
   "metadata": {},
   "outputs": [
    {
     "data": {
      "text/plain": [
       "<module 'open3d.cuda' (<_frozen_importlib_external._NamespaceLoader object at 0x000001C077375D20>)>"
      ]
     },
     "execution_count": 50,
     "metadata": {},
     "output_type": "execute_result"
    }
   ],
   "source": [
    "o3d.cuda"
   ]
  },
  {
   "cell_type": "code",
   "execution_count": 63,
   "id": "9eebd59e",
   "metadata": {},
   "outputs": [
    {
     "data": {
      "text/plain": [
       "True"
      ]
     },
     "execution_count": 63,
     "metadata": {},
     "output_type": "execute_result"
    }
   ],
   "source": [
    "hasattr(o3d,'cuda')"
   ]
  },
  {
   "cell_type": "code",
   "execution_count": 68,
   "id": "a2446f43",
   "metadata": {},
   "outputs": [],
   "source": [
    "DEVICE = o3d.core.Device('cuda:0')"
   ]
  },
  {
   "cell_type": "code",
   "execution_count": 72,
   "id": "da680b04",
   "metadata": {},
   "outputs": [
    {
     "data": {
      "text/plain": [
       "PointCloud with 0 points."
      ]
     },
     "execution_count": 72,
     "metadata": {},
     "output_type": "execute_result"
    }
   ],
   "source": [
    "o3d.t.geometry.PointCloud(DEVICE).to_legacy()"
   ]
  },
  {
   "cell_type": "code",
   "execution_count": 75,
   "id": "4943f95c",
   "metadata": {},
   "outputs": [
    {
     "data": {
      "text/plain": [
       "[1 2]\n",
       "Tensor[shape={2}, stride={1}, Int32, CUDA:0, 0x13030d7a00]"
      ]
     },
     "execution_count": 75,
     "metadata": {},
     "output_type": "execute_result"
    }
   ],
   "source": [
    "o3d.core.Tensor(np.asarray([1,2]),device=DEVICE)"
   ]
  },
  {
   "cell_type": "code",
   "execution_count": 15,
   "id": "2c745f62",
   "metadata": {},
   "outputs": [
    {
     "data": {
      "text/plain": [
       "spygrt.tracker.Tracker"
      ]
     },
     "execution_count": 15,
     "metadata": {},
     "output_type": "execute_result"
    }
   ],
   "source": [
    "Tracker"
   ]
  },
  {
   "cell_type": "code",
   "execution_count": 6,
   "id": "7642f5d7",
   "metadata": {},
   "outputs": [
    {
     "ename": "RuntimeError",
     "evalue": "[Open3D Error] (void __cdecl open3d::t::geometry::PointCloud::SetPointAttr(const class std::basic_string<char,struct std::char_traits<char>,class std::allocator<char> > &,const class open3d::core::Tensor &)) C:\\Users\\RemoveTheMask\\MyDocs\\Code\\Open3D\\cpp\\open3d/t/geometry/PointCloud.h:160: Attribute device CPU:0 != Pointcloud's device CUDA:0.\n",
     "output_type": "error",
     "traceback": [
      "\u001b[1;31m---------------------------------------------------------------------------\u001b[0m",
      "\u001b[1;31mRuntimeError\u001b[0m                              Traceback (most recent call last)",
      "Cell \u001b[1;32mIn[6], line 1\u001b[0m\n\u001b[1;32m----> 1\u001b[0m \u001b[43md\u001b[49m\u001b[38;5;241;43m.\u001b[39;49m\u001b[43mcompute_pcd\u001b[49m\u001b[43m(\u001b[49m\u001b[38;5;28;43;01mTrue\u001b[39;49;00m\u001b[43m)\u001b[49m\n",
      "File \u001b[1;32mc:\\users\\removethemask\\mydocs\\code\\spygrt\\spygrt\\stream.py:861\u001b[0m, in \u001b[0;36mDualRecording.compute_pcd\u001b[1;34m(self, new_frame)\u001b[0m\n\u001b[0;32m    858\u001b[0m pcd1 \u001b[38;5;241m=\u001b[39m \u001b[38;5;28mself\u001b[39m\u001b[38;5;241m.\u001b[39mstream1\u001b[38;5;241m.\u001b[39mcompute_pcd(new_frame)\n\u001b[0;32m    859\u001b[0m pcd2 \u001b[38;5;241m=\u001b[39m \u001b[38;5;28mself\u001b[39m\u001b[38;5;241m.\u001b[39mstream2\u001b[38;5;241m.\u001b[39mcompute_pcd(new_frame)\n\u001b[1;32m--> 861\u001b[0m \u001b[38;5;28mself\u001b[39m\u001b[38;5;241m.\u001b[39m_pcd \u001b[38;5;241m=\u001b[39m \u001b[43mpcd1\u001b[49m\u001b[43m \u001b[49m\u001b[38;5;241;43m+\u001b[39;49m\u001b[43m \u001b[49m\u001b[43mpcd2\u001b[49m\n\u001b[0;32m    862\u001b[0m \u001b[38;5;28;01mreturn\u001b[39;00m \u001b[38;5;28mself\u001b[39m\u001b[38;5;241m.\u001b[39m_pcd\n",
      "\u001b[1;31mRuntimeError\u001b[0m: [Open3D Error] (void __cdecl open3d::t::geometry::PointCloud::SetPointAttr(const class std::basic_string<char,struct std::char_traits<char>,class std::allocator<char> > &,const class open3d::core::Tensor &)) C:\\Users\\RemoveTheMask\\MyDocs\\Code\\Open3D\\cpp\\open3d/t/geometry/PointCloud.h:160: Attribute device CPU:0 != Pointcloud's device CUDA:0.\n"
     ]
    }
   ],
   "source": [
    "d.compute_pcd(True)"
   ]
  },
  {
   "cell_type": "code",
   "execution_count": 20,
   "id": "777092ea",
   "metadata": {},
   "outputs": [
    {
     "data": {
      "text/plain": [
       "(array([[-0.72437882,  0.46467108, -0.50862086,  0.37932215],\n",
       "        [ 0.68838706,  0.51730415, -0.50779807,  0.43379043],\n",
       "        [ 0.02716157, -0.71820357, -0.69482736,  0.50452895],\n",
       "        [ 0.        ,  0.        ,  0.        ,  1.        ]]),\n",
       " array([[-0.76596981, -0.47690493,  0.46312463, -0.43199882],\n",
       "        [-0.65983385,  0.45945311, -0.61818653,  0.47658443],\n",
       "        [ 0.0808824 , -0.76817775, -0.65726215,  0.49703872],\n",
       "        [ 0.        ,  0.        ,  0.        ,  1.        ]]))"
      ]
     },
     "execution_count": 20,
     "metadata": {},
     "output_type": "execute_result"
    }
   ],
   "source": [
    "d._pose"
   ]
  },
  {
   "cell_type": "code",
   "execution_count": 9,
   "id": "0caa6b4f",
   "metadata": {},
   "outputs": [
    {
     "ename": "RuntimeError",
     "evalue": "[Open3D Error] (void __cdecl open3d::t::geometry::PointCloud::SetPointAttr(const class std::basic_string<char,struct std::char_traits<char>,class std::allocator<char> > &,const class open3d::core::Tensor &)) C:\\Users\\RemoveTheMask\\MyDocs\\Code\\Open3D\\cpp\\open3d/t/geometry/PointCloud.h:160: Attribute device CPU:0 != Pointcloud's device CUDA:0.\n",
     "output_type": "error",
     "traceback": [
      "\u001b[1;31m---------------------------------------------------------------------------\u001b[0m",
      "\u001b[1;31mRuntimeError\u001b[0m                              Traceback (most recent call last)",
      "Cell \u001b[1;32mIn[9], line 1\u001b[0m\n\u001b[1;32m----> 1\u001b[0m \u001b[43mrec1\u001b[49m\u001b[38;5;241;43m.\u001b[39;49m\u001b[43mpcd\u001b[49m\u001b[43m \u001b[49m\u001b[38;5;241;43m+\u001b[39;49m\u001b[43m \u001b[49m\u001b[43mrec2\u001b[49m\u001b[38;5;241;43m.\u001b[39;49m\u001b[43mpcd\u001b[49m\n",
      "\u001b[1;31mRuntimeError\u001b[0m: [Open3D Error] (void __cdecl open3d::t::geometry::PointCloud::SetPointAttr(const class std::basic_string<char,struct std::char_traits<char>,class std::allocator<char> > &,const class open3d::core::Tensor &)) C:\\Users\\RemoveTheMask\\MyDocs\\Code\\Open3D\\cpp\\open3d/t/geometry/PointCloud.h:160: Attribute device CPU:0 != Pointcloud's device CUDA:0.\n"
     ]
    }
   ],
   "source": [
    "rec1.pcd + rec2.pcd"
   ]
  },
  {
   "cell_type": "code",
   "execution_count": 88,
   "id": "0d368e18",
   "metadata": {},
   "outputs": [
    {
     "data": {
      "text/plain": [
       "-0.0476689338684082"
      ]
     },
     "execution_count": 88,
     "metadata": {},
     "output_type": "execute_result"
    }
   ],
   "source": [
    "f= rec1.frame\n",
    "dev = o3d.core.Device('cuda:0')\n",
    "rec1._pcd = o3d.t.geometry.PointCloud(device=dev)\n",
    "rec2._pcd = o3d.t.geometry.PointCloud(device=dev)\n",
    "a = time.time()\n",
    "for rec in [rec1,rec2]:\n",
    "    rec._rs_pc.map_to(rec.frame[1])\n",
    "    # Get the raw point cloud data\n",
    "    dat = rec._rs_pc.calculate(rec.frame[0])\n",
    "    # Changes how the data is \"viewed\" without making changes to the memory. Results in a list of 3D coordinates\n",
    "    depth_dat = np.asanyarray(dat.get_vertices()).view(np.float32).reshape([-1, 3])\n",
    "    # Reformat the colour data into a list of RGB values\n",
    "    col_dat = np.asanyarray(rec.frame[1].get_data()).reshape([-1, 3])\n",
    "    col_cuda = o3d.core.Tensor(col_dat,device=dev)\n",
    "    rec._pcd.point[\"colors\"] = col_cuda\n",
    "    depth_cuda = o3d.core.Tensor(depth_dat,device=dev)\n",
    "    rec._pcd.point[\"positions\"] = depth_cuda\n",
    "    rec._pcd.transform(o3d.core.Tensor(rec._pose, device=dev))\n",
    "rec1.pcd + rec2.pcd\n",
    "b= time.time()\n",
    "a-b"
   ]
  },
  {
   "cell_type": "code",
   "execution_count": 85,
   "id": "6f9fea4d",
   "metadata": {},
   "outputs": [
    {
     "data": {
      "text/plain": [
       "-0.058202505111694336"
      ]
     },
     "execution_count": 85,
     "metadata": {},
     "output_type": "execute_result"
    }
   ],
   "source": [
    "dev = o3d.core.Device('cpu:0')\n",
    "rec1._pcd = o3d.t.geometry.PointCloud(device=dev)\n",
    "rec2._pcd = o3d.t.geometry.PointCloud(device=dev)\n",
    "a = time.time()\n",
    "for rec in [rec1,rec2]:\n",
    "    rec._rs_pc.map_to(rec.frame[1])\n",
    "    # Get the raw point cloud data\n",
    "    dat = rec._rs_pc.calculate(rec.frame[0])\n",
    "    # Changes how the data is \"viewed\" without making changes to the memory. Results in a list of 3D coordinates\n",
    "    depth_dat = np.asanyarray(dat.get_vertices()).view(np.float32).reshape([-1, 3])\n",
    "    # Reformat the colour data into a list of RGB values\n",
    "    col_dat = np.asanyarray(rec.frame[1].get_data()).reshape([-1, 3])\n",
    "    col_cuda = o3d.core.Tensor(col_dat,device=dev)\n",
    "    rec._pcd.point[\"colors\"] = col_cuda\n",
    "    depth_cuda = o3d.core.Tensor(depth_dat,device=dev)\n",
    "    rec._pcd.point[\"positions\"] = depth_cuda\n",
    "    rec._pcd.transform(o3d.core.Tensor(rec._pose, device=dev))\n",
    "rec1._pcd = rec1._pcd.cuda()\n",
    "rec2._pcd = rec2._pcd.cuda()\n",
    "rec1.pcd + rec2.pcd\n",
    "b= time.time()\n",
    "a-b"
   ]
  },
  {
   "cell_type": "code",
   "execution_count": 80,
   "id": "21a4c4c3",
   "metadata": {},
   "outputs": [
    {
     "data": {
      "text/plain": [
       "PointCloud on CPU:0 [921600 points (Float32)].\n",
       "Attributes: colors (dtype = UInt8, shape = {921600, 3})."
      ]
     },
     "execution_count": 80,
     "metadata": {},
     "output_type": "execute_result"
    }
   ],
   "source": [
    "rec1.pcd"
   ]
  },
  {
   "cell_type": "code",
   "execution_count": null,
   "id": "2f607863",
   "metadata": {},
   "outputs": [],
   "source": [
    "a = time.time()\n",
    "t.get_motion(p)\n",
    "b= time.time()"
   ]
  }
 ],
 "metadata": {
  "kernelspec": {
   "display_name": "SpyGRT",
   "language": "python",
   "name": "spygrt"
  },
  "language_info": {
   "codemirror_mode": {
    "name": "ipython",
    "version": 3
   },
   "file_extension": ".py",
   "mimetype": "text/x-python",
   "name": "python",
   "nbconvert_exporter": "python",
   "pygments_lexer": "ipython3",
   "version": "3.10.10"
  }
 },
 "nbformat": 4,
 "nbformat_minor": 5
}
