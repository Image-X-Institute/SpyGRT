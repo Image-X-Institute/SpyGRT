{
 "cells": [
  {
   "cell_type": "code",
   "execution_count": 1,
   "id": "9c9ce07f",
   "metadata": {},
   "outputs": [
    {
     "data": {
      "text/plain": [
       "array([[-0.76596981, -0.47690493,  0.46312463, -0.43199882],\n",
       "       [-0.65983385,  0.45945311, -0.61818653,  0.47658443],\n",
       "       [ 0.0808824 , -0.76817775, -0.65726215,  0.49703872],\n",
       "       [ 0.        ,  0.        ,  0.        ,  1.        ]])"
      ]
     },
     "execution_count": 1,
     "metadata": {},
     "output_type": "execute_result"
    }
   ],
   "source": [
    "import cv2 as cv\n",
    "import pyrealsense2 as rs2\n",
    "import open3d as o3d\n",
    "import numpy as np\n",
    "import time\n",
    "\n",
    "from spygrt.stream import Recording, NoMoreFrames, DualRecording\n",
    "from spygrt.tracker import Tracker\n",
    "#rec1 = Recording('C:/Users/yben4607/clean/ResearchData/VISION/Youssef_Test/Recording_Session/121622061907_2022May24015518.bag')\n",
    "#rec2 = Recording('C:/Users/yben4607/clean/ResearchData/VISION/Youssef_Test/Recording_Session/123122061443_2022May24015518.bag')\n",
    "#rec1.load_calibration('C:/Users/yben4607/clean/ResearchData/VISION/Youssef_Test/RS_Calibration/121622061907_cal.txt')\n",
    "#rec2.load_calibration('C:/Users/yben4607/clean/ResearchData/VISION/Youssef_Test/RS_Calibration/123122061443_cal.txt')\n",
    "rec1 = Recording('E:/VISION/129/Recording_Session/121622061907_2023Feb13022044.bag')\n",
    "rec2 = Recording('E:/VISION/129/Recording_Session/123122061443_2023Feb13022044.bag')\n",
    "rec1.load_calibration('121622061907_cal.txt')\n",
    "rec2.load_calibration('123122061443_cal.txt')\n",
    "\n",
    "\n"
   ]
  },
  {
   "cell_type": "code",
   "execution_count": 2,
   "id": "18b70a23",
   "metadata": {},
   "outputs": [],
   "source": [
    "d = DualRecording(rec1,rec2)"
   ]
  },
  {
   "cell_type": "code",
   "execution_count": 3,
   "id": "098576f1",
   "metadata": {},
   "outputs": [
    {
     "data": {
      "text/plain": [
       "<playback_status.stopped: 3>"
      ]
     },
     "execution_count": 3,
     "metadata": {},
     "output_type": "execute_result"
    }
   ],
   "source": [
    "d.stream1._playback.current_status()"
   ]
  },
  {
   "cell_type": "code",
   "execution_count": 4,
   "id": "18b1cbb6",
   "metadata": {},
   "outputs": [],
   "source": [
    "d.start_stream()"
   ]
  },
  {
   "cell_type": "code",
   "execution_count": 5,
   "id": "d9099293",
   "metadata": {},
   "outputs": [
    {
     "data": {
      "text/plain": [
       "((<pyrealsense2.frame Z16 #1160 @1676258444174.644043>,\n",
       "  <pyrealsense2.frame RGB8 #1194 @1676258444174.980957>),\n",
       " (<pyrealsense2.frame Z16 #1121 @1676258444195.972412>,\n",
       "  <pyrealsense2.frame RGB8 #1123 @1676258444196.309326>))"
      ]
     },
     "execution_count": 5,
     "metadata": {},
     "output_type": "execute_result"
    }
   ],
   "source": [
    "d.get_frames()"
   ]
  },
  {
   "cell_type": "code",
   "execution_count": 8,
   "id": "0f1d1b16",
   "metadata": {},
   "outputs": [
    {
     "name": "stdout",
     "output_type": "stream",
     "text": [
      "[Open3D INFO] Picked point #1161557 (-0.026, 0.034, 0.16) to add in queue.\n",
      "[Open3D INFO] Picked point #228252 (0.13, -0.086, 0.14) to add in queue.\n"
     ]
    }
   ],
   "source": [
    "t = Tracker(ref_surface=d.pcd)"
   ]
  },
  {
   "cell_type": "code",
   "execution_count": 2,
   "id": "6a55e2a8",
   "metadata": {},
   "outputs": [
    {
     "name": "stdout",
     "output_type": "stream",
     "text": [
      "[Open3D INFO] Picked point #195005 (0.089, -0.065, 0.16) to add in queue.\n",
      "[Open3D INFO] Picked point #189889 (0.087, -0.062, 0.17) to add in queue.\n",
      "[Open3D INFO] Remove picked point #189889 from pick queue.\n",
      "[Open3D INFO] Remove picked point #195005 from pick queue.\n",
      "[Open3D INFO] Picked point #209075 (0.095, -0.071, 0.15) to add in queue.\n",
      "[Open3D INFO] Picked point #1162800 (-0.031, 0.056, 0.16) to add in queue.\n"
     ]
    }
   ],
   "source": [
    "\n",
    "t = Tracker(ref_surface=d.pcd)\n"
   ]
  },
  {
   "cell_type": "code",
   "execution_count": null,
   "id": "8f3b8cbf",
   "metadata": {},
   "outputs": [],
   "source": []
  },
  {
   "cell_type": "code",
   "execution_count": null,
   "id": "f6a8dfad",
   "metadata": {},
   "outputs": [],
   "source": []
  },
  {
   "cell_type": "code",
   "execution_count": 3,
   "id": "4ccdeb4f",
   "metadata": {},
   "outputs": [],
   "source": [
    "o3d.visualization.draw_geometries([t.ref_surface.to_legacy()])"
   ]
  },
  {
   "cell_type": "code",
   "execution_count": 2,
   "id": "1ba36142",
   "metadata": {},
   "outputs": [],
   "source": [
    "from datetime import timedelta\n",
    "delta = timedelta(seconds=70)\n",
    "d.stream1.seek(delta)\n",
    "d.stream2.seek(delta)"
   ]
  },
  {
   "cell_type": "code",
   "execution_count": 7,
   "id": "1a59eb0d",
   "metadata": {},
   "outputs": [],
   "source": [
    "p1 = [0.3,0.3,0.3]\n",
    "p2 = [-0.3,-0.3,0.2]\n",
    "midz = np.mean([p1[2], p2[2]])\n",
    "lower = [np.min([p1[0], p2[0]]), np.min([p1[1], p2[1]]), midz - 0.02]"
   ]
  },
  {
   "cell_type": "code",
   "execution_count": 8,
   "id": "9671e7a2",
   "metadata": {},
   "outputs": [
    {
     "data": {
      "text/plain": [
       "[-0.3, -0.3, 0.23]"
      ]
     },
     "execution_count": 8,
     "metadata": {},
     "output_type": "execute_result"
    }
   ],
   "source": [
    " lower"
   ]
  },
  {
   "cell_type": "code",
   "execution_count": 10,
   "id": "21aa44a2",
   "metadata": {},
   "outputs": [
    {
     "data": {
      "text/plain": [
       "numpy.float32"
      ]
     },
     "execution_count": 10,
     "metadata": {},
     "output_type": "execute_result"
    }
   ],
   "source": [
    "type(d.pcd.point['positions'].numpy()[0][0])"
   ]
  },
  {
   "cell_type": "code",
   "execution_count": 9,
   "id": "8ec86518",
   "metadata": {},
   "outputs": [
    {
     "data": {
      "text/plain": [
       "[[0.999999 -0.00117451 -0.000221870 -7.26435e-05],\n",
       " [0.00117435 0.999999 -0.000746738 0.000187356],\n",
       " [0.000222747 0.000746477 1.0 -8.60738e-05],\n",
       " [0.0 0.0 0.0 1.0]]\n",
       "Tensor[shape={4, 4}, stride={4, 1}, Float64, CUDA:0, 0x130a509c00]"
      ]
     },
     "execution_count": 9,
     "metadata": {},
     "output_type": "execute_result"
    }
   ],
   "source": [
    "t.get_motion(d.compute_pcd(True))"
   ]
  },
  {
   "cell_type": "code",
   "execution_count": 7,
   "id": "bfb2bcb7",
   "metadata": {},
   "outputs": [],
   "source": [
    "a=d.compute_pcd(True)"
   ]
  },
  {
   "cell_type": "code",
   "execution_count": 10,
   "id": "90444aea",
   "metadata": {},
   "outputs": [
    {
     "data": {
      "text/plain": [
       "True"
      ]
     },
     "execution_count": 10,
     "metadata": {},
     "output_type": "execute_result"
    }
   ],
   "source": [
    "a is None"
   ]
  },
  {
   "cell_type": "code",
   "execution_count": 14,
   "id": "e5c150de",
   "metadata": {},
   "outputs": [
    {
     "data": {
      "text/plain": [
       "((<pyrealsense2.frame Z16 #8056 @1653364518745.431152>,\n",
       "  <pyrealsense2.frame RGB8 #8052 @1653364518728.857178>),\n",
       " (<pyrealsense2.frame Z16 #8013 @1653364518748.400391>,\n",
       "  <pyrealsense2.frame RGB8 #8008 @1653364518732.104736>))"
      ]
     },
     "execution_count": 14,
     "metadata": {},
     "output_type": "execute_result"
    }
   ],
   "source": [
    "d.get_frames()"
   ]
  },
  {
   "cell_type": "code",
   "execution_count": 15,
   "id": "910fb34f",
   "metadata": {},
   "outputs": [
    {
     "data": {
      "text/plain": [
       "False"
      ]
     },
     "execution_count": 15,
     "metadata": {},
     "output_type": "execute_result"
    }
   ],
   "source": [
    "d.pose is None"
   ]
  },
  {
   "cell_type": "code",
   "execution_count": 18,
   "id": "c4294745",
   "metadata": {},
   "outputs": [
    {
     "data": {
      "text/plain": [
       "PointCloud on CPU:0 [1843200 points (Float32)].\n",
       "Attributes: colors (dtype = UInt8, shape = {1843200, 3})."
      ]
     },
     "execution_count": 18,
     "metadata": {},
     "output_type": "execute_result"
    }
   ],
   "source": [
    "d.stream1.compute_pcd() + d.stream2.compute_pcd()"
   ]
  },
  {
   "cell_type": "code",
   "execution_count": 4,
   "id": "55bba3c8",
   "metadata": {},
   "outputs": [],
   "source": [
    "t.ref_surface.estimate_normals(30,0.001)"
   ]
  },
  {
   "cell_type": "code",
   "execution_count": 8,
   "id": "8dad89e2",
   "metadata": {},
   "outputs": [
    {
     "ename": "AttributeError",
     "evalue": "type object 'Tracker' has no attribute 'isR_matrix'",
     "output_type": "error",
     "traceback": [
      "\u001b[1;31m---------------------------------------------------------------------------\u001b[0m",
      "\u001b[1;31mAttributeError\u001b[0m                            Traceback (most recent call last)",
      "\u001b[1;32m<ipython-input-8-837085bf8fa2>\u001b[0m in \u001b[0;36m<module>\u001b[1;34m\u001b[0m\n\u001b[1;32m----> 1\u001b[1;33m \u001b[0mTracker\u001b[0m\u001b[1;33m.\u001b[0m\u001b[0mcompute_rotation\u001b[0m\u001b[1;33m(\u001b[0m\u001b[0mt\u001b[0m\u001b[1;33m.\u001b[0m\u001b[0m_t_guess\u001b[0m\u001b[1;33m)\u001b[0m\u001b[1;33m\u001b[0m\u001b[1;33m\u001b[0m\u001b[0m\n\u001b[0m",
      "\u001b[1;32mc:\\users\\yben4607\\clean\\code\\spygrt\\spygrt\\tracker.py\u001b[0m in \u001b[0;36mcompute_rotation\u001b[1;34m(T)\u001b[0m\n\u001b[0;32m    191\u001b[0m         \u001b[1;34m\"\"\"Extract rotations from an affine transformation matrix.\"\"\"\u001b[0m\u001b[1;33m\u001b[0m\u001b[1;33m\u001b[0m\u001b[0m\n\u001b[0;32m    192\u001b[0m         \u001b[0mR\u001b[0m \u001b[1;33m=\u001b[0m \u001b[0mT\u001b[0m\u001b[1;33m.\u001b[0m\u001b[0mnumpy\u001b[0m\u001b[1;33m(\u001b[0m\u001b[1;33m)\u001b[0m\u001b[1;33m[\u001b[0m\u001b[1;36m0\u001b[0m\u001b[1;33m:\u001b[0m\u001b[1;36m3\u001b[0m\u001b[1;33m]\u001b[0m\u001b[1;33m.\u001b[0m\u001b[0mT\u001b[0m\u001b[1;33m[\u001b[0m\u001b[1;36m0\u001b[0m\u001b[1;33m:\u001b[0m\u001b[1;36m3\u001b[0m\u001b[1;33m]\u001b[0m\u001b[1;33m.\u001b[0m\u001b[0mT\u001b[0m\u001b[1;33m.\u001b[0m\u001b[0mcopy\u001b[0m\u001b[1;33m(\u001b[0m\u001b[1;33m)\u001b[0m\u001b[1;33m\u001b[0m\u001b[1;33m\u001b[0m\u001b[0m\n\u001b[1;32m--> 193\u001b[1;33m         \u001b[1;32mif\u001b[0m \u001b[1;32mnot\u001b[0m \u001b[0mTracker\u001b[0m\u001b[1;33m.\u001b[0m\u001b[0misR_matrix\u001b[0m\u001b[1;33m(\u001b[0m\u001b[0mR\u001b[0m\u001b[1;33m)\u001b[0m\u001b[1;33m:\u001b[0m\u001b[1;33m\u001b[0m\u001b[1;33m\u001b[0m\u001b[0m\n\u001b[0m\u001b[0;32m    194\u001b[0m             \u001b[0mprint\u001b[0m\u001b[1;33m(\u001b[0m\u001b[1;34m\"Matrix is not a rotation matrix\"\u001b[0m\u001b[1;33m,\u001b[0m \u001b[0msys\u001b[0m\u001b[1;33m.\u001b[0m\u001b[0mstderr\u001b[0m\u001b[1;33m)\u001b[0m\u001b[1;33m\u001b[0m\u001b[1;33m\u001b[0m\u001b[0m\n\u001b[0;32m    195\u001b[0m             \u001b[0msys\u001b[0m\u001b[1;33m.\u001b[0m\u001b[0mexit\u001b[0m\u001b[1;33m(\u001b[0m\u001b[1;33m)\u001b[0m\u001b[1;33m\u001b[0m\u001b[1;33m\u001b[0m\u001b[0m\n",
      "\u001b[1;31mAttributeError\u001b[0m: type object 'Tracker' has no attribute 'isR_matrix'"
     ]
    }
   ],
   "source": [
    "Tracker.compute_rotation(t._t_guess)"
   ]
  },
  {
   "cell_type": "code",
   "execution_count": null,
   "id": "ce279da5",
   "metadata": {},
   "outputs": [
    {
     "name": "stdout",
     "output_type": "stream",
     "text": [
      "0.0\n",
      "1.0\n",
      "Timestamps:1676258453347.0708 1433 1676258453469.0671 1397\n",
      "Timestamps:1676258454422.1592 1465 1676258454544.2842 1429\n",
      "Timestamps:1676258454422.1592 1465 1676258454544.2842 1429\n",
      "Timestamps:1676258455194.96 1488 1676258455317.0886 1452\n",
      "Timestamps:1676258457782.2197 1565 1676258457904.2498 1529\n",
      "2.0\n",
      "Timestamps:1676258458823.7617 1596 1676258458945.8157 1560\n",
      "Timestamps:1676258461713.4575 1682 1676258461835.3643 1646\n",
      "3.0\n",
      "Timestamps:1676258467996.565 1869 1676258468118.3394 1833\n",
      "4.0\n",
      "Timestamps:1676258473540.3994 2034 1676258473662.154 1998\n",
      "Timestamps:1676258475455.641 2091 1676258475577.3076 2055\n",
      "Timestamps:1676258475455.641 2091 1676258475577.3076 2055\n",
      "5.0\n",
      "Timestamps:1676258479756.5095 2219 1676258479642.7573 2176\n",
      "Timestamps:1676258479857.305 2222 1676258479743.5542 2179\n",
      "Timestamps:1676258480327.6821 2236 1676258480213.9392 2193\n",
      "Timestamps:1676258480327.6821 2236 1676258480213.9392 2193\n",
      "Timestamps:1676258480663.6707 2246 1676258480785.121 2210\n",
      "Timestamps:1676258483284.4224 2324 1676258483405.8232 2288\n",
      "Timestamps:1676258483284.4224 2324 1676258483405.8232 2288\n",
      "Timestamps:1676258484090.8018 2348 1676258484212.1794 2312\n",
      "Timestamps:1676258484863.6091 2371 1676258484749.7563 2328\n",
      "Timestamps:1676258485199.632 2381 1676258485085.7432 2338\n",
      "6.0\n",
      "Timestamps:1676258488828.4243 2489 1676258488949.8364 2453\n",
      "Timestamps:1676258492423.493 2596 1676258492578.4883 2561\n",
      "7.0\n",
      "Timestamps:1676258493431.444 2626 1676258493552.836 2590\n",
      "Timestamps:1676258494204.275 2649 1676258494325.6355 2613\n",
      "Timestamps:1676258495951.4731 2701 1676258496072.7751 2665\n",
      "Timestamps:1676258496589.875 2720 1676258496711.1208 2684\n",
      "Timestamps:1676258497362.6309 2743 1676258497517.4578 2708\n",
      "8.0\n",
      "Timestamps:1676258499882.492 2818 1676258499768.5186 2775\n",
      "Timestamps:1676258499882.492 2818 1676258499768.5186 2775\n",
      "Timestamps:1676258502100.1692 2884 1676258502254.7373 2849\n",
      "Timestamps:1676258503477.822 2925 1676258503598.7327 2889\n",
      "Timestamps:1676258506031.3765 3001 1676258506152.2832 2965\n",
      "Timestamps:1676258506031.3765 3001 1676258506152.2832 2965\n",
      "9.0\n",
      "Timestamps:1676258508181.7505 3065 1676258508067.5923 3022\n",
      "Timestamps:1676258509156.1145 3094 1676258509310.7214 3059\n",
      "Timestamps:1676258509928.8875 3117 1676258510049.887 3081\n",
      "10.0\n",
      "Timestamps:1676258514296.857 3247 1676258514417.8105 3211\n",
      "Timestamps:1676258519907.9927 3414 1676258520028.7888 3378\n",
      "11.0\n",
      "Timestamps:1676258522327.2073 3486 1676258522447.9573 3450\n",
      "Timestamps:1676258524679.1953 3556 1676258524833.5425 3521\n",
      "Timestamps:1676258524679.1953 3556 1676258524833.5425 3521\n",
      "Timestamps:1676258525485.5686 3580 1676258525371.1267 3537\n",
      "12.0\n",
      "Timestamps:1676258527098.3643 3628 1676258527252.7068 3593\n",
      "Timestamps:1676258527098.3643 3628 1676258527252.7068 3593\n",
      "Timestamps:1676258527568.7927 3642 1676258527689.4736 3606\n",
      "Timestamps:1676258528845.5876 3680 1676258528731.0745 3637\n",
      "Timestamps:1676258528845.5876 3680 1676258528731.0745 3637\n",
      "Timestamps:1676258529450.3906 3698 1676258529571.091 3662\n",
      "Timestamps:1676258529450.3906 3698 1676258529571.091 3662\n",
      "Timestamps:1676258529719.1887 3706 1676258529571.091 3662\n",
      "Timestamps:1676258530223.1626 3721 1676258530343.8833 3685\n",
      "Timestamps:1676258530491.9475 3729 1676258530377.4827 3686\n",
      "Timestamps:1676258530491.9475 3729 1676258530377.4827 3686\n",
      "Timestamps:1676258530525.5454 3730 1676258530646.278 3694\n",
      "Timestamps:1676258533851.976 3829 1676258533737.168 3786\n",
      "Timestamps:1676258533851.976 3829 1676258533737.168 3786\n",
      "13.0\n",
      "Timestamps:1676258534826.341 3858 1676258534946.6538 3822\n",
      "Timestamps:1676258534994.3416 3863 1676258535114.6401 3827\n",
      "Timestamps:1676258535531.944 3879 1676258535417.083 3836\n",
      "Timestamps:1676258540471.0857 4026 1676258540591.2424 3990\n",
      "14.0\n",
      "Timestamps:1676258542990.9644 4101 1676258542876.0603 4058\n",
      "Timestamps:1676258544670.9438 4151 1676258544556.0115 4108\n",
      "Timestamps:1676258545510.9033 4176 1676258545396.0085 4133\n",
      "15.0\n",
      "Timestamps:1676258548837.332 4275 1676258548722.2168 4232\n",
      "Timestamps:1676258550416.5037 4322 1676258550536.5432 4286\n",
      "Timestamps:1676258552600.5012 4387 1676258552485.335 4344\n",
      "16.0\n",
      "Timestamps:1676258556766.7864 4511 1676258556886.701 4475\n",
      "17.0\n",
      "Timestamps:1676258563352.3328 4707 1676258563236.9294 4664\n",
      "Timestamps:1676258563352.3328 4707 1676258563236.9294 4664\n",
      "Timestamps:1676258564696.3625 4747 1676258564816.0776 4711\n",
      "Timestamps:1676258565805.5027 4780 1676258565958.4512 4745\n",
      "Timestamps:1676258568358.9983 4856 1676258568243.1033 4813\n",
      "18.0\n",
      "Timestamps:1676258568627.783 4864 1676258568747.1008 4828\n",
      "Timestamps:1676258570979.605 4934 1676258571099.0027 4898\n",
      "Timestamps:1676258574675.4973 5044 1676258574794.9392 5008\n",
      "19.0\n",
      "Timestamps:1676258581328.1965 5242 1676258581447.5732 5206\n",
      "20.0\n",
      "Timestamps:1676258583344.203 5302 1676258583228.3225 5259\n",
      "21.0\n",
      "Timestamps:1676258590769.5173 5523 1676258590653.7932 5480\n",
      "Timestamps:1676258592449.6514 5573 1676258592333.8386 5530\n",
      "Timestamps:1676258592449.6514 5573 1676258592333.8386 5530\n",
      "Timestamps:1676258593659.2725 5609 1676258593778.5095 5573\n",
      "22.0\n",
      "Timestamps:1676258597590.3474 5726 1676258597709.4014 5690\n",
      "Timestamps:1676258599841.7024 5793 1676258599725.3428 5750\n",
      "Timestamps:1676258600648.1038 5817 1676258600531.7112 5774\n",
      "Timestamps:1676258600648.1038 5817 1676258600531.7112 5774\n",
      "Timestamps:1676258601555.279 5844 1676258601674.1184 5808\n",
      "Timestamps:1676258602428.8523 5870 1676258602547.7217 5834\n",
      "Timestamps:1676258602428.8523 5870 1676258602547.7217 5834\n",
      "23.0\n",
      "Timestamps:1676258604041.5981 5918 1676258604160.401 5882\n",
      "Timestamps:1676258604814.376 5941 1676258604933.186 5905\n",
      "Timestamps:1676258608913.467 6063 1676258608797.203 6020\n",
      "24.0\n",
      "Timestamps:1676258610727.8723 6117 1676258610846.76 6081\n",
      "Timestamps:1676258611399.8574 6137 1676258611283.55 6094\n",
      "Timestamps:1676258611534.254 6141 1676258611653.1375 6105\n",
      "Timestamps:1676258615532.6309 6260 1676258615382.6155 6216\n",
      "Timestamps:1676258616742.2283 6296 1676258616860.887 6260\n",
      "25.0\n",
      "Timestamps:1676258617918.1777 6331 1676258618036.844 6295\n",
      "Timestamps:1676258618220.5632 6340 1676258618339.2327 6304\n",
      "Timestamps:1676258619631.696 6382 1676258619515.2014 6339\n",
      "Timestamps:1676258620337.2766 6403 1676258620455.95 6367\n",
      "Timestamps:1676258620337.2766 6403 1676258620455.95 6367\n",
      "26.0\n",
      "Timestamps:1676258625343.5884 6552 1676258625462.3413 6516\n",
      "Timestamps:1676258625343.5884 6552 1676258625462.3413 6516\n",
      "Timestamps:1676258625813.9949 6566 1676258625932.6926 6530\n",
      "Timestamps:1676258625813.9949 6566 1676258625932.6926 6530\n",
      "Timestamps:1676258626989.9824 6601 1676258627108.5903 6565\n",
      "Timestamps:1676258626989.9824 6601 1676258627108.5903 6565\n",
      "27.0\n",
      "Timestamps:1676258636196.3484 6875 1676258636079.4148 6832\n",
      "Timestamps:1676258636297.1506 6878 1676258636180.2058 6835\n",
      "28.0\n",
      "Timestamps:1676258639220.3303 6965 1676258639103.3228 6922\n",
      "Timestamps:1676258639354.732 6969 1676258639237.734 6926\n",
      "29.0\n",
      "Timestamps:1676258647586.66 7214 1676258647704.7114 7178\n",
      "Timestamps:1676258648359.4219 7237 1676258648511.09 7202\n",
      "Timestamps:1676258649165.783 7261 1676258649283.9014 7225\n",
      "Timestamps:1676258649165.783 7261 1676258649283.9014 7225\n",
      "30.0\n",
      "Timestamps:1676258654944.8828 7433 1676258654827.6833 7390\n",
      "Timestamps:1676258657868.0854 7520 1676258657750.7466 7477\n",
      "31.0\n",
      "Timestamps:1676258659178.4946 7559 1676258659061.0789 7516\n",
      "Timestamps:1676258660354.4907 7594 1676258660237.0676 7551\n",
      "Timestamps:1676258664218.4768 7709 1676258664336.1133 7673\n",
      "32.0\n",
      "33.0\n",
      "Timestamps:1676258672080.7075 7943 1676258671963.0156 7900\n",
      "Timestamps:1676258676784.6433 8083 1676258676902.1602 8047\n",
      "Timestamps:1676258677960.6548 8118 1676258678078.139 8082\n",
      "34.0\n",
      "Timestamps:1676258684378.3909 8309 1676258684260.3816 8266\n",
      "35.0\n",
      "Timestamps:1676258686696.7727 8378 1676258686578.6313 8335\n",
      "Timestamps:1676258690661.4424 8496 1676258690778.5234 8460\n",
      "36.0\n",
      "Timestamps:1676258693987.7166 8595 1676258694104.8025 8559\n",
      "Timestamps:1676258695970.1692 8654 1676258696087.1526 8618\n",
      "Timestamps:1676258698523.7268 8730 1676258698640.7249 8694\n",
      "37.0\n",
      "Timestamps:1676258701514.1426 8819 1676258701630.9895 8783\n",
      "Timestamps:1676258703227.654 8870 1676258703109.3184 8827\n",
      "Timestamps:1676258703597.2512 8881 1676258703478.8982 8838\n",
      "Timestamps:1676258704437.2368 8906 1676258704318.857 8863\n",
      "38.0\n",
      "Timestamps:1676258712870.7446 9157 1676258712752.1482 9114\n",
      "39.0\n",
      "Timestamps:1676258716566.897 9267 1676258716716.7876 9232\n",
      "Timestamps:1676258717339.7031 9290 1676258717455.983 9254\n"
     ]
    }
   ],
   "source": [
    "#data = []\n",
    "import time\n",
    "a = time.time()\n",
    "mat_arr = []\n",
    "for i in range(120000):\n",
    "    \n",
    "    try:\n",
    "        t.get_motion(d.compute_pcd(True))\n",
    "    except RuntimeError:\n",
    "        continue\n",
    "    except NoMoreFrames:\n",
    "        np.savetxt('track.txt',data)\n",
    "        break\n",
    "    data.append(np.concatenate(([d.timestamp], Tracker.compute_translation(t.t_guess), Tracker.compute_rotation(t.t_guess))))\n",
    "    mat_arr.append(t._t_guess)\n",
    "    if i%100 == 0:\n",
    "        print(i/100)\n",
    "        np.savetxt('track.txt',data)\n",
    "b = time.time()\n",
    "b-a   "
   ]
  },
  {
   "cell_type": "code",
   "execution_count": 4,
   "id": "9140855a",
   "metadata": {},
   "outputs": [
    {
     "name": "stdout",
     "output_type": "stream",
     "text": [
      "[Open3D WARNING] GLFW Error: WGL: Failed to make context current: The handle is invalid. \n",
      "[Open3D WARNING] GLFW Error: WGL: Failed to make context current: The handle is invalid. \n",
      "[Open3D WARNING] GLFW Error: WGL: Failed to make context current: The requested transformation operation is not supported. \n",
      "[Open3D WARNING] GLFW Error: WGL: Failed to make context current: The handle is invalid. \n"
     ]
    }
   ],
   "source": [
    "o3d.visualization.draw_geometries([t._source.to_legacy()])"
   ]
  },
  {
   "cell_type": "code",
   "execution_count": 8,
   "id": "efb26d45",
   "metadata": {},
   "outputs": [
    {
     "data": {
      "text/plain": [
       "[[0.960616 -0.26193 -0.0927886 0.0517465],\n",
       " [0.276662 0.932738 0.23121 -0.0737735],\n",
       " [0.0259866 -0.247775 0.968469 0.0439792],\n",
       " [0.0 0.0 0.0 1.0]]\n",
       "Tensor[shape={4, 4}, stride={4, 1}, Float64, CPU:0, 0x24d64541970]"
      ]
     },
     "execution_count": 8,
     "metadata": {},
     "output_type": "execute_result"
    }
   ],
   "source": [
    "t.t_guess"
   ]
  },
  {
   "cell_type": "code",
   "execution_count": 7,
   "id": "3797f89c",
   "metadata": {},
   "outputs": [],
   "source": [
    "saved_data = data"
   ]
  },
  {
   "cell_type": "code",
   "execution_count": 17,
   "id": "404dcad5",
   "metadata": {},
   "outputs": [],
   "source": [
    "for i in range(48):\n",
    "    d.compute_pcd(True)"
   ]
  },
  {
   "cell_type": "code",
   "execution_count": 18,
   "id": "698ba46c",
   "metadata": {},
   "outputs": [
    {
     "data": {
      "text/plain": [
       "[[0.976428 -0.135231 0.168226 -0.0104739],\n",
       " [0.146373 0.987664 -0.0556359 -0.0120752],\n",
       " [-0.158627 0.0789482 0.984177 -0.068689],\n",
       " [0.0 0.0 0.0 1.0]]\n",
       "Tensor[shape={4, 4}, stride={4, 1}, Float64, CPU:0, 0x18e6fd1f110]"
      ]
     },
     "execution_count": 18,
     "metadata": {},
     "output_type": "execute_result"
    }
   ],
   "source": [
    "t.get_motion(d.pcd)"
   ]
  },
  {
   "cell_type": "code",
   "execution_count": 19,
   "id": "4c451fda",
   "metadata": {},
   "outputs": [],
   "source": [
    "o3d.visualization.draw_geometries([t._source.to_legacy()])"
   ]
  },
  {
   "cell_type": "code",
   "execution_count": 3,
   "id": "a3439419",
   "metadata": {},
   "outputs": [],
   "source": [
    "np.savetxt('data.txt',np.asarray(data))"
   ]
  },
  {
   "cell_type": "code",
   "execution_count": 5,
   "id": "bdd05792",
   "metadata": {},
   "outputs": [
    {
     "data": {
      "text/plain": [
       "1676258858178.8535"
      ]
     },
     "execution_count": 5,
     "metadata": {},
     "output_type": "execute_result"
    }
   ],
   "source": [
    "d.timestamp"
   ]
  },
  {
   "cell_type": "code",
   "execution_count": 4,
   "id": "9ed7d985",
   "metadata": {},
   "outputs": [
    {
     "data": {
      "text/plain": [
       "496"
      ]
     },
     "execution_count": 4,
     "metadata": {},
     "output_type": "execute_result"
    }
   ],
   "source": [
    "len(data)"
   ]
  },
  {
   "cell_type": "code",
   "execution_count": 7,
   "id": "6d977585",
   "metadata": {},
   "outputs": [
    {
     "data": {
      "text/plain": [
       "152473.41845703125"
      ]
     },
     "execution_count": 7,
     "metadata": {},
     "output_type": "execute_result"
    }
   ],
   "source": [
    "a=1.676258596709123047e+12\n",
    "b=1.676258444235704590e+12\n",
    "a-b"
   ]
  },
  {
   "cell_type": "code",
   "execution_count": 5,
   "id": "ce2182de",
   "metadata": {},
   "outputs": [],
   "source": [
    "import numpy as np\n",
    "R = np.asarray([[1,2,3,4],[5,6,7,8],[9, 10 ,11, 12],[13,14,15,16]])"
   ]
  },
  {
   "cell_type": "code",
   "execution_count": 6,
   "id": "6cfb47b2",
   "metadata": {},
   "outputs": [
    {
     "data": {
      "text/plain": [
       "array([[ 1,  2,  3,  4],\n",
       "       [ 5,  6,  7,  8],\n",
       "       [ 9, 10, 11, 12],\n",
       "       [13, 14, 15, 16]])"
      ]
     },
     "execution_count": 6,
     "metadata": {},
     "output_type": "execute_result"
    }
   ],
   "source": [
    "R"
   ]
  },
  {
   "cell_type": "code",
   "execution_count": 7,
   "id": "accfd788",
   "metadata": {},
   "outputs": [
    {
     "data": {
      "text/plain": [
       "array([[ 1,  2,  3],\n",
       "       [ 5,  6,  7],\n",
       "       [ 9, 10, 11]])"
      ]
     },
     "execution_count": 7,
     "metadata": {},
     "output_type": "execute_result"
    }
   ],
   "source": [
    "R[0:3].T[0:3].T"
   ]
  },
  {
   "cell_type": "code",
   "execution_count": 9,
   "id": "de12702a",
   "metadata": {},
   "outputs": [
    {
     "data": {
      "text/plain": [
       "4.3578288411458335"
      ]
     },
     "execution_count": 9,
     "metadata": {},
     "output_type": "execute_result"
    }
   ],
   "source": [
    "(1676258858178.8535-a)/1000/60"
   ]
  },
  {
   "cell_type": "code",
   "execution_count": 10,
   "id": "57faac1e",
   "metadata": {},
   "outputs": [],
   "source": [
    "np.savetxt('track.txt',data)"
   ]
  },
  {
   "cell_type": "code",
   "execution_count": 10,
   "id": "33e06649",
   "metadata": {},
   "outputs": [],
   "source": [
    "a = o3d.core.Tensor(np.asarray([]),device=o3d.core.Device('cuda:0'))"
   ]
  },
  {
   "cell_type": "code",
   "execution_count": 11,
   "id": "577c7866",
   "metadata": {},
   "outputs": [
    {
     "data": {
      "text/plain": [
       "True"
      ]
     },
     "execution_count": 11,
     "metadata": {},
     "output_type": "execute_result"
    }
   ],
   "source": [
    "a.is_cuda"
   ]
  },
  {
   "cell_type": "code",
   "execution_count": 7,
   "id": "c0d6d407",
   "metadata": {},
   "outputs": [
    {
     "data": {
      "text/plain": [
       "694950.8503417969"
      ]
     },
     "execution_count": 7,
     "metadata": {},
     "output_type": "execute_result"
    }
   ],
   "source": [
    "1.676259139169756836e+12-1.676258444218906494e+12"
   ]
  },
  {
   "cell_type": "code",
   "execution_count": 6,
   "id": "f5cd315b",
   "metadata": {},
   "outputs": [],
   "source": [
    "I = np.asarray([[1,0,0,0.022],[0,1,0,0],[0,0,1,0],[0,0,0,1]])\n",
    "rec1._pose = I@rec1._pose\n",
    "rec2._pose = I@rec2._pose"
   ]
  },
  {
   "cell_type": "code",
   "execution_count": 7,
   "id": "e635a103",
   "metadata": {},
   "outputs": [
    {
     "data": {
      "text/plain": [
       "PointCloud on CUDA:0 [1843200 points (Float32)].\n",
       "Attributes: colors (dtype = UInt8, shape = {1843200, 3})."
      ]
     },
     "execution_count": 7,
     "metadata": {},
     "output_type": "execute_result"
    }
   ],
   "source": [
    "d.compute_pcd(False)"
   ]
  },
  {
   "cell_type": "code",
   "execution_count": 11,
   "id": "21aebbeb",
   "metadata": {},
   "outputs": [],
   "source": [
    "data = []\n",
    "data.append(np.concatenate(([d.timestamp], Tracker.compute_translation(t.t_guess), Tracker.compute_rotation(t.t_guess))))\n"
   ]
  },
  {
   "cell_type": "code",
   "execution_count": 12,
   "id": "9a1ebfda",
   "metadata": {},
   "outputs": [
    {
     "data": {
      "text/plain": [
       "[array([ 1.67625844e+12, -7.26434555e-05,  1.87355803e-04, -8.60738479e-05,\n",
       "         6.72852432e-02, -1.27624544e-02,  4.27700061e-02])]"
      ]
     },
     "execution_count": 12,
     "metadata": {},
     "output_type": "execute_result"
    }
   ],
   "source": [
    "data"
   ]
  },
  {
   "cell_type": "code",
   "execution_count": null,
   "id": "8054ee51",
   "metadata": {},
   "outputs": [],
   "source": []
  }
 ],
 "metadata": {
  "kernelspec": {
   "display_name": "SpyGRT",
   "language": "python",
   "name": "spygrt"
  },
  "language_info": {
   "codemirror_mode": {
    "name": "ipython",
    "version": 3
   },
   "file_extension": ".py",
   "mimetype": "text/x-python",
   "name": "python",
   "nbconvert_exporter": "python",
   "pygments_lexer": "ipython3",
   "version": "3.10.10"
  }
 },
 "nbformat": 4,
 "nbformat_minor": 5
}
