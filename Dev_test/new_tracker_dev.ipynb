{
 "cells": [
  {
   "cell_type": "code",
   "execution_count": 3,
   "id": "9c9ce07f",
   "metadata": {},
   "outputs": [
    {
     "data": {
      "text/plain": [
       "array([[ 0.76596981,  0.47690493, -0.46312463,  0.40999882],\n",
       "       [ 0.65983385, -0.45945311,  0.61818653, -0.47658443],\n",
       "       [ 0.0808824 , -0.76817775, -0.65726215,  0.49703872],\n",
       "       [ 0.        ,  0.        ,  0.        ,  1.        ]])"
      ]
     },
     "execution_count": 3,
     "metadata": {},
     "output_type": "execute_result"
    }
   ],
   "source": [
    "import cv2 as cv\n",
    "import pyrealsense2 as rs2\n",
    "import open3d as o3d\n",
    "import numpy as np\n",
    "import time\n",
    "\n",
    "from spygrt.stream import Recording, NoMoreFrames, DualRecording\n",
    "from spygrt.tracker import Tracker\n",
    "#rec1 = Recording('C:/Users/yben4607/clean/ResearchData/VISION/Youssef_Test/Recording_Session/121622061907_2022May24015518.bag')\n",
    "#rec2 = Recording('C:/Users/yben4607/clean/ResearchData/VISION/Youssef_Test/Recording_Session/123122061443_2022May24015518.bag')\n",
    "#rec1.load_calibration('C:/Users/yben4607/clean/ResearchData/VISION/Youssef_Test/RS_Calibration/121622061907_cal.txt')\n",
    "#rec2.load_calibration('C:/Users/yben4607/clean/ResearchData/VISION/Youssef_Test/RS_Calibration/123122061443_cal.txt')\n",
    "rec1 = Recording('E:/VISION/129/Recording_Session/121622061907_2023Feb13022044.bag')\n",
    "rec2 = Recording('E:/VISION/129/Recording_Session/123122061443_2023Feb13022044.bag')\n",
    "rec1.load_calibration('121622061907_opti.txt')\n",
    "rec2.load_calibration('123122061443_opti.txt')\n",
    "\n",
    "\n"
   ]
  },
  {
   "cell_type": "code",
   "execution_count": 4,
   "id": "f969486d",
   "metadata": {},
   "outputs": [],
   "source": [
    "d = DualRecording(rec1,rec2)"
   ]
  },
  {
   "cell_type": "code",
   "execution_count": 3,
   "id": "5fee1a2f",
   "metadata": {},
   "outputs": [
    {
     "data": {
      "text/plain": [
       "<playback_status.stopped: 3>"
      ]
     },
     "execution_count": 3,
     "metadata": {},
     "output_type": "execute_result"
    }
   ],
   "source": [
    "d.stream1._playback.current_status()"
   ]
  },
  {
   "cell_type": "code",
   "execution_count": 5,
   "id": "b2ff0291",
   "metadata": {},
   "outputs": [],
   "source": [
    "d.start_stream()"
   ]
  },
  {
   "cell_type": "code",
   "execution_count": 6,
   "id": "7c6fc0da",
   "metadata": {},
   "outputs": [
    {
     "data": {
      "text/plain": [
       "((<pyrealsense2.frame Z16 #1160 @1676258444174.644043>,\n",
       "  <pyrealsense2.frame RGB8 #1194 @1676258444174.980957>),\n",
       " (<pyrealsense2.frame Z16 #1121 @1676258444195.972412>,\n",
       "  <pyrealsense2.frame RGB8 #1123 @1676258444196.309326>))"
      ]
     },
     "execution_count": 6,
     "metadata": {},
     "output_type": "execute_result"
    }
   ],
   "source": [
    "d.get_frames()"
   ]
  },
  {
   "cell_type": "code",
   "execution_count": 7,
   "id": "f6de6686",
   "metadata": {},
   "outputs": [
    {
     "name": "stdout",
     "output_type": "stream",
     "text": [
      "[Open3D INFO] Picked point #192419 (-0.12, 0.088, 0.16) to add in queue.\n",
      "[Open3D INFO] Picked point #1167953 (0.026, -0.038, 0.16) to add in queue.\n"
     ]
    }
   ],
   "source": [
    "t = Tracker(ref_surface=d.pcd)"
   ]
  },
  {
   "cell_type": "code",
   "execution_count": 2,
   "id": "6a55e2a8",
   "metadata": {},
   "outputs": [
    {
     "name": "stdout",
     "output_type": "stream",
     "text": [
      "[Open3D INFO] Picked point #195005 (0.089, -0.065, 0.16) to add in queue.\n",
      "[Open3D INFO] Picked point #189889 (0.087, -0.062, 0.17) to add in queue.\n",
      "[Open3D INFO] Remove picked point #189889 from pick queue.\n",
      "[Open3D INFO] Remove picked point #195005 from pick queue.\n",
      "[Open3D INFO] Picked point #209075 (0.095, -0.071, 0.15) to add in queue.\n",
      "[Open3D INFO] Picked point #1162800 (-0.031, 0.056, 0.16) to add in queue.\n"
     ]
    }
   ],
   "source": [
    "\n",
    "t = Tracker(ref_surface=d.pcd)\n"
   ]
  },
  {
   "cell_type": "code",
   "execution_count": null,
   "id": "c10a19d2",
   "metadata": {},
   "outputs": [],
   "source": []
  },
  {
   "cell_type": "code",
   "execution_count": null,
   "id": "fdaef224",
   "metadata": {},
   "outputs": [],
   "source": []
  },
  {
   "cell_type": "code",
   "execution_count": 3,
   "id": "4ccdeb4f",
   "metadata": {},
   "outputs": [],
   "source": [
    "o3d.visualization.draw_geometries([t.ref_surface.to_legacy()])"
   ]
  },
  {
   "cell_type": "code",
   "execution_count": 2,
   "id": "1ba36142",
   "metadata": {},
   "outputs": [],
   "source": [
    "from datetime import timedelta\n",
    "delta = timedelta(seconds=70)\n",
    "d.stream1.seek(delta)\n",
    "d.stream2.seek(delta)"
   ]
  },
  {
   "cell_type": "code",
   "execution_count": 7,
   "id": "1a59eb0d",
   "metadata": {},
   "outputs": [],
   "source": [
    "p1 = [0.3,0.3,0.3]\n",
    "p2 = [-0.3,-0.3,0.2]\n",
    "midz = np.mean([p1[2], p2[2]])\n",
    "lower = [np.min([p1[0], p2[0]]), np.min([p1[1], p2[1]]), midz - 0.02]"
   ]
  },
  {
   "cell_type": "code",
   "execution_count": 8,
   "id": "9671e7a2",
   "metadata": {},
   "outputs": [
    {
     "data": {
      "text/plain": [
       "[-0.3, -0.3, 0.23]"
      ]
     },
     "execution_count": 8,
     "metadata": {},
     "output_type": "execute_result"
    }
   ],
   "source": [
    " lower"
   ]
  },
  {
   "cell_type": "code",
   "execution_count": 10,
   "id": "21aa44a2",
   "metadata": {},
   "outputs": [
    {
     "data": {
      "text/plain": [
       "numpy.float32"
      ]
     },
     "execution_count": 10,
     "metadata": {},
     "output_type": "execute_result"
    }
   ],
   "source": [
    "type(d.pcd.point['positions'].numpy()[0][0])"
   ]
  },
  {
   "cell_type": "code",
   "execution_count": 8,
   "id": "8ec86518",
   "metadata": {},
   "outputs": [
    {
     "data": {
      "text/plain": [
       "[[0.999996 -0.00115655 0.00258873 -0.000497843],\n",
       " [0.00115808 0.999999 -0.000587933 0.000163875],\n",
       " [-0.00258804 0.000590929 0.999996 2.50675e-06],\n",
       " [0.0 0.0 0.0 1.0]]\n",
       "Tensor[shape={4, 4}, stride={4, 1}, Float64, CUDA:0, 0x130a3b6000]"
      ]
     },
     "execution_count": 8,
     "metadata": {},
     "output_type": "execute_result"
    }
   ],
   "source": [
    "t.get_motion(d.compute_pcd(True))"
   ]
  },
  {
   "cell_type": "code",
   "execution_count": 7,
   "id": "bfb2bcb7",
   "metadata": {},
   "outputs": [],
   "source": [
    "a=d.compute_pcd(True)"
   ]
  },
  {
   "cell_type": "code",
   "execution_count": 10,
   "id": "90444aea",
   "metadata": {},
   "outputs": [
    {
     "data": {
      "text/plain": [
       "True"
      ]
     },
     "execution_count": 10,
     "metadata": {},
     "output_type": "execute_result"
    }
   ],
   "source": [
    "a is None"
   ]
  },
  {
   "cell_type": "code",
   "execution_count": 14,
   "id": "e5c150de",
   "metadata": {},
   "outputs": [
    {
     "data": {
      "text/plain": [
       "((<pyrealsense2.frame Z16 #8056 @1653364518745.431152>,\n",
       "  <pyrealsense2.frame RGB8 #8052 @1653364518728.857178>),\n",
       " (<pyrealsense2.frame Z16 #8013 @1653364518748.400391>,\n",
       "  <pyrealsense2.frame RGB8 #8008 @1653364518732.104736>))"
      ]
     },
     "execution_count": 14,
     "metadata": {},
     "output_type": "execute_result"
    }
   ],
   "source": [
    "d.get_frames()"
   ]
  },
  {
   "cell_type": "code",
   "execution_count": 15,
   "id": "910fb34f",
   "metadata": {},
   "outputs": [
    {
     "data": {
      "text/plain": [
       "False"
      ]
     },
     "execution_count": 15,
     "metadata": {},
     "output_type": "execute_result"
    }
   ],
   "source": [
    "d.pose is None"
   ]
  },
  {
   "cell_type": "code",
   "execution_count": 18,
   "id": "c4294745",
   "metadata": {},
   "outputs": [
    {
     "data": {
      "text/plain": [
       "PointCloud on CPU:0 [1843200 points (Float32)].\n",
       "Attributes: colors (dtype = UInt8, shape = {1843200, 3})."
      ]
     },
     "execution_count": 18,
     "metadata": {},
     "output_type": "execute_result"
    }
   ],
   "source": [
    "d.stream1.compute_pcd() + d.stream2.compute_pcd()"
   ]
  },
  {
   "cell_type": "code",
   "execution_count": 4,
   "id": "55bba3c8",
   "metadata": {},
   "outputs": [],
   "source": [
    "t.ref_surface.estimate_normals(30,0.001)"
   ]
  },
  {
   "cell_type": "code",
   "execution_count": 8,
   "id": "8dad89e2",
   "metadata": {},
   "outputs": [
    {
     "ename": "AttributeError",
     "evalue": "type object 'Tracker' has no attribute 'isR_matrix'",
     "output_type": "error",
     "traceback": [
      "\u001b[1;31m---------------------------------------------------------------------------\u001b[0m",
      "\u001b[1;31mAttributeError\u001b[0m                            Traceback (most recent call last)",
      "\u001b[1;32m<ipython-input-8-837085bf8fa2>\u001b[0m in \u001b[0;36m<module>\u001b[1;34m\u001b[0m\n\u001b[1;32m----> 1\u001b[1;33m \u001b[0mTracker\u001b[0m\u001b[1;33m.\u001b[0m\u001b[0mcompute_rotation\u001b[0m\u001b[1;33m(\u001b[0m\u001b[0mt\u001b[0m\u001b[1;33m.\u001b[0m\u001b[0m_t_guess\u001b[0m\u001b[1;33m)\u001b[0m\u001b[1;33m\u001b[0m\u001b[1;33m\u001b[0m\u001b[0m\n\u001b[0m",
      "\u001b[1;32mc:\\users\\yben4607\\clean\\code\\spygrt\\spygrt\\tracker.py\u001b[0m in \u001b[0;36mcompute_rotation\u001b[1;34m(T)\u001b[0m\n\u001b[0;32m    191\u001b[0m         \u001b[1;34m\"\"\"Extract rotations from an affine transformation matrix.\"\"\"\u001b[0m\u001b[1;33m\u001b[0m\u001b[1;33m\u001b[0m\u001b[0m\n\u001b[0;32m    192\u001b[0m         \u001b[0mR\u001b[0m \u001b[1;33m=\u001b[0m \u001b[0mT\u001b[0m\u001b[1;33m.\u001b[0m\u001b[0mnumpy\u001b[0m\u001b[1;33m(\u001b[0m\u001b[1;33m)\u001b[0m\u001b[1;33m[\u001b[0m\u001b[1;36m0\u001b[0m\u001b[1;33m:\u001b[0m\u001b[1;36m3\u001b[0m\u001b[1;33m]\u001b[0m\u001b[1;33m.\u001b[0m\u001b[0mT\u001b[0m\u001b[1;33m[\u001b[0m\u001b[1;36m0\u001b[0m\u001b[1;33m:\u001b[0m\u001b[1;36m3\u001b[0m\u001b[1;33m]\u001b[0m\u001b[1;33m.\u001b[0m\u001b[0mT\u001b[0m\u001b[1;33m.\u001b[0m\u001b[0mcopy\u001b[0m\u001b[1;33m(\u001b[0m\u001b[1;33m)\u001b[0m\u001b[1;33m\u001b[0m\u001b[1;33m\u001b[0m\u001b[0m\n\u001b[1;32m--> 193\u001b[1;33m         \u001b[1;32mif\u001b[0m \u001b[1;32mnot\u001b[0m \u001b[0mTracker\u001b[0m\u001b[1;33m.\u001b[0m\u001b[0misR_matrix\u001b[0m\u001b[1;33m(\u001b[0m\u001b[0mR\u001b[0m\u001b[1;33m)\u001b[0m\u001b[1;33m:\u001b[0m\u001b[1;33m\u001b[0m\u001b[1;33m\u001b[0m\u001b[0m\n\u001b[0m\u001b[0;32m    194\u001b[0m             \u001b[0mprint\u001b[0m\u001b[1;33m(\u001b[0m\u001b[1;34m\"Matrix is not a rotation matrix\"\u001b[0m\u001b[1;33m,\u001b[0m \u001b[0msys\u001b[0m\u001b[1;33m.\u001b[0m\u001b[0mstderr\u001b[0m\u001b[1;33m)\u001b[0m\u001b[1;33m\u001b[0m\u001b[1;33m\u001b[0m\u001b[0m\n\u001b[0;32m    195\u001b[0m             \u001b[0msys\u001b[0m\u001b[1;33m.\u001b[0m\u001b[0mexit\u001b[0m\u001b[1;33m(\u001b[0m\u001b[1;33m)\u001b[0m\u001b[1;33m\u001b[0m\u001b[1;33m\u001b[0m\u001b[0m\n",
      "\u001b[1;31mAttributeError\u001b[0m: type object 'Tracker' has no attribute 'isR_matrix'"
     ]
    }
   ],
   "source": [
    "Tracker.compute_rotation(t._t_guess)"
   ]
  },
  {
   "cell_type": "code",
   "execution_count": 8,
   "id": "ce279da5",
   "metadata": {},
   "outputs": [
    {
     "ename": "NameError",
     "evalue": "name 'data' is not defined",
     "output_type": "error",
     "traceback": [
      "\u001b[1;31m---------------------------------------------------------------------------\u001b[0m",
      "\u001b[1;31mNameError\u001b[0m                                 Traceback (most recent call last)",
      "Cell \u001b[1;32mIn[8], line 14\u001b[0m\n\u001b[0;32m     12\u001b[0m     np\u001b[38;5;241m.\u001b[39msavetxt(\u001b[38;5;124m'\u001b[39m\u001b[38;5;124mtrack.txt\u001b[39m\u001b[38;5;124m'\u001b[39m,data)\n\u001b[0;32m     13\u001b[0m     \u001b[38;5;28;01mbreak\u001b[39;00m\n\u001b[1;32m---> 14\u001b[0m \u001b[43mdata\u001b[49m\u001b[38;5;241m.\u001b[39mappend(np\u001b[38;5;241m.\u001b[39mconcatenate(([d\u001b[38;5;241m.\u001b[39mtimestamp], Tracker\u001b[38;5;241m.\u001b[39mcompute_translation(t\u001b[38;5;241m.\u001b[39mt_guess), Tracker\u001b[38;5;241m.\u001b[39mcompute_rotation(t\u001b[38;5;241m.\u001b[39mt_guess))))\n\u001b[0;32m     15\u001b[0m mat_arr\u001b[38;5;241m.\u001b[39mappend(t\u001b[38;5;241m.\u001b[39m_t_guess)\n\u001b[0;32m     16\u001b[0m \u001b[38;5;28;01mif\u001b[39;00m i\u001b[38;5;241m%\u001b[39m\u001b[38;5;241m100\u001b[39m \u001b[38;5;241m==\u001b[39m \u001b[38;5;241m0\u001b[39m:\n",
      "\u001b[1;31mNameError\u001b[0m: name 'data' is not defined"
     ]
    }
   ],
   "source": [
    "#data = []\n",
    "import time\n",
    "a = time.time()\n",
    "mat_arr = []\n",
    "for i in range(120000):\n",
    "    \n",
    "    try:\n",
    "        t.get_motion(d.compute_pcd(True))\n",
    "    except RuntimeError:\n",
    "        continue\n",
    "    except NoMoreFrames:\n",
    "        np.savetxt('track.txt',data)\n",
    "        break\n",
    "    data.append(np.concatenate(([d.timestamp], Tracker.compute_translation(t.t_guess), Tracker.compute_rotation(t.t_guess))))\n",
    "    mat_arr.append(t._t_guess)\n",
    "    if i%100 == 0:\n",
    "        print(i/100)\n",
    "        np.savetxt('track.txt',data)\n",
    "b = time.time()\n",
    "b-a   "
   ]
  },
  {
   "cell_type": "code",
   "execution_count": 4,
   "id": "9140855a",
   "metadata": {},
   "outputs": [
    {
     "name": "stdout",
     "output_type": "stream",
     "text": [
      "[Open3D WARNING] GLFW Error: WGL: Failed to make context current: The handle is invalid. \n",
      "[Open3D WARNING] GLFW Error: WGL: Failed to make context current: The handle is invalid. \n",
      "[Open3D WARNING] GLFW Error: WGL: Failed to make context current: The requested transformation operation is not supported. \n",
      "[Open3D WARNING] GLFW Error: WGL: Failed to make context current: The handle is invalid. \n"
     ]
    }
   ],
   "source": [
    "o3d.visualization.draw_geometries([t._source.to_legacy()])"
   ]
  },
  {
   "cell_type": "code",
   "execution_count": 8,
   "id": "efb26d45",
   "metadata": {},
   "outputs": [
    {
     "data": {
      "text/plain": [
       "[[0.960616 -0.26193 -0.0927886 0.0517465],\n",
       " [0.276662 0.932738 0.23121 -0.0737735],\n",
       " [0.0259866 -0.247775 0.968469 0.0439792],\n",
       " [0.0 0.0 0.0 1.0]]\n",
       "Tensor[shape={4, 4}, stride={4, 1}, Float64, CPU:0, 0x24d64541970]"
      ]
     },
     "execution_count": 8,
     "metadata": {},
     "output_type": "execute_result"
    }
   ],
   "source": [
    "t.t_guess"
   ]
  },
  {
   "cell_type": "code",
   "execution_count": 7,
   "id": "3797f89c",
   "metadata": {},
   "outputs": [],
   "source": [
    "saved_data = data"
   ]
  },
  {
   "cell_type": "code",
   "execution_count": 17,
   "id": "404dcad5",
   "metadata": {},
   "outputs": [],
   "source": [
    "for i in range(48):\n",
    "    d.compute_pcd(True)"
   ]
  },
  {
   "cell_type": "code",
   "execution_count": 18,
   "id": "698ba46c",
   "metadata": {},
   "outputs": [
    {
     "data": {
      "text/plain": [
       "[[0.976428 -0.135231 0.168226 -0.0104739],\n",
       " [0.146373 0.987664 -0.0556359 -0.0120752],\n",
       " [-0.158627 0.0789482 0.984177 -0.068689],\n",
       " [0.0 0.0 0.0 1.0]]\n",
       "Tensor[shape={4, 4}, stride={4, 1}, Float64, CPU:0, 0x18e6fd1f110]"
      ]
     },
     "execution_count": 18,
     "metadata": {},
     "output_type": "execute_result"
    }
   ],
   "source": [
    "t.get_motion(d.pcd)"
   ]
  },
  {
   "cell_type": "code",
   "execution_count": 19,
   "id": "4c451fda",
   "metadata": {},
   "outputs": [],
   "source": [
    "o3d.visualization.draw_geometries([t._source.to_legacy()])"
   ]
  },
  {
   "cell_type": "code",
   "execution_count": 3,
   "id": "a3439419",
   "metadata": {},
   "outputs": [],
   "source": [
    "np.savetxt('data.txt',np.asarray(data))"
   ]
  },
  {
   "cell_type": "code",
   "execution_count": 5,
   "id": "bdd05792",
   "metadata": {},
   "outputs": [
    {
     "data": {
      "text/plain": [
       "1676258858178.8535"
      ]
     },
     "execution_count": 5,
     "metadata": {},
     "output_type": "execute_result"
    }
   ],
   "source": [
    "d.timestamp"
   ]
  },
  {
   "cell_type": "code",
   "execution_count": 4,
   "id": "9ed7d985",
   "metadata": {},
   "outputs": [
    {
     "data": {
      "text/plain": [
       "496"
      ]
     },
     "execution_count": 4,
     "metadata": {},
     "output_type": "execute_result"
    }
   ],
   "source": [
    "len(data)"
   ]
  },
  {
   "cell_type": "code",
   "execution_count": 7,
   "id": "6d977585",
   "metadata": {},
   "outputs": [
    {
     "data": {
      "text/plain": [
       "152473.41845703125"
      ]
     },
     "execution_count": 7,
     "metadata": {},
     "output_type": "execute_result"
    }
   ],
   "source": [
    "a=1.676258596709123047e+12\n",
    "b=1.676258444235704590e+12\n",
    "a-b"
   ]
  },
  {
   "cell_type": "code",
   "execution_count": 5,
   "id": "ce2182de",
   "metadata": {},
   "outputs": [],
   "source": [
    "import numpy as np\n",
    "R = np.asarray([[1,2,3,4],[5,6,7,8],[9, 10 ,11, 12],[13,14,15,16]])"
   ]
  },
  {
   "cell_type": "code",
   "execution_count": 6,
   "id": "6cfb47b2",
   "metadata": {},
   "outputs": [
    {
     "data": {
      "text/plain": [
       "array([[ 1,  2,  3,  4],\n",
       "       [ 5,  6,  7,  8],\n",
       "       [ 9, 10, 11, 12],\n",
       "       [13, 14, 15, 16]])"
      ]
     },
     "execution_count": 6,
     "metadata": {},
     "output_type": "execute_result"
    }
   ],
   "source": [
    "R"
   ]
  },
  {
   "cell_type": "code",
   "execution_count": 7,
   "id": "accfd788",
   "metadata": {},
   "outputs": [
    {
     "data": {
      "text/plain": [
       "array([[ 1,  2,  3],\n",
       "       [ 5,  6,  7],\n",
       "       [ 9, 10, 11]])"
      ]
     },
     "execution_count": 7,
     "metadata": {},
     "output_type": "execute_result"
    }
   ],
   "source": [
    "R[0:3].T[0:3].T"
   ]
  },
  {
   "cell_type": "code",
   "execution_count": 9,
   "id": "de12702a",
   "metadata": {},
   "outputs": [
    {
     "data": {
      "text/plain": [
       "4.3578288411458335"
      ]
     },
     "execution_count": 9,
     "metadata": {},
     "output_type": "execute_result"
    }
   ],
   "source": [
    "(1676258858178.8535-a)/1000/60"
   ]
  },
  {
   "cell_type": "code",
   "execution_count": 10,
   "id": "57faac1e",
   "metadata": {},
   "outputs": [],
   "source": [
    "np.savetxt('track.txt',data)"
   ]
  },
  {
   "cell_type": "code",
   "execution_count": 10,
   "id": "33e06649",
   "metadata": {},
   "outputs": [],
   "source": [
    "a = o3d.core.Tensor(np.asarray([]),device=o3d.core.Device('cuda:0'))"
   ]
  },
  {
   "cell_type": "code",
   "execution_count": 11,
   "id": "99315c3b",
   "metadata": {},
   "outputs": [
    {
     "data": {
      "text/plain": [
       "True"
      ]
     },
     "execution_count": 11,
     "metadata": {},
     "output_type": "execute_result"
    }
   ],
   "source": [
    "a.is_cuda"
   ]
  },
  {
   "cell_type": "code",
   "execution_count": 7,
   "id": "5eb576c8",
   "metadata": {},
   "outputs": [
    {
     "data": {
      "text/plain": [
       "694950.8503417969"
      ]
     },
     "execution_count": 7,
     "metadata": {},
     "output_type": "execute_result"
    }
   ],
   "source": [
    "1.676259139169756836e+12-1.676258444218906494e+12"
   ]
  },
  {
   "cell_type": "code",
   "execution_count": 6,
   "id": "fac0c737",
   "metadata": {},
   "outputs": [],
   "source": [
    "I = np.asarray([[1,0,0,0.022],[0,1,0,0],[0,0,1,0],[0,0,0,1]])\n",
    "rec1._pose = I@rec1._pose\n",
    "rec2._pose = I@rec2._pose"
   ]
  },
  {
   "cell_type": "code",
   "execution_count": 7,
   "id": "8328b74d",
   "metadata": {},
   "outputs": [
    {
     "data": {
      "text/plain": [
       "PointCloud on CUDA:0 [1843200 points (Float32)].\n",
       "Attributes: colors (dtype = UInt8, shape = {1843200, 3})."
      ]
     },
     "execution_count": 7,
     "metadata": {},
     "output_type": "execute_result"
    }
   ],
   "source": [
    "d.compute_pcd(False)"
   ]
  },
  {
   "cell_type": "code",
   "execution_count": 9,
   "id": "c80a90fe",
   "metadata": {},
   "outputs": [],
   "source": [
    "data = []\n",
    "data.append(np.concatenate(([d.timestamp], Tracker.compute_translation(t.t_guess), Tracker.compute_rotation(t.t_guess))))\n"
   ]
  },
  {
   "cell_type": "code",
   "execution_count": 10,
   "id": "9fd370f5",
   "metadata": {},
   "outputs": [
    {
     "data": {
      "text/plain": [
       "[array([ 1.67625844e+12, -4.97843153e-04,  1.63874577e-04,  2.50674742e-06,\n",
       "         6.63530665e-02,  1.48284196e-01,  3.38578251e-02])]"
      ]
     },
     "execution_count": 10,
     "metadata": {},
     "output_type": "execute_result"
    }
   ],
   "source": [
    "data"
   ]
  },
  {
   "cell_type": "code",
   "execution_count": 14,
   "id": "d6acf6ad",
   "metadata": {},
   "outputs": [],
   "source": [
    "np.savetxt('track.txt',data)"
   ]
  },
  {
   "cell_type": "code",
   "execution_count": 17,
   "id": "615ab9f6",
   "metadata": {},
   "outputs": [],
   "source": [
    "np.savetxt(rec2.serial + 'opti.txt',rec2.pose)"
   ]
  },
  {
   "cell_type": "code",
   "execution_count": 12,
   "id": "057b2968",
   "metadata": {},
   "outputs": [
    {
     "data": {
      "text/plain": [
       "True"
      ]
     },
     "execution_count": 12,
     "metadata": {},
     "output_type": "execute_result"
    }
   ],
   "source": [
    "o3d.io.write_point_cloud('a.pcd', d.pcd.to_legacy())"
   ]
  },
  {
   "cell_type": "code",
   "execution_count": 13,
   "id": "78befe58",
   "metadata": {},
   "outputs": [
    {
     "data": {
      "text/plain": [
       "[[0.999996 -0.00115655 0.00258873 -0.000497843],\n",
       " [0.00115808 0.999999 -0.000587933 0.000163875],\n",
       " [-0.00258804 0.000590929 0.999996 2.50675e-06],\n",
       " [0.0 0.0 0.0 1.0]]\n",
       "Tensor[shape={4, 4}, stride={4, 1}, Float64, CUDA:0, 0x130a3b6000]"
      ]
     },
     "execution_count": 13,
     "metadata": {},
     "output_type": "execute_result"
    }
   ],
   "source": [
    "t.t_guess"
   ]
  },
  {
   "cell_type": "code",
   "execution_count": 2,
   "id": "d593ffac",
   "metadata": {},
   "outputs": [
    {
     "ename": "AttributeError",
     "evalue": "'str' object has no attribute 'is_cuda'",
     "output_type": "error",
     "traceback": [
      "\u001b[1;31m---------------------------------------------------------------------------\u001b[0m",
      "\u001b[1;31mAttributeError\u001b[0m                            Traceback (most recent call last)",
      "Cell \u001b[1;32mIn[2], line 1\u001b[0m\n\u001b[1;32m----> 1\u001b[0m \u001b[43mTracker\u001b[49m\u001b[38;5;241;43m.\u001b[39;49m\u001b[43mcompute_translation\u001b[49m\u001b[43m(\u001b[49m\u001b[38;5;124;43m\"\u001b[39;49m\u001b[38;5;124;43ma\u001b[39;49m\u001b[38;5;124;43m'\u001b[39;49m\u001b[38;5;124;43m\"\u001b[39;49m\u001b[43m)\u001b[49m\n",
      "File \u001b[1;32mc:\\users\\removethemask\\mydocs\\code\\spygrt\\spygrt\\tracker.py:213\u001b[0m, in \u001b[0;36mTracker.compute_translation\u001b[1;34m(T)\u001b[0m\n\u001b[0;32m    210\u001b[0m \u001b[38;5;129m@staticmethod\u001b[39m\n\u001b[0;32m    211\u001b[0m \u001b[38;5;28;01mdef\u001b[39;00m \u001b[38;5;21mcompute_translation\u001b[39m(T):\n\u001b[0;32m    212\u001b[0m     \u001b[38;5;124;03m\"\"\"Extract translations from affine tranformation matrix.\"\"\"\u001b[39;00m\n\u001b[1;32m--> 213\u001b[0m     \u001b[38;5;28;01mif\u001b[39;00m \u001b[43mT\u001b[49m\u001b[38;5;241;43m.\u001b[39;49m\u001b[43mis_cuda\u001b[49m:\n\u001b[0;32m    214\u001b[0m         \u001b[38;5;28;01mreturn\u001b[39;00m T\u001b[38;5;241m.\u001b[39mcpu()\u001b[38;5;241m.\u001b[39mnumpy()\u001b[38;5;241m.\u001b[39mT[\u001b[38;5;241m-\u001b[39m\u001b[38;5;241m1\u001b[39m][\u001b[38;5;241m0\u001b[39m:\u001b[38;5;241m3\u001b[39m]\n\u001b[0;32m    215\u001b[0m     \u001b[38;5;28;01melse\u001b[39;00m:\n",
      "\u001b[1;31mAttributeError\u001b[0m: 'str' object has no attribute 'is_cuda'"
     ]
    }
   ],
   "source": [
    "Tracker.compute_translation(\"a'\")"
   ]
  },
  {
   "cell_type": "code",
   "execution_count": null,
   "id": "27b26d2e",
   "metadata": {},
   "outputs": [],
   "source": []
  }
 ],
 "metadata": {
  "kernelspec": {
   "display_name": "SpyGRT",
   "language": "python",
   "name": "spygrt"
  },
  "language_info": {
   "codemirror_mode": {
    "name": "ipython",
    "version": 3
   },
   "file_extension": ".py",
   "mimetype": "text/x-python",
   "name": "python",
   "nbconvert_exporter": "python",
   "pygments_lexer": "ipython3",
   "version": "3.10.10"
  }
 },
 "nbformat": 4,
 "nbformat_minor": 5
}
