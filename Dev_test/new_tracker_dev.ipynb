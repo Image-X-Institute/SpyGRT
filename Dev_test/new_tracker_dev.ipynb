{
 "cells": [
  {
   "cell_type": "code",
   "execution_count": 1,
   "id": "9c9ce07f",
   "metadata": {},
   "outputs": [
    {
     "name": "stdout",
     "output_type": "stream",
     "text": [
      "Jupyter environment detected. Enabling Open3D WebVisualizer.\n",
      "[Open3D INFO] WebRTC GUI backend enabled.\n",
      "[Open3D INFO] WebRTCWindowSystem: HTTP handshake server disabled.\n"
     ]
    },
    {
     "ename": "NoMoreFrames",
     "evalue": "Reached the end of the stream",
     "output_type": "error",
     "traceback": [
      "\u001b[1;31m---------------------------------------------------------------------------\u001b[0m",
      "\u001b[1;31mNoMoreFrames\u001b[0m                              Traceback (most recent call last)",
      "Cell \u001b[1;32mIn[1], line 21\u001b[0m\n\u001b[0;32m     19\u001b[0m d \u001b[38;5;241m=\u001b[39m DualRecording(rec1,rec2)\n\u001b[0;32m     20\u001b[0m d\u001b[38;5;241m.\u001b[39mstart_stream()\n\u001b[1;32m---> 21\u001b[0m \u001b[43md\u001b[49m\u001b[38;5;241;43m.\u001b[39;49m\u001b[43mget_frames\u001b[49m\u001b[43m(\u001b[49m\u001b[43m)\u001b[49m\n\u001b[0;32m     23\u001b[0m t \u001b[38;5;241m=\u001b[39m Tracker(ref_surface\u001b[38;5;241m=\u001b[39md\u001b[38;5;241m.\u001b[39mpcd)\n",
      "File \u001b[1;32mc:\\users\\removethemask\\mydocs\\code\\spygrt\\spygrt\\stream.py:892\u001b[0m, in \u001b[0;36mDualRecording.get_frames\u001b[1;34m(self)\u001b[0m\n\u001b[0;32m    890\u001b[0m \u001b[38;5;66;03m# Getting new frames with a call  to the cameras.\u001b[39;00m\n\u001b[0;32m    891\u001b[0m f1 \u001b[38;5;241m=\u001b[39m \u001b[38;5;28mself\u001b[39m\u001b[38;5;241m.\u001b[39m_stream1\u001b[38;5;241m.\u001b[39mget_frames(encoding\u001b[38;5;241m=\u001b[39m\u001b[38;5;124m'\u001b[39m\u001b[38;5;124mrs\u001b[39m\u001b[38;5;124m'\u001b[39m)\n\u001b[1;32m--> 892\u001b[0m f2 \u001b[38;5;241m=\u001b[39m \u001b[38;5;28;43mself\u001b[39;49m\u001b[38;5;241;43m.\u001b[39;49m\u001b[43m_stream2\u001b[49m\u001b[38;5;241;43m.\u001b[39;49m\u001b[43mget_frames\u001b[49m\u001b[43m(\u001b[49m\u001b[43mencoding\u001b[49m\u001b[38;5;241;43m=\u001b[39;49m\u001b[38;5;124;43m'\u001b[39;49m\u001b[38;5;124;43mrs\u001b[39;49m\u001b[38;5;124;43m'\u001b[39;49m\u001b[43m)\u001b[49m\n\u001b[0;32m    894\u001b[0m \u001b[38;5;66;03m# Get the delay between the depth frames of each camera\u001b[39;00m\n\u001b[0;32m    895\u001b[0m diff \u001b[38;5;241m=\u001b[39m f2[\u001b[38;5;241m0\u001b[39m]\u001b[38;5;241m.\u001b[39mtimestamp \u001b[38;5;241m-\u001b[39m f1[\u001b[38;5;241m0\u001b[39m]\u001b[38;5;241m.\u001b[39mtimestamp\n",
      "File \u001b[1;32mc:\\users\\removethemask\\mydocs\\code\\spygrt\\spygrt\\stream.py:553\u001b[0m, in \u001b[0;36mRecording.get_frames\u001b[1;34m(self, encoding)\u001b[0m\n\u001b[0;32m    550\u001b[0m         \u001b[38;5;28mself\u001b[39m\u001b[38;5;241m.\u001b[39m_pipe\u001b[38;5;241m.\u001b[39mget_active_profile()\n\u001b[0;32m    552\u001b[0m         \u001b[38;5;66;03m# If the above statement doesn't raise an exception, assume we reached the end of the file.\u001b[39;00m\n\u001b[1;32m--> 553\u001b[0m         \u001b[38;5;28;01mraise\u001b[39;00m NoMoreFrames(\u001b[38;5;124m\"\u001b[39m\u001b[38;5;124mReached the end of the stream\u001b[39m\u001b[38;5;124m\"\u001b[39m)\n\u001b[0;32m    554\u001b[0m \u001b[38;5;28;01mexcept\u001b[39;00m \u001b[38;5;167;01mAttributeError\u001b[39;00m:\n\u001b[0;32m    555\u001b[0m     \u001b[38;5;28;01mpass\u001b[39;00m\n",
      "\u001b[1;31mNoMoreFrames\u001b[0m: Reached the end of the stream"
     ]
    }
   ],
   "source": [
    "import cv2 as cv\n",
    "import pyrealsense2 as rs2\n",
    "import open3d as o3d\n",
    "import numpy as np\n",
    "import time\n",
    "\n",
    "from spygrt.stream import Recording, NoMoreFrames, DualRecording\n",
    "from spygrt.tracker import Tracker\n",
    "#rec1 = Recording('C:/Users/yben4607/clean/ResearchData/VISION/Youssef_Test/Recording_Session/121622061907_2022May24015518.bag')\n",
    "#rec2 = Recording('C:/Users/yben4607/clean/ResearchData/VISION/Youssef_Test/Recording_Session/123122061443_2022May24015518.bag')\n",
    "#rec1.load_calibration('C:/Users/yben4607/clean/ResearchData/VISION/Youssef_Test/RS_Calibration/121622061907_cal.txt')\n",
    "#rec2.load_calibration('C:/Users/yben4607/clean/ResearchData/VISION/Youssef_Test/RS_Calibration/123122061443_cal.txt')\n",
    "rec1 = Recording('E:/VISION/129/Recording_Session/121622061907_2023Feb13022044.bag')\n",
    "rec2 = Recording('E:/VISION/129/Recording_Session/123122061443_2023Feb13022044.bag')\n",
    "rec1.load_calibration('121622061907_cal.txt')\n",
    "rec2.load_calibration('123122061443_cal.txt')\n",
    "\n",
    "\n",
    "d = DualRecording(rec1,rec2)\n",
    "d.start_stream()\n",
    "d.get_frames()\n",
    "\n",
    "t = Tracker(ref_surface=d.pcd)\n"
   ]
  },
  {
   "cell_type": "code",
   "execution_count": 2,
   "id": "6a55e2a8",
   "metadata": {},
   "outputs": [
    {
     "name": "stdout",
     "output_type": "stream",
     "text": [
      "[Open3D INFO] Picked point #195005 (0.089, -0.065, 0.16) to add in queue.\n",
      "[Open3D INFO] Picked point #189889 (0.087, -0.062, 0.17) to add in queue.\n",
      "[Open3D INFO] Remove picked point #189889 from pick queue.\n",
      "[Open3D INFO] Remove picked point #195005 from pick queue.\n",
      "[Open3D INFO] Picked point #209075 (0.095, -0.071, 0.15) to add in queue.\n",
      "[Open3D INFO] Picked point #1162800 (-0.031, 0.056, 0.16) to add in queue.\n"
     ]
    }
   ],
   "source": [
    "d.get_frames()\n",
    "\n",
    "t = Tracker(ref_surface=d.pcd)\n"
   ]
  },
  {
   "cell_type": "code",
   "execution_count": 3,
   "id": "4ccdeb4f",
   "metadata": {},
   "outputs": [],
   "source": [
    "o3d.visualization.draw_geometries([t.ref_surface.to_legacy()])"
   ]
  },
  {
   "cell_type": "code",
   "execution_count": 2,
   "id": "1ba36142",
   "metadata": {},
   "outputs": [],
   "source": [
    "from datetime import timedelta\n",
    "delta = timedelta(seconds=70)\n",
    "d.stream1.seek(delta)\n",
    "d.stream2.seek(delta)"
   ]
  },
  {
   "cell_type": "code",
   "execution_count": 7,
   "id": "1a59eb0d",
   "metadata": {},
   "outputs": [],
   "source": [
    "p1 = [0.3,0.3,0.3]\n",
    "p2 = [-0.3,-0.3,0.2]\n",
    "midz = np.mean([p1[2], p2[2]])\n",
    "lower = [np.min([p1[0], p2[0]]), np.min([p1[1], p2[1]]), midz - 0.02]"
   ]
  },
  {
   "cell_type": "code",
   "execution_count": 8,
   "id": "9671e7a2",
   "metadata": {},
   "outputs": [
    {
     "data": {
      "text/plain": [
       "[-0.3, -0.3, 0.23]"
      ]
     },
     "execution_count": 8,
     "metadata": {},
     "output_type": "execute_result"
    }
   ],
   "source": [
    " lower"
   ]
  },
  {
   "cell_type": "code",
   "execution_count": 10,
   "id": "21aa44a2",
   "metadata": {},
   "outputs": [
    {
     "data": {
      "text/plain": [
       "numpy.float32"
      ]
     },
     "execution_count": 10,
     "metadata": {},
     "output_type": "execute_result"
    }
   ],
   "source": [
    "type(d.pcd.point['positions'].numpy()[0][0])"
   ]
  },
  {
   "cell_type": "code",
   "execution_count": 5,
   "id": "8ec86518",
   "metadata": {},
   "outputs": [
    {
     "data": {
      "text/plain": [
       "[[0.999995 -0.000287926 -0.00316072 0.000480056],\n",
       " [0.000288454 1.0 0.000166551 6.4272e-05],\n",
       " [0.00316067 -0.000167462 0.999995 -3.49351e-05],\n",
       " [0.0 0.0 0.0 1.0]]\n",
       "Tensor[shape={4, 4}, stride={4, 1}, Float64, CPU:0, 0x1de12c37ef0]"
      ]
     },
     "execution_count": 5,
     "metadata": {},
     "output_type": "execute_result"
    }
   ],
   "source": [
    "t.get_motion(d.compute_pcd(True))"
   ]
  },
  {
   "cell_type": "code",
   "execution_count": 7,
   "id": "bfb2bcb7",
   "metadata": {},
   "outputs": [],
   "source": [
    "a=d.compute_pcd(True)"
   ]
  },
  {
   "cell_type": "code",
   "execution_count": 10,
   "id": "90444aea",
   "metadata": {},
   "outputs": [
    {
     "data": {
      "text/plain": [
       "True"
      ]
     },
     "execution_count": 10,
     "metadata": {},
     "output_type": "execute_result"
    }
   ],
   "source": [
    "a is None"
   ]
  },
  {
   "cell_type": "code",
   "execution_count": 14,
   "id": "e5c150de",
   "metadata": {},
   "outputs": [
    {
     "data": {
      "text/plain": [
       "((<pyrealsense2.frame Z16 #8056 @1653364518745.431152>,\n",
       "  <pyrealsense2.frame RGB8 #8052 @1653364518728.857178>),\n",
       " (<pyrealsense2.frame Z16 #8013 @1653364518748.400391>,\n",
       "  <pyrealsense2.frame RGB8 #8008 @1653364518732.104736>))"
      ]
     },
     "execution_count": 14,
     "metadata": {},
     "output_type": "execute_result"
    }
   ],
   "source": [
    "d.get_frames()"
   ]
  },
  {
   "cell_type": "code",
   "execution_count": 15,
   "id": "910fb34f",
   "metadata": {},
   "outputs": [
    {
     "data": {
      "text/plain": [
       "False"
      ]
     },
     "execution_count": 15,
     "metadata": {},
     "output_type": "execute_result"
    }
   ],
   "source": [
    "d.pose is None"
   ]
  },
  {
   "cell_type": "code",
   "execution_count": 18,
   "id": "c4294745",
   "metadata": {},
   "outputs": [
    {
     "data": {
      "text/plain": [
       "PointCloud on CPU:0 [1843200 points (Float32)].\n",
       "Attributes: colors (dtype = UInt8, shape = {1843200, 3})."
      ]
     },
     "execution_count": 18,
     "metadata": {},
     "output_type": "execute_result"
    }
   ],
   "source": [
    "d.stream1.compute_pcd() + d.stream2.compute_pcd()"
   ]
  },
  {
   "cell_type": "code",
   "execution_count": 4,
   "id": "55bba3c8",
   "metadata": {},
   "outputs": [],
   "source": [
    "t.ref_surface.estimate_normals(30,0.001)"
   ]
  },
  {
   "cell_type": "code",
   "execution_count": 8,
   "id": "8dad89e2",
   "metadata": {},
   "outputs": [
    {
     "ename": "AttributeError",
     "evalue": "type object 'Tracker' has no attribute 'isR_matrix'",
     "output_type": "error",
     "traceback": [
      "\u001b[1;31m---------------------------------------------------------------------------\u001b[0m",
      "\u001b[1;31mAttributeError\u001b[0m                            Traceback (most recent call last)",
      "\u001b[1;32m<ipython-input-8-837085bf8fa2>\u001b[0m in \u001b[0;36m<module>\u001b[1;34m\u001b[0m\n\u001b[1;32m----> 1\u001b[1;33m \u001b[0mTracker\u001b[0m\u001b[1;33m.\u001b[0m\u001b[0mcompute_rotation\u001b[0m\u001b[1;33m(\u001b[0m\u001b[0mt\u001b[0m\u001b[1;33m.\u001b[0m\u001b[0m_t_guess\u001b[0m\u001b[1;33m)\u001b[0m\u001b[1;33m\u001b[0m\u001b[1;33m\u001b[0m\u001b[0m\n\u001b[0m",
      "\u001b[1;32mc:\\users\\yben4607\\clean\\code\\spygrt\\spygrt\\tracker.py\u001b[0m in \u001b[0;36mcompute_rotation\u001b[1;34m(T)\u001b[0m\n\u001b[0;32m    191\u001b[0m         \u001b[1;34m\"\"\"Extract rotations from an affine transformation matrix.\"\"\"\u001b[0m\u001b[1;33m\u001b[0m\u001b[1;33m\u001b[0m\u001b[0m\n\u001b[0;32m    192\u001b[0m         \u001b[0mR\u001b[0m \u001b[1;33m=\u001b[0m \u001b[0mT\u001b[0m\u001b[1;33m.\u001b[0m\u001b[0mnumpy\u001b[0m\u001b[1;33m(\u001b[0m\u001b[1;33m)\u001b[0m\u001b[1;33m[\u001b[0m\u001b[1;36m0\u001b[0m\u001b[1;33m:\u001b[0m\u001b[1;36m3\u001b[0m\u001b[1;33m]\u001b[0m\u001b[1;33m.\u001b[0m\u001b[0mT\u001b[0m\u001b[1;33m[\u001b[0m\u001b[1;36m0\u001b[0m\u001b[1;33m:\u001b[0m\u001b[1;36m3\u001b[0m\u001b[1;33m]\u001b[0m\u001b[1;33m.\u001b[0m\u001b[0mT\u001b[0m\u001b[1;33m.\u001b[0m\u001b[0mcopy\u001b[0m\u001b[1;33m(\u001b[0m\u001b[1;33m)\u001b[0m\u001b[1;33m\u001b[0m\u001b[1;33m\u001b[0m\u001b[0m\n\u001b[1;32m--> 193\u001b[1;33m         \u001b[1;32mif\u001b[0m \u001b[1;32mnot\u001b[0m \u001b[0mTracker\u001b[0m\u001b[1;33m.\u001b[0m\u001b[0misR_matrix\u001b[0m\u001b[1;33m(\u001b[0m\u001b[0mR\u001b[0m\u001b[1;33m)\u001b[0m\u001b[1;33m:\u001b[0m\u001b[1;33m\u001b[0m\u001b[1;33m\u001b[0m\u001b[0m\n\u001b[0m\u001b[0;32m    194\u001b[0m             \u001b[0mprint\u001b[0m\u001b[1;33m(\u001b[0m\u001b[1;34m\"Matrix is not a rotation matrix\"\u001b[0m\u001b[1;33m,\u001b[0m \u001b[0msys\u001b[0m\u001b[1;33m.\u001b[0m\u001b[0mstderr\u001b[0m\u001b[1;33m)\u001b[0m\u001b[1;33m\u001b[0m\u001b[1;33m\u001b[0m\u001b[0m\n\u001b[0;32m    195\u001b[0m             \u001b[0msys\u001b[0m\u001b[1;33m.\u001b[0m\u001b[0mexit\u001b[0m\u001b[1;33m(\u001b[0m\u001b[1;33m)\u001b[0m\u001b[1;33m\u001b[0m\u001b[1;33m\u001b[0m\u001b[0m\n",
      "\u001b[1;31mAttributeError\u001b[0m: type object 'Tracker' has no attribute 'isR_matrix'"
     ]
    }
   ],
   "source": [
    "Tracker.compute_rotation(t._t_guess)"
   ]
  },
  {
   "cell_type": "code",
   "execution_count": 4,
   "id": "ce279da5",
   "metadata": {},
   "outputs": [
    {
     "name": "stdout",
     "output_type": "stream",
     "text": [
      "0.0\n",
      "1.0\n",
      "[Open3D WARNING] 0 correspondence present between the pointclouds. Try increasing the max_correspondence_distance parameter.\n",
      "2.0\n",
      "[Open3D WARNING] 0 correspondence present between the pointclouds. Try increasing the max_correspondence_distance parameter.\n",
      "Timestamps:1676258453649.446 1442 1676258453771.4412 1406\n",
      "3.0\n",
      "Timestamps:1676258454422.1592 1465 1676258454544.2842 1429\n",
      "Timestamps:1676258455194.96 1488 1676258455317.0886 1452\n",
      "Timestamps:1676258457782.2197 1565 1676258457904.2498 1529\n",
      "4.0\n",
      "Timestamps:1676258458386.9849 1583 1676258458509.0286 1547\n",
      "5.0\n",
      "Timestamps:1676258461713.4575 1682 1676258461835.3643 1646\n",
      "6.0\n",
      "Timestamps:1676258467996.565 1869 1676258468118.3394 1833\n",
      "7.0\n",
      "8.0\n",
      "Timestamps:1676258473540.3994 2034 1676258473662.154 1998\n",
      "Timestamps:1676258473910.0315 2045 1676258474031.7454 2009\n",
      "9.0\n",
      "Timestamps:1676258475455.641 2091 1676258475577.3076 2055\n",
      "Timestamps:1676258477774.1038 2160 1676258477660.4612 2117\n",
      "10.0\n",
      "Timestamps:1676258479857.305 2222 1676258479743.5542 2179\n",
      "Timestamps:1676258480327.6821 2236 1676258480213.9392 2193\n",
      "Timestamps:1676258480327.6821 2236 1676258480213.9392 2193\n",
      "Timestamps:1676258480663.6707 2246 1676258480785.121 2210\n",
      "11.0\n",
      "Timestamps:1676258482511.6187 2301 1676258482633.0488 2265\n",
      "Timestamps:1676258482746.8193 2308 1676258482633.0488 2265\n",
      "Timestamps:1676258483284.4224 2324 1676258483405.8232 2288\n",
      "Timestamps:1676258483284.4224 2324 1676258483405.8232 2288\n",
      "Timestamps:1676258483284.4224 2324 1676258483405.8232 2288\n",
      "Timestamps:1676258483586.8215 2333 1676258483473.0195 2290\n",
      "Timestamps:1676258484090.8018 2348 1676258484212.1794 2312\n",
      "Timestamps:1676258484393.1895 2357 1676258484279.3767 2314\n",
      "Timestamps:1676258485199.632 2381 1676258485085.7432 2338\n",
      "12.0\n",
      "Timestamps:1676258487316.428 2444 1676258487437.7805 2408\n",
      "13.0\n",
      "Timestamps:1676258490844.383 2549 1676258490965.785 2513\n",
      "14.0\n",
      "Timestamps:1676258493431.444 2626 1676258493552.836 2590\n",
      "Timestamps:1676258493431.444 2626 1676258493552.836 2590\n",
      "Timestamps:1676258494170.6729 2648 1676258494056.8247 2605\n",
      "Timestamps:1676258494204.275 2649 1676258494325.6355 2613\n",
      "Timestamps:1676258495817.0725 2697 1676258495971.983 2662\n",
      "15.0\n",
      "Timestamps:1676258496321.0754 2712 1676258496442.3442 2676\n",
      "Timestamps:1676258496589.875 2720 1676258496711.1208 2684\n",
      "Timestamps:1676258497362.6309 2743 1676258497483.8604 2707\n",
      "Timestamps:1676258498303.3809 2771 1676258498155.8127 2727\n",
      "Timestamps:1676258499076.136 2794 1676258498962.1748 2751\n",
      "16.0\n",
      "Timestamps:1676258499882.492 2818 1676258499768.5186 2775\n",
      "Timestamps:1676258501898.545 2878 1676258502019.5447 2842\n",
      "17.0\n",
      "Timestamps:1676258503477.822 2925 1676258503598.7327 2889\n",
      "Timestamps:1676258506031.3765 3001 1676258506152.2832 2965\n",
      "Timestamps:1676258506031.3765 3001 1676258506152.2832 2965\n",
      "18.0\n",
      "Timestamps:1676258507744.9585 3052 1676258507630.741 3009\n",
      "Timestamps:1676258508954.5247 3088 1676258509075.532 3052\n",
      "19.0\n",
      "Timestamps:1676258509928.8875 3117 1676258510049.887 3081\n",
      "20.0\n",
      "Timestamps:1676258514296.857 3247 1676258514417.8105 3211\n",
      "Timestamps:1676258515271.2449 3276 1676258515392.2646 3240\n",
      "Timestamps:1676258515640.8481 3287 1676258515526.6555 3244\n",
      "21.0\n",
      "Timestamps:1676258518463.2085 3371 1676258518584.0605 3335\n",
      "Timestamps:1676258520008.7874 3417 1676258520129.5823 3381\n",
      "22.0\n",
      "Timestamps:1676258522596.004 3494 1676258522716.7395 3458\n",
      "23.0\n",
      "Timestamps:1676258524679.1953 3556 1676258524799.9453 3520\n",
      "Timestamps:1676258524679.1953 3556 1676258524799.9453 3520\n",
      "Timestamps:1676258525485.5686 3580 1676258525371.1267 3537\n",
      "Timestamps:1676258525485.5686 3580 1676258525371.1267 3537\n",
      "Timestamps:1676258525989.555 3595 1676258526110.3513 3559\n",
      "24.0\n",
      "Timestamps:1676258527098.3643 3628 1676258527219.1094 3592\n",
      "Timestamps:1676258527098.3643 3628 1676258527219.1094 3592\n",
      "Timestamps:1676258528845.5876 3680 1676258528731.0745 3637\n",
      "Timestamps:1676258528845.5876 3680 1676258528731.0745 3637\n",
      "Timestamps:1676258528946.3882 3683 1676258529067.0935 3647\n",
      "Timestamps:1676258529450.3906 3698 1676258529571.091 3662\n",
      "Timestamps:1676258529685.5903 3705 1676258529571.091 3662\n",
      "Timestamps:1676258529685.5903 3705 1676258529571.091 3662\n",
      "Timestamps:1676258530223.1626 3721 1676258530343.8833 3685\n",
      "Timestamps:1676258530223.1626 3721 1676258530343.8833 3685\n",
      "Timestamps:1676258530491.9475 3729 1676258530377.4827 3686\n",
      "Timestamps:1676258530491.9475 3729 1676258530377.4827 3686\n",
      "Timestamps:1676258530525.5454 3730 1676258530646.278 3694\n",
      "25.0\n",
      "Timestamps:1676258531029.5469 3745 1676258531150.269 3709\n",
      "Timestamps:1676258531331.9553 3754 1676258531217.4624 3711\n",
      "Timestamps:1676258531802.3613 3768 1676258531922.9878 3732\n",
      "Timestamps:1676258532171.949 3779 1676258532057.3723 3736\n",
      "Timestamps:1676258533851.976 3829 1676258533737.168 3786\n",
      "Timestamps:1676258533851.976 3829 1676258533737.168 3786\n",
      "Timestamps:1676258534221.56 3840 1676258534341.9001 3804\n",
      "26.0\n",
      "Timestamps:1676258534994.3416 3863 1676258535114.6401 3827\n",
      "Timestamps:1676258534994.3416 3863 1676258535114.6401 3827\n",
      "Timestamps:1676258535531.944 3879 1676258535417.083 3836\n",
      "Timestamps:1676258535531.944 3879 1676258535417.083 3836\n",
      "Timestamps:1676258536573.4678 3910 1676258536693.9065 3874\n",
      "Timestamps:1676258537178.29 3928 1676258537063.446 3885\n",
      "27.0\n",
      "Timestamps:1676258538119.1096 3956 1676258538239.3994 3920\n",
      "Timestamps:1676258538858.2844 3978 1676258538743.3604 3935\n",
      "Timestamps:1676258540471.0857 4026 1676258540591.2424 3990\n",
      "28.0\n",
      "Timestamps:1676258542990.9644 4101 1676258542876.0603 4058\n",
      "Timestamps:1676258544435.7537 4144 1676258544556.0115 4108\n",
      "Timestamps:1676258544670.9438 4151 1676258544556.0115 4108\n",
      "Timestamps:1676258544670.9438 4151 1676258544556.0115 4108\n",
      "29.0\n",
      "Timestamps:1676258545510.9033 4176 1676258545396.0085 4133\n",
      "30.0\n",
      "Timestamps:1676258548837.332 4275 1676258548722.2168 4232\n",
      "Timestamps:1676258550416.5037 4322 1676258550536.5432 4286\n",
      "31.0\n",
      "Timestamps:1676258551827.7476 4364 1676258551678.9397 4320\n",
      "32.0\n",
      "Timestamps:1676258556397.1816 4500 1676258556517.0962 4464\n",
      "Timestamps:1676258558312.3726 4557 1676258558432.2324 4521\n",
      "33.0\n",
      "Timestamps:1676258558715.5427 4569 1676258558600.245 4526\n",
      "Timestamps:1676258561974.7002 4666 1676258562094.5771 4630\n",
      "34.0\n",
      "Timestamps:1676258562545.9 4683 1676258562430.5625 4640\n",
      "Timestamps:1676258563352.3328 4707 1676258563236.9294 4664\n",
      "Timestamps:1676258563352.3328 4707 1676258563236.9294 4664\n",
      "Timestamps:1676258563453.139 4710 1676258563572.9116 4674\n",
      "Timestamps:1676258564192.3604 4732 1676258564076.8833 4689\n",
      "Timestamps:1676258564696.3625 4747 1676258564816.0776 4711\n",
      "Timestamps:1676258565503.0093 4771 1676258565622.4646 4735\n",
      "35.0\n",
      "Timestamps:1676258565805.5027 4780 1676258565924.8525 4744\n",
      "Timestamps:1676258566712.6494 4807 1676258566563.229 4763\n",
      "Timestamps:1676258567519.0332 4831 1676258567403.1902 4788\n",
      "Timestamps:1676258567687.0308 4836 1676258567806.3494 4800\n",
      "Timestamps:1676258568358.9983 4856 1676258568243.1033 4813\n",
      "Timestamps:1676258568627.783 4864 1676258568747.1008 4828\n",
      "36.0\n",
      "Timestamps:1676258570979.605 4934 1676258571099.0027 4898\n",
      "37.0\n",
      "Timestamps:1676258574574.7034 5041 1676258574694.1436 5005\n",
      "Timestamps:1676258574977.8982 5053 1676258575097.3262 5017\n",
      "38.0\n",
      "Timestamps:1676258576691.57 5104 1676258576575.673 5061\n",
      "Timestamps:1676258578875.4146 5169 1676258578994.8223 5133\n",
      "39.0\n",
      "Timestamps:1676258580857.7358 5228 1676258580742.001 5185\n",
      "Timestamps:1676258581328.1965 5242 1676258581447.5732 5206\n",
      "40.0\n",
      "Timestamps:1676258583344.203 5302 1676258583228.3225 5259\n",
      "Timestamps:1676258583444.9988 5305 1676258583564.3152 5269\n",
      "41.0\n",
      "Timestamps:1676258588316.765 5450 1676258588201.021 5407\n",
      "42.0\n",
      "Timestamps:1676258590769.5173 5523 1676258590653.7932 5480\n",
      "Timestamps:1676258592449.6514 5573 1676258592333.8386 5530\n",
      "Timestamps:1676258592449.6514 5573 1676258592333.8386 5530\n",
      "43.0\n",
      "Timestamps:1676258593659.2725 5609 1676258593778.5095 5573\n",
      "44.0\n",
      "Timestamps:1676258596817.5828 5703 1676258596936.6409 5667\n",
      "Timestamps:1676258599035.1743 5769 1676258598918.9753 5726\n",
      "45.0\n",
      "Timestamps:1676258600648.1038 5817 1676258600531.7112 5774\n",
      "Timestamps:1676258600648.1038 5817 1676258600531.7112 5774\n",
      "Timestamps:1676258601555.279 5844 1676258601674.1184 5808\n",
      "Timestamps:1676258601656.0752 5847 1676258601774.9204 5811\n",
      "Timestamps:1676258602428.8523 5870 1676258602547.7217 5834\n",
      "46.0\n",
      "Timestamps:1676258604041.5981 5918 1676258604160.401 5882\n",
      "Timestamps:1676258604814.376 5941 1676258604933.186 5905\n"
     ]
    },
    {
     "name": "stdout",
     "output_type": "stream",
     "text": [
      "47.0\n",
      "Timestamps:1676258607300.6638 6015 1676258607150.695 5971\n",
      "Timestamps:1676258608913.467 6063 1676258608797.203 6020\n",
      "Timestamps:1676258609283.0742 6074 1676258609402.0483 6038\n",
      "Timestamps:1676258610492.6763 6110 1676258610611.5654 6074\n",
      "48.0\n",
      "Timestamps:1676258611399.8574 6137 1676258611283.55 6094\n",
      "Timestamps:1676258611534.254 6141 1676258611653.1375 6105\n",
      "49.0\n",
      "Timestamps:1676258615532.6309 6260 1676258615382.6155 6216\n",
      "Timestamps:1676258616742.2283 6296 1676258616860.887 6260\n",
      "50.0\n",
      "Timestamps:1676258617918.1777 6331 1676258618036.844 6295\n",
      "Timestamps:1676258617918.1777 6331 1676258618036.844 6295\n",
      "Timestamps:1676258619631.696 6382 1676258619515.2014 6339\n",
      "Timestamps:1676258620337.2766 6403 1676258620455.95 6367\n",
      "Timestamps:1676258620337.2766 6403 1676258620455.95 6367\n",
      "51.0\n",
      "52.0\n",
      "Timestamps:1676258625343.5884 6552 1676258625462.3413 6516\n",
      "Timestamps:1676258625343.5884 6552 1676258625462.3413 6516\n",
      "Timestamps:1676258625813.9949 6566 1676258625932.6926 6530\n",
      "Timestamps:1676258625813.9949 6566 1676258625932.6926 6530\n",
      "Timestamps:1676258626989.9824 6601 1676258627108.5903 6565\n",
      "Timestamps:1676258626989.9824 6601 1676258627108.5903 6565\n",
      "53.0\n",
      "54.0\n",
      "Timestamps:1676258633474.7278 6794 1676258633357.983 6751\n",
      "Timestamps:1676258633709.929 6801 1676258633828.3447 6765\n",
      "55.0\n",
      "Timestamps:1676258636196.3484 6875 1676258636079.4148 6832\n",
      "Timestamps:1676258636297.1506 6878 1676258636180.2058 6835\n",
      "56.0\n",
      "Timestamps:1676258639220.3303 6965 1676258639103.3228 6922\n",
      "Timestamps:1676258639354.732 6969 1676258639237.734 6926\n",
      "Timestamps:1676258640530.7424 7004 1676258640648.8657 6968\n",
      "57.0\n",
      "58.0\n",
      "Timestamps:1676258647586.66 7214 1676258647704.7114 7178\n",
      "59.0\n",
      "Timestamps:1676258648796.1958 7250 1676258648914.2952 7214\n",
      "Timestamps:1676258649165.783 7261 1676258649283.9014 7225\n",
      "Timestamps:1676258651988.1958 7345 1676258651870.9795 7302\n",
      "60.0\n",
      "61.0\n",
      "Timestamps:1676258657868.0854 7520 1676258657750.7466 7477\n",
      "Timestamps:1676258658338.4954 7534 1676258658221.1062 7491\n",
      "62.0\n",
      "Timestamps:1676258660354.4907 7594 1676258660237.0676 7551\n",
      "63.0\n",
      "Timestamps:1676258662504.8628 7658 1676258662387.38 7615\n",
      "Timestamps:1676258664117.677 7706 1676258664235.3118 7670\n",
      "Timestamps:1676258664218.4768 7709 1676258664336.1133 7673\n",
      "64.0\n",
      "65.0\n",
      "Timestamps:1676258672080.7075 7943 1676258671963.0156 7900\n",
      "66.0\n",
      "67.0\n",
      "Timestamps:1676258676784.6433 8083 1676258676902.1602 8047\n",
      "Timestamps:1676258677658.2456 8109 1676258677775.7468 8073\n",
      "68.0\n",
      "69.0\n",
      "Timestamps:1676258684378.3909 8309 1676258684260.3816 8266\n",
      "Timestamps:1676258686394.3801 8369 1676258686276.2522 8326\n",
      "70.0\n",
      "Timestamps:1676258686696.7727 8378 1676258686578.6313 8335\n",
      "Timestamps:1676258688040.696 8418 1676258688157.746 8382\n",
      "71.0\n",
      "Timestamps:1676258690661.4424 8496 1676258690778.5234 8460\n",
      "Timestamps:1676258693013.347 8566 1676258693130.4446 8530\n",
      "72.0\n",
      "Timestamps:1676258695970.1692 8654 1676258696087.1526 8618\n",
      "73.0\n",
      "Timestamps:1676258698120.535 8718 1676258698237.5469 8682\n",
      "Timestamps:1676258698523.7268 8730 1676258698640.7249 8694\n",
      "74.0\n",
      "Timestamps:1676258701614.937 8822 1676258701731.785 8786\n",
      "Timestamps:1676258701950.9185 8832 1676258701832.5806 8789\n",
      "Timestamps:1676258702790.8752 8857 1676258702672.541 8814\n",
      "Timestamps:1676258703597.2512 8881 1676258703478.8982 8838\n",
      "75.0\n",
      "Timestamps:1676258704437.2368 8906 1676258704318.857 8863\n",
      "76.0\n",
      "77.0\n",
      "Timestamps:1676258712870.7446 9157 1676258712752.1482 9114\n",
      "78.0\n",
      "Timestamps:1676258716365.2937 9261 1676258716481.596 9225\n",
      "Timestamps:1676258717339.7031 9290 1676258717455.983 9254\n",
      "79.0\n",
      "80.0\n",
      "81.0\n",
      "Timestamps:1676258726814.665 9572 1676258726964.6006 9537\n",
      "Timestamps:1676258727150.6404 9582 1676258727267.0044 9546\n",
      "82.0\n",
      "Timestamps:1676258728595.4355 9625 1676258728476.591 9582\n",
      "83.0\n",
      "Timestamps:1676258733769.7886 9779 1676258733650.84 9736\n",
      "Timestamps:1676258733769.7886 9779 1676258733650.84 9736\n",
      "84.0\n",
      "Timestamps:1676258736289.7812 9854 1676258736405.8872 9818\n",
      "Timestamps:1676258737163.3694 9880 1676258737279.4214 9844\n",
      "85.0\n",
      "86.0\n",
      "87.0\n",
      "Timestamps:1676258747310.4092 10182 1676258747460.0625 10147\n",
      "88.0\n",
      "Timestamps:1676258750502.4324 10277 1676258750618.243 10241\n",
      "Timestamps:1676258750636.826 10281 1676258750786.2268 10246\n",
      "89.0\n",
      "Timestamps:1676258753627.229 10370 1676258753742.8796 10334\n",
      "Timestamps:1676258754904.001 10408 1676258754784.5186 10365\n",
      "90.0\n",
      "Timestamps:1676258755710.3762 10432 1676258755590.9197 10389\n",
      "Timestamps:1676258757558.3364 10487 1676258757438.779 10444\n",
      "91.0\n",
      "92.0\n",
      "Timestamps:1676258763740.6443 10671 1676258763856.39 10635\n",
      "Timestamps:1676258764647.8308 10698 1676258764763.5452 10662\n",
      "Timestamps:1676258764883.0273 10705 1676258764998.7314 10669\n",
      "93.0\n",
      "Timestamps:1676258767268.5737 10776 1676258767384.11 10740\n",
      "94.0\n",
      "Timestamps:1676258770124.611 10861 1676258770240.113 10825\n",
      "95.0\n",
      "Timestamps:1676258772510.2917 10932 1676258772625.5886 10896\n",
      "Timestamps:1676258772510.2917 10932 1676258772625.5886 10896\n",
      "96.0\n",
      "97.0\n",
      "Timestamps:1676258779599.8481 11143 1676258779714.96 11107\n",
      "Timestamps:1676258781918.2344 11212 1676258782033.2102 11176\n",
      "98.0\n",
      "Timestamps:1676258784706.9133 11295 1676258784586.7642 11252\n",
      "Timestamps:1676258785278.1304 11312 1676258785393.1492 11276\n",
      "99.0\n",
      "100.0\n",
      "Timestamps:1676258791460.3691 11496 1676258791575.3892 11460\n",
      "101.0\n",
      "Timestamps:1676258795525.889 11617 1676258795405.62 11574\n",
      "102.0\n",
      "Timestamps:1676258798785.0425 11714 1676258798664.5713 11671\n",
      "Timestamps:1676258798785.0425 11714 1676258798664.5713 11671\n",
      "103.0\n",
      "Timestamps:1676258802010.5557 11810 1676258802125.2434 11774\n",
      "Timestamps:1676258802850.5396 11835 1676258802965.269 11799\n",
      "104.0\n",
      "Timestamps:1676258804160.9277 11874 1676258804275.641 11838\n",
      "105.0\n",
      "Timestamps:1676258809066.5144 12020 1676258809181.1648 11984\n",
      "106.0\n",
      "Timestamps:1676258812560.912 12124 1676258812675.483 12088\n",
      "107.0\n",
      "Timestamps:1676258814577.0762 12184 1676258814691.3435 12148\n",
      "Timestamps:1676258815349.8271 12207 1676258815464.1008 12171\n",
      "Timestamps:1676258816458.565 12240 1676258816572.8328 12204\n",
      "108.0\n",
      "Timestamps:1676258816928.9587 12254 1676258816808.0127 12211\n",
      "Timestamps:1676258817264.9578 12264 1676258817412.7688 12229\n",
      "Timestamps:1676258819650.6174 12335 1676258819764.682 12299\n",
      "109.0\n",
      "Timestamps:1676258820826.5923 12370 1676258820940.638 12334\n",
      "Timestamps:1676258821599.3728 12393 1676258821713.4082 12357\n",
      "110.0\n",
      "Timestamps:1676258824421.6562 12477 1676258824300.6392 12434\n",
      "Timestamps:1676258824757.6526 12487 1676258824871.8472 12451\n",
      "Timestamps:1676258825564.051 12511 1676258825678.2383 12475\n",
      "111.0\n",
      "Timestamps:1676258829528.775 12629 1676258829643.1396 12593\n",
      "Timestamps:1676258829528.775 12629 1676258829643.1396 12593\n",
      "112.0\n",
      "Timestamps:1676258831914.3572 12700 1676258831793.4229 12657\n",
      "Timestamps:1676258832687.1753 12723 1676258832801.3596 12687\n",
      "113.0\n",
      "Timestamps:1676258834232.9656 12769 1676258834346.8525 12733\n",
      "114.0\n",
      "Timestamps:1676258839675.9805 12931 1676258839789.711 12895\n",
      "115.0\n",
      "116.0\n",
      "Timestamps:1676258845152.861 13094 1676258845266.323 13058\n",
      "Timestamps:1676258845152.861 13094 1676258845266.323 13058\n",
      "Timestamps:1676258845522.4204 13105 1676258845400.716 13062\n",
      "Timestamps:1676258846731.995 13141 1676258846845.4675 13105\n",
      "Timestamps:1676258846731.995 13141 1676258846845.4675 13105\n",
      "117.0\n",
      "Timestamps:1676258850159.2524 13243 1676258850037.3972 13200\n",
      "118.0\n",
      "119.0\n",
      "Timestamps:1676258855501.3718 13402 1676258855614.8523 13366\n",
      "Timestamps:1676258857987.752 13476 1676258857865.953 13433\n",
      "Timestamps:1676258857987.752 13476 1676258857865.953 13433\n"
     ]
    }
   ],
   "source": [
    "data = []\n",
    "for i in range(12000):\n",
    "    try:\n",
    "        t.get_motion(d.compute_pcd(True))\n",
    "    except RuntimeError:\n",
    "        continue\n",
    "    data.append(np.concatenate(([d.timestamp], Tracker.compute_translation(t.t_guess), Tracker.compute_rotation(t.t_guess))))\n",
    "    if i%100 == 0:\n",
    "        print(i/100)\n",
    "        np.savetxt('track.txt',data)\n",
    "    "
   ]
  },
  {
   "cell_type": "code",
   "execution_count": 4,
   "id": "9140855a",
   "metadata": {},
   "outputs": [
    {
     "name": "stdout",
     "output_type": "stream",
     "text": [
      "[Open3D WARNING] GLFW Error: WGL: Failed to make context current: The handle is invalid. \n",
      "[Open3D WARNING] GLFW Error: WGL: Failed to make context current: The handle is invalid. \n",
      "[Open3D WARNING] GLFW Error: WGL: Failed to make context current: The requested transformation operation is not supported. \n",
      "[Open3D WARNING] GLFW Error: WGL: Failed to make context current: The handle is invalid. \n"
     ]
    }
   ],
   "source": [
    "o3d.visualization.draw_geometries([t._source.to_legacy()])"
   ]
  },
  {
   "cell_type": "code",
   "execution_count": 8,
   "id": "efb26d45",
   "metadata": {},
   "outputs": [
    {
     "data": {
      "text/plain": [
       "[[0.960616 -0.26193 -0.0927886 0.0517465],\n",
       " [0.276662 0.932738 0.23121 -0.0737735],\n",
       " [0.0259866 -0.247775 0.968469 0.0439792],\n",
       " [0.0 0.0 0.0 1.0]]\n",
       "Tensor[shape={4, 4}, stride={4, 1}, Float64, CPU:0, 0x24d64541970]"
      ]
     },
     "execution_count": 8,
     "metadata": {},
     "output_type": "execute_result"
    }
   ],
   "source": [
    "t.t_guess"
   ]
  },
  {
   "cell_type": "code",
   "execution_count": 7,
   "id": "3797f89c",
   "metadata": {},
   "outputs": [],
   "source": [
    "saved_data = data"
   ]
  },
  {
   "cell_type": "code",
   "execution_count": 17,
   "id": "404dcad5",
   "metadata": {},
   "outputs": [],
   "source": [
    "for i in range(48):\n",
    "    d.compute_pcd(True)"
   ]
  },
  {
   "cell_type": "code",
   "execution_count": 18,
   "id": "698ba46c",
   "metadata": {},
   "outputs": [
    {
     "data": {
      "text/plain": [
       "[[0.976428 -0.135231 0.168226 -0.0104739],\n",
       " [0.146373 0.987664 -0.0556359 -0.0120752],\n",
       " [-0.158627 0.0789482 0.984177 -0.068689],\n",
       " [0.0 0.0 0.0 1.0]]\n",
       "Tensor[shape={4, 4}, stride={4, 1}, Float64, CPU:0, 0x18e6fd1f110]"
      ]
     },
     "execution_count": 18,
     "metadata": {},
     "output_type": "execute_result"
    }
   ],
   "source": [
    "t.get_motion(d.pcd)"
   ]
  },
  {
   "cell_type": "code",
   "execution_count": 19,
   "id": "4c451fda",
   "metadata": {},
   "outputs": [],
   "source": [
    "o3d.visualization.draw_geometries([t._source.to_legacy()])"
   ]
  },
  {
   "cell_type": "code",
   "execution_count": 3,
   "id": "a3439419",
   "metadata": {},
   "outputs": [],
   "source": [
    "np.savetxt('data.txt',np.asarray(data))"
   ]
  },
  {
   "cell_type": "code",
   "execution_count": 5,
   "id": "bdd05792",
   "metadata": {},
   "outputs": [
    {
     "data": {
      "text/plain": [
       "1676258858178.8535"
      ]
     },
     "execution_count": 5,
     "metadata": {},
     "output_type": "execute_result"
    }
   ],
   "source": [
    "d.timestamp"
   ]
  },
  {
   "cell_type": "code",
   "execution_count": 4,
   "id": "9ed7d985",
   "metadata": {},
   "outputs": [
    {
     "data": {
      "text/plain": [
       "496"
      ]
     },
     "execution_count": 4,
     "metadata": {},
     "output_type": "execute_result"
    }
   ],
   "source": [
    "len(data)"
   ]
  },
  {
   "cell_type": "code",
   "execution_count": 7,
   "id": "6d977585",
   "metadata": {},
   "outputs": [
    {
     "data": {
      "text/plain": [
       "152473.41845703125"
      ]
     },
     "execution_count": 7,
     "metadata": {},
     "output_type": "execute_result"
    }
   ],
   "source": [
    "a=1.676258596709123047e+12\n",
    "b=1.676258444235704590e+12\n",
    "a-b"
   ]
  },
  {
   "cell_type": "code",
   "execution_count": 5,
   "id": "ce2182de",
   "metadata": {},
   "outputs": [],
   "source": [
    "import numpy as np\n",
    "R = np.asarray([[1,2,3,4],[5,6,7,8],[9, 10 ,11, 12],[13,14,15,16]])"
   ]
  },
  {
   "cell_type": "code",
   "execution_count": 6,
   "id": "6cfb47b2",
   "metadata": {},
   "outputs": [
    {
     "data": {
      "text/plain": [
       "array([[ 1,  2,  3,  4],\n",
       "       [ 5,  6,  7,  8],\n",
       "       [ 9, 10, 11, 12],\n",
       "       [13, 14, 15, 16]])"
      ]
     },
     "execution_count": 6,
     "metadata": {},
     "output_type": "execute_result"
    }
   ],
   "source": [
    "R"
   ]
  },
  {
   "cell_type": "code",
   "execution_count": 7,
   "id": "accfd788",
   "metadata": {},
   "outputs": [
    {
     "data": {
      "text/plain": [
       "array([[ 1,  2,  3],\n",
       "       [ 5,  6,  7],\n",
       "       [ 9, 10, 11]])"
      ]
     },
     "execution_count": 7,
     "metadata": {},
     "output_type": "execute_result"
    }
   ],
   "source": [
    "R[0:3].T[0:3].T"
   ]
  },
  {
   "cell_type": "code",
   "execution_count": 9,
   "id": "de12702a",
   "metadata": {},
   "outputs": [
    {
     "data": {
      "text/plain": [
       "4.3578288411458335"
      ]
     },
     "execution_count": 9,
     "metadata": {},
     "output_type": "execute_result"
    }
   ],
   "source": [
    "(1676258858178.8535-a)/1000/60"
   ]
  },
  {
   "cell_type": "code",
   "execution_count": 10,
   "id": "57faac1e",
   "metadata": {},
   "outputs": [],
   "source": [
    "np.savetxt('track.txt',data)"
   ]
  },
  {
   "cell_type": "code",
   "execution_count": null,
   "id": "33e06649",
   "metadata": {},
   "outputs": [],
   "source": []
  }
 ],
 "metadata": {
  "kernelspec": {
   "display_name": "SpyGRT",
   "language": "python",
   "name": "spygrt"
  },
  "language_info": {
   "codemirror_mode": {
    "name": "ipython",
    "version": 3
   },
   "file_extension": ".py",
   "mimetype": "text/x-python",
   "name": "python",
   "nbconvert_exporter": "python",
   "pygments_lexer": "ipython3",
   "version": "3.9.16"
  }
 },
 "nbformat": 4,
 "nbformat_minor": 5
}
