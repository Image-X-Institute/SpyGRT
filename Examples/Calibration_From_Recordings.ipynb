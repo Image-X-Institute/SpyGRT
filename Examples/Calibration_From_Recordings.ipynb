{
 "cells": [
  {
   "cell_type": "code",
   "execution_count": 1,
   "id": "41e56791",
   "metadata": {},
   "outputs": [],
   "source": [
    "import open3d as o3d\n",
    "import numpy as np\n",
    "from spygrt.stream import Recording, NoMoreFrames, DualRecording\n",
    "from spygrt.tracker import Tracker\n",
    "from spygrt.calibration import Calibrator"
   ]
  },
  {
   "cell_type": "code",
   "execution_count": 2,
   "id": "e36a218c",
   "metadata": {},
   "outputs": [],
   "source": [
    "# Files with the recording of the calibration board \n",
    "cal1 = 'E:/VISION/Youssef_Test/RS_Calibration/121622061907_2022May24111913.bag'\n",
    "cal2 = 'E:/VISION/Youssef_Test/RS_Calibration/123122061443_2022May24111913.bag'\n",
    "c = DualRecording(cal1,cal2)\n",
    "c.start_stream()\n",
    "calibs = (Calibrator(c.stream1), Calibrator(c.stream2))"
   ]
  },
  {
   "cell_type": "code",
   "execution_count": 3,
   "id": "3f94ebb7",
   "metadata": {},
   "outputs": [],
   "source": [
    "for i in range (100):\n",
    "    try:\n",
    "        calibs[0].find_corners3d()\n",
    "        calibs[1].find_corners3d()\n",
    "    except NoMoreFrames:\n",
    "        print(\"Reached the end of stream, used only the first \" +str(i) + \" frames for calibration.\")\n",
    "        break\n",
    "\n",
    "#calibs[0].corners_scale()\n",
    "#calibs[1].corners_scale()\n",
    "calibs[0].align_cameras(calibs[1])\n",
    "calibs[1].align_to_board(cal2 = calibs[0])\n",
    "for cal in calibs:\n",
    "    cal.write_cal()\n",
    "    cal._pose = o3d.core.Tensor(np.identity(4), dtype=o3d.core.Dtype.Float32,device=cal._stream.pcd.device)\n",
    "c.load_calibration()\n",
    "for i in range (100):\n",
    "    try:\n",
    "        calibs[0].find_corners3d()\n",
    "        calibs[1].find_corners3d()\n",
    "    except NoMoreFrames:\n",
    "        print(\"Reached the end of stream, used only the first \" +str(i) + \" frames for calibration.\")\n",
    "        break\n",
    "\n",
    "#calibs[0].corners_scale()\n",
    "#calibs[1].corners_scale()\n",
    "calibs[0].align_cameras(calibs[1])\n",
    "calibs[1].align_to_board(cal2 = calibs[0])\n",
    "adj = o3d.core.Tensor(np.identity(4), dtype=o3d.core.Dtype.Float32, device=cal._pose.device)\n",
    "adj[1][1]=-1\n",
    "adj[0][0]=-1\n",
    "calibs[0]._pose = adj@calibs[0].pose\n",
    "calibs[1]._pose = adj@calibs[1].pose\n",
    "for cal in calibs:\n",
    "    cal.write_cal()"
   ]
  },
  {
   "cell_type": "code",
   "execution_count": null,
   "id": "5bf6c14f",
   "metadata": {},
   "outputs": [],
   "source": []
  }
 ],
 "metadata": {
  "kernelspec": {
   "display_name": "SpyGRT",
   "language": "python",
   "name": "spygrt"
  },
  "language_info": {
   "codemirror_mode": {
    "name": "ipython",
    "version": 3
   },
   "file_extension": ".py",
   "mimetype": "text/x-python",
   "name": "python",
   "nbconvert_exporter": "python",
   "pygments_lexer": "ipython3",
   "version": "3.10.10"
  }
 },
 "nbformat": 4,
 "nbformat_minor": 5
}
