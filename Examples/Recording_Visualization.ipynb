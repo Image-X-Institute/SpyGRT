{
 "cells": [
  {
   "cell_type": "code",
   "execution_count": 2,
   "id": "bde46554",
   "metadata": {},
   "outputs": [],
   "source": [
    "from spygrt.stream import Recording, NoMoreFrames, DualRecording\n",
    "import open3d as o3d\n",
    "import numpy as np\n",
    "import datetime\n",
    "# Determines how far into the recording the frame to visualize is.\n",
    "td = datetime.timedelta(seconds=0)"
   ]
  },
  {
   "cell_type": "code",
   "execution_count": 3,
   "id": "dda95c83",
   "metadata": {},
   "outputs": [
    {
     "data": {
      "text/plain": [
       "(array([[ 0.83434379, -0.38010502,  0.39923748, -0.41849321],\n",
       "        [-0.55033028, -0.61605299,  0.56357372, -0.58326733],\n",
       "        [ 0.03173426, -0.68992674, -0.72318333,  0.64846301],\n",
       "        [ 0.        ,  0.        ,  0.        ,  1.        ]]),\n",
       " array([[ 0.83616209,  0.35826543, -0.41530573,  0.41873091],\n",
       "        [ 0.54578942, -0.61843568,  0.56537706, -0.55811799],\n",
       "        [-0.05428484, -0.69941634, -0.71264994,  0.66666889],\n",
       "        [ 0.        ,  0.        ,  0.        ,  1.        ]]))"
      ]
     },
     "execution_count": 3,
     "metadata": {},
     "output_type": "execute_result"
    }
   ],
   "source": [
    "cal1 = 'E:/VISION/Youssef_Test/Recording_Session/121622061907_2022May24015518.bag'\n",
    "cal2 = 'E:/VISION/Youssef_Test/Recording_Session/123122061443_2022May24015518.bag'\n",
    "r = DualRecording(cal1,cal2)\n",
    "r.start_stream()\n",
    "# if the calibration aren't in the parent folder, give the filepath as input in a list\n",
    "r.load_calibration()"
   ]
  },
  {
   "cell_type": "code",
   "execution_count": 4,
   "id": "9e9bd6ce",
   "metadata": {},
   "outputs": [],
   "source": [
    "r.get_frames()\n",
    "o3d.visualization.draw_geometries([r.pcd.to_legacy()])"
   ]
  },
  {
   "cell_type": "code",
   "execution_count": null,
   "id": "2ec9e857",
   "metadata": {},
   "outputs": [],
   "source": []
  }
 ],
 "metadata": {
  "kernelspec": {
   "display_name": "SpyGRT",
   "language": "python",
   "name": "spygrt"
  },
  "language_info": {
   "codemirror_mode": {
    "name": "ipython",
    "version": 3
   },
   "file_extension": ".py",
   "mimetype": "text/x-python",
   "name": "python",
   "nbconvert_exporter": "python",
   "pygments_lexer": "ipython3",
   "version": "3.10.10"
  }
 },
 "nbformat": 4,
 "nbformat_minor": 5
}
